{
 "cells": [
  {
   "cell_type": "markdown",
   "id": "5313b1fb",
   "metadata": {},
   "source": [
    "# Skript to infer a wohle WSI with a pretrained FasterRCNN\n",
    "\n",
    "    1. Load list of slides to infer\n",
    "    2. Load pretrained FasterRCNN \n",
    "    3. Inference loop"
   ]
  },
  {
   "cell_type": "markdown",
   "id": "e510e04b",
   "metadata": {},
   "source": [
    "## 1. Load list of slides to infer"
   ]
  },
  {
   "cell_type": "code",
   "execution_count": 3,
   "id": "d0617968",
   "metadata": {},
   "outputs": [
    {
     "name": "stdout",
     "output_type": "stream",
     "text": [
      "The autoreload extension is already loaded. To reload it, use:\n",
      "  %reload_ext autoreload\n"
     ]
    }
   ],
   "source": [
    "%load_ext autoreload\n",
    "%autoreload 2\n",
    "\n",
    "import pickle\n",
    "import MaPSlideDetectionInferenzLoader2\n",
    "import openslide\n",
    "import os \n",
    "\n",
    "# WSIs to infer\n",
    "wsi_dir = \"wsis/meningioma_grading_training_dataset\"\n",
    "\n",
    "files_for_inference = {\n",
    "    \"Meningeome_1000\":list()\n",
    "}\n",
    "\n",
    "for file in os.listdir(wsi_dir):\n",
    "    if file.endswith(\".ndpi\"):\n",
    "        files_for_inference['Meningeome_1000'].append(file)"
   ]
  },
  {
   "cell_type": "code",
   "execution_count": 7,
   "id": "d69a3703",
   "metadata": {},
   "outputs": [
    {
     "name": "stdout",
     "output_type": "stream",
     "text": [
      "Number of files to infer: 998\n"
     ]
    }
   ],
   "source": [
    "print(f\"Number of files to infer: {len(files_for_inference['Meningeome_1000'])}\")"
   ]
  },
  {
   "cell_type": "markdown",
   "id": "c0fff459",
   "metadata": {},
   "source": [
    "## 2. Load pretrained FasterRCNN"
   ]
  },
  {
   "cell_type": "code",
   "execution_count": 3,
   "id": "a4c9879f",
   "metadata": {},
   "outputs": [],
   "source": [
    "from torchvision.models.detection.faster_rcnn import FastRCNNPredictor\n",
    "from torchvision.models.detection import FasterRCNN\n",
    "from torchvision.models.detection.rpn import AnchorGenerator\n",
    "\n",
    "# load a model pre-trained pre-trained on COCO\n",
    "model = torchvision.models.detection.fasterrcnn_resnet50_fpn(pretrained=True)\n",
    "num_classes = 2  \n",
    "in_features = model.roi_heads.box_predictor.cls_score.in_features\n",
    "model.roi_heads.box_predictor = FastRCNNPredictor(in_features, num_classes)\n",
    "resnet18 = torchvision.models.resnet18(pretrained = True)\n",
    "backbone = nn.Sequential(*(list(resnet18.children())[:-2]))\n",
    "backbone.out_channels = 512\n",
    "# Anchor sizes were determined heuristically\n",
    "anchor_generator = AnchorGenerator(sizes=((307,358,409,460),),aspect_ratios=((1.0),))\n",
    "roi_pooler = torchvision.ops.MultiScaleRoIAlign(featmap_names=['0'],\n",
    "                                                output_size=7,\n",
    "                                                sampling_ratio=2)\n",
    "\n",
    "# Flange different parts together to form a FasterRCNN model \n",
    "model = FasterRCNN(backbone,num_classes=num_classes,\n",
    "                   rpn_anchor_generator=anchor_generator,\n",
    "                   box_roi_pool=roi_pooler)"
   ]
  },
  {
   "cell_type": "code",
   "execution_count": 4,
   "id": "87103d3c",
   "metadata": {},
   "outputs": [
    {
     "data": {
      "text/plain": [
       "<All keys matched successfully>"
      ]
     },
     "execution_count": 4,
     "metadata": {},
     "output_type": "execute_result"
    }
   ],
   "source": [
    "# Load Model for inference\n",
    "model_file = \"FasterRCNN.pth\"\n",
    "\n",
    "model.load_state_dict(torch.load(model_file))"
   ]
  },
  {
   "cell_type": "code",
   "execution_count": 5,
   "id": "888b11eb",
   "metadata": {},
   "outputs": [
    {
     "data": {
      "text/plain": [
       "FasterRCNN(\n",
       "  (transform): GeneralizedRCNNTransform(\n",
       "      Normalize(mean=[0.485, 0.456, 0.406], std=[0.229, 0.224, 0.225])\n",
       "      Resize(min_size=(800,), max_size=1333, mode='bilinear')\n",
       "  )\n",
       "  (backbone): Sequential(\n",
       "    (0): Conv2d(3, 64, kernel_size=(7, 7), stride=(2, 2), padding=(3, 3), bias=False)\n",
       "    (1): BatchNorm2d(64, eps=1e-05, momentum=0.1, affine=True, track_running_stats=True)\n",
       "    (2): ReLU(inplace=True)\n",
       "    (3): MaxPool2d(kernel_size=3, stride=2, padding=1, dilation=1, ceil_mode=False)\n",
       "    (4): Sequential(\n",
       "      (0): BasicBlock(\n",
       "        (conv1): Conv2d(64, 64, kernel_size=(3, 3), stride=(1, 1), padding=(1, 1), bias=False)\n",
       "        (bn1): BatchNorm2d(64, eps=1e-05, momentum=0.1, affine=True, track_running_stats=True)\n",
       "        (relu): ReLU(inplace=True)\n",
       "        (conv2): Conv2d(64, 64, kernel_size=(3, 3), stride=(1, 1), padding=(1, 1), bias=False)\n",
       "        (bn2): BatchNorm2d(64, eps=1e-05, momentum=0.1, affine=True, track_running_stats=True)\n",
       "      )\n",
       "      (1): BasicBlock(\n",
       "        (conv1): Conv2d(64, 64, kernel_size=(3, 3), stride=(1, 1), padding=(1, 1), bias=False)\n",
       "        (bn1): BatchNorm2d(64, eps=1e-05, momentum=0.1, affine=True, track_running_stats=True)\n",
       "        (relu): ReLU(inplace=True)\n",
       "        (conv2): Conv2d(64, 64, kernel_size=(3, 3), stride=(1, 1), padding=(1, 1), bias=False)\n",
       "        (bn2): BatchNorm2d(64, eps=1e-05, momentum=0.1, affine=True, track_running_stats=True)\n",
       "      )\n",
       "    )\n",
       "    (5): Sequential(\n",
       "      (0): BasicBlock(\n",
       "        (conv1): Conv2d(64, 128, kernel_size=(3, 3), stride=(2, 2), padding=(1, 1), bias=False)\n",
       "        (bn1): BatchNorm2d(128, eps=1e-05, momentum=0.1, affine=True, track_running_stats=True)\n",
       "        (relu): ReLU(inplace=True)\n",
       "        (conv2): Conv2d(128, 128, kernel_size=(3, 3), stride=(1, 1), padding=(1, 1), bias=False)\n",
       "        (bn2): BatchNorm2d(128, eps=1e-05, momentum=0.1, affine=True, track_running_stats=True)\n",
       "        (downsample): Sequential(\n",
       "          (0): Conv2d(64, 128, kernel_size=(1, 1), stride=(2, 2), bias=False)\n",
       "          (1): BatchNorm2d(128, eps=1e-05, momentum=0.1, affine=True, track_running_stats=True)\n",
       "        )\n",
       "      )\n",
       "      (1): BasicBlock(\n",
       "        (conv1): Conv2d(128, 128, kernel_size=(3, 3), stride=(1, 1), padding=(1, 1), bias=False)\n",
       "        (bn1): BatchNorm2d(128, eps=1e-05, momentum=0.1, affine=True, track_running_stats=True)\n",
       "        (relu): ReLU(inplace=True)\n",
       "        (conv2): Conv2d(128, 128, kernel_size=(3, 3), stride=(1, 1), padding=(1, 1), bias=False)\n",
       "        (bn2): BatchNorm2d(128, eps=1e-05, momentum=0.1, affine=True, track_running_stats=True)\n",
       "      )\n",
       "    )\n",
       "    (6): Sequential(\n",
       "      (0): BasicBlock(\n",
       "        (conv1): Conv2d(128, 256, kernel_size=(3, 3), stride=(2, 2), padding=(1, 1), bias=False)\n",
       "        (bn1): BatchNorm2d(256, eps=1e-05, momentum=0.1, affine=True, track_running_stats=True)\n",
       "        (relu): ReLU(inplace=True)\n",
       "        (conv2): Conv2d(256, 256, kernel_size=(3, 3), stride=(1, 1), padding=(1, 1), bias=False)\n",
       "        (bn2): BatchNorm2d(256, eps=1e-05, momentum=0.1, affine=True, track_running_stats=True)\n",
       "        (downsample): Sequential(\n",
       "          (0): Conv2d(128, 256, kernel_size=(1, 1), stride=(2, 2), bias=False)\n",
       "          (1): BatchNorm2d(256, eps=1e-05, momentum=0.1, affine=True, track_running_stats=True)\n",
       "        )\n",
       "      )\n",
       "      (1): BasicBlock(\n",
       "        (conv1): Conv2d(256, 256, kernel_size=(3, 3), stride=(1, 1), padding=(1, 1), bias=False)\n",
       "        (bn1): BatchNorm2d(256, eps=1e-05, momentum=0.1, affine=True, track_running_stats=True)\n",
       "        (relu): ReLU(inplace=True)\n",
       "        (conv2): Conv2d(256, 256, kernel_size=(3, 3), stride=(1, 1), padding=(1, 1), bias=False)\n",
       "        (bn2): BatchNorm2d(256, eps=1e-05, momentum=0.1, affine=True, track_running_stats=True)\n",
       "      )\n",
       "    )\n",
       "    (7): Sequential(\n",
       "      (0): BasicBlock(\n",
       "        (conv1): Conv2d(256, 512, kernel_size=(3, 3), stride=(2, 2), padding=(1, 1), bias=False)\n",
       "        (bn1): BatchNorm2d(512, eps=1e-05, momentum=0.1, affine=True, track_running_stats=True)\n",
       "        (relu): ReLU(inplace=True)\n",
       "        (conv2): Conv2d(512, 512, kernel_size=(3, 3), stride=(1, 1), padding=(1, 1), bias=False)\n",
       "        (bn2): BatchNorm2d(512, eps=1e-05, momentum=0.1, affine=True, track_running_stats=True)\n",
       "        (downsample): Sequential(\n",
       "          (0): Conv2d(256, 512, kernel_size=(1, 1), stride=(2, 2), bias=False)\n",
       "          (1): BatchNorm2d(512, eps=1e-05, momentum=0.1, affine=True, track_running_stats=True)\n",
       "        )\n",
       "      )\n",
       "      (1): BasicBlock(\n",
       "        (conv1): Conv2d(512, 512, kernel_size=(3, 3), stride=(1, 1), padding=(1, 1), bias=False)\n",
       "        (bn1): BatchNorm2d(512, eps=1e-05, momentum=0.1, affine=True, track_running_stats=True)\n",
       "        (relu): ReLU(inplace=True)\n",
       "        (conv2): Conv2d(512, 512, kernel_size=(3, 3), stride=(1, 1), padding=(1, 1), bias=False)\n",
       "        (bn2): BatchNorm2d(512, eps=1e-05, momentum=0.1, affine=True, track_running_stats=True)\n",
       "      )\n",
       "    )\n",
       "  )\n",
       "  (rpn): RegionProposalNetwork(\n",
       "    (anchor_generator): AnchorGenerator()\n",
       "    (head): RPNHead(\n",
       "      (conv): Conv2d(512, 512, kernel_size=(3, 3), stride=(1, 1), padding=(1, 1))\n",
       "      (cls_logits): Conv2d(512, 4, kernel_size=(1, 1), stride=(1, 1))\n",
       "      (bbox_pred): Conv2d(512, 16, kernel_size=(1, 1), stride=(1, 1))\n",
       "    )\n",
       "  )\n",
       "  (roi_heads): RoIHeads(\n",
       "    (box_roi_pool): MultiScaleRoIAlign()\n",
       "    (box_head): TwoMLPHead(\n",
       "      (fc6): Linear(in_features=25088, out_features=1024, bias=True)\n",
       "      (fc7): Linear(in_features=1024, out_features=1024, bias=True)\n",
       "    )\n",
       "    (box_predictor): FastRCNNPredictor(\n",
       "      (cls_score): Linear(in_features=1024, out_features=2, bias=True)\n",
       "      (bbox_pred): Linear(in_features=1024, out_features=8, bias=True)\n",
       "    )\n",
       "  )\n",
       ")"
      ]
     },
     "execution_count": 5,
     "metadata": {},
     "output_type": "execute_result"
    }
   ],
   "source": [
    "# bring model to gpu\n",
    "device = torch.device('cuda') if torch.cuda.is_available() else torch.device('cpu')\n",
    "    #device = 'cpu'\n",
    "model.to(device)"
   ]
  },
  {
   "cell_type": "markdown",
   "id": "a0e119a3",
   "metadata": {},
   "source": [
    "## 3. Inference Loop"
   ]
  },
  {
   "cell_type": "code",
   "execution_count": 6,
   "id": "626ea372",
   "metadata": {},
   "outputs": [],
   "source": [
    "import torchvision\n",
    "import progressbar\n",
    "import math\n",
    "\n",
    "def predict_on_wsi(test_loader,model):\n",
    "    '''predict on a whole WSI'''\n",
    "    boxes = list()\n",
    "    scores = list()\n",
    "\n",
    "    pbar = progressbar.ProgressBar(max_value = len(test_loader))\n",
    "\n",
    "    with torch.no_grad():\n",
    "        if model.training:\n",
    "            model.eval()\n",
    "        for idx, (images,targets) in enumerate(test_loader):\n",
    "            images = [image.to(device) for image in images]\n",
    "            predictions = model(images)\n",
    "\n",
    "            for pred,target in zip(predictions,targets):\n",
    "                if len(pred['boxes'])!=0:\n",
    "                    for box,score in zip(pred['boxes'],pred['scores']):\n",
    "                        box = box.to('cpu')\n",
    "                        # Project boxes back onto WSI\n",
    "                        box[0], box[2] = box[0] + target['coords'][0], box[2] + target['coords'][0]\n",
    "                        box[1], box[3] = box[1] + target['coords'][1], box[3] + target['coords'][1]\n",
    "\n",
    "                        boxes.append(box)\n",
    "                        scores.append(score.to('cpu'))\n",
    "            pbar.update(idx)\n",
    "            \n",
    "    size = len(boxes)\n",
    "    # Non maximum surpression because the patches of the wsi will have an overlap, so there might be doubled detections\n",
    "    final_boxes = torch.cat(boxes).reshape(size,4)\n",
    "    final_scores = torch.stack(scores)\n",
    "\n",
    "    keep = torchvision.ops.nms(final_boxes,final_scores,iou_threshold = 0.2)\n",
    "    final_boxes = final_boxes[keep]\n",
    "    final_scores = final_scores[keep]\n",
    "    return(final_boxes,final_scores)\n"
   ]
  },
  {
   "cell_type": "code",
   "execution_count": 9,
   "id": "3379c41e",
   "metadata": {},
   "outputs": [
    {
     "name": "stdout",
     "output_type": "stream",
     "text": [
      "File N1015_09_III2_HE - 2019-11-22 10.15.48.ndpi already inferred. Going on with next file.\n",
      "File N856_10_1_HE - 2019-11-29 20.22.31.ndpi already inferred. Going on with next file.\n",
      "File N1037_09_I2_HE - 2019-11-22 11.32.00.ndpi already inferred. Going on with next file.\n",
      "File N1549_11_II_HE - 2019-12-12 20.57.08.ndpi already inferred. Going on with next file.\n",
      "File N1169_10_2_HE - 2019-12-02 19.39.36.ndpi already inferred. Going on with next file.\n",
      "File N156_09_I3_HE - 2019-11-19 20.56.13.ndpi already inferred. Going on with next file.\n",
      "File N1193_09_1_HE - 2019-11-22 20.42.01.ndpi already inferred. Going on with next file.\n",
      "File N411_10_3_HE - 2019-11-28 10.50.25.ndpi already inferred. Going on with next file.\n",
      "File N469_11_3_HE - 2019-12-06 11.19.47.ndpi already inferred. Going on with next file.\n",
      "File N829_11_I_HE - 2019-12-10 10.48.45.ndpi already inferred. Going on with next file.\n",
      "File N156_09_I1_HE - 2019-11-19 20.23.15.ndpi already inferred. Going on with next file.\n",
      "File N939_11_4_HE - 2019-12-10 20.36.36.ndpi already inferred. Going on with next file.\n",
      "File N739_09_I1_HE - 2019-11-21 14.07.13.ndpi already inferred. Going on with next file.\n",
      "File N687_09_5_HE - 2019-11-21 13.44.04.ndpi already inferred. Going on with next file.\n",
      "File N470_11_HE - 2019-12-09 09.09.51.ndpi already inferred. Going on with next file.\n",
      "File N762_10_HE - 2019-11-29 15.26.54.ndpi already inferred. Going on with next file.\n",
      "File N873_10_1_HE - 2019-11-29 20.39.54.ndpi already inferred. Going on with next file.\n",
      "File N839_09_I_HE - 2019-11-21 20.47.36.ndpi already inferred. Going on with next file.\n",
      "File N35_09_HE - 2019-11-19 14.13.26.ndpi already inferred. Going on with next file.\n",
      "File N1430_09_2_HE - 2019-11-25 12.07.24.ndpi already inferred. Going on with next file.\n",
      "File N1429_09_1_HE - 2019-11-25 11.35.15.ndpi already inferred. Going on with next file.\n",
      "Unidentified Image Error in Image N1437_10_II3_HE - 2019-12-03 19.05.28.ndpi, going on with next file\n"
     ]
    },
    {
     "name": "stderr",
     "output_type": "stream",
     "text": [
      "/usr/local/lib/python3.8/dist-packages/PIL/TiffImagePlugin.py:793: UserWarning: Corrupt EXIF data.  Expecting to read 2 bytes but only got 0. \n",
      "  warnings.warn(str(msg))\n"
     ]
    },
    {
     "name": "stdout",
     "output_type": "stream",
     "text": [
      "Inferring file N522_11_HE - 2019-12-09 11.21.00.ndpi\n"
     ]
    },
    {
     "name": "stderr",
     "output_type": "stream",
     "text": [
      " 99% (663 of 665) |##################### | Elapsed Time: 0:01:27 ETA:   0:00:00"
     ]
    },
    {
     "name": "stdout",
     "output_type": "stream",
     "text": [
      "Inferring file N254_10_II_HE - 2019-11-27 18.00.30.ndpi\n"
     ]
    },
    {
     "name": "stderr",
     "output_type": "stream",
     "text": [
      " 99% (1353 of 1354) |################### | Elapsed Time: 0:02:58 ETA:   0:00:00"
     ]
    },
    {
     "name": "stdout",
     "output_type": "stream",
     "text": [
      "Inferring file N15_11_2_HE - 2019-12-04 16.13.52.ndpi\n"
     ]
    },
    {
     "name": "stderr",
     "output_type": "stream",
     "text": [
      " 99% (446 of 448) |##################### | Elapsed Time: 0:01:00 ETA:   0:00:00"
     ]
    },
    {
     "name": "stdout",
     "output_type": "stream",
     "text": [
      "Inferring file N537_11_1_HE - 2019-12-09 12.18.39.ndpi\n"
     ]
    },
    {
     "name": "stderr",
     "output_type": "stream",
     "text": [
      " 99% (1219 of 1220) |################### | Elapsed Time: 0:02:38 ETA:   0:00:00"
     ]
    },
    {
     "name": "stdout",
     "output_type": "stream",
     "text": [
      "Inferring file N1081_10_2_HE - 2019-12-02 15.22.07.ndpi\n"
     ]
    },
    {
     "name": "stderr",
     "output_type": "stream",
     "text": [
      " 99% (1309 of 1311) |################### | Elapsed Time: 0:02:50 ETA:   0:00:00"
     ]
    },
    {
     "name": "stdout",
     "output_type": "stream",
     "text": [
      "Inferring file N1228_10_I4_HE - 2019-12-03 10.32.13.ndpi\n"
     ]
    },
    {
     "name": "stderr",
     "output_type": "stream",
     "text": [
      " 99% (1138 of 1139) |################### | Elapsed Time: 0:02:24 ETA:   0:00:00"
     ]
    },
    {
     "name": "stdout",
     "output_type": "stream",
     "text": [
      "Inferring file N473_11_I_HE - 2019-12-09 09.23.38.ndpi\n"
     ]
    },
    {
     "name": "stderr",
     "output_type": "stream",
     "text": [
      " 99% (1431 of 1433) |################### | Elapsed Time: 0:03:06 ETA:   0:00:00"
     ]
    },
    {
     "name": "stdout",
     "output_type": "stream",
     "text": [
      "Inferring file N1155_10_4_HE - 2019-12-02 18.56.50.ndpi\n"
     ]
    },
    {
     "name": "stderr",
     "output_type": "stream",
     "text": [
      " 99% (850 of 852) |##################### | Elapsed Time: 0:01:45 ETA:   0:00:00"
     ]
    },
    {
     "name": "stdout",
     "output_type": "stream",
     "text": [
      "Inferring file N1268_09_2_HE - 2019-11-22 23.07.28.ndpi\n"
     ]
    },
    {
     "name": "stderr",
     "output_type": "stream",
     "text": [
      " 99% (1043 of 1045) |################### | Elapsed Time: 0:02:14 ETA:   0:00:00"
     ]
    },
    {
     "name": "stdout",
     "output_type": "stream",
     "text": [
      "Inferring file N1334_09_I3_HE - 2019-11-25 18.42.51.ndpi\n"
     ]
    },
    {
     "name": "stderr",
     "output_type": "stream",
     "text": [
      " 99% (382 of 383) |##################### | Elapsed Time: 0:00:57 ETA:   0:00:00"
     ]
    },
    {
     "name": "stdout",
     "output_type": "stream",
     "text": [
      "Inferring file N140_10_3_HE - 2019-11-27 12.44.29.ndpi\n"
     ]
    },
    {
     "name": "stderr",
     "output_type": "stream",
     "text": [
      " 99% (1392 of 1394) |################### | Elapsed Time: 0:02:56 ETA:   0:00:00"
     ]
    },
    {
     "name": "stdout",
     "output_type": "stream",
     "text": [
      "Inferring file N77_11_I1_HE - 2019-12-04 18.30.04.ndpi\n"
     ]
    },
    {
     "name": "stderr",
     "output_type": "stream",
     "text": [
      " 99% (324 of 326) |##################### | Elapsed Time: 0:00:45 ETA:   0:00:00"
     ]
    },
    {
     "name": "stdout",
     "output_type": "stream",
     "text": [
      "Inferring file N402_11_I2_HE - 2019-12-06 00.12.04.ndpi\n"
     ]
    },
    {
     "name": "stderr",
     "output_type": "stream",
     "text": [
      " 99% (1414 of 1416) |################### | Elapsed Time: 0:03:07 ETA:   0:00:00"
     ]
    },
    {
     "name": "stdout",
     "output_type": "stream",
     "text": [
      "Inferring file N446_09_3_HE - 2019-11-20 01.15.01.ndpi\n"
     ]
    },
    {
     "name": "stderr",
     "output_type": "stream",
     "text": [
      " 99% (1347 of 1348) |################### | Elapsed Time: 0:03:08 ETA:   0:00:00"
     ]
    },
    {
     "name": "stdout",
     "output_type": "stream",
     "text": [
      "Inferring file N1127_11_II5_HE - 2019-12-11 16.55.01.ndpi\n"
     ]
    },
    {
     "name": "stderr",
     "output_type": "stream",
     "text": [
      " 99% (903 of 905) |##################### | Elapsed Time: 0:02:04 ETA:   0:00:00"
     ]
    },
    {
     "name": "stdout",
     "output_type": "stream",
     "text": [
      "Inferring file N1479_09_HE - 2019-11-25 15.52.54.ndpi\n"
     ]
    },
    {
     "name": "stderr",
     "output_type": "stream",
     "text": [
      " 99% (799 of 800) |##################### | Elapsed Time: 0:01:52 ETA:   0:00:00"
     ]
    },
    {
     "name": "stdout",
     "output_type": "stream",
     "text": [
      "Inferring file N1574_10_HE - 2019-12-04 12.16.26.ndpi\n"
     ]
    },
    {
     "name": "stderr",
     "output_type": "stream",
     "text": [
      " 99% (866 of 868) |##################### | Elapsed Time: 0:02:01 ETA:   0:00:00"
     ]
    },
    {
     "name": "stdout",
     "output_type": "stream",
     "text": [
      "Inferring file N670_10_II1_HE - 2019-11-28 21.02.57.ndpi\n"
     ]
    },
    {
     "name": "stderr",
     "output_type": "stream",
     "text": [
      " 99% (852 of 854) |##################### | Elapsed Time: 0:01:57 ETA:   0:00:00"
     ]
    },
    {
     "name": "stdout",
     "output_type": "stream",
     "text": [
      "Inferring file N483_10_3_HE - 2019-11-28 15.34.46.ndpi\n"
     ]
    },
    {
     "name": "stderr",
     "output_type": "stream",
     "text": [
      " 99% (1461 of 1463) |################### | Elapsed Time: 0:03:19 ETA:   0:00:00"
     ]
    },
    {
     "name": "stdout",
     "output_type": "stream",
     "text": [
      "Inferring file N1560_09_5_HE - 2019-11-25 22.05.59.ndpi\n"
     ]
    },
    {
     "name": "stderr",
     "output_type": "stream",
     "text": [
      " 99% (1404 of 1405) |################### | Elapsed Time: 0:03:16 ETA:   0:00:00"
     ]
    },
    {
     "name": "stdout",
     "output_type": "stream",
     "text": [
      "Inferring file N515_10_2_HE - 2019-11-28 16.05.24.ndpi\n"
     ]
    },
    {
     "name": "stderr",
     "output_type": "stream",
     "text": [
      " 99% (871 of 872) |##################### | Elapsed Time: 0:01:56 ETA:   0:00:00"
     ]
    },
    {
     "name": "stdout",
     "output_type": "stream",
     "text": [
      "Inferring file N790_11_I1_HE - 2019-12-09 21.51.51.ndpi\n"
     ]
    },
    {
     "name": "stderr",
     "output_type": "stream",
     "text": [
      " 99% (726 of 728) |##################### | Elapsed Time: 0:01:45 ETA:   0:00:00"
     ]
    },
    {
     "name": "stdout",
     "output_type": "stream",
     "text": [
      "Inferring file N1476_11_III1_HE - 2019-12-12 17.04.51.ndpi\n"
     ]
    },
    {
     "name": "stderr",
     "output_type": "stream",
     "text": [
      " 99% (1067 of 1069) |################### | Elapsed Time: 0:02:23 ETA:   0:00:00"
     ]
    },
    {
     "name": "stdout",
     "output_type": "stream",
     "text": [
      "Inferring file N856_10_2_HE - 2019-11-29 20.32.40.ndpi\n"
     ]
    },
    {
     "name": "stderr",
     "output_type": "stream",
     "text": [
      " 99% (407 of 409) |##################### | Elapsed Time: 0:00:58 ETA:   0:00:00"
     ]
    },
    {
     "name": "stdout",
     "output_type": "stream",
     "text": [
      "Inferring file N346_10_1_HE - 2019-11-27 22.22.13.ndpi\n"
     ]
    },
    {
     "name": "stderr",
     "output_type": "stream",
     "text": [
      " 99% (1378 of 1379) |################### | Elapsed Time: 0:03:01 ETA:   0:00:00"
     ]
    },
    {
     "name": "stdout",
     "output_type": "stream",
     "text": [
      "Inferring file N648_10_3_HE - 2019-11-29 12.10.22.ndpi\n"
     ]
    },
    {
     "name": "stderr",
     "output_type": "stream",
     "text": [
      " 99% (1141 of 1143) |################### | Elapsed Time: 0:02:39 ETA:   0:00:00"
     ]
    },
    {
     "name": "stdout",
     "output_type": "stream",
     "text": [
      "Inferring file N748_10_2_HE - 2019-11-29 15.06.53.ndpi\n"
     ]
    },
    {
     "name": "stderr",
     "output_type": "stream",
     "text": [
      " 99% (900 of 901) |##################### | Elapsed Time: 0:02:15 ETA:   0:00:00"
     ]
    },
    {
     "name": "stdout",
     "output_type": "stream",
     "text": [
      "Inferring file N923_11_II3_HE - 2019-12-10 19.02.44.ndpi\n"
     ]
    },
    {
     "name": "stderr",
     "output_type": "stream",
     "text": [
      " 99% (504 of 506) |##################### | Elapsed Time: 0:01:09 ETA:   0:00:00"
     ]
    },
    {
     "name": "stdout",
     "output_type": "stream",
     "text": [
      "Inferring file N851_09_3_HE - 2019-11-21 21.46.07.ndpi\n"
     ]
    },
    {
     "name": "stderr",
     "output_type": "stream",
     "text": [
      " 99% (1324 of 1326) |################### | Elapsed Time: 0:03:04 ETA:   0:00:00"
     ]
    },
    {
     "name": "stdout",
     "output_type": "stream",
     "text": [
      "Inferring file N633_09_1_HE - 2019-11-21 12.15.34.ndpi\n"
     ]
    },
    {
     "name": "stderr",
     "output_type": "stream",
     "text": [
      " 99% (854 of 856) |##################### | Elapsed Time: 0:02:00 ETA:   0:00:00"
     ]
    },
    {
     "name": "stdout",
     "output_type": "stream",
     "text": [
      "Inferring file N790_11_IV_HE - 2019-12-10 09.51.38.ndpi\n"
     ]
    },
    {
     "name": "stderr",
     "output_type": "stream",
     "text": [
      " 99% (297 of 299) |##################### | Elapsed Time: 0:00:43 ETA:   0:00:00"
     ]
    },
    {
     "name": "stdout",
     "output_type": "stream",
     "text": [
      "Inferring file N1529_09_3_HE - 2019-11-25 20.32.51.ndpi\n"
     ]
    },
    {
     "name": "stderr",
     "output_type": "stream",
     "text": [
      " 99% (669 of 671) |##################### | Elapsed Time: 0:01:37 ETA:   0:00:00"
     ]
    },
    {
     "name": "stdout",
     "output_type": "stream",
     "text": [
      "Inferring file N555_11_I_HE - 2019-12-09 14.08.24.ndpi\n"
     ]
    },
    {
     "name": "stderr",
     "output_type": "stream",
     "text": [
      " 99% (1522 of 1523) |################### | Elapsed Time: 0:03:21 ETA:   0:00:00"
     ]
    },
    {
     "name": "stdout",
     "output_type": "stream",
     "text": [
      "Inferring file N1499_11_3_HE - 2019-12-12 17.47.14.ndpi\n"
     ]
    },
    {
     "name": "stderr",
     "output_type": "stream",
     "text": [
      " 99% (1189 of 1191) |################### | Elapsed Time: 0:02:43 ETA:   0:00:00"
     ]
    },
    {
     "name": "stdout",
     "output_type": "stream",
     "text": [
      "Inferring file N273_11_1_HE - 2019-12-05 16.40.14.ndpi\n"
     ]
    },
    {
     "name": "stderr",
     "output_type": "stream",
     "text": [
      " 99% (583 of 585) |##################### | Elapsed Time: 0:01:21 ETA:   0:00:00"
     ]
    },
    {
     "name": "stdout",
     "output_type": "stream",
     "text": [
      "Inferring file N295_10_II_HE - 2019-11-27 20.44.37.ndpi\n"
     ]
    },
    {
     "name": "stderr",
     "output_type": "stream",
     "text": [
      " 97% (46 of 47) |####################### | Elapsed Time: 0:00:06 ETA:   0:00:00"
     ]
    },
    {
     "name": "stdout",
     "output_type": "stream",
     "text": [
      "Inferring file N555_11_II3_HE - 2019-12-09 14.46.54.ndpi\n"
     ]
    },
    {
     "name": "stderr",
     "output_type": "stream",
     "text": [
      " 99% (1103 of 1104) |################### | Elapsed Time: 0:02:31 ETA:   0:00:00"
     ]
    },
    {
     "name": "stdout",
     "output_type": "stream",
     "text": [
      "Inferring file N1121_11_I1_HE - 2019-12-11 09.16.03.ndpi\n"
     ]
    },
    {
     "name": "stderr",
     "output_type": "stream",
     "text": [
      " 99% (945 of 947) |##################### | Elapsed Time: 0:02:03 ETA:   0:00:00"
     ]
    },
    {
     "name": "stdout",
     "output_type": "stream",
     "text": [
      "Inferring file N5_09_I1_HE - 2019-11-19 09.57.07.ndpi\n"
     ]
    },
    {
     "name": "stderr",
     "output_type": "stream",
     "text": [
      " 99% (1650 of 1651) |################### | Elapsed Time: 0:03:40 ETA:   0:00:00"
     ]
    },
    {
     "name": "stdout",
     "output_type": "stream",
     "text": [
      "Inferring file N50_10_II_HE - 2019-11-27 10.35.02.ndpi\n"
     ]
    },
    {
     "name": "stderr",
     "output_type": "stream",
     "text": [
      " 96% (26 of 27) |####################### | Elapsed Time: 0:00:03 ETA:   0:00:00"
     ]
    },
    {
     "name": "stdout",
     "output_type": "stream",
     "text": [
      "Inferring file N446_09_4_HE - 2019-11-20 01.29.28.ndpi\n"
     ]
    },
    {
     "name": "stderr",
     "output_type": "stream",
     "text": [
      " 99% (741 of 743) |##################### | Elapsed Time: 0:01:47 ETA:   0:00:00"
     ]
    },
    {
     "name": "stdout",
     "output_type": "stream",
     "text": [
      "Inferring file N74_11_3_HE - 2019-12-05 10.11.43.ndpi\n"
     ]
    },
    {
     "name": "stderr",
     "output_type": "stream",
     "text": [
      " 99% (1251 of 1253) |################### | Elapsed Time: 0:02:47 ETA:   0:00:00"
     ]
    },
    {
     "name": "stdout",
     "output_type": "stream",
     "text": [
      "Inferring file N393_11_I2_HE - 2019-12-05 22.24.04.ndpi\n"
     ]
    },
    {
     "name": "stderr",
     "output_type": "stream",
     "text": [
      " 99% (1026 of 1028) |################### | Elapsed Time: 0:02:19 ETA:   0:00:00"
     ]
    },
    {
     "name": "stdout",
     "output_type": "stream",
     "text": [
      "Inferring file N855_11_I_HE - 2019-12-10 15.42.19.ndpi\n"
     ]
    },
    {
     "name": "stderr",
     "output_type": "stream",
     "text": [
      " 99% (814 of 816) |##################### | Elapsed Time: 0:01:48 ETA:   0:00:00"
     ]
    },
    {
     "name": "stdout",
     "output_type": "stream",
     "text": [
      "Inferring file N393_11_II1_HE - 2019-12-05 23.14.13.ndpi\n"
     ]
    },
    {
     "name": "stderr",
     "output_type": "stream",
     "text": [
      " 99% (408 of 410) |##################### | Elapsed Time: 0:00:51 ETA:   0:00:00"
     ]
    },
    {
     "name": "stdout",
     "output_type": "stream",
     "text": [
      "Inferring file N534_10_2_HE - 2019-11-28 17.35.06.ndpi\n"
     ]
    },
    {
     "name": "stderr",
     "output_type": "stream",
     "text": [
      " 99% (1487 of 1488) |################### | Elapsed Time: 0:03:09 ETA:   0:00:00"
     ]
    },
    {
     "name": "stdout",
     "output_type": "stream",
     "text": [
      "Inferring file N1532_10_3_HE - 2019-12-04 11.09.10.ndpi\n"
     ]
    },
    {
     "name": "stderr",
     "output_type": "stream",
     "text": [
      " 99% (793 of 795) |##################### | Elapsed Time: 0:01:46 ETA:   0:00:00"
     ]
    },
    {
     "name": "stdout",
     "output_type": "stream",
     "text": [
      "Inferring file N249_11_2_HE - 2019-12-05 14.02.27.ndpi\n"
     ]
    },
    {
     "name": "stderr",
     "output_type": "stream",
     "text": [
      " 99% (1650 of 1652) |################### | Elapsed Time: 0:03:35 ETA:   0:00:00"
     ]
    },
    {
     "name": "stdout",
     "output_type": "stream",
     "text": [
      "Inferring file N1560_09_1_HE - 2019-11-25 21.16.39.ndpi\n"
     ]
    },
    {
     "name": "stderr",
     "output_type": "stream",
     "text": [
      " 99% (1007 of 1009) |################### | Elapsed Time: 0:02:17 ETA:   0:00:00"
     ]
    },
    {
     "name": "stdout",
     "output_type": "stream",
     "text": [
      "Inferring file N1037_09_I3_HE - 2019-11-22 11.51.27.ndpi\n"
     ]
    },
    {
     "name": "stderr",
     "output_type": "stream",
     "text": [
      " 99% (857 of 859) |##################### | Elapsed Time: 0:01:53 ETA:   0:00:00"
     ]
    },
    {
     "name": "stdout",
     "output_type": "stream",
     "text": [
      "Inferring file N1644_09_4_HE - 2019-11-26 02.52.30.ndpi\n"
     ]
    },
    {
     "name": "stderr",
     "output_type": "stream",
     "text": [
      " 99% (1355 of 1357) |################### | Elapsed Time: 0:02:59 ETA:   0:00:00"
     ]
    },
    {
     "name": "stdout",
     "output_type": "stream",
     "text": [
      "Inferring file N338_10_4_HE - 2019-11-27 21.49.42.ndpi\n"
     ]
    },
    {
     "name": "stderr",
     "output_type": "stream",
     "text": [
      " 99% (1763 of 1765) |################### | Elapsed Time: 0:03:52 ETA:   0:00:00"
     ]
    },
    {
     "name": "stdout",
     "output_type": "stream",
     "text": [
      "Inferring file N293_11_HE - 2019-12-05 19.06.54.ndpi\n"
     ]
    },
    {
     "name": "stderr",
     "output_type": "stream",
     "text": [
      " 98% (89 of 90) |####################### | Elapsed Time: 0:00:11 ETA:   0:00:00"
     ]
    },
    {
     "name": "stdout",
     "output_type": "stream",
     "text": [
      "Inferring file N1645_11_II_HE - 2019-12-12 22.44.54.ndpi\n"
     ]
    },
    {
     "name": "stderr",
     "output_type": "stream",
     "text": [
      " 99% (594 of 596) |##################### | Elapsed Time: 0:01:25 ETA:   0:00:00"
     ]
    },
    {
     "name": "stdout",
     "output_type": "stream",
     "text": [
      "Inferring file N28_09_4_HE - 2019-11-19 12.50.51.ndpi\n"
     ]
    },
    {
     "name": "stderr",
     "output_type": "stream",
     "text": [
      " 99% (1321 of 1322) |################### | Elapsed Time: 0:03:00 ETA:   0:00:00"
     ]
    },
    {
     "name": "stdout",
     "output_type": "stream",
     "text": [
      "Inferring file N790_11_III3_HE - 2019-12-09 22.54.31.ndpi\n"
     ]
    },
    {
     "name": "stderr",
     "output_type": "stream",
     "text": [
      " 99% (1121 of 1123) |################### | Elapsed Time: 0:02:35 ETA:   0:00:00"
     ]
    },
    {
     "name": "stdout",
     "output_type": "stream",
     "text": [
      "Inferring file N1430_09_3_HE - 2019-11-25 12.17.53.ndpi\n"
     ]
    },
    {
     "name": "stderr",
     "output_type": "stream",
     "text": [
      " 99% (640 of 642) |##################### | Elapsed Time: 0:01:30 ETA:   0:00:00"
     ]
    },
    {
     "name": "stdout",
     "output_type": "stream",
     "text": [
      "Inferring file N983_11_I4_HE - 2019-12-10 21.53.29.ndpi\n"
     ]
    },
    {
     "name": "stderr",
     "output_type": "stream",
     "text": [
      " 99% (1630 of 1631) |################### | Elapsed Time: 0:03:44 ETA:   0:00:00"
     ]
    },
    {
     "name": "stdout",
     "output_type": "stream",
     "text": [
      "Inferring file N903_10_3_HE - 2019-12-02 10.47.13.ndpi\n"
     ]
    },
    {
     "name": "stderr",
     "output_type": "stream",
     "text": [
      " 99% (449 of 451) |##################### | Elapsed Time: 0:01:03 ETA:   0:00:00"
     ]
    },
    {
     "name": "stdout",
     "output_type": "stream",
     "text": [
      "Inferring file N43_09_HE - 2019-11-19 15.54.47.ndpi\n"
     ]
    },
    {
     "name": "stderr",
     "output_type": "stream",
     "text": [
      " 99% (949 of 951) |##################### | Elapsed Time: 0:02:20 ETA:   0:00:00"
     ]
    },
    {
     "name": "stdout",
     "output_type": "stream",
     "text": [
      "Inferring file N1362_11_2_HE - 2019-12-11 22.00.09.ndpi\n"
     ]
    },
    {
     "name": "stderr",
     "output_type": "stream",
     "text": [
      " 99% (1193 of 1195) |################### | Elapsed Time: 0:02:52 ETA:   0:00:00"
     ]
    },
    {
     "name": "stdout",
     "output_type": "stream",
     "text": [
      "Inferring file N664_11_6_HE - 2019-12-09 17.28.57.ndpi\n"
     ]
    },
    {
     "name": "stderr",
     "output_type": "stream",
     "text": [
      " 99% (1434 of 1435) |################### | Elapsed Time: 0:03:22 ETA:   0:00:00"
     ]
    },
    {
     "name": "stdout",
     "output_type": "stream",
     "text": [
      "Inferring file N970_10_I_HE - 2019-12-02 12.56.32.ndpi\n"
     ]
    },
    {
     "name": "stderr",
     "output_type": "stream",
     "text": [
      " 99% (999 of 1001) |#################### | Elapsed Time: 0:02:20 ETA:   0:00:00"
     ]
    },
    {
     "name": "stdout",
     "output_type": "stream",
     "text": [
      "Inferring file N742_10_I2_HE - 2019-11-29 13.25.32.ndpi\n"
     ]
    },
    {
     "name": "stderr",
     "output_type": "stream",
     "text": [
      " 99% (966 of 968) |##################### | Elapsed Time: 0:02:16 ETA:   0:00:00"
     ]
    },
    {
     "name": "stdout",
     "output_type": "stream",
     "text": [
      "Inferring file N731_11_2_HE - 2019-12-09 20.58.56.ndpi\n"
     ]
    },
    {
     "name": "stderr",
     "output_type": "stream",
     "text": [
      " 99% (1594 of 1596) |################### | Elapsed Time: 0:03:36 ETA:   0:00:00"
     ]
    },
    {
     "name": "stdout",
     "output_type": "stream",
     "text": [
      "Inferring file N393_11_I3_HE - 2019-12-05 22.34.23.ndpi\n"
     ]
    },
    {
     "name": "stderr",
     "output_type": "stream",
     "text": [
      " 99% (1653 of 1655) |################### | Elapsed Time: 0:03:56 ETA:   0:00:00"
     ]
    },
    {
     "name": "stdout",
     "output_type": "stream",
     "text": [
      "Inferring file N24_10_HE - 2019-11-26 03.09.09.ndpi\n"
     ]
    },
    {
     "name": "stderr",
     "output_type": "stream",
     "text": [
      " 99% (102 of 103) |##################### | Elapsed Time: 0:00:15 ETA:   0:00:00"
     ]
    },
    {
     "name": "stdout",
     "output_type": "stream",
     "text": [
      "Inferring file N630_11_I_HE - 2019-12-09 16.16.48.ndpi\n"
     ]
    },
    {
     "name": "stderr",
     "output_type": "stream",
     "text": [
      " 98% (186 of 188) |##################### | Elapsed Time: 0:00:28 ETA:   0:00:00"
     ]
    },
    {
     "name": "stdout",
     "output_type": "stream",
     "text": [
      "Inferring file N1296_09_2_HE - 2019-11-23 01.02.12.ndpi\n"
     ]
    },
    {
     "name": "stderr",
     "output_type": "stream",
     "text": [
      " 99% (875 of 877) |##################### | Elapsed Time: 0:01:58 ETA:   0:00:00"
     ]
    },
    {
     "name": "stdout",
     "output_type": "stream",
     "text": [
      "Inferring file N923_11_I3_HE - 2019-12-10 18.38.38.ndpi\n"
     ]
    },
    {
     "name": "stderr",
     "output_type": "stream",
     "text": [
      " 99% (431 of 432) |##################### | Elapsed Time: 0:01:06 ETA:   0:00:00"
     ]
    },
    {
     "name": "stdout",
     "output_type": "stream",
     "text": [
      "Inferring file N1476_11_II3_HE - 2019-12-12 16.52.47.ndpi\n"
     ]
    },
    {
     "name": "stderr",
     "output_type": "stream",
     "text": [
      " 99% (874 of 876) |##################### | Elapsed Time: 0:02:04 ETA:   0:00:00"
     ]
    },
    {
     "name": "stdout",
     "output_type": "stream",
     "text": [
      "Inferring file N612_09_II1_HE - 2019-11-21 11.27.07.ndpi\n"
     ]
    },
    {
     "name": "stderr",
     "output_type": "stream",
     "text": [
      " 99% (1015 of 1016) |################### | Elapsed Time: 0:02:24 ETA:   0:00:00"
     ]
    },
    {
     "name": "stdout",
     "output_type": "stream",
     "text": [
      "Inferring file N534_10_4_HE - 2019-11-28 18.12.10.ndpi\n"
     ]
    },
    {
     "name": "stderr",
     "output_type": "stream",
     "text": [
      " 99% (1323 of 1325) |################### | Elapsed Time: 0:03:00 ETA:   0:00:00"
     ]
    },
    {
     "name": "stdout",
     "output_type": "stream",
     "text": [
      "Inferring file N1506_10_II1_HE - 2019-12-03 21.40.44.ndpi\n"
     ]
    },
    {
     "name": "stderr",
     "output_type": "stream",
     "text": [
      " 99% (1107 of 1108) |################### | Elapsed Time: 0:02:35 ETA:   0:00:00"
     ]
    },
    {
     "name": "stdout",
     "output_type": "stream",
     "text": [
      "Inferring file N168_09_HE - 2019-11-19 21.28.11.ndpi\n"
     ]
    },
    {
     "name": "stderr",
     "output_type": "stream",
     "text": [
      " 99% (666 of 667) |##################### | Elapsed Time: 0:01:28 ETA:   0:00:00"
     ]
    },
    {
     "name": "stdout",
     "output_type": "stream",
     "text": [
      "Inferring file N731_11_5_HE - 2019-12-09 21.38.01.ndpi\n"
     ]
    },
    {
     "name": "stderr",
     "output_type": "stream",
     "text": [
      " 99% (1619 of 1620) |################### | Elapsed Time: 0:03:47 ETA:   0:00:00"
     ]
    },
    {
     "name": "stdout",
     "output_type": "stream",
     "text": [
      "Inferring file N1142_09_II_HE - 2019-11-22 18.22.35.ndpi\n"
     ]
    },
    {
     "name": "stderr",
     "output_type": "stream",
     "text": [
      " 96% (26 of 27) |####################### | Elapsed Time: 0:00:03 ETA:   0:00:00"
     ]
    },
    {
     "name": "stdout",
     "output_type": "stream",
     "text": [
      "Inferring file N62_11_3_HE - 2019-12-04 17.04.52.ndpi\n"
     ]
    },
    {
     "name": "stderr",
     "output_type": "stream",
     "text": [
      " 99% (1379 of 1380) |################### | Elapsed Time: 0:03:11 ETA:   0:00:00"
     ]
    },
    {
     "name": "stdout",
     "output_type": "stream",
     "text": [
      "Inferring file N489_11_HE - 2019-12-09 10.27.04.ndpi\n"
     ]
    },
    {
     "name": "stderr",
     "output_type": "stream",
     "text": [
      " 99% (292 of 293) |##################### | Elapsed Time: 0:00:41 ETA:   0:00:00"
     ]
    },
    {
     "name": "stdout",
     "output_type": "stream",
     "text": [
      "Inferring file N880_10_I1_HE - 2019-11-29 21.31.29.ndpi\n"
     ]
    },
    {
     "name": "stderr",
     "output_type": "stream",
     "text": [
      " 99% (1221 of 1222) |################### | Elapsed Time: 0:02:55 ETA:   0:00:00"
     ]
    },
    {
     "name": "stdout",
     "output_type": "stream",
     "text": [
      "Inferring file N263_11_I2_HE - 2019-12-05 14.57.09.ndpi\n"
     ]
    },
    {
     "name": "stderr",
     "output_type": "stream",
     "text": [
      " 99% (1326 of 1328) |################### | Elapsed Time: 0:02:59 ETA:   0:00:00"
     ]
    },
    {
     "name": "stdout",
     "output_type": "stream",
     "text": [
      "Inferring file N948_11_1_HE - 2019-12-10 19.39.42.ndpi\n"
     ]
    },
    {
     "name": "stderr",
     "output_type": "stream",
     "text": [
      " 99% (1100 of 1102) |################### | Elapsed Time: 0:02:24 ETA:   0:00:00"
     ]
    },
    {
     "name": "stdout",
     "output_type": "stream",
     "text": [
      "Inferring file N1297_09_2_HE - 2019-11-23 01.29.57.ndpi\n"
     ]
    },
    {
     "name": "stderr",
     "output_type": "stream",
     "text": [
      " 99% (1389 of 1391) |################### | Elapsed Time: 0:03:08 ETA:   0:00:00"
     ]
    },
    {
     "name": "stdout",
     "output_type": "stream",
     "text": [
      "Inferring file N159_11_2_HE - 2019-12-04 21.55.21.ndpi\n"
     ]
    },
    {
     "name": "stderr",
     "output_type": "stream",
     "text": [
      " 99% (1340 of 1342) |################### | Elapsed Time: 0:03:09 ETA:   0:00:00"
     ]
    },
    {
     "name": "stdout",
     "output_type": "stream",
     "text": [
      "Inferring file N797_10_1_HE - 2019-11-29 16.17.42.ndpi\n"
     ]
    },
    {
     "name": "stderr",
     "output_type": "stream",
     "text": [
      " 99% (1440 of 1442) |################### | Elapsed Time: 0:03:06 ETA:   0:00:00"
     ]
    },
    {
     "name": "stdout",
     "output_type": "stream",
     "text": [
      "Inferring file N797_10_3_HE - 2019-11-29 16.51.35.ndpi\n"
     ]
    },
    {
     "name": "stderr",
     "output_type": "stream",
     "text": [
      " 99% (1317 of 1319) |################### | Elapsed Time: 0:02:57 ETA:   0:00:00"
     ]
    },
    {
     "name": "stdout",
     "output_type": "stream",
     "text": [
      "Inferring file N633_09_3_HE - 2019-11-21 12.40.16.ndpi\n"
     ]
    },
    {
     "name": "stderr",
     "output_type": "stream",
     "text": [
      " 99% (1151 of 1152) |################### | Elapsed Time: 0:02:38 ETA:   0:00:00"
     ]
    },
    {
     "name": "stdout",
     "output_type": "stream",
     "text": [
      "Inferring file N1571_11_1_HE - 2019-12-12 21.13.09.ndpi\n"
     ]
    },
    {
     "name": "stderr",
     "output_type": "stream",
     "text": [
      " 99% (1799 of 1801) |################### | Elapsed Time: 0:04:07 ETA:   0:00:00"
     ]
    },
    {
     "name": "stdout",
     "output_type": "stream",
     "text": [
      "Inferring file N1180_10_I3_HE - 2019-12-02 21.38.31.ndpi\n"
     ]
    },
    {
     "name": "stderr",
     "output_type": "stream",
     "text": [
      " 99% (1227 of 1228) |################### | Elapsed Time: 0:02:51 ETA:   0:00:00"
     ]
    },
    {
     "name": "stdout",
     "output_type": "stream",
     "text": [
      "Inferring file N62_11_4_HE - 2019-12-04 17.22.34.ndpi\n"
     ]
    },
    {
     "name": "stderr",
     "output_type": "stream",
     "text": [
      " 99% (1654 of 1655) |################### | Elapsed Time: 0:03:39 ETA:   0:00:00"
     ]
    },
    {
     "name": "stdout",
     "output_type": "stream",
     "text": [
      "Inferring file N74_11_2_HE - 2019-12-04 18.00.08.ndpi\n"
     ]
    },
    {
     "name": "stderr",
     "output_type": "stream",
     "text": [
      " 99% (1057 of 1059) |################### | Elapsed Time: 0:02:29 ETA:   0:00:00"
     ]
    },
    {
     "name": "stdout",
     "output_type": "stream",
     "text": [
      "Inferring file N792_11_2_HE - 2019-12-10 10.09.00.ndpi\n"
     ]
    },
    {
     "name": "stderr",
     "output_type": "stream",
     "text": [
      " 99% (1254 of 1256) |################### | Elapsed Time: 0:02:43 ETA:   0:00:00"
     ]
    },
    {
     "name": "stdout",
     "output_type": "stream",
     "text": [
      "Inferring file N254_10_I1_HE - 2019-11-27 16.46.20.ndpi\n"
     ]
    },
    {
     "name": "stderr",
     "output_type": "stream",
     "text": [
      " 99% (1540 of 1542) |################### | Elapsed Time: 0:03:33 ETA:   0:00:00"
     ]
    },
    {
     "name": "stdout",
     "output_type": "stream",
     "text": [
      "Inferring file N833_09_1_HE - 2019-11-21 20.24.09.ndpi\n"
     ]
    },
    {
     "name": "stderr",
     "output_type": "stream",
     "text": [
      " 99% (798 of 799) |##################### | Elapsed Time: 0:01:52 ETA:   0:00:00"
     ]
    },
    {
     "name": "stdout",
     "output_type": "stream",
     "text": [
      "Inferring file N1151_11_3_HE - 2019-12-11 17.50.02.ndpi\n"
     ]
    },
    {
     "name": "stderr",
     "output_type": "stream",
     "text": [
      " 99% (1436 of 1438) |################### | Elapsed Time: 0:03:24 ETA:   0:00:00"
     ]
    },
    {
     "name": "stdout",
     "output_type": "stream",
     "text": [
      "Inferring file N725_11_1_HE - 2019-12-09 19.41.27.ndpi\n"
     ]
    },
    {
     "name": "stderr",
     "output_type": "stream",
     "text": [
      " 99% (1763 of 1764) |################### | Elapsed Time: 0:04:00 ETA:   0:00:00"
     ]
    },
    {
     "name": "stdout",
     "output_type": "stream",
     "text": [
      "Inferring file N1607_09_II3_HE - 2019-11-26 00.08.03.ndpi\n"
     ]
    },
    {
     "name": "stderr",
     "output_type": "stream",
     "text": [
      " 99% (1094 of 1096) |################### | Elapsed Time: 0:02:25 ETA:   0:00:00"
     ]
    },
    {
     "name": "stdout",
     "output_type": "stream",
     "text": [
      "Inferring file N1173_10_1_HE - 2019-12-02 20.35.19.ndpi\n"
     ]
    },
    {
     "name": "stderr",
     "output_type": "stream",
     "text": [
      " 99% (830 of 832) |##################### | Elapsed Time: 0:01:53 ETA:   0:00:00"
     ]
    },
    {
     "name": "stdout",
     "output_type": "stream",
     "text": [
      "Inferring file N851_09_5_HE - 2019-11-21 22.20.50.ndpi\n"
     ]
    },
    {
     "name": "stderr",
     "output_type": "stream",
     "text": [
      " 99% (1428 of 1430) |################### | Elapsed Time: 0:03:18 ETA:   0:00:00"
     ]
    },
    {
     "name": "stdout",
     "output_type": "stream",
     "text": [
      "Inferring file N313_11_II_HE - 2019-12-05 19.18.05.ndpi\n"
     ]
    },
    {
     "name": "stderr",
     "output_type": "stream",
     "text": [
      " 99% (272 of 273) |##################### | Elapsed Time: 0:00:41 ETA:   0:00:00"
     ]
    },
    {
     "name": "stdout",
     "output_type": "stream",
     "text": [
      "Inferring file N1195_09_2_HE - 2019-11-22 22.04.05.ndpi\n"
     ]
    },
    {
     "name": "stderr",
     "output_type": "stream",
     "text": [
      " 99% (895 of 896) |##################### | Elapsed Time: 0:02:05 ETA:   0:00:00"
     ]
    },
    {
     "name": "stdout",
     "output_type": "stream",
     "text": [
      "Inferring file N184_09_4_HE - 2019-11-19 22.05.24.ndpi\n"
     ]
    },
    {
     "name": "stderr",
     "output_type": "stream",
     "text": [
      " 99% (1382 of 1384) |################### | Elapsed Time: 0:03:15 ETA:   0:00:00"
     ]
    },
    {
     "name": "stdout",
     "output_type": "stream",
     "text": [
      "Inferring file N922_09_II_HE - 2019-11-22 00.05.32.ndpi\n"
     ]
    },
    {
     "name": "stderr",
     "output_type": "stream",
     "text": [
      " 97% (33 of 34) |####################### | Elapsed Time: 0:00:05 ETA:   0:00:00"
     ]
    },
    {
     "name": "stdout",
     "output_type": "stream",
     "text": [
      "Inferring file N1621_09_HE - 2019-11-26 00.59.58.ndpi\n"
     ]
    },
    {
     "name": "stderr",
     "output_type": "stream",
     "text": [
      " 99% (445 of 447) |##################### | Elapsed Time: 0:01:01 ETA:   0:00:00"
     ]
    },
    {
     "name": "stdout",
     "output_type": "stream",
     "text": [
      "Inferring file N1478_10_2_HE - 2019-12-03 20.46.08.ndpi\n"
     ]
    },
    {
     "name": "stderr",
     "output_type": "stream",
     "text": [
      " 99% (701 of 703) |##################### | Elapsed Time: 0:01:48 ETA:   0:00:00"
     ]
    },
    {
     "name": "stdout",
     "output_type": "stream",
     "text": [
      "Inferring file N1193_09_2_HE - 2019-11-22 20.56.31.ndpi\n"
     ]
    },
    {
     "name": "stderr",
     "output_type": "stream",
     "text": [
      " 99% (1071 of 1073) |################### | Elapsed Time: 0:02:33 ETA:   0:00:00"
     ]
    },
    {
     "name": "stdout",
     "output_type": "stream",
     "text": [
      "Inferring file N1398_10_HE - 2019-12-03 22.10.10.ndpi\n"
     ]
    },
    {
     "name": "stderr",
     "output_type": "stream",
     "text": [
      " 99% (583 of 584) |##################### | Elapsed Time: 0:01:26 ETA:   0:00:00"
     ]
    },
    {
     "name": "stdout",
     "output_type": "stream",
     "text": [
      "Inferring file N274_11_I2_HE - 2019-12-05 17.08.47.ndpi\n"
     ]
    },
    {
     "name": "stderr",
     "output_type": "stream",
     "text": [
      " 99% (653 of 655) |##################### | Elapsed Time: 0:01:34 ETA:   0:00:00"
     ]
    },
    {
     "name": "stdout",
     "output_type": "stream",
     "text": [
      "Inferring file N1121_11_I5_HE - 2019-12-11 09.58.08.ndpi\n"
     ]
    },
    {
     "name": "stderr",
     "output_type": "stream",
     "text": [
      " 99% (1151 of 1153) |################### | Elapsed Time: 0:02:43 ETA:   0:00:00"
     ]
    },
    {
     "name": "stdout",
     "output_type": "stream",
     "text": [
      "Inferring file N1644_09_2_HE - 2019-11-26 02.23.07.ndpi\n"
     ]
    },
    {
     "name": "stderr",
     "output_type": "stream",
     "text": [
      " 99% (1205 of 1207) |################### | Elapsed Time: 0:02:51 ETA:   0:00:00"
     ]
    },
    {
     "name": "stdout",
     "output_type": "stream",
     "text": [
      "Inferring file N839_09_III_HE - 2019-11-21 20.57.23.ndpi\n"
     ]
    },
    {
     "name": "stderr",
     "output_type": "stream",
     "text": [
      " 97% (39 of 40) |####################### | Elapsed Time: 0:00:07 ETA:   0:00:00"
     ]
    },
    {
     "name": "stdout",
     "output_type": "stream",
     "text": [
      "Inferring file N670_10_II2_HE - 2019-11-28 21.12.06.ndpi\n"
     ]
    },
    {
     "name": "stderr",
     "output_type": "stream",
     "text": [
      " 99% (856 of 857) |##################### | Elapsed Time: 0:02:08 ETA:   0:00:00"
     ]
    },
    {
     "name": "stdout",
     "output_type": "stream",
     "text": [
      "Inferring file N1257_09_HE - 2019-11-22 22.45.23.ndpi\n"
     ]
    },
    {
     "name": "stderr",
     "output_type": "stream",
     "text": [
      " 99% (278 of 280) |##################### | Elapsed Time: 0:00:40 ETA:   0:00:00"
     ]
    },
    {
     "name": "stdout",
     "output_type": "stream",
     "text": [
      "Inferring file N395_11_2_HE - 2019-12-05 23.46.20.ndpi\n"
     ]
    },
    {
     "name": "stderr",
     "output_type": "stream",
     "text": [
      " 99% (1312 of 1313) |################### | Elapsed Time: 0:03:02 ETA:   0:00:00"
     ]
    },
    {
     "name": "stdout",
     "output_type": "stream",
     "text": [
      "Inferring file N1462_09_2_HE - 2019-11-25 12.40.37.ndpi\n"
     ]
    },
    {
     "name": "stderr",
     "output_type": "stream",
     "text": [
      " 99% (685 of 686) |##################### | Elapsed Time: 0:01:33 ETA:   0:00:00"
     ]
    },
    {
     "name": "stdout",
     "output_type": "stream",
     "text": [
      "Inferring file N846_11_VII_HE - 2019-12-10 15.27.55.ndpi\n"
     ]
    },
    {
     "name": "stderr",
     "output_type": "stream",
     "text": [
      " 99% (1387 of 1388) |################### | Elapsed Time: 0:03:15 ETA:   0:00:00"
     ]
    },
    {
     "name": "stdout",
     "output_type": "stream",
     "text": [
      "Inferring file N1547_11_3_HE - 2019-12-12 20.44.54.ndpi\n"
     ]
    },
    {
     "name": "stderr",
     "output_type": "stream",
     "text": [
      " 99% (1404 of 1406) |################### | Elapsed Time: 0:03:18 ETA:   0:00:00"
     ]
    },
    {
     "name": "stdout",
     "output_type": "stream",
     "text": [
      "Inferring file N630_11_II_HE - 2019-12-09 16.21.19.ndpi\n"
     ]
    },
    {
     "name": "stderr",
     "output_type": "stream",
     "text": [
      " 98% (119 of 121) |##################### | Elapsed Time: 0:00:18 ETA:   0:00:00"
     ]
    },
    {
     "name": "stdout",
     "output_type": "stream",
     "text": [
      "Inferring file N274_11_I3_HE - 2019-12-05 17.18.10.ndpi\n"
     ]
    },
    {
     "name": "stderr",
     "output_type": "stream",
     "text": [
      " 99% (733 of 734) |##################### | Elapsed Time: 0:01:46 ETA:   0:00:00"
     ]
    },
    {
     "name": "stdout",
     "output_type": "stream",
     "text": [
      "Inferring file N403_10_2_HE - 2019-11-28 09.42.59.ndpi\n"
     ]
    },
    {
     "name": "stderr",
     "output_type": "stream",
     "text": [
      " 99% (1186 of 1187) |################### | Elapsed Time: 0:02:51 ETA:   0:00:00"
     ]
    },
    {
     "name": "stdout",
     "output_type": "stream",
     "text": [
      "Inferring file N790_11_I3_HE - 2019-12-09 22.12.14.ndpi\n"
     ]
    },
    {
     "name": "stderr",
     "output_type": "stream",
     "text": [
      " 99% (1181 of 1183) |################### | Elapsed Time: 0:02:42 ETA:   0:00:00"
     ]
    },
    {
     "name": "stdout",
     "output_type": "stream",
     "text": [
      "Inferring file N338_10_5_HE - 2019-11-27 22.04.26.ndpi\n"
     ]
    },
    {
     "name": "stderr",
     "output_type": "stream",
     "text": [
      " 99% (1768 of 1769) |################### | Elapsed Time: 0:04:04 ETA:   0:00:00"
     ]
    },
    {
     "name": "stdout",
     "output_type": "stream",
     "text": [
      "Inferring file N1560_09_2_HE - 2019-11-25 21.29.01.ndpi\n"
     ]
    },
    {
     "name": "stderr",
     "output_type": "stream",
     "text": [
      " 99% (740 of 741) |##################### | Elapsed Time: 0:01:48 ETA:   0:00:00"
     ]
    },
    {
     "name": "stdout",
     "output_type": "stream",
     "text": [
      "Inferring file N442_10_2_HE - 2019-11-28 12.00.38.ndpi\n"
     ]
    },
    {
     "name": "stderr",
     "output_type": "stream",
     "text": [
      " 99% (1047 of 1049) |################### | Elapsed Time: 0:02:28 ETA:   0:00:00"
     ]
    },
    {
     "name": "stdout",
     "output_type": "stream",
     "text": [
      "Inferring file N1121_11_I3_HE - 2019-12-11 09.35.08.ndpi\n"
     ]
    },
    {
     "name": "stderr",
     "output_type": "stream",
     "text": [
      " 99% (924 of 926) |##################### | Elapsed Time: 0:02:19 ETA:   0:00:00"
     ]
    },
    {
     "name": "stdout",
     "output_type": "stream",
     "text": [
      "Inferring file N111_11_2_HE - 2019-12-04 21.06.22.ndpi\n"
     ]
    },
    {
     "name": "stderr",
     "output_type": "stream",
     "text": [
      " 99% (1189 of 1190) |################### | Elapsed Time: 0:02:54 ETA:   0:00:00"
     ]
    },
    {
     "name": "stdout",
     "output_type": "stream",
     "text": [
      "Inferring file N126_09_2_HE - 2019-11-19 19.30.33.ndpi\n"
     ]
    },
    {
     "name": "stderr",
     "output_type": "stream",
     "text": [
      " 99% (1372 of 1374) |################### | Elapsed Time: 0:03:12 ETA:   0:00:00"
     ]
    },
    {
     "name": "stdout",
     "output_type": "stream",
     "text": [
      "Inferring file N829_11_II4_HE - 2019-12-10 11.32.27.ndpi\n"
     ]
    },
    {
     "name": "stderr",
     "output_type": "stream",
     "text": [
      " 99% (1314 of 1315) |################### | Elapsed Time: 0:03:09 ETA:   0:00:00"
     ]
    },
    {
     "name": "stdout",
     "output_type": "stream",
     "text": [
      "Inferring file N1644_09_1_HE - 2019-11-26 02.10.53.ndpi\n"
     ]
    },
    {
     "name": "stderr",
     "output_type": "stream",
     "text": [
      " 99% (825 of 826) |##################### | Elapsed Time: 0:01:57 ETA:   0:00:00"
     ]
    },
    {
     "name": "stdout",
     "output_type": "stream",
     "text": [
      "Inferring file N274_11_II2_HE - 2019-12-05 17.44.31.ndpi\n"
     ]
    },
    {
     "name": "stderr",
     "output_type": "stream",
     "text": [
      " 99% (1092 of 1094) |################### | Elapsed Time: 0:02:37 ETA:   0:00:00"
     ]
    },
    {
     "name": "stdout",
     "output_type": "stream",
     "text": [
      "Inferring file N267_11_2_HE - 2019-12-05 16.04.04.ndpi\n"
     ]
    },
    {
     "name": "stderr",
     "output_type": "stream",
     "text": [
      " 99% (923 of 925) |##################### | Elapsed Time: 0:02:29 ETA:   0:00:00"
     ]
    },
    {
     "name": "stdout",
     "output_type": "stream",
     "text": [
      "Inferring file N1228_10_I1_HE - 2019-12-02 22.52.16.ndpi\n"
     ]
    },
    {
     "name": "stderr",
     "output_type": "stream",
     "text": [
      " 99% (1375 of 1377) |################### | Elapsed Time: 0:03:43 ETA:   0:00:00"
     ]
    },
    {
     "name": "stdout",
     "output_type": "stream",
     "text": [
      "Inferring file N13_11_II1_HE - 2019-12-04 15.37.51.ndpi\n"
     ]
    },
    {
     "name": "stderr",
     "output_type": "stream",
     "text": [
      " 99% (370 of 372) |##################### | Elapsed Time: 0:00:56 ETA:   0:00:00"
     ]
    },
    {
     "name": "stdout",
     "output_type": "stream",
     "text": [
      "Inferring file N921_09_I2_HE - 2019-11-21 23.14.55.ndpi\n"
     ]
    },
    {
     "name": "stderr",
     "output_type": "stream",
     "text": [
      " 99% (1276 of 1278) |################### | Elapsed Time: 0:03:28 ETA:   0:00:00"
     ]
    },
    {
     "name": "stdout",
     "output_type": "stream",
     "text": [
      "Inferring file N914_11_1_HE - 2019-12-10 17.25.09.ndpi\n"
     ]
    },
    {
     "name": "stderr",
     "output_type": "stream",
     "text": [
      " 99% (1421 of 1423) |################### | Elapsed Time: 0:04:01 ETA:   0:00:00"
     ]
    },
    {
     "name": "stdout",
     "output_type": "stream",
     "text": [
      "Inferring file N602_10_I_HE - 2019-11-28 20.00.50.ndpi\n"
     ]
    },
    {
     "name": "stderr",
     "output_type": "stream",
     "text": [
      " 99% (275 of 277) |##################### | Elapsed Time: 0:00:45 ETA:   0:00:00"
     ]
    },
    {
     "name": "stdout",
     "output_type": "stream",
     "text": [
      "Inferring file N851_09_4_HE - 2019-11-21 22.03.55.ndpi\n"
     ]
    },
    {
     "name": "stderr",
     "output_type": "stream",
     "text": [
      " 99% (1414 of 1416) |################### | Elapsed Time: 0:03:50 ETA:   0:00:00"
     ]
    },
    {
     "name": "stdout",
     "output_type": "stream",
     "text": [
      "Inferring file N1629_09_4_HE - 2019-11-26 01.49.12.ndpi\n"
     ]
    },
    {
     "name": "stderr",
     "output_type": "stream",
     "text": [
      " 99% (1057 of 1059) |################### | Elapsed Time: 0:03:03 ETA:   0:00:00"
     ]
    },
    {
     "name": "stdout",
     "output_type": "stream",
     "text": [
      "Inferring file N1180_10_I2_HE - 2019-12-02 21.21.29.ndpi\n"
     ]
    },
    {
     "name": "stderr",
     "output_type": "stream",
     "text": [
      " 99% (1433 of 1435) |################### | Elapsed Time: 0:03:53 ETA:   0:00:00"
     ]
    },
    {
     "name": "stdout",
     "output_type": "stream",
     "text": [
      "Inferring file N560_10_HE - 2019-11-28 19.33.22.ndpi\n"
     ]
    },
    {
     "name": "stderr",
     "output_type": "stream",
     "text": [
      " 99% (1038 of 1040) |################### | Elapsed Time: 0:02:53 ETA:   0:00:00"
     ]
    },
    {
     "name": "stdout",
     "output_type": "stream",
     "text": [
      "Inferring file N1423_11_5_HE - 2019-12-12 00.22.36.ndpi\n"
     ]
    },
    {
     "name": "stderr",
     "output_type": "stream",
     "text": [
      " 99% (1178 of 1180) |################### | Elapsed Time: 0:03:13 ETA:   0:00:00"
     ]
    },
    {
     "name": "stdout",
     "output_type": "stream",
     "text": [
      "Inferring file N1228_10_II1_HE - 2019-12-04 11.41.05.ndpi\n"
     ]
    },
    {
     "name": "stderr",
     "output_type": "stream",
     "text": [
      " 99% (553 of 554) |##################### | Elapsed Time: 0:01:30 ETA:   0:00:00"
     ]
    },
    {
     "name": "stdout",
     "output_type": "stream",
     "text": [
      "Inferring file N1452_10_HE - 2019-12-03 20.11.36.ndpi\n"
     ]
    },
    {
     "name": "stderr",
     "output_type": "stream",
     "text": [
      " 99% (844 of 846) |##################### | Elapsed Time: 0:02:25 ETA:   0:00:00"
     ]
    },
    {
     "name": "stdout",
     "output_type": "stream",
     "text": [
      "Inferring file N1101_10_5_HE - 2019-12-02 17.46.04.ndpi\n"
     ]
    },
    {
     "name": "stderr",
     "output_type": "stream",
     "text": [
      " 99% (1456 of 1458) |################### | Elapsed Time: 0:03:47 ETA:   0:00:00"
     ]
    },
    {
     "name": "stdout",
     "output_type": "stream",
     "text": [
      "Inferring file N687_11_HE - 2019-12-09 19.18.39.ndpi\n"
     ]
    },
    {
     "name": "stderr",
     "output_type": "stream",
     "text": [
      " 99% (548 of 550) |##################### | Elapsed Time: 0:01:34 ETA:   0:00:00"
     ]
    },
    {
     "name": "stdout",
     "output_type": "stream",
     "text": [
      "Inferring file N456_09_1_HE - 2019-11-20 01.39.49.ndpi\n"
     ]
    },
    {
     "name": "stderr",
     "output_type": "stream",
     "text": [
      " 99% (831 of 832) |##################### | Elapsed Time: 0:02:31 ETA:   0:00:00"
     ]
    },
    {
     "name": "stdout",
     "output_type": "stream",
     "text": [
      "Inferring file N882_10_I2_HE - 2019-11-29 22.54.04.ndpi\n"
     ]
    },
    {
     "name": "stderr",
     "output_type": "stream",
     "text": [
      " 99% (1498 of 1500) |################### | Elapsed Time: 0:04:10 ETA:   0:00:00"
     ]
    },
    {
     "name": "stdout",
     "output_type": "stream",
     "text": [
      "Inferring file N56_10_1_HE - 2019-11-27 11.07.21.ndpi\n"
     ]
    },
    {
     "name": "stderr",
     "output_type": "stream",
     "text": [
      " 99% (1061 of 1063) |################### | Elapsed Time: 0:02:58 ETA:   0:00:00"
     ]
    },
    {
     "name": "stdout",
     "output_type": "stream",
     "text": [
      "Inferring file N811_09_4_HE - 2019-11-21 18.50.23.ndpi\n"
     ]
    },
    {
     "name": "stderr",
     "output_type": "stream",
     "text": [
      " 99% (1350 of 1352) |################### | Elapsed Time: 0:03:49 ETA:   0:00:00"
     ]
    },
    {
     "name": "stdout",
     "output_type": "stream",
     "text": [
      "Inferring file N1037_09_II1_HE - 2019-11-22 12.29.59.ndpi\n"
     ]
    },
    {
     "name": "stderr",
     "output_type": "stream",
     "text": [
      " 98% (161 of 163) |##################### | Elapsed Time: 0:00:26 ETA:   0:00:00"
     ]
    },
    {
     "name": "stdout",
     "output_type": "stream",
     "text": [
      "Inferring file N897_11_2_HE - 2019-12-10 17.02.34.ndpi\n"
     ]
    },
    {
     "name": "stderr",
     "output_type": "stream",
     "text": [
      " 99% (1021 of 1023) |################### | Elapsed Time: 0:03:01 ETA:   0:00:00"
     ]
    },
    {
     "name": "stdout",
     "output_type": "stream",
     "text": [
      "Inferring file N1188_09_2_HE - 2019-11-22 20.24.41.ndpi\n"
     ]
    },
    {
     "name": "stderr",
     "output_type": "stream",
     "text": [
      " 99% (1306 of 1307) |################### | Elapsed Time: 0:03:46 ETA:   0:00:00"
     ]
    },
    {
     "name": "stdout",
     "output_type": "stream",
     "text": [
      "Inferring file N1035_09_4_HE - 2019-11-22 11.19.58.ndpi\n"
     ]
    },
    {
     "name": "stderr",
     "output_type": "stream",
     "text": [
      " 98% (162 of 164) |##################### | Elapsed Time: 0:00:27 ETA:   0:00:00"
     ]
    },
    {
     "name": "stdout",
     "output_type": "stream",
     "text": [
      "Inferring file N1282_09_5_HE - 2019-11-23 00.49.13.ndpi\n"
     ]
    },
    {
     "name": "stderr",
     "output_type": "stream",
     "text": [
      " 99% (816 of 818) |##################### | Elapsed Time: 0:02:11 ETA:   0:00:00"
     ]
    },
    {
     "name": "stdout",
     "output_type": "stream",
     "text": [
      "Inferring file N1423_09_2_HE - 2019-11-25 11.11.25.ndpi\n"
     ]
    },
    {
     "name": "stderr",
     "output_type": "stream",
     "text": [
      " 99% (899 of 901) |##################### | Elapsed Time: 0:02:29 ETA:   0:00:00"
     ]
    },
    {
     "name": "stdout",
     "output_type": "stream",
     "text": [
      "Inferring file N1182_09_2_HE - 2019-11-22 19.44.10.ndpi\n"
     ]
    },
    {
     "name": "stderr",
     "output_type": "stream",
     "text": [
      " 99% (968 of 970) |##################### | Elapsed Time: 0:02:48 ETA:   0:00:00"
     ]
    },
    {
     "name": "stdout",
     "output_type": "stream",
     "text": [
      "Inferring file N1334_09_I1_HE - 2019-11-25 18.24.07.ndpi\n"
     ]
    },
    {
     "name": "stderr",
     "output_type": "stream",
     "text": [
      " 99% (778 of 780) |##################### | Elapsed Time: 0:02:13 ETA:   0:00:00"
     ]
    },
    {
     "name": "stdout",
     "output_type": "stream",
     "text": [
      "Inferring file N217_11_3_HE - 2019-12-05 10.40.42.ndpi\n"
     ]
    },
    {
     "name": "stderr",
     "output_type": "stream",
     "text": [
      " 99% (1269 of 1271) |################### | Elapsed Time: 0:03:32 ETA:   0:00:00"
     ]
    },
    {
     "name": "stdout",
     "output_type": "stream",
     "text": [
      "Inferring file N451_11_1_HE - 2019-12-06 10.40.42.ndpi\n"
     ]
    },
    {
     "name": "stderr",
     "output_type": "stream",
     "text": [
      " 99% (636 of 637) |##################### | Elapsed Time: 0:01:46 ETA:   0:00:00"
     ]
    },
    {
     "name": "stdout",
     "output_type": "stream",
     "text": [
      "Inferring file N446_09_1_HE - 2019-11-20 00.50.24.ndpi\n"
     ]
    },
    {
     "name": "stderr",
     "output_type": "stream",
     "text": [
      " 99% (1145 of 1147) |################### | Elapsed Time: 0:03:17 ETA:   0:00:00"
     ]
    },
    {
     "name": "stdout",
     "output_type": "stream",
     "text": [
      "Inferring file N1320_09_3_HE - 2019-11-25 09.46.46.ndpi\n"
     ]
    },
    {
     "name": "stderr",
     "output_type": "stream",
     "text": [
      " 99% (1521 of 1522) |################### | Elapsed Time: 0:04:24 ETA:   0:00:00"
     ]
    },
    {
     "name": "stdout",
     "output_type": "stream",
     "text": [
      "Inferring file N1282_09_3_HE - 2019-11-23 00.24.22.ndpi\n"
     ]
    },
    {
     "name": "stderr",
     "output_type": "stream",
     "text": [
      " 99% (1024 of 1026) |################### | Elapsed Time: 0:03:02 ETA:   0:00:00"
     ]
    },
    {
     "name": "stdout",
     "output_type": "stream",
     "text": [
      "Inferring file N1297_09_4_HE - 2019-11-25 08.37.35.ndpi\n"
     ]
    },
    {
     "name": "stderr",
     "output_type": "stream",
     "text": [
      " 99% (1366 of 1368) |################### | Elapsed Time: 0:03:45 ETA:   0:00:00"
     ]
    },
    {
     "name": "stdout",
     "output_type": "stream",
     "text": [
      "Inferring file N1180_10_I1_HE - 2019-12-02 21.06.58.ndpi\n"
     ]
    },
    {
     "name": "stderr",
     "output_type": "stream",
     "text": [
      " 99% (1189 of 1191) |################### | Elapsed Time: 0:03:24 ETA:   0:00:00"
     ]
    },
    {
     "name": "stdout",
     "output_type": "stream",
     "text": [
      "Inferring file N1151_11_1_HE - 2019-12-11 17.32.08.ndpi\n"
     ]
    },
    {
     "name": "stderr",
     "output_type": "stream",
     "text": [
      " 99% (1329 of 1331) |################### | Elapsed Time: 0:03:43 ETA:   0:00:00"
     ]
    },
    {
     "name": "stdout",
     "output_type": "stream",
     "text": [
      "Inferring file N1344_10_1_HE - 2019-12-03 17.00.00.ndpi\n"
     ]
    },
    {
     "name": "stderr",
     "output_type": "stream",
     "text": [
      " 99% (1369 of 1370) |################### | Elapsed Time: 0:03:49 ETA:   0:00:00"
     ]
    },
    {
     "name": "stdout",
     "output_type": "stream",
     "text": [
      "Inferring file N259_10_3_HE - 2019-11-27 18.49.34.ndpi\n"
     ]
    },
    {
     "name": "stderr",
     "output_type": "stream",
     "text": [
      " 99% (966 of 968) |##################### | Elapsed Time: 0:02:48 ETA:   0:00:00"
     ]
    },
    {
     "name": "stdout",
     "output_type": "stream",
     "text": [
      "Inferring file N939_11_1_HE - 2019-12-10 20.06.11.ndpi\n"
     ]
    },
    {
     "name": "stderr",
     "output_type": "stream",
     "text": [
      " 99% (1119 of 1120) |################### | Elapsed Time: 0:03:14 ETA:   0:00:00"
     ]
    },
    {
     "name": "stdout",
     "output_type": "stream",
     "text": [
      "Inferring file N555_11_II4_HE - 2019-12-10 09.08.17.ndpi\n"
     ]
    },
    {
     "name": "stderr",
     "output_type": "stream",
     "text": [
      " 99% (1073 of 1075) |################### | Elapsed Time: 0:03:09 ETA:   0:00:00"
     ]
    },
    {
     "name": "stdout",
     "output_type": "stream",
     "text": [
      "Inferring file N1423_11_2_HE - 2019-12-11 23.45.24.ndpi\n"
     ]
    },
    {
     "name": "stderr",
     "output_type": "stream",
     "text": [
      " 99% (1120 of 1121) |################### | Elapsed Time: 0:03:20 ETA:   0:00:00"
     ]
    },
    {
     "name": "stdout",
     "output_type": "stream",
     "text": [
      "Inferring file N851_09_1_HE - 2019-11-21 21.11.34.ndpi\n"
     ]
    },
    {
     "name": "stderr",
     "output_type": "stream",
     "text": [
      " 99% (1638 of 1639) |################### | Elapsed Time: 0:04:46 ETA:   0:00:00"
     ]
    },
    {
     "name": "stdout",
     "output_type": "stream",
     "text": [
      "Inferring file N602_10_II_HE - 2019-11-28 20.09.12.ndpi\n"
     ]
    },
    {
     "name": "stderr",
     "output_type": "stream",
     "text": [
      " 98% (67 of 68) |####################### | Elapsed Time: 0:00:11 ETA:   0:00:00"
     ]
    },
    {
     "name": "stdout",
     "output_type": "stream",
     "text": [
      "Inferring file N402_11_I1_HE - 2019-12-05 23.59.45.ndpi\n"
     ]
    },
    {
     "name": "stderr",
     "output_type": "stream",
     "text": [
      " 99% (1298 of 1300) |################### | Elapsed Time: 0:03:48 ETA:   0:00:00"
     ]
    },
    {
     "name": "stdout",
     "output_type": "stream",
     "text": [
      "Inferring file N1347_09_3_HE - 2019-11-25 19.52.32.ndpi\n"
     ]
    },
    {
     "name": "stderr",
     "output_type": "stream",
     "text": [
      " 99% (809 of 811) |##################### | Elapsed Time: 0:02:16 ETA:   0:00:00"
     ]
    },
    {
     "name": "stdout",
     "output_type": "stream",
     "text": [
      "Inferring file N13_11_I1_HE - 2019-12-04 15.21.45.ndpi\n"
     ]
    },
    {
     "name": "stderr",
     "output_type": "stream",
     "text": [
      " 99% (627 of 629) |##################### | Elapsed Time: 0:01:27 ETA:   0:00:00"
     ]
    },
    {
     "name": "stdout",
     "output_type": "stream",
     "text": [
      "Inferring file N87_11_II_HE - 2019-12-04 19.52.47.ndpi\n"
     ]
    },
    {
     "name": "stderr",
     "output_type": "stream",
     "text": [
      " 96% (64 of 66) |####################### | Elapsed Time: 0:00:08 ETA:   0:00:00"
     ]
    },
    {
     "name": "stdout",
     "output_type": "stream",
     "text": [
      "Inferring file N264_09_2_HE - 2019-11-19 23.45.37.ndpi\n"
     ]
    },
    {
     "name": "stderr",
     "output_type": "stream",
     "text": [
      " 99% (1017 of 1019) |################### | Elapsed Time: 0:02:21 ETA:   0:00:00"
     ]
    },
    {
     "name": "stdout",
     "output_type": "stream",
     "text": [
      "Inferring file N1423_11_4_HE - 2019-12-12 00.10.15.ndpi\n"
     ]
    },
    {
     "name": "stderr",
     "output_type": "stream",
     "text": [
      " 99% (1151 of 1152) |################### | Elapsed Time: 0:02:43 ETA:   0:00:00"
     ]
    },
    {
     "name": "stdout",
     "output_type": "stream",
     "text": [
      "Inferring file N39_09_5_HE - 2019-11-19 15.38.56.ndpi\n"
     ]
    },
    {
     "name": "stderr",
     "output_type": "stream",
     "text": [
      " 99% (1744 of 1745) |################### | Elapsed Time: 0:03:56 ETA:   0:00:00"
     ]
    },
    {
     "name": "stdout",
     "output_type": "stream",
     "text": [
      "Inferring file N39_09_2_HE - 2019-11-19 14.57.08.ndpi\n"
     ]
    },
    {
     "name": "stderr",
     "output_type": "stream",
     "text": [
      " 99% (1139 of 1140) |################### | Elapsed Time: 0:02:38 ETA:   0:00:00"
     ]
    },
    {
     "name": "stdout",
     "output_type": "stream",
     "text": [
      "Inferring file N953_10_3_HE - 2019-12-02 12.25.55.ndpi\n"
     ]
    },
    {
     "name": "stderr",
     "output_type": "stream",
     "text": [
      " 99% (1477 of 1478) |################### | Elapsed Time: 0:03:26 ETA:   0:00:00"
     ]
    },
    {
     "name": "stdout",
     "output_type": "stream",
     "text": [
      "Inferring file N249_11_4_HE - 2019-12-05 14.31.25.ndpi\n"
     ]
    },
    {
     "name": "stderr",
     "output_type": "stream",
     "text": [
      " 99% (1516 of 1518) |################### | Elapsed Time: 0:03:36 ETA:   0:00:00"
     ]
    },
    {
     "name": "stdout",
     "output_type": "stream",
     "text": [
      "Inferring file N670_10_I2_HE - 2019-11-28 20.54.59.ndpi\n"
     ]
    },
    {
     "name": "stderr",
     "output_type": "stream",
     "text": [
      " 99% (734 of 736) |##################### | Elapsed Time: 0:01:44 ETA:   0:00:00"
     ]
    },
    {
     "name": "stdout",
     "output_type": "stream",
     "text": [
      "Inferring file N968_09_4_HE - 2019-11-22 03.23.21.ndpi\n"
     ]
    },
    {
     "name": "stderr",
     "output_type": "stream",
     "text": [
      " 99% (1412 of 1413) |################### | Elapsed Time: 0:03:17 ETA:   0:00:00"
     ]
    },
    {
     "name": "stdout",
     "output_type": "stream",
     "text": [
      "Inferring file N1597_11_HE - 2019-12-12 22.14.43.ndpi\n"
     ]
    },
    {
     "name": "stderr",
     "output_type": "stream",
     "text": [
      " 99% (312 of 313) |##################### | Elapsed Time: 0:00:43 ETA:   0:00:00"
     ]
    },
    {
     "name": "stdout",
     "output_type": "stream",
     "text": [
      "Inferring file N5_09_I3_HE - 2019-11-19 10.10.55.ndpi\n"
     ]
    },
    {
     "name": "stderr",
     "output_type": "stream",
     "text": [
      " 99% (1525 of 1527) |################### | Elapsed Time: 0:03:23 ETA:   0:00:00"
     ]
    },
    {
     "name": "stdout",
     "output_type": "stream",
     "text": [
      "Inferring file N1414_11_2_HE - 2019-12-11 23.23.10.ndpi\n"
     ]
    },
    {
     "name": "stderr",
     "output_type": "stream",
     "text": [
      " 99% (1318 of 1319) |################### | Elapsed Time: 0:03:01 ETA:   0:00:00"
     ]
    },
    {
     "name": "stdout",
     "output_type": "stream",
     "text": [
      "Inferring file N156_09_II_HE - 2019-11-19 21.14.25.ndpi\n"
     ]
    },
    {
     "name": "stderr",
     "output_type": "stream",
     "text": [
      " 99% (810 of 812) |##################### | Elapsed Time: 0:01:54 ETA:   0:00:00"
     ]
    },
    {
     "name": "stdout",
     "output_type": "stream",
     "text": [
      "Inferring file N928_09_I_HE - 2019-11-22 00.13.51.ndpi\n"
     ]
    },
    {
     "name": "stderr",
     "output_type": "stream",
     "text": [
      " 99% (457 of 458) |##################### | Elapsed Time: 0:01:12 ETA:   0:00:00"
     ]
    },
    {
     "name": "stdout",
     "output_type": "stream",
     "text": [
      "Inferring file N263_11_II_HE - 2019-12-05 15.47.16.ndpi\n"
     ]
    },
    {
     "name": "stderr",
     "output_type": "stream",
     "text": [
      " 99% (335 of 336) |##################### | Elapsed Time: 0:00:53 ETA:   0:00:00"
     ]
    },
    {
     "name": "stdout",
     "output_type": "stream",
     "text": [
      "Inferring file N561_10_HE - 2019-11-28 19.47.02.ndpi\n"
     ]
    },
    {
     "name": "stderr",
     "output_type": "stream",
     "text": [
      " 99% (1053 of 1055) |################### | Elapsed Time: 0:02:25 ETA:   0:00:00"
     ]
    },
    {
     "name": "stdout",
     "output_type": "stream",
     "text": [
      "Inferring file N1006_10_I_HE - 2019-12-02 14.40.22.ndpi\n"
     ]
    },
    {
     "name": "stderr",
     "output_type": "stream",
     "text": [
      " 98% (144 of 146) |##################### | Elapsed Time: 0:00:21 ETA:   0:00:00"
     ]
    },
    {
     "name": "stdout",
     "output_type": "stream",
     "text": [
      "Inferring file N1459_11_3_HE - 2019-12-12 15.42.46.ndpi\n"
     ]
    },
    {
     "name": "stderr",
     "output_type": "stream",
     "text": [
      " 99% (1056 of 1058) |################### | Elapsed Time: 0:02:32 ETA:   0:00:00"
     ]
    },
    {
     "name": "stdout",
     "output_type": "stream",
     "text": [
      "Inferring file N1513_09_1_HE - 2019-11-25 16.33.28.ndpi\n"
     ]
    },
    {
     "name": "stderr",
     "output_type": "stream",
     "text": [
      " 99% (1403 of 1405) |################### | Elapsed Time: 0:03:14 ETA:   0:00:00"
     ]
    },
    {
     "name": "stdout",
     "output_type": "stream",
     "text": [
      "Inferring file N268_10_4_HE - 2019-11-27 19.40.58.ndpi\n"
     ]
    },
    {
     "name": "stderr",
     "output_type": "stream",
     "text": [
      " 99% (1269 of 1271) |################### | Elapsed Time: 0:03:03 ETA:   0:00:00"
     ]
    },
    {
     "name": "stdout",
     "output_type": "stream",
     "text": [
      "Inferring file N88_09_3_HE - 2019-11-19 16.54.03.ndpi\n"
     ]
    },
    {
     "name": "stderr",
     "output_type": "stream",
     "text": [
      " 99% (1421 of 1423) |################### | Elapsed Time: 0:03:24 ETA:   0:00:00"
     ]
    },
    {
     "name": "stdout",
     "output_type": "stream",
     "text": [
      "Inferring file N633_09_2_HE - 2019-11-21 12.28.54.ndpi\n"
     ]
    },
    {
     "name": "stderr",
     "output_type": "stream",
     "text": [
      " 99% (725 of 727) |##################### | Elapsed Time: 0:01:54 ETA:   0:00:00"
     ]
    },
    {
     "name": "stdout",
     "output_type": "stream",
     "text": [
      "Inferring file N1607_09_I_HE - 2019-11-25 23.30.21.ndpi\n"
     ]
    },
    {
     "name": "stderr",
     "output_type": "stream",
     "text": [
      " 99% (825 of 826) |##################### | Elapsed Time: 0:02:04 ETA:   0:00:00"
     ]
    },
    {
     "name": "stdout",
     "output_type": "stream",
     "text": [
      "Inferring file N1169_10_1_HE - 2019-12-02 19.23.23.ndpi\n"
     ]
    },
    {
     "name": "stderr",
     "output_type": "stream",
     "text": [
      " 99% (1331 of 1332) |################### | Elapsed Time: 0:03:03 ETA:   0:00:00"
     ]
    },
    {
     "name": "stdout",
     "output_type": "stream",
     "text": [
      "Inferring file N1585_10_I3_HE - 2019-12-04 13.15.12.ndpi\n"
     ]
    },
    {
     "name": "stderr",
     "output_type": "stream",
     "text": [
      " 99% (1632 of 1634) |################### | Elapsed Time: 0:03:44 ETA:   0:00:00"
     ]
    },
    {
     "name": "stdout",
     "output_type": "stream",
     "text": [
      "Inferring file N77_11_I12_HE - 2019-12-04 18.38.50.ndpi\n"
     ]
    },
    {
     "name": "stderr",
     "output_type": "stream",
     "text": [
      " 99% (359 of 361) |##################### | Elapsed Time: 0:00:50 ETA:   0:00:00"
     ]
    },
    {
     "name": "stdout",
     "output_type": "stream",
     "text": [
      "Inferring file N1266_10_I3_HE - 2019-12-03 13.46.47.ndpi\n"
     ]
    },
    {
     "name": "stderr",
     "output_type": "stream",
     "text": [
      " 99% (809 of 811) |##################### | Elapsed Time: 0:01:53 ETA:   0:00:00"
     ]
    },
    {
     "name": "stdout",
     "output_type": "stream",
     "text": [
      "Inferring file N263_11_I5_HE - 2019-12-05 15.36.10.ndpi\n"
     ]
    },
    {
     "name": "stderr",
     "output_type": "stream",
     "text": [
      " 99% (1369 of 1371) |################### | Elapsed Time: 0:03:09 ETA:   0:00:00"
     ]
    },
    {
     "name": "stdout",
     "output_type": "stream",
     "text": [
      "Inferring file N28_09_5_HE - 2019-11-19 13.04.24.ndpi\n"
     ]
    },
    {
     "name": "stderr",
     "output_type": "stream",
     "text": [
      " 99% (1311 of 1313) |################### | Elapsed Time: 0:03:15 ETA:   0:00:00"
     ]
    },
    {
     "name": "stdout",
     "output_type": "stream",
     "text": [
      "Inferring file N322_10_I_HE - 2019-11-27 20.47.08.ndpi\n"
     ]
    },
    {
     "name": "stderr",
     "output_type": "stream",
     "text": [
      " 99% (636 of 637) |##################### | Elapsed Time: 0:01:28 ETA:   0:00:00"
     ]
    },
    {
     "name": "stdout",
     "output_type": "stream",
     "text": [
      "Inferring file N1127_11_II3_HE - 2019-12-11 16.38.13.ndpi\n"
     ]
    },
    {
     "name": "stderr",
     "output_type": "stream",
     "text": [
      " 99% (968 of 970) |##################### | Elapsed Time: 0:02:19 ETA:   0:00:00"
     ]
    },
    {
     "name": "stdout",
     "output_type": "stream",
     "text": [
      "Inferring file N1085_09_1_HE - 2019-11-22 17.11.10.ndpi\n"
     ]
    },
    {
     "name": "stderr",
     "output_type": "stream",
     "text": [
      " 99% (1059 of 1061) |################### | Elapsed Time: 0:02:23 ETA:   0:00:00"
     ]
    },
    {
     "name": "stdout",
     "output_type": "stream",
     "text": [
      "Inferring file N156_09_I2_HE - 2019-11-19 20.39.39.ndpi\n"
     ]
    },
    {
     "name": "stderr",
     "output_type": "stream",
     "text": [
      " 99% (1433 of 1434) |################### | Elapsed Time: 0:03:16 ETA:   0:00:00"
     ]
    },
    {
     "name": "stdout",
     "output_type": "stream",
     "text": [
      "Inferring file N1169_10_3_HE - 2019-12-02 19.54.11.ndpi\n"
     ]
    },
    {
     "name": "stderr",
     "output_type": "stream",
     "text": [
      " 99% (1372 of 1374) |################### | Elapsed Time: 0:03:11 ETA:   0:00:00"
     ]
    },
    {
     "name": "stdout",
     "output_type": "stream",
     "text": [
      "Inferring file N1122_11_1_HE - 2019-12-11 10.15.56.ndpi\n"
     ]
    },
    {
     "name": "stderr",
     "output_type": "stream",
     "text": [
      " 99% (889 of 890) |##################### | Elapsed Time: 0:02:04 ETA:   0:00:00"
     ]
    },
    {
     "name": "stdout",
     "output_type": "stream",
     "text": [
      "Inferring file N224_11_HE - 2019-12-05 11.23.43.ndpi\n"
     ]
    },
    {
     "name": "stderr",
     "output_type": "stream",
     "text": [
      " 99% (566 of 568) |##################### | Elapsed Time: 0:01:15 ETA:   0:00:00"
     ]
    },
    {
     "name": "stdout",
     "output_type": "stream",
     "text": [
      "Inferring file N1319_10_2_HE - 2019-12-03 16.47.39.ndpi\n"
     ]
    },
    {
     "name": "stderr",
     "output_type": "stream",
     "text": [
      " 99% (778 of 780) |##################### | Elapsed Time: 0:01:47 ETA:   0:00:00"
     ]
    },
    {
     "name": "stdout",
     "output_type": "stream",
     "text": [
      "Inferring file N739_09_II2_HE - 2019-11-21 15.09.07.ndpi\n"
     ]
    },
    {
     "name": "stderr",
     "output_type": "stream",
     "text": [
      " 99% (385 of 386) |##################### | Elapsed Time: 0:00:57 ETA:   0:00:00"
     ]
    },
    {
     "name": "stdout",
     "output_type": "stream",
     "text": [
      "Inferring file N1127_11_II2_HE - 2019-12-11 16.29.07.ndpi\n"
     ]
    },
    {
     "name": "stderr",
     "output_type": "stream",
     "text": [
      " 99% (1059 of 1061) |################### | Elapsed Time: 0:02:34 ETA:   0:00:00"
     ]
    },
    {
     "name": "stdout",
     "output_type": "stream",
     "text": [
      "Inferring file N268_10_3_HE - 2019-11-27 19.26.25.ndpi\n"
     ]
    },
    {
     "name": "stderr",
     "output_type": "stream",
     "text": [
      " 99% (1058 of 1060) |################### | Elapsed Time: 0:02:29 ETA:   0:00:00"
     ]
    },
    {
     "name": "stdout",
     "output_type": "stream",
     "text": [
      "Inferring file N322_10_II_HE - 2019-11-27 20.58.13.ndpi\n"
     ]
    },
    {
     "name": "stderr",
     "output_type": "stream",
     "text": [
      " 99% (555 of 557) |##################### | Elapsed Time: 0:01:18 ETA:   0:00:00"
     ]
    },
    {
     "name": "stdout",
     "output_type": "stream",
     "text": [
      "Inferring file N1282_09_2_HE - 2019-11-23 00.13.02.ndpi\n"
     ]
    },
    {
     "name": "stderr",
     "output_type": "stream",
     "text": [
      " 99% (874 of 876) |##################### | Elapsed Time: 0:02:07 ETA:   0:00:00"
     ]
    },
    {
     "name": "stdout",
     "output_type": "stream",
     "text": [
      "Inferring file N217_11_1_HE - 2019-12-05 10.27.21.ndpi\n"
     ]
    },
    {
     "name": "stderr",
     "output_type": "stream",
     "text": [
      " 99% (1297 of 1299) |################### | Elapsed Time: 0:03:02 ETA:   0:00:00"
     ]
    },
    {
     "name": "stdout",
     "output_type": "stream",
     "text": [
      "Inferring file N1155_10_5_HE - 2019-12-02 19.08.21.ndpi\n"
     ]
    },
    {
     "name": "stderr",
     "output_type": "stream",
     "text": [
      " 99% (1095 of 1096) |################### | Elapsed Time: 0:02:37 ETA:   0:00:00"
     ]
    },
    {
     "name": "stdout",
     "output_type": "stream",
     "text": [
      "Inferring file N856_09_HE - 2019-11-21 22.35.33.ndpi\n"
     ]
    },
    {
     "name": "stderr",
     "output_type": "stream",
     "text": [
      " 99% (994 of 995) |##################### | Elapsed Time: 0:02:18 ETA:   0:00:00"
     ]
    },
    {
     "name": "stdout",
     "output_type": "stream",
     "text": [
      "Inferring file N74_11_1_HE - 2019-12-04 17.42.35.ndpi\n"
     ]
    },
    {
     "name": "stderr",
     "output_type": "stream",
     "text": [
      " 99% (1539 of 1541) |################### | Elapsed Time: 0:03:35 ETA:   0:00:00"
     ]
    },
    {
     "name": "stdout",
     "output_type": "stream",
     "text": [
      "Inferring file N1075_09_1_HE - 2019-11-22 16.19.58.ndpi\n"
     ]
    },
    {
     "name": "stderr",
     "output_type": "stream",
     "text": [
      " 99% (731 of 732) |##################### | Elapsed Time: 0:01:45 ETA:   0:00:00"
     ]
    },
    {
     "name": "stdout",
     "output_type": "stream",
     "text": [
      "Inferring file N55_10_2_HE - 2019-11-27 10.53.35.ndpi\n"
     ]
    },
    {
     "name": "stderr",
     "output_type": "stream",
     "text": [
      " 99% (877 of 879) |##################### | Elapsed Time: 0:02:04 ETA:   0:00:00"
     ]
    },
    {
     "name": "stdout",
     "output_type": "stream",
     "text": [
      "Inferring file N929_09_HE - 2019-11-22 00.32.19.ndpi\n"
     ]
    },
    {
     "name": "stderr",
     "output_type": "stream",
     "text": [
      " 99% (971 of 973) |##################### | Elapsed Time: 0:02:18 ETA:   0:00:00"
     ]
    },
    {
     "name": "stdout",
     "output_type": "stream",
     "text": [
      "Inferring file N1506_10_II2_HE - 2019-12-03 21.53.30.ndpi\n"
     ]
    },
    {
     "name": "stderr",
     "output_type": "stream",
     "text": [
      " 99% (1555 of 1557) |################### | Elapsed Time: 0:03:34 ETA:   0:00:00"
     ]
    },
    {
     "name": "stdout",
     "output_type": "stream",
     "text": [
      "File N1506_10_II1_HE - 2019-12-04 10.16.25.ndpi already inferred. Going on with next file.\n",
      "Inferring file N159_11_3_HE - 2019-12-04 22.11.10.ndpi\n"
     ]
    },
    {
     "name": "stderr",
     "output_type": "stream",
     "text": [
      " 99% (1017 of 1018) |################### | Elapsed Time: 0:02:23 ETA:   0:00:00"
     ]
    },
    {
     "name": "stdout",
     "output_type": "stream",
     "text": [
      "Inferring file N207_10_2_HE - 2019-11-27 15.41.12.ndpi\n"
     ]
    },
    {
     "name": "stderr",
     "output_type": "stream",
     "text": [
      " 99% (687 of 689) |##################### | Elapsed Time: 0:01:44 ETA:   0:00:00"
     ]
    },
    {
     "name": "stdout",
     "output_type": "stream",
     "text": [
      "Inferring file N1437_10_II1_HE - 2019-12-03 18.36.44.ndpi\n"
     ]
    },
    {
     "name": "stderr",
     "output_type": "stream",
     "text": [
      " 99% (1414 of 1415) |################### | Elapsed Time: 0:03:17 ETA:   0:00:00"
     ]
    },
    {
     "name": "stdout",
     "output_type": "stream",
     "text": [
      "Inferring file N773_10_HE - 2019-11-29 15.38.39.ndpi\n"
     ]
    },
    {
     "name": "stderr",
     "output_type": "stream",
     "text": [
      " 99% (304 of 306) |##################### | Elapsed Time: 0:00:40 ETA:   0:00:00"
     ]
    },
    {
     "name": "stdout",
     "output_type": "stream",
     "text": [
      "Inferring file N1275_10_HE - 2019-12-03 14.24.34.ndpi\n"
     ]
    },
    {
     "name": "stderr",
     "output_type": "stream",
     "text": [
      " 99% (856 of 858) |##################### | Elapsed Time: 0:01:59 ETA:   0:00:00"
     ]
    },
    {
     "name": "stdout",
     "output_type": "stream",
     "text": [
      "Inferring file N829_09_II1_HE - 2019-11-21 19.51.52.ndpi\n"
     ]
    },
    {
     "name": "stderr",
     "output_type": "stream",
     "text": [
      " 99% (1456 of 1458) |################### | Elapsed Time: 0:03:19 ETA:   0:00:00"
     ]
    },
    {
     "name": "stdout",
     "output_type": "stream",
     "text": [
      "Inferring file N1075_09_4_HE - 2019-11-22 16.57.01.ndpi\n"
     ]
    },
    {
     "name": "stderr",
     "output_type": "stream",
     "text": [
      " 99% (729 of 731) |##################### | Elapsed Time: 0:01:41 ETA:   0:00:00"
     ]
    },
    {
     "name": "stdout",
     "output_type": "stream",
     "text": [
      "Inferring file N939_11_3_HE - 2019-12-10 20.26.14.ndpi\n"
     ]
    },
    {
     "name": "stderr",
     "output_type": "stream",
     "text": [
      " 99% (1019 of 1020) |################### | Elapsed Time: 0:02:29 ETA:   0:00:00"
     ]
    },
    {
     "name": "stdout",
     "output_type": "stream",
     "text": [
      "Inferring file N1357_11_1_HE - 2019-12-11 21.22.10.ndpi\n"
     ]
    },
    {
     "name": "stderr",
     "output_type": "stream",
     "text": [
      " 99% (668 of 669) |##################### | Elapsed Time: 0:01:31 ETA:   0:00:00"
     ]
    },
    {
     "name": "stdout",
     "output_type": "stream",
     "text": [
      "Inferring file N498_11_II_HE - 2019-12-09 11.02.05.ndpi\n"
     ]
    },
    {
     "name": "stderr",
     "output_type": "stream",
     "text": [
      " 99% (1027 of 1028) |################### | Elapsed Time: 0:02:27 ETA:   0:00:00"
     ]
    },
    {
     "name": "stdout",
     "output_type": "stream",
     "text": [
      "Inferring file N700_09_III_HE - 2019-11-21 14.02.29.ndpi\n"
     ]
    },
    {
     "name": "stderr",
     "output_type": "stream",
     "text": [
      " 96% (32 of 33) |####################### | Elapsed Time: 0:00:05 ETA:   0:00:00"
     ]
    },
    {
     "name": "stdout",
     "output_type": "stream",
     "text": [
      "Inferring file N922_09_III_HE - 2019-11-22 00.09.11.ndpi\n"
     ]
    },
    {
     "name": "stderr",
     "output_type": "stream",
     "text": [
      " 92% (24 of 26) |######################  | Elapsed Time: 0:00:05 ETA:   0:00:00"
     ]
    },
    {
     "name": "stdout",
     "output_type": "stream",
     "text": [
      "Inferring file N847_10_D_HE - 2019-11-29 20.02.47.ndpi\n"
     ]
    },
    {
     "name": "stderr",
     "output_type": "stream",
     "text": [
      " 99% (877 of 878) |##################### | Elapsed Time: 0:02:06 ETA:   0:00:00"
     ]
    },
    {
     "name": "stdout",
     "output_type": "stream",
     "text": [
      "Inferring file N1478_10_1_HE - 2019-12-03 20.34.45.ndpi\n"
     ]
    },
    {
     "name": "stderr",
     "output_type": "stream",
     "text": [
      " 99% (786 of 788) |##################### | Elapsed Time: 0:01:53 ETA:   0:00:00"
     ]
    },
    {
     "name": "stdout",
     "output_type": "stream",
     "text": [
      "Inferring file N874_09_HE - 2019-11-21 22.49.29.ndpi\n"
     ]
    },
    {
     "name": "stderr",
     "output_type": "stream",
     "text": [
      " 99% (433 of 435) |##################### | Elapsed Time: 0:01:13 ETA:   0:00:00"
     ]
    },
    {
     "name": "stdout",
     "output_type": "stream",
     "text": [
      "Inferring file N797_10_2_HE - 2019-11-29 16.34.39.ndpi\n"
     ]
    },
    {
     "name": "stderr",
     "output_type": "stream",
     "text": [
      " 99% (1444 of 1445) |################### | Elapsed Time: 0:04:07 ETA:   0:00:00"
     ]
    },
    {
     "name": "stdout",
     "output_type": "stream",
     "text": [
      "Inferring file N469_11_1_HE - 2019-12-06 11.00.07.ndpi\n"
     ]
    },
    {
     "name": "stderr",
     "output_type": "stream",
     "text": [
      " 99% (1179 of 1181) |################### | Elapsed Time: 0:03:32 ETA:   0:00:00"
     ]
    },
    {
     "name": "stdout",
     "output_type": "stream",
     "text": [
      "Inferring file N664_11_2_HE - 2019-12-09 16.39.21.ndpi\n"
     ]
    },
    {
     "name": "stderr",
     "output_type": "stream",
     "text": [
      " 99% (1336 of 1338) |################### | Elapsed Time: 0:03:52 ETA:   0:00:00"
     ]
    },
    {
     "name": "stdout",
     "output_type": "stream",
     "text": [
      "Inferring file N1423_11_1_HE - 2019-12-11 23.34.38.ndpi\n"
     ]
    },
    {
     "name": "stderr",
     "output_type": "stream",
     "text": [
      " 99% (1010 of 1012) |################### | Elapsed Time: 0:02:59 ETA:   0:00:00"
     ]
    },
    {
     "name": "stdout",
     "output_type": "stream",
     "text": [
      "Inferring file N1532_11_1_HE - 2019-12-12 18.41.42.ndpi\n"
     ]
    },
    {
     "name": "stderr",
     "output_type": "stream",
     "text": [
      " 99% (1236 of 1238) |################### | Elapsed Time: 0:03:32 ETA:   0:00:00"
     ]
    },
    {
     "name": "stdout",
     "output_type": "stream",
     "text": [
      "Inferring file N223_10_3_HE - 2019-11-27 16.31.54.ndpi\n"
     ]
    },
    {
     "name": "stderr",
     "output_type": "stream",
     "text": [
      " 99% (1033 of 1034) |################### | Elapsed Time: 0:02:52 ETA:   0:00:00"
     ]
    },
    {
     "name": "stdout",
     "output_type": "stream",
     "text": [
      "Inferring file N1423_09_3_HE - 2019-11-25 11.21.23.ndpi\n"
     ]
    },
    {
     "name": "stderr",
     "output_type": "stream",
     "text": [
      " 99% (1125 of 1127) |################### | Elapsed Time: 0:03:12 ETA:   0:00:00"
     ]
    },
    {
     "name": "stdout",
     "output_type": "stream",
     "text": [
      "Inferring file N294_10_1_HE - 2019-11-27 20.10.48.ndpi\n"
     ]
    },
    {
     "name": "stderr",
     "output_type": "stream",
     "text": [
      " 99% (913 of 915) |##################### | Elapsed Time: 0:02:35 ETA:   0:00:00"
     ]
    },
    {
     "name": "stdout",
     "output_type": "stream",
     "text": [
      "Inferring file N1523_09_2_HE - 2019-11-25 17.56.51.ndpi\n"
     ]
    },
    {
     "name": "stderr",
     "output_type": "stream",
     "text": [
      " 99% (848 of 850) |##################### | Elapsed Time: 0:02:02 ETA:   0:00:00"
     ]
    },
    {
     "name": "stdout",
     "output_type": "stream",
     "text": [
      "Inferring file N1523_09_3_HE - 2019-11-25 18.06.55.ndpi\n"
     ]
    },
    {
     "name": "stderr",
     "output_type": "stream",
     "text": [
      " 99% (568 of 569) |##################### | Elapsed Time: 0:01:24 ETA:   0:00:00"
     ]
    },
    {
     "name": "stdout",
     "output_type": "stream",
     "text": [
      "Inferring file N1432_11_II1_HE - 2019-12-12 01.54.24.ndpi\n"
     ]
    },
    {
     "name": "stderr",
     "output_type": "stream",
     "text": [
      " 99% (752 of 754) |##################### | Elapsed Time: 0:01:49 ETA:   0:00:00"
     ]
    },
    {
     "name": "stdout",
     "output_type": "stream",
     "text": [
      "Inferring file N274_11_II3_HE - 2019-12-05 17.55.03.ndpi\n"
     ]
    },
    {
     "name": "stderr",
     "output_type": "stream",
     "text": [
      " 99% (1125 of 1126) |################### | Elapsed Time: 0:02:40 ETA:   0:00:00"
     ]
    },
    {
     "name": "stdout",
     "output_type": "stream",
     "text": [
      "Inferring file N1476_11_II1_HE - 2019-12-12 16.30.30.ndpi\n"
     ]
    },
    {
     "name": "stderr",
     "output_type": "stream",
     "text": [
      " 99% (1063 of 1065) |################### | Elapsed Time: 0:02:32 ETA:   0:00:00"
     ]
    },
    {
     "name": "stdout",
     "output_type": "stream",
     "text": [
      "Inferring file N1155_10_2_HE - 2019-12-02 18.33.55.ndpi\n"
     ]
    },
    {
     "name": "stderr",
     "output_type": "stream",
     "text": [
      " 99% (766 of 768) |##################### | Elapsed Time: 0:01:51 ETA:   0:00:00"
     ]
    },
    {
     "name": "stdout",
     "output_type": "stream",
     "text": [
      "Inferring file N687_09_4_HE - 2019-11-21 13.28.48.ndpi\n"
     ]
    },
    {
     "name": "stderr",
     "output_type": "stream",
     "text": [
      " 99% (1471 of 1473) |################### | Elapsed Time: 0:03:23 ETA:   0:00:00"
     ]
    },
    {
     "name": "stdout",
     "output_type": "stream",
     "text": [
      "Inferring file N931_11_HE - 2019-12-10 19.23.02.ndpi\n"
     ]
    },
    {
     "name": "stderr",
     "output_type": "stream",
     "text": [
      " 99% (1380 of 1382) |################### | Elapsed Time: 0:03:18 ETA:   0:00:00"
     ]
    },
    {
     "name": "stdout",
     "output_type": "stream",
     "text": [
      "Inferring file N880_10_I2_HE - 2019-11-29 21.48.35.ndpi\n"
     ]
    },
    {
     "name": "stderr",
     "output_type": "stream",
     "text": [
      " 99% (1582 of 1584) |################### | Elapsed Time: 0:03:47 ETA:   0:00:00"
     ]
    },
    {
     "name": "stdout",
     "output_type": "stream",
     "text": [
      "Inferring file N1537_11_I2_HE - 2019-12-12 19.32.46.ndpi\n"
     ]
    },
    {
     "name": "stderr",
     "output_type": "stream",
     "text": [
      " 99% (983 of 985) |##################### | Elapsed Time: 0:02:43 ETA:   0:00:00"
     ]
    },
    {
     "name": "stdout",
     "output_type": "stream",
     "text": [
      "Inferring file N1432_11_I4_HE - 2019-12-12 01.32.12.ndpi\n"
     ]
    },
    {
     "name": "stderr",
     "output_type": "stream",
     "text": [
      " 99% (1262 of 1264) |################### | Elapsed Time: 0:03:17 ETA:   0:00:00"
     ]
    },
    {
     "name": "stdout",
     "output_type": "stream",
     "text": [
      "Inferring file N1319_10_1_HE - 2019-12-03 16.34.55.ndpi\n"
     ]
    },
    {
     "name": "stderr",
     "output_type": "stream",
     "text": [
      " 99% (852 of 854) |##################### | Elapsed Time: 0:02:11 ETA:   0:00:00"
     ]
    },
    {
     "name": "stdout",
     "output_type": "stream",
     "text": [
      "Inferring file N1035_09_2_HE - 2019-11-22 10.39.52.ndpi\n"
     ]
    },
    {
     "name": "stderr",
     "output_type": "stream",
     "text": [
      " 99% (1462 of 1463) |################### | Elapsed Time: 0:03:44 ETA:   0:00:00"
     ]
    },
    {
     "name": "stdout",
     "output_type": "stream",
     "text": [
      "Inferring file N537_11_3_HE - 2019-12-09 12.43.32.ndpi\n"
     ]
    },
    {
     "name": "stderr",
     "output_type": "stream",
     "text": [
      " 99% (1265 of 1267) |################### | Elapsed Time: 0:03:20 ETA:   0:00:00"
     ]
    },
    {
     "name": "stdout",
     "output_type": "stream",
     "text": [
      "Inferring file N1506_10_I3_HE - 2019-12-03 21.25.54.ndpi\n"
     ]
    },
    {
     "name": "stderr",
     "output_type": "stream",
     "text": [
      " 99% (1481 of 1482) |################### | Elapsed Time: 0:03:51 ETA:   0:00:00"
     ]
    },
    {
     "name": "stdout",
     "output_type": "stream",
     "text": [
      "Inferring file N115_09_3_HE - 2019-11-19 18.25.01.ndpi\n"
     ]
    },
    {
     "name": "stderr",
     "output_type": "stream",
     "text": [
      " 99% (1665 of 1666) |################### | Elapsed Time: 0:04:34 ETA:   0:00:00"
     ]
    },
    {
     "name": "stdout",
     "output_type": "stream",
     "text": [
      "Inferring file N612_09_II2_HE - 2019-11-21 11.43.06.ndpi\n"
     ]
    },
    {
     "name": "stderr",
     "output_type": "stream",
     "text": [
      " 99% (894 of 896) |##################### | Elapsed Time: 0:02:30 ETA:   0:00:00"
     ]
    },
    {
     "name": "stdout",
     "output_type": "stream",
     "text": [
      "Inferring file N1532_11_2_HE - 2019-12-12 18.55.16.ndpi\n"
     ]
    },
    {
     "name": "stderr",
     "output_type": "stream",
     "text": [
      " 99% (1396 of 1398) |################### | Elapsed Time: 0:03:53 ETA:   0:00:00"
     ]
    },
    {
     "name": "stdout",
     "output_type": "stream",
     "text": [
      "Inferring file N730_10_2_HE - 2019-11-29 10.59.46.ndpi\n"
     ]
    },
    {
     "name": "stderr",
     "output_type": "stream",
     "text": [
      " 99% (1169 of 1171) |################### | Elapsed Time: 0:03:22 ETA:   0:00:00"
     ]
    },
    {
     "name": "stdout",
     "output_type": "stream",
     "text": [
      "File N648_10_3_HE - 2019-11-28 20.33.07.ndpi already inferred. Going on with next file.\n",
      "Inferring file N1342_09_1_HE - 2019-11-25 18.55.44.ndpi\n"
     ]
    },
    {
     "name": "stderr",
     "output_type": "stream",
     "text": [
      " 99% (1069 of 1070) |################### | Elapsed Time: 0:03:11 ETA:   0:00:00"
     ]
    },
    {
     "name": "stdout",
     "output_type": "stream",
     "text": [
      "Inferring file N1432_11_I1_HE - 2019-12-12 00.55.03.ndpi\n"
     ]
    },
    {
     "name": "stderr",
     "output_type": "stream",
     "text": [
      " 99% (1538 of 1539) |################### | Elapsed Time: 0:04:13 ETA:   0:00:00"
     ]
    },
    {
     "name": "stdout",
     "output_type": "stream",
     "text": [
      "Inferring file N1362_11_1_HE - 2019-12-11 21.48.31.ndpi\n"
     ]
    },
    {
     "name": "stderr",
     "output_type": "stream",
     "text": [
      " 99% (916 of 917) |##################### | Elapsed Time: 0:02:33 ETA:   0:00:00"
     ]
    },
    {
     "name": "stdout",
     "output_type": "stream",
     "text": [
      "Inferring file N1362_11_3_HE - 2019-12-11 22.13.53.ndpi\n"
     ]
    },
    {
     "name": "stderr",
     "output_type": "stream",
     "text": [
      " 99% (767 of 769) |##################### | Elapsed Time: 0:02:07 ETA:   0:00:00"
     ]
    },
    {
     "name": "stdout",
     "output_type": "stream",
     "text": [
      "Inferring file N788_09_1_HE - 2019-11-21 16.42.20.ndpi\n"
     ]
    },
    {
     "name": "stderr",
     "output_type": "stream",
     "text": [
      " 99% (883 of 884) |##################### | Elapsed Time: 0:02:27 ETA:   0:00:00"
     ]
    },
    {
     "name": "stdout",
     "output_type": "stream",
     "text": [
      "Inferring file N1571_11_5_HE - 2019-12-12 22.04.00.ndpi\n"
     ]
    },
    {
     "name": "stderr",
     "output_type": "stream",
     "text": [
      " 99% (1387 of 1389) |################### | Elapsed Time: 0:03:50 ETA:   0:00:00"
     ]
    },
    {
     "name": "stdout",
     "output_type": "stream",
     "text": [
      "Inferring file N236_11_1_HE - 2019-12-05 11.30.43.ndpi\n"
     ]
    },
    {
     "name": "stderr",
     "output_type": "stream",
     "text": [
      " 99% (1006 of 1008) |################### | Elapsed Time: 0:02:44 ETA:   0:00:00"
     ]
    },
    {
     "name": "stdout",
     "output_type": "stream",
     "text": [
      "Inferring file N1459_11_1_HE - 2019-12-12 15.23.09.ndpi\n"
     ]
    },
    {
     "name": "stderr",
     "output_type": "stream",
     "text": [
      " 99% (929 of 931) |##################### | Elapsed Time: 0:02:37 ETA:   0:00:00"
     ]
    },
    {
     "name": "stdout",
     "output_type": "stream",
     "text": [
      "Inferring file N897_11_3_HE - 2019-12-10 17.12.44.ndpi\n"
     ]
    },
    {
     "name": "stderr",
     "output_type": "stream",
     "text": [
      " 99% (1164 of 1166) |################### | Elapsed Time: 0:03:12 ETA:   0:00:00"
     ]
    },
    {
     "name": "stdout",
     "output_type": "stream",
     "text": [
      "Inferring file N1284_10_1_HE - 2019-12-03 15.06.23.ndpi\n"
     ]
    },
    {
     "name": "stderr",
     "output_type": "stream",
     "text": [
      " 99% (1740 of 1742) |################### | Elapsed Time: 0:04:40 ETA:   0:00:00"
     ]
    },
    {
     "name": "stdout",
     "output_type": "stream",
     "text": [
      "Inferring file N1340_11_I2_HE - 2019-12-12 14.13.31.ndpi\n"
     ]
    },
    {
     "name": "stderr",
     "output_type": "stream",
     "text": [
      " 99% (470 of 472) |##################### | Elapsed Time: 0:01:22 ETA:   0:00:00"
     ]
    },
    {
     "name": "stdout",
     "output_type": "stream",
     "text": [
      "Inferring file N1195_09_3_HE - 2019-11-22 22.16.44.ndpi\n"
     ]
    },
    {
     "name": "stderr",
     "output_type": "stream",
     "text": [
      " 99% (669 of 671) |##################### | Elapsed Time: 0:01:49 ETA:   0:00:00"
     ]
    },
    {
     "name": "stdout",
     "output_type": "stream",
     "text": [
      "Inferring file N1037_09_II2_HE - 2019-11-22 12.36.02.ndpi\n"
     ]
    },
    {
     "name": "stderr",
     "output_type": "stream",
     "text": [
      " 99% (444 of 445) |##################### | Elapsed Time: 0:01:14 ETA:   0:00:00"
     ]
    },
    {
     "name": "stdout",
     "output_type": "stream",
     "text": [
      "Inferring file N223_10_1_HE - 2019-11-27 15.54.36.ndpi\n"
     ]
    },
    {
     "name": "stderr",
     "output_type": "stream",
     "text": [
      " 99% (1024 of 1026) |################### | Elapsed Time: 0:02:47 ETA:   0:00:00"
     ]
    },
    {
     "name": "stdout",
     "output_type": "stream",
     "text": [
      "Inferring file N882_10_I4_HE - 2019-11-29 23.23.09.ndpi\n"
     ]
    },
    {
     "name": "stderr",
     "output_type": "stream",
     "text": [
      " 99% (1270 of 1272) |################### | Elapsed Time: 0:03:33 ETA:   0:00:00"
     ]
    },
    {
     "name": "stdout",
     "output_type": "stream",
     "text": [
      "Inferring file N380_10_1_HE - 2019-11-27 23.10.18.ndpi\n"
     ]
    },
    {
     "name": "stderr",
     "output_type": "stream",
     "text": [
      " 99% (1387 of 1388) |################### | Elapsed Time: 0:03:58 ETA:   0:00:00"
     ]
    },
    {
     "name": "stdout",
     "output_type": "stream",
     "text": [
      "Inferring file N829_11_II1_HE - 2019-12-10 11.01.06.ndpi\n"
     ]
    },
    {
     "name": "stderr",
     "output_type": "stream",
     "text": [
      " 99% (815 of 816) |##################### | Elapsed Time: 0:02:19 ETA:   0:00:00"
     ]
    },
    {
     "name": "stdout",
     "output_type": "stream",
     "text": [
      "Inferring file N1040_09_I2_HE - 2019-11-22 13.00.10.ndpi\n"
     ]
    },
    {
     "name": "stderr",
     "output_type": "stream",
     "text": [
      " 99% (1038 of 1040) |################### | Elapsed Time: 0:02:57 ETA:   0:00:00"
     ]
    },
    {
     "name": "stdout",
     "output_type": "stream",
     "text": [
      "Inferring file N88_09_1_HE - 2019-11-19 16.29.32.ndpi\n"
     ]
    },
    {
     "name": "stderr",
     "output_type": "stream",
     "text": [
      " 99% (1476 of 1477) |################### | Elapsed Time: 0:04:06 ETA:   0:00:00"
     ]
    },
    {
     "name": "stdout",
     "output_type": "stream",
     "text": [
      "Inferring file N847_10_A_HE - 2019-11-29 19.15.59.ndpi\n"
     ]
    },
    {
     "name": "stderr",
     "output_type": "stream",
     "text": [
      " 99% (1260 of 1262) |################### | Elapsed Time: 0:03:34 ETA:   0:00:00"
     ]
    },
    {
     "name": "stdout",
     "output_type": "stream",
     "text": [
      "Inferring file N555_11_II5_HE - 2019-12-09 15.08.28.ndpi\n"
     ]
    },
    {
     "name": "stderr",
     "output_type": "stream",
     "text": [
      " 99% (1293 of 1295) |################### | Elapsed Time: 0:03:48 ETA:   0:00:00"
     ]
    },
    {
     "name": "stdout",
     "output_type": "stream",
     "text": [
      "Inferring file N811_09_1_HE - 2019-11-21 17.56.39.ndpi\n"
     ]
    },
    {
     "name": "stderr",
     "output_type": "stream",
     "text": [
      " 99% (1763 of 1765) |################### | Elapsed Time: 0:05:02 ETA:   0:00:00"
     ]
    },
    {
     "name": "stdout",
     "output_type": "stream",
     "text": [
      "Inferring file N166_10_2_HE - 2019-11-27 14.48.53.ndpi\n"
     ]
    },
    {
     "name": "stderr",
     "output_type": "stream",
     "text": [
      " 99% (1241 of 1242) |################### | Elapsed Time: 0:03:29 ETA:   0:00:00"
     ]
    },
    {
     "name": "stdout",
     "output_type": "stream",
     "text": [
      "Inferring file N702_11_HE - 2019-12-10 09.41.08.ndpi\n"
     ]
    },
    {
     "name": "stderr",
     "output_type": "stream",
     "text": [
      " 99% (791 of 792) |##################### | Elapsed Time: 0:02:19 ETA:   0:00:00"
     ]
    },
    {
     "name": "stdout",
     "output_type": "stream",
     "text": [
      "Inferring file N473_11_II_HE - 2019-12-09 09.36.24.ndpi\n"
     ]
    },
    {
     "name": "stderr",
     "output_type": "stream",
     "text": [
      " 99% (657 of 659) |##################### | Elapsed Time: 0:01:57 ETA:   0:00:00"
     ]
    },
    {
     "name": "stdout",
     "output_type": "stream",
     "text": [
      "Inferring file N1003_09_I1_HE - 2019-11-22 03.54.30.ndpi\n"
     ]
    },
    {
     "name": "stderr",
     "output_type": "stream",
     "text": [
      " 99% (350 of 352) |##################### | Elapsed Time: 0:01:03 ETA:   0:00:00"
     ]
    },
    {
     "name": "stdout",
     "output_type": "stream",
     "text": [
      "Inferring file N521_10_HE - 2019-11-28 17.02.00.ndpi\n"
     ]
    },
    {
     "name": "stderr",
     "output_type": "stream",
     "text": [
      " 99% (753 of 754) |##################### | Elapsed Time: 0:02:04 ETA:   0:00:00"
     ]
    },
    {
     "name": "stdout",
     "output_type": "stream",
     "text": [
      "Inferring file N1585_10_I1_HE - 2019-12-04 12.47.21.ndpi\n"
     ]
    },
    {
     "name": "stderr",
     "output_type": "stream",
     "text": [
      " 99% (1312 of 1313) |################### | Elapsed Time: 0:03:41 ETA:   0:00:00"
     ]
    },
    {
     "name": "stdout",
     "output_type": "stream",
     "text": [
      "Inferring file N287_11_2_HE - 2019-12-05 18.47.48.ndpi\n"
     ]
    },
    {
     "name": "stderr",
     "output_type": "stream",
     "text": [
      " 99% (352 of 354) |##################### | Elapsed Time: 0:01:02 ETA:   0:00:00"
     ]
    },
    {
     "name": "stdout",
     "output_type": "stream",
     "text": [
      "Inferring file N725_11_3_HE - 2019-12-09 20.13.42.ndpi\n"
     ]
    },
    {
     "name": "stderr",
     "output_type": "stream",
     "text": [
      " 99% (904 of 906) |##################### | Elapsed Time: 0:02:32 ETA:   0:00:00"
     ]
    },
    {
     "name": "stdout",
     "output_type": "stream",
     "text": [
      "Inferring file N927_11_HE - 2019-12-10 19.09.42.ndpi\n"
     ]
    },
    {
     "name": "stderr",
     "output_type": "stream",
     "text": [
      " 99% (1388 of 1390) |################### | Elapsed Time: 0:03:48 ETA:   0:00:00"
     ]
    },
    {
     "name": "stdout",
     "output_type": "stream",
     "text": [
      "Inferring file N1121_11_I2_HE - 2019-12-11 15.30.57.ndpi\n"
     ]
    },
    {
     "name": "stderr",
     "output_type": "stream",
     "text": [
      " 99% (877 of 879) |##################### | Elapsed Time: 0:02:32 ETA:   0:00:00"
     ]
    },
    {
     "name": "stdout",
     "output_type": "stream",
     "text": [
      "Inferring file N1394_09_HE - 2019-11-25 10.51.35.ndpi\n"
     ]
    },
    {
     "name": "stderr",
     "output_type": "stream",
     "text": [
      " 99% (330 of 332) |##################### | Elapsed Time: 0:00:55 ETA:   0:00:00"
     ]
    },
    {
     "name": "stdout",
     "output_type": "stream",
     "text": [
      "Inferring file N742_10_III1_HE - 2019-11-29 14.25.43.ndpi\n"
     ]
    },
    {
     "name": "stderr",
     "output_type": "stream",
     "text": [
      " 99% (1196 of 1198) |################### | Elapsed Time: 0:03:24 ETA:   0:00:00"
     ]
    },
    {
     "name": "stdout",
     "output_type": "stream",
     "text": [
      "Inferring file N1127_11_I1_HE - 2019-12-11 16.07.38.ndpi\n"
     ]
    },
    {
     "name": "stderr",
     "output_type": "stream",
     "text": [
      " 99% (390 of 392) |##################### | Elapsed Time: 0:01:04 ETA:   0:00:00"
     ]
    },
    {
     "name": "stdout",
     "output_type": "stream",
     "text": [
      "Inferring file N259_10_2_HE - 2019-11-27 18.36.05.ndpi\n"
     ]
    },
    {
     "name": "stderr",
     "output_type": "stream",
     "text": [
      " 99% (1252 of 1254) |################### | Elapsed Time: 0:03:36 ETA:   0:00:00"
     ]
    },
    {
     "name": "stdout",
     "output_type": "stream",
     "text": [
      "Inferring file N1083_10_5_HE - 2019-12-02 16.44.38.ndpi\n"
     ]
    },
    {
     "name": "stderr",
     "output_type": "stream",
     "text": [
      " 99% (1453 of 1455) |################### | Elapsed Time: 0:04:05 ETA:   0:00:00"
     ]
    },
    {
     "name": "stdout",
     "output_type": "stream",
     "text": [
      "Inferring file N1560_09_4_HE - 2019-11-25 21.51.40.ndpi\n"
     ]
    },
    {
     "name": "stderr",
     "output_type": "stream",
     "text": [
      " 99% (1198 of 1200) |################### | Elapsed Time: 0:03:23 ETA:   0:00:00"
     ]
    },
    {
     "name": "stdout",
     "output_type": "stream",
     "text": [
      "Inferring file N423_11_2_HE - 2019-12-06 10.17.57.ndpi\n"
     ]
    },
    {
     "name": "stderr",
     "output_type": "stream",
     "text": [
      " 99% (950 of 952) |##################### | Elapsed Time: 0:02:38 ETA:   0:00:00"
     ]
    },
    {
     "name": "stdout",
     "output_type": "stream",
     "text": [
      "Inferring file N1513_09_3_HE - 2019-11-25 17.06.52.ndpi\n"
     ]
    },
    {
     "name": "stderr",
     "output_type": "stream",
     "text": [
      " 99% (918 of 920) |##################### | Elapsed Time: 0:02:38 ETA:   0:00:00"
     ]
    },
    {
     "name": "stdout",
     "output_type": "stream",
     "text": [
      "Inferring file N1511_10_2_HE - 2019-12-04 12.02.10.ndpi\n"
     ]
    },
    {
     "name": "stderr",
     "output_type": "stream",
     "text": [
      " 99% (928 of 929) |##################### | Elapsed Time: 0:02:10 ETA:   0:00:00"
     ]
    },
    {
     "name": "stdout",
     "output_type": "stream",
     "text": [
      "Inferring file N664_11_1_HE - 2019-12-09 16.24.43.ndpi\n"
     ]
    },
    {
     "name": "stderr",
     "output_type": "stream",
     "text": [
      " 99% (1669 of 1671) |################### | Elapsed Time: 0:03:46 ETA:   0:00:00"
     ]
    },
    {
     "name": "stdout",
     "output_type": "stream",
     "text": [
      "Inferring file N158_10_1_HE - 2019-11-27 13.00.45.ndpi\n"
     ]
    },
    {
     "name": "stderr",
     "output_type": "stream",
     "text": [
      " 99% (1176 of 1178) |################### | Elapsed Time: 0:02:42 ETA:   0:00:00"
     ]
    },
    {
     "name": "stdout",
     "output_type": "stream",
     "text": [
      "Inferring file N1476_11_I2_HE - 2019-12-12 16.23.00.ndpi\n"
     ]
    },
    {
     "name": "stderr",
     "output_type": "stream",
     "text": [
      " 99% (555 of 556) |##################### | Elapsed Time: 0:01:17 ETA:   0:00:00"
     ]
    },
    {
     "name": "stdout",
     "output_type": "stream",
     "text": [
      "Inferring file N847_10_C_HE - 2019-11-29 19.46.10.ndpi\n"
     ]
    },
    {
     "name": "stderr",
     "output_type": "stream",
     "text": [
      " 99% (1357 of 1359) |################### | Elapsed Time: 0:03:17 ETA:   0:00:00"
     ]
    },
    {
     "name": "stdout",
     "output_type": "stream",
     "text": [
      "Inferring file N695_10_1_HE - 2019-11-28 21.41.30.ndpi\n"
     ]
    },
    {
     "name": "stderr",
     "output_type": "stream",
     "text": [
      " 99% (1076 of 1078) |################### | Elapsed Time: 0:02:35 ETA:   0:00:00"
     ]
    },
    {
     "name": "stdout",
     "output_type": "stream",
     "text": [
      "Inferring file N28_09_2_HE - 2019-11-19 12.14.47.ndpi\n"
     ]
    },
    {
     "name": "stderr",
     "output_type": "stream",
     "text": [
      " 99% (1382 of 1384) |################### | Elapsed Time: 0:03:16 ETA:   0:00:00"
     ]
    },
    {
     "name": "stdout",
     "output_type": "stream",
     "text": [
      "Inferring file N320_11_3_HE - 2019-12-05 19.56.46.ndpi\n"
     ]
    },
    {
     "name": "stderr",
     "output_type": "stream",
     "text": [
      " 99% (1666 of 1668) |################### | Elapsed Time: 0:03:50 ETA:   0:00:00"
     ]
    },
    {
     "name": "stdout",
     "output_type": "stream",
     "text": [
      "Inferring file N1122_11_2_HE - 2019-12-11 15.55.36.ndpi\n"
     ]
    },
    {
     "name": "stderr",
     "output_type": "stream",
     "text": [
      " 99% (1224 of 1226) |################### | Elapsed Time: 0:02:53 ETA:   0:00:00"
     ]
    },
    {
     "name": "stdout",
     "output_type": "stream",
     "text": [
      "Inferring file N537_11_5_HE - 2019-12-09 13.08.59.ndpi\n"
     ]
    },
    {
     "name": "stderr",
     "output_type": "stream",
     "text": [
      " 99% (1467 of 1469) |################### | Elapsed Time: 0:03:20 ETA:   0:00:00"
     ]
    },
    {
     "name": "stdout",
     "output_type": "stream",
     "text": [
      "Inferring file N184_11_2_HE - 2019-12-04 22.35.23.ndpi\n"
     ]
    },
    {
     "name": "stderr",
     "output_type": "stream",
     "text": [
      " 99% (1371 of 1373) |################### | Elapsed Time: 0:03:11 ETA:   0:00:00"
     ]
    },
    {
     "name": "stdout",
     "output_type": "stream",
     "text": [
      "Inferring file N939_11_2_HE - 2019-12-10 20.15.42.ndpi\n"
     ]
    },
    {
     "name": "stderr",
     "output_type": "stream",
     "text": [
      " 99% (1315 of 1317) |################### | Elapsed Time: 0:03:05 ETA:   0:00:00"
     ]
    },
    {
     "name": "stdout",
     "output_type": "stream",
     "text": [
      "Inferring file N891_11_I1_HE - 2019-12-10 16.26.19.ndpi\n"
     ]
    },
    {
     "name": "stderr",
     "output_type": "stream",
     "text": [
      " 99% (1159 of 1160) |################### | Elapsed Time: 0:02:42 ETA:   0:00:00"
     ]
    },
    {
     "name": "stdout",
     "output_type": "stream",
     "text": [
      "Inferring file N1270_11_1_HE - 2019-12-11 19.17.30.ndpi\n"
     ]
    },
    {
     "name": "stderr",
     "output_type": "stream",
     "text": [
      " 99% (1624 of 1626) |################### | Elapsed Time: 0:03:45 ETA:   0:00:00"
     ]
    },
    {
     "name": "stdout",
     "output_type": "stream",
     "text": [
      "Inferring file N493_09_I1_HE - 2019-11-20 01.51.23.ndpi\n"
     ]
    },
    {
     "name": "stderr",
     "output_type": "stream",
     "text": [
      " 99% (629 of 630) |##################### | Elapsed Time: 0:01:29 ETA:   0:00:00"
     ]
    },
    {
     "name": "stdout",
     "output_type": "stream",
     "text": [
      "Inferring file N1523_09_4_HE - 2019-11-25 18.14.56.ndpi\n"
     ]
    },
    {
     "name": "stderr",
     "output_type": "stream",
     "text": [
      " 99% (763 of 765) |##################### | Elapsed Time: 0:01:54 ETA:   0:00:00"
     ]
    },
    {
     "name": "stdout",
     "output_type": "stream",
     "text": [
      "Inferring file N1151_11_2_HE - 2019-12-11 17.42.08.ndpi\n"
     ]
    },
    {
     "name": "stderr",
     "output_type": "stream",
     "text": [
      " 99% (833 of 834) |##################### | Elapsed Time: 0:02:04 ETA:   0:00:00"
     ]
    },
    {
     "name": "stdout",
     "output_type": "stream",
     "text": [
      "Inferring file N953_10_2_HE - 2019-12-02 12.10.39.ndpi\n"
     ]
    },
    {
     "name": "stderr",
     "output_type": "stream",
     "text": [
      " 99% (1437 of 1439) |################### | Elapsed Time: 0:03:29 ETA:   0:00:00"
     ]
    },
    {
     "name": "stdout",
     "output_type": "stream",
     "text": [
      "Inferring file N1329_11_2_HE - 2019-12-11 19.49.17.ndpi\n"
     ]
    },
    {
     "name": "stderr",
     "output_type": "stream",
     "text": [
      " 99% (890 of 892) |##################### | Elapsed Time: 0:02:04 ETA:   0:00:00"
     ]
    },
    {
     "name": "stdout",
     "output_type": "stream",
     "text": [
      "Inferring file N249_11_1_HE - 2019-12-05 13.49.26.ndpi\n"
     ]
    },
    {
     "name": "stderr",
     "output_type": "stream",
     "text": [
      " 99% (1510 of 1512) |################### | Elapsed Time: 0:03:30 ETA:   0:00:00"
     ]
    },
    {
     "name": "stdout",
     "output_type": "stream",
     "text": [
      "Inferring file N1641_11_2_HE - 2019-12-12 22.20.13.ndpi\n"
     ]
    },
    {
     "name": "stderr",
     "output_type": "stream",
     "text": [
      " 99% (1272 of 1273) |################### | Elapsed Time: 0:02:50 ETA:   0:00:00"
     ]
    },
    {
     "name": "stdout",
     "output_type": "stream",
     "text": [
      "Inferring file N88_09_2_HE - 2019-11-19 16.42.22.ndpi\n"
     ]
    },
    {
     "name": "stderr",
     "output_type": "stream",
     "text": [
      " 99% (1266 of 1268) |################### | Elapsed Time: 0:02:53 ETA:   0:00:00"
     ]
    },
    {
     "name": "stdout",
     "output_type": "stream",
     "text": [
      "Inferring file N158_10_3_HE - 2019-11-27 13.39.00.ndpi\n"
     ]
    },
    {
     "name": "stderr",
     "output_type": "stream",
     "text": [
      " 99% (1312 of 1314) |################### | Elapsed Time: 0:03:00 ETA:   0:00:00"
     ]
    },
    {
     "name": "stdout",
     "output_type": "stream",
     "text": [
      "Inferring file N1531_11_2_HE - 2019-12-12 18.33.01.ndpi\n"
     ]
    },
    {
     "name": "stderr",
     "output_type": "stream",
     "text": [
      " 99% (804 of 806) |##################### | Elapsed Time: 0:01:54 ETA:   0:00:00"
     ]
    },
    {
     "name": "stdout",
     "output_type": "stream",
     "text": [
      "Inferring file N1155_10_1_HE - 2019-12-02 18.22.41.ndpi\n"
     ]
    },
    {
     "name": "stderr",
     "output_type": "stream",
     "text": [
      " 99% (825 of 827) |##################### | Elapsed Time: 0:02:08 ETA:   0:00:00"
     ]
    },
    {
     "name": "stdout",
     "output_type": "stream",
     "text": [
      "Inferring file N818_10_HE - 2019-11-29 19.00.15.ndpi\n"
     ]
    },
    {
     "name": "stderr",
     "output_type": "stream",
     "text": [
      " 98% (157 of 159) |##################### | Elapsed Time: 0:00:22 ETA:   0:00:00"
     ]
    },
    {
     "name": "stdout",
     "output_type": "stream",
     "text": [
      "Inferring file N1107_11_HE - 2019-12-11 00.30.47.ndpi\n"
     ]
    },
    {
     "name": "stderr",
     "output_type": "stream",
     "text": [
      " 99% (636 of 638) |##################### | Elapsed Time: 0:01:31 ETA:   0:00:00"
     ]
    },
    {
     "name": "stdout",
     "output_type": "stream",
     "text": [
      "Inferring file N1127_11_II4_HE - 2019-12-11 16.46.27.ndpi\n"
     ]
    },
    {
     "name": "stderr",
     "output_type": "stream",
     "text": [
      " 99% (755 of 756) |##################### | Elapsed Time: 0:01:53 ETA:   0:00:00"
     ]
    },
    {
     "name": "stdout",
     "output_type": "stream",
     "text": [
      "Inferring file N217_11_5_HE - 2019-12-05 11.07.19.ndpi\n"
     ]
    },
    {
     "name": "stderr",
     "output_type": "stream",
     "text": [
      " 99% (1546 of 1547) |################### | Elapsed Time: 0:03:41 ETA:   0:00:00"
     ]
    },
    {
     "name": "stdout",
     "output_type": "stream",
     "text": [
      "File N561_10_HE - 2019-11-29 11.56.18.ndpi already inferred. Going on with next file.\n",
      "Inferring file N529_11_2_HE - 2019-12-09 11.29.43.ndpi\n"
     ]
    },
    {
     "name": "stderr",
     "output_type": "stream",
     "text": [
      " 99% (1458 of 1460) |################### | Elapsed Time: 0:03:17 ETA:   0:00:00"
     ]
    },
    {
     "name": "stdout",
     "output_type": "stream",
     "text": [
      "Inferring file N100_10_II1_HE - 2019-11-27 11.56.32.ndpi\n"
     ]
    },
    {
     "name": "stderr",
     "output_type": "stream",
     "text": [
      " 99% (726 of 728) |##################### | Elapsed Time: 0:01:46 ETA:   0:00:00"
     ]
    },
    {
     "name": "stdout",
     "output_type": "stream",
     "text": [
      "Inferring file N1584_09_II_HE - 2019-11-25 23.23.54.ndpi\n"
     ]
    },
    {
     "name": "stderr",
     "output_type": "stream",
     "text": [
      " 99% (257 of 258) |##################### | Elapsed Time: 0:00:37 ETA:   0:00:00"
     ]
    },
    {
     "name": "stdout",
     "output_type": "stream",
     "text": [
      "Inferring file N839_09_II_HE - 2019-11-21 20.52.29.ndpi\n"
     ]
    },
    {
     "name": "stderr",
     "output_type": "stream",
     "text": [
      " 97% (41 of 42) |####################### | Elapsed Time: 0:00:06 ETA:   0:00:00"
     ]
    },
    {
     "name": "stdout",
     "output_type": "stream",
     "text": [
      "Inferring file N739_09_III_HE - 2019-11-21 15.16.14.ndpi\n"
     ]
    },
    {
     "name": "stderr",
     "output_type": "stream",
     "text": [
      " 99% (581 of 583) |##################### | Elapsed Time: 0:01:25 ETA:   0:00:00"
     ]
    },
    {
     "name": "stdout",
     "output_type": "stream",
     "text": [
      "Inferring file N1437_10_II2_HE - 2019-12-03 18.51.38.ndpi\n"
     ]
    },
    {
     "name": "stderr",
     "output_type": "stream",
     "text": [
      " 99% (1317 of 1319) |################### | Elapsed Time: 0:02:58 ETA:   0:00:00"
     ]
    },
    {
     "name": "stdout",
     "output_type": "stream",
     "text": [
      "Inferring file N742_10_I1_HE - 2019-11-29 13.11.38.ndpi\n"
     ]
    },
    {
     "name": "stderr",
     "output_type": "stream",
     "text": [
      " 99% (1077 of 1079) |################### | Elapsed Time: 0:02:24 ETA:   0:00:00"
     ]
    },
    {
     "name": "stdout",
     "output_type": "stream",
     "text": [
      "Inferring file N291_09_HE - 2019-11-19 23.56.28.ndpi\n"
     ]
    },
    {
     "name": "stderr",
     "output_type": "stream",
     "text": [
      " 99% (711 of 713) |##################### | Elapsed Time: 0:01:41 ETA:   0:00:00"
     ]
    },
    {
     "name": "stdout",
     "output_type": "stream",
     "text": [
      "Inferring file N254_10_I2_HE - 2019-11-27 17.03.42.ndpi\n"
     ]
    },
    {
     "name": "stderr",
     "output_type": "stream",
     "text": [
      " 99% (1477 of 1479) |################### | Elapsed Time: 0:03:25 ETA:   0:00:00"
     ]
    },
    {
     "name": "stdout",
     "output_type": "stream",
     "text": [
      "Inferring file N1235_09_HE - 2019-11-22 22.39.00.ndpi\n"
     ]
    },
    {
     "name": "stderr",
     "output_type": "stream",
     "text": [
      " 99% (262 of 264) |##################### | Elapsed Time: 0:00:39 ETA:   0:00:00"
     ]
    },
    {
     "name": "stdout",
     "output_type": "stream",
     "text": [
      "Inferring file N1506_10_I1_HE - 2019-12-03 20.58.13.ndpi\n"
     ]
    },
    {
     "name": "stderr",
     "output_type": "stream",
     "text": [
      " 99% (1107 of 1109) |################### | Elapsed Time: 0:02:35 ETA:   0:00:00"
     ]
    },
    {
     "name": "stdout",
     "output_type": "stream",
     "text": [
      "Inferring file N1344_10_3_HE - 2019-12-03 17.15.38.ndpi\n"
     ]
    },
    {
     "name": "stderr",
     "output_type": "stream",
     "text": [
      " 99% (1044 of 1045) |################### | Elapsed Time: 0:02:25 ETA:   0:00:00"
     ]
    },
    {
     "name": "stdout",
     "output_type": "stream",
     "text": [
      "Inferring file N447_10_HE - 2019-11-28 21.23.06.ndpi\n"
     ]
    },
    {
     "name": "stderr",
     "output_type": "stream",
     "text": [
      " 99% (1000 of 1002) |################### | Elapsed Time: 0:02:30 ETA:   0:00:00"
     ]
    },
    {
     "name": "stdout",
     "output_type": "stream",
     "text": [
      "Inferring file N1391_11_1_HE - 2019-12-11 22.25.52.ndpi\n"
     ]
    },
    {
     "name": "stderr",
     "output_type": "stream",
     "text": [
      " 99% (1454 of 1455) |################### | Elapsed Time: 0:03:22 ETA:   0:00:00"
     ]
    },
    {
     "name": "stdout",
     "output_type": "stream",
     "text": [
      "Inferring file N664_11_4_HE - 2019-12-09 17.02.28.ndpi\n"
     ]
    },
    {
     "name": "stderr",
     "output_type": "stream",
     "text": [
      " 99% (1693 of 1694) |################### | Elapsed Time: 0:03:48 ETA:   0:00:00"
     ]
    },
    {
     "name": "stdout",
     "output_type": "stream",
     "text": [
      "Inferring file N1421_10_HE - 2019-12-03 18.30.49.ndpi\n"
     ]
    },
    {
     "name": "stderr",
     "output_type": "stream",
     "text": [
      " 99% (360 of 362) |##################### | Elapsed Time: 0:00:51 ETA:   0:00:00"
     ]
    },
    {
     "name": "stdout",
     "output_type": "stream",
     "text": [
      "Inferring file N1127_11_I2_HE - 2019-12-11 16.13.06.ndpi\n"
     ]
    },
    {
     "name": "stderr",
     "output_type": "stream",
     "text": [
      " 99% (432 of 434) |##################### | Elapsed Time: 0:01:00 ETA:   0:00:00"
     ]
    },
    {
     "name": "stdout",
     "output_type": "stream",
     "text": [
      "Inferring file N87_11_I_HE - 2019-12-04 19.42.25.ndpi\n"
     ]
    },
    {
     "name": "stderr",
     "output_type": "stream",
     "text": [
      " 99% (417 of 419) |##################### | Elapsed Time: 0:01:02 ETA:   0:00:00"
     ]
    },
    {
     "name": "stdout",
     "output_type": "stream",
     "text": [
      "Inferring file N1245_10_1_HE - 2019-12-03 12.23.56.ndpi\n"
     ]
    },
    {
     "name": "stderr",
     "output_type": "stream",
     "text": [
      " 99% (666 of 668) |##################### | Elapsed Time: 0:01:33 ETA:   0:00:00"
     ]
    },
    {
     "name": "stdout",
     "output_type": "stream",
     "text": [
      "Inferring file N1037_09_I1_HE - 2019-11-22 11.24.26.ndpi\n"
     ]
    },
    {
     "name": "stderr",
     "output_type": "stream",
     "text": [
      " 99% (503 of 505) |##################### | Elapsed Time: 0:01:13 ETA:   0:00:00"
     ]
    },
    {
     "name": "stdout",
     "output_type": "stream",
     "text": [
      "Inferring file N268_10_2_HE - 2019-11-27 19.14.55.ndpi\n"
     ]
    },
    {
     "name": "stderr",
     "output_type": "stream",
     "text": [
      " 99% (911 of 913) |##################### | Elapsed Time: 0:02:03 ETA:   0:00:00"
     ]
    },
    {
     "name": "stdout",
     "output_type": "stream",
     "text": [
      "Inferring file N1195_09_1_HE - 2019-11-22 21.55.01.ndpi\n"
     ]
    },
    {
     "name": "stderr",
     "output_type": "stream",
     "text": [
      " 99% (537 of 539) |##################### | Elapsed Time: 0:01:14 ETA:   0:00:00"
     ]
    },
    {
     "name": "stdout",
     "output_type": "stream",
     "text": [
      "Inferring file N1357_11_3_HE - 2019-12-11 21.40.08.ndpi\n"
     ]
    },
    {
     "name": "stderr",
     "output_type": "stream",
     "text": [
      " 99% (578 of 579) |##################### | Elapsed Time: 0:01:32 ETA:   0:00:00"
     ]
    },
    {
     "name": "stdout",
     "output_type": "stream",
     "text": [
      "Inferring file N346_10_3_HE - 2019-11-27 22.53.52.ndpi\n"
     ]
    },
    {
     "name": "stderr",
     "output_type": "stream",
     "text": [
      " 99% (1360 of 1361) |################### | Elapsed Time: 0:03:10 ETA:   0:00:00"
     ]
    },
    {
     "name": "stdout",
     "output_type": "stream",
     "text": [
      "Inferring file N897_11_1_HE - 2019-12-10 16.51.38.ndpi\n"
     ]
    },
    {
     "name": "stderr",
     "output_type": "stream",
     "text": [
      " 99% (1202 of 1204) |################### | Elapsed Time: 0:02:46 ETA:   0:00:00"
     ]
    },
    {
     "name": "stdout",
     "output_type": "stream",
     "text": [
      "Inferring file N115_09_6_HE - 2019-11-19 19.05.18.ndpi\n"
     ]
    },
    {
     "name": "stderr",
     "output_type": "stream",
     "text": [
      " 99% (1440 of 1442) |################### | Elapsed Time: 0:03:17 ETA:   0:00:00"
     ]
    },
    {
     "name": "stdout",
     "output_type": "stream",
     "text": [
      "Inferring file N544_11_HE - 2019-12-09 13.22.44.ndpi\n"
     ]
    },
    {
     "name": "stderr",
     "output_type": "stream",
     "text": [
      " 99% (838 of 840) |##################### | Elapsed Time: 0:01:55 ETA:   0:00:00"
     ]
    },
    {
     "name": "stdout",
     "output_type": "stream",
     "text": [
      "Inferring file N710_11_HE - 2019-12-09 19.36.07.ndpi\n"
     ]
    },
    {
     "name": "stderr",
     "output_type": "stream",
     "text": [
      " 99% (233 of 235) |##################### | Elapsed Time: 0:00:33 ETA:   0:00:00"
     ]
    },
    {
     "name": "stdout",
     "output_type": "stream",
     "text": [
      "Inferring file N1006_10_II_HE - 2019-12-02 14.45.35.ndpi\n"
     ]
    },
    {
     "name": "stderr",
     "output_type": "stream",
     "text": [
      " 97% (70 of 72) |####################### | Elapsed Time: 0:00:11 ETA:   0:00:00"
     ]
    },
    {
     "name": "stdout",
     "output_type": "stream",
     "text": [
      "Inferring file N1499_11_2_HE - 2019-12-12 17.37.39.ndpi\n"
     ]
    },
    {
     "name": "stderr",
     "output_type": "stream",
     "text": [
      " 99% (1021 of 1023) |################### | Elapsed Time: 0:02:22 ETA:   0:00:00"
     ]
    },
    {
     "name": "stdout",
     "output_type": "stream",
     "text": [
      "Inferring file N1101_10_4_HE - 2019-12-02 17.29.05.ndpi\n"
     ]
    },
    {
     "name": "stderr",
     "output_type": "stream",
     "text": [
      " 99% (1516 of 1518) |################### | Elapsed Time: 0:03:24 ETA:   0:00:00"
     ]
    },
    {
     "name": "stdout",
     "output_type": "stream",
     "text": [
      "Inferring file N1339_11_3_HE - 2019-12-11 20.49.37.ndpi\n"
     ]
    },
    {
     "name": "stderr",
     "output_type": "stream",
     "text": [
      " 99% (1538 of 1540) |################### | Elapsed Time: 0:03:33 ETA:   0:00:00"
     ]
    },
    {
     "name": "stdout",
     "output_type": "stream",
     "text": [
      "Inferring file N914_11_3_HE - 2019-12-10 17.53.00.ndpi\n"
     ]
    },
    {
     "name": "stderr",
     "output_type": "stream",
     "text": [
      " 99% (1025 of 1027) |################### | Elapsed Time: 0:02:37 ETA:   0:00:00"
     ]
    },
    {
     "name": "stdout",
     "output_type": "stream",
     "text": [
      "Inferring file N1159_09_HE - 2019-11-22 18.45.04.ndpi\n"
     ]
    },
    {
     "name": "stderr",
     "output_type": "stream",
     "text": [
      " 99% (675 of 677) |##################### | Elapsed Time: 0:01:38 ETA:   0:00:00"
     ]
    },
    {
     "name": "stdout",
     "output_type": "stream",
     "text": [
      "Inferring file N1003_09_II_HE - 2019-11-22 04.08.50.ndpi\n"
     ]
    },
    {
     "name": "stderr",
     "output_type": "stream",
     "text": [
      " 98% (74 of 75) |####################### | Elapsed Time: 0:00:09 ETA:   0:00:00"
     ]
    },
    {
     "name": "stdout",
     "output_type": "stream",
     "text": [
      "Inferring file N1121_11_II_HE - 2019-12-11 10.09.18.ndpi\n"
     ]
    },
    {
     "name": "stderr",
     "output_type": "stream",
     "text": [
      " 99% (245 of 247) |##################### | Elapsed Time: 0:00:34 ETA:   0:00:00"
     ]
    },
    {
     "name": "stdout",
     "output_type": "stream",
     "text": [
      "Inferring file N5_09_II_HE - 2019-11-19 10.37.40.ndpi\n"
     ]
    },
    {
     "name": "stderr",
     "output_type": "stream",
     "text": [
      " 99% (608 of 609) |##################### | Elapsed Time: 0:01:27 ETA:   0:00:00"
     ]
    },
    {
     "name": "stdout",
     "output_type": "stream",
     "text": [
      "Inferring file N1430_09_1_HE - 2019-11-25 11.56.08.ndpi\n"
     ]
    },
    {
     "name": "stderr",
     "output_type": "stream",
     "text": [
      " 99% (789 of 791) |##################### | Elapsed Time: 0:01:56 ETA:   0:00:00"
     ]
    },
    {
     "name": "stdout",
     "output_type": "stream",
     "text": [
      "Inferring file N488_11_II2_HE - 2019-12-09 10.10.18.ndpi\n"
     ]
    },
    {
     "name": "stderr",
     "output_type": "stream",
     "text": [
      " 99% (922 of 923) |##################### | Elapsed Time: 0:02:14 ETA:   0:00:00"
     ]
    },
    {
     "name": "stdout",
     "output_type": "stream",
     "text": [
      "Inferring file N515_10_5_HE - 2019-11-28 16.46.33.ndpi\n"
     ]
    },
    {
     "name": "stderr",
     "output_type": "stream",
     "text": [
      " 99% (1475 of 1477) |################### | Elapsed Time: 0:03:26 ETA:   0:00:00"
     ]
    },
    {
     "name": "stdout",
     "output_type": "stream",
     "text": [
      "Inferring file N828_09_HE - 2019-11-21 19.23.22.ndpi\n"
     ]
    },
    {
     "name": "stderr",
     "output_type": "stream",
     "text": [
      " 99% (675 of 677) |##################### | Elapsed Time: 0:01:39 ETA:   0:00:00"
     ]
    },
    {
     "name": "stdout",
     "output_type": "stream",
     "text": [
      "Inferring file N1347_09_1_HE - 2019-11-25 19.32.00.ndpi\n"
     ]
    },
    {
     "name": "stderr",
     "output_type": "stream",
     "text": [
      " 99% (655 of 656) |##################### | Elapsed Time: 0:01:34 ETA:   0:00:00"
     ]
    },
    {
     "name": "stdout",
     "output_type": "stream",
     "text": [
      "Inferring file N1182_09_1_HE - 2019-11-22 19.29.47.ndpi\n"
     ]
    },
    {
     "name": "stderr",
     "output_type": "stream",
     "text": [
      " 99% (945 of 946) |##################### | Elapsed Time: 0:02:11 ETA:   0:00:00"
     ]
    },
    {
     "name": "stdout",
     "output_type": "stream",
     "text": [
      "Inferring file N524_09_1_HE - 2019-11-20 02.21.32.ndpi\n"
     ]
    },
    {
     "name": "stderr",
     "output_type": "stream",
     "text": [
      " 99% (368 of 370) |##################### | Elapsed Time: 0:00:53 ETA:   0:00:00"
     ]
    },
    {
     "name": "stdout",
     "output_type": "stream",
     "text": [
      "Inferring file N1282_09_1_HE - 2019-11-23 00.03.21.ndpi\n"
     ]
    },
    {
     "name": "stderr",
     "output_type": "stream",
     "text": [
      " 99% (873 of 875) |##################### | Elapsed Time: 0:02:05 ETA:   0:00:00"
     ]
    },
    {
     "name": "stdout",
     "output_type": "stream",
     "text": [
      "Inferring file N1532_10_1_HE - 2019-12-04 10.32.48.ndpi\n"
     ]
    },
    {
     "name": "stderr",
     "output_type": "stream",
     "text": [
      " 99% (917 of 918) |##################### | Elapsed Time: 0:02:18 ETA:   0:00:00"
     ]
    },
    {
     "name": "stdout",
     "output_type": "stream",
     "text": [
      "Inferring file N1458_11_I2_HE - 2019-12-12 14.48.02.ndpi\n"
     ]
    },
    {
     "name": "stderr",
     "output_type": "stream",
     "text": [
      " 99% (1367 of 1368) |################### | Elapsed Time: 0:03:15 ETA:   0:00:00"
     ]
    },
    {
     "name": "stdout",
     "output_type": "stream",
     "text": [
      "Inferring file N1282_09_4_HE - 2019-11-23 00.37.04.ndpi\n"
     ]
    },
    {
     "name": "stderr",
     "output_type": "stream",
     "text": [
      " 99% (985 of 987) |##################### | Elapsed Time: 0:02:21 ETA:   0:00:00"
     ]
    },
    {
     "name": "stdout",
     "output_type": "stream",
     "text": [
      "Inferring file N1180_09_Ia_HE - 2019-11-22 19.11.37.ndpi\n"
     ]
    },
    {
     "name": "stderr",
     "output_type": "stream",
     "text": [
      " 99% (198 of 199) |##################### | Elapsed Time: 0:00:27 ETA:   0:00:00"
     ]
    },
    {
     "name": "stdout",
     "output_type": "stream",
     "text": [
      "Inferring file N423_11_3_HE - 2019-12-06 10.28.47.ndpi\n"
     ]
    },
    {
     "name": "stderr",
     "output_type": "stream",
     "text": [
      " 99% (1178 of 1180) |################### | Elapsed Time: 0:02:44 ETA:   0:00:00"
     ]
    },
    {
     "name": "stdout",
     "output_type": "stream",
     "text": [
      "Inferring file N1388_10_I_HE - 2019-12-03 18.12.22.ndpi\n"
     ]
    },
    {
     "name": "stderr",
     "output_type": "stream",
     "text": [
      " 99% (333 of 335) |##################### | Elapsed Time: 0:00:46 ETA:   0:00:00"
     ]
    },
    {
     "name": "stdout",
     "output_type": "stream",
     "text": [
      "Inferring file N111_11_1_HE - 2019-12-04 20.49.06.ndpi\n"
     ]
    },
    {
     "name": "stderr",
     "output_type": "stream",
     "text": [
      " 99% (1310 of 1312) |################### | Elapsed Time: 0:03:15 ETA:   0:00:00"
     ]
    },
    {
     "name": "stdout",
     "output_type": "stream",
     "text": [
      "Inferring file N1030_11_1_HE - 2019-12-10 22.24.13.ndpi\n"
     ]
    },
    {
     "name": "stderr",
     "output_type": "stream",
     "text": [
      " 99% (920 of 922) |##################### | Elapsed Time: 0:02:11 ETA:   0:00:00"
     ]
    },
    {
     "name": "stdout",
     "output_type": "stream",
     "text": [
      "Inferring file N1062_10_2_HE - 2019-12-02 15.06.28.ndpi\n"
     ]
    },
    {
     "name": "stderr",
     "output_type": "stream",
     "text": [
      " 99% (1303 of 1305) |################### | Elapsed Time: 0:03:00 ETA:   0:00:00"
     ]
    },
    {
     "name": "stdout",
     "output_type": "stream",
     "text": [
      "Inferring file N1095_11_1_HE - 2019-12-11 00.08.11.ndpi\n"
     ]
    },
    {
     "name": "stderr",
     "output_type": "stream",
     "text": [
      " 99% (1080 of 1082) |################### | Elapsed Time: 0:02:28 ETA:   0:00:00"
     ]
    },
    {
     "name": "stdout",
     "output_type": "stream",
     "text": [
      "Inferring file N801_09_HE - 2019-11-21 17.45.13.ndpi\n"
     ]
    },
    {
     "name": "stderr",
     "output_type": "stream",
     "text": [
      " 99% (952 of 954) |##################### | Elapsed Time: 0:02:12 ETA:   0:00:00"
     ]
    },
    {
     "name": "stdout",
     "output_type": "stream",
     "text": [
      "Inferring file N829_11_II3_HE - 2019-12-10 11.22.45.ndpi\n"
     ]
    },
    {
     "name": "stderr",
     "output_type": "stream",
     "text": [
      " 99% (936 of 938) |##################### | Elapsed Time: 0:02:10 ETA:   0:00:00"
     ]
    },
    {
     "name": "stdout",
     "output_type": "stream",
     "text": [
      "Inferring file N687_10_II_HE - 2019-11-28 21.37.13.ndpi\n"
     ]
    },
    {
     "name": "stderr",
     "output_type": "stream",
     "text": [
      " 98% (182 of 184) |##################### | Elapsed Time: 0:00:25 ETA:   0:00:00"
     ]
    },
    {
     "name": "stdout",
     "output_type": "stream",
     "text": [
      "Inferring file N403_10_3_HE - 2019-11-28 09.57.42.ndpi\n"
     ]
    },
    {
     "name": "stderr",
     "output_type": "stream",
     "text": [
      " 99% (1380 of 1382) |################### | Elapsed Time: 0:03:13 ETA:   0:00:00"
     ]
    },
    {
     "name": "stdout",
     "output_type": "stream",
     "text": [
      "Inferring file N777_09_HE - 2019-11-21 16.38.53.ndpi\n"
     ]
    },
    {
     "name": "stderr",
     "output_type": "stream",
     "text": [
      " 98% (180 of 182) |##################### | Elapsed Time: 0:00:24 ETA:   0:00:00"
     ]
    },
    {
     "name": "stdout",
     "output_type": "stream",
     "text": [
      "Inferring file N320_11_1_HE - 2019-12-05 19.25.14.ndpi\n"
     ]
    },
    {
     "name": "stderr",
     "output_type": "stream",
     "text": [
      " 99% (2023 of 2025) |################### | Elapsed Time: 0:04:40 ETA:   0:00:00"
     ]
    },
    {
     "name": "stdout",
     "output_type": "stream",
     "text": [
      "Inferring file N62_11_2_HE - 2019-12-04 16.43.18.ndpi\n"
     ]
    },
    {
     "name": "stderr",
     "output_type": "stream",
     "text": [
      " 99% (1711 of 1713) |################### | Elapsed Time: 0:03:50 ETA:   0:00:00"
     ]
    },
    {
     "name": "stdout",
     "output_type": "stream",
     "text": [
      "Inferring file N556_10_1_HE - 2019-11-28 18.47.54.ndpi\n"
     ]
    },
    {
     "name": "stderr",
     "output_type": "stream",
     "text": [
      " 99% (1174 of 1175) |################### | Elapsed Time: 0:02:37 ETA:   0:00:00"
     ]
    },
    {
     "name": "stdout",
     "output_type": "stream",
     "text": [
      "Inferring file N476_10_II_HE - 2019-11-28 14.38.17.ndpi\n"
     ]
    },
    {
     "name": "stderr",
     "output_type": "stream",
     "text": [
      " 99% (708 of 710) |##################### | Elapsed Time: 0:01:36 ETA:   0:00:00"
     ]
    },
    {
     "name": "stdout",
     "output_type": "stream",
     "text": [
      "Inferring file N829_09_I2_HE - 2019-11-21 19.43.24.ndpi\n"
     ]
    },
    {
     "name": "stderr",
     "output_type": "stream",
     "text": [
      " 99% (504 of 506) |##################### | Elapsed Time: 0:01:14 ETA:   0:00:00"
     ]
    },
    {
     "name": "stdout",
     "output_type": "stream",
     "text": [
      "Inferring file N957_11_1_HE - 2019-12-10 21.04.28.ndpi\n"
     ]
    },
    {
     "name": "stderr",
     "output_type": "stream",
     "text": [
      " 99% (379 of 381) |##################### | Elapsed Time: 0:00:50 ETA:   0:00:00"
     ]
    },
    {
     "name": "stdout",
     "output_type": "stream",
     "text": [
      "Inferring file N549_11_1_HE - 2019-12-09 13.43.15.ndpi\n"
     ]
    },
    {
     "name": "stderr",
     "output_type": "stream",
     "text": [
      " 99% (1040 of 1042) |################### | Elapsed Time: 0:02:23 ETA:   0:00:00"
     ]
    },
    {
     "name": "stdout",
     "output_type": "stream",
     "text": [
      "Inferring file N1300_10_2_HE - 2019-12-03 15.51.27.ndpi\n"
     ]
    },
    {
     "name": "stderr",
     "output_type": "stream",
     "text": [
      " 99% (1192 of 1193) |################### | Elapsed Time: 0:02:42 ETA:   0:00:00"
     ]
    },
    {
     "name": "stdout",
     "output_type": "stream",
     "text": [
      "Inferring file N338_10_2_HE - 2019-11-27 21.20.45.ndpi\n"
     ]
    },
    {
     "name": "stderr",
     "output_type": "stream",
     "text": [
      " 99% (1691 of 1693) |################### | Elapsed Time: 0:03:50 ETA:   0:00:00"
     ]
    },
    {
     "name": "stdout",
     "output_type": "stream",
     "text": [
      "Inferring file N85_11_3_HE - 2019-12-04 19.29.44.ndpi\n"
     ]
    },
    {
     "name": "stderr",
     "output_type": "stream",
     "text": [
      " 99% (1149 of 1151) |################### | Elapsed Time: 0:02:44 ETA:   0:00:00"
     ]
    },
    {
     "name": "stdout",
     "output_type": "stream",
     "text": [
      "Inferring file N1645_11_I3_HE - 2019-12-12 22.31.46.ndpi\n"
     ]
    },
    {
     "name": "stderr",
     "output_type": "stream",
     "text": [
      " 99% (1471 of 1472) |################### | Elapsed Time: 0:03:23 ETA:   0:00:00"
     ]
    },
    {
     "name": "stdout",
     "output_type": "stream",
     "text": [
      "Inferring file N488_11_I2_HE - 2019-12-09 09.51.01.ndpi\n"
     ]
    },
    {
     "name": "stderr",
     "output_type": "stream",
     "text": [
      " 99% (683 of 685) |##################### | Elapsed Time: 0:01:42 ETA:   0:00:00"
     ]
    },
    {
     "name": "stdout",
     "output_type": "stream",
     "text": [
      "Inferring file N346_10_2_HE - 2019-11-27 22.37.42.ndpi\n"
     ]
    },
    {
     "name": "stderr",
     "output_type": "stream",
     "text": [
      " 99% (1314 of 1315) |################### | Elapsed Time: 0:03:01 ETA:   0:00:00"
     ]
    },
    {
     "name": "stdout",
     "output_type": "stream",
     "text": [
      "Inferring file N499_11_HE - 2019-12-09 11.14.19.ndpi\n"
     ]
    },
    {
     "name": "stderr",
     "output_type": "stream",
     "text": [
      " 99% (473 of 475) |##################### | Elapsed Time: 0:01:06 ETA:   0:00:00"
     ]
    },
    {
     "name": "stdout",
     "output_type": "stream",
     "text": [
      "Inferring file N880_10_II1_HE - 2019-11-29 22.21.24.ndpi\n"
     ]
    },
    {
     "name": "stderr",
     "output_type": "stream",
     "text": [
      " 99% (573 of 575) |##################### | Elapsed Time: 0:01:24 ETA:   0:00:00"
     ]
    },
    {
     "name": "stdout",
     "output_type": "stream",
     "text": [
      "Inferring file N1432_11_II2_HE - 2019-12-12 13.39.07.ndpi\n"
     ]
    },
    {
     "name": "stderr",
     "output_type": "stream",
     "text": [
      " 99% (578 of 579) |##################### | Elapsed Time: 0:01:23 ETA:   0:00:00"
     ]
    },
    {
     "name": "stdout",
     "output_type": "stream",
     "text": [
      "Inferring file N793_11_II_HE - 2019-12-10 10.36.49.ndpi\n"
     ]
    },
    {
     "name": "stderr",
     "output_type": "stream",
     "text": [
      " 98% (120 of 122) |##################### | Elapsed Time: 0:00:18 ETA:   0:00:00"
     ]
    },
    {
     "name": "stdout",
     "output_type": "stream",
     "text": [
      "Inferring file N1678_10_HE - 2019-12-04 14.08.06.ndpi\n"
     ]
    },
    {
     "name": "stderr",
     "output_type": "stream",
     "text": [
      " 99% (832 of 834) |##################### | Elapsed Time: 0:01:55 ETA:   0:00:00"
     ]
    },
    {
     "name": "stdout",
     "output_type": "stream",
     "text": [
      "Inferring file N1228_10_I5_HE - 2019-12-03 10.45.20.ndpi\n"
     ]
    },
    {
     "name": "stderr",
     "output_type": "stream",
     "text": [
      " 99% (1292 of 1294) |################### | Elapsed Time: 0:02:56 ETA:   0:00:00"
     ]
    },
    {
     "name": "stdout",
     "output_type": "stream",
     "text": [
      "Inferring file N807_11_HE - 2019-12-10 10.40.57.ndpi\n"
     ]
    },
    {
     "name": "stderr",
     "output_type": "stream",
     "text": [
      " 99% (391 of 392) |##################### | Elapsed Time: 0:00:56 ETA:   0:00:00"
     ]
    },
    {
     "name": "stdout",
     "output_type": "stream",
     "text": [
      "Inferring file N882_10_I1_HE - 2019-11-29 22.41.24.ndpi\n"
     ]
    },
    {
     "name": "stderr",
     "output_type": "stream",
     "text": [
      " 99% (1148 of 1150) |################### | Elapsed Time: 0:02:45 ETA:   0:00:00"
     ]
    },
    {
     "name": "stdout",
     "output_type": "stream",
     "text": [
      "Inferring file N100_10_II2_HE - 2019-11-27 12.08.05.ndpi\n"
     ]
    },
    {
     "name": "stderr",
     "output_type": "stream",
     "text": [
      " 99% (607 of 609) |##################### | Elapsed Time: 0:01:31 ETA:   0:00:00"
     ]
    },
    {
     "name": "stdout",
     "output_type": "stream",
     "text": [
      "Inferring file N1081_10_3_HE - 2019-12-02 15.35.29.ndpi\n"
     ]
    },
    {
     "name": "stderr",
     "output_type": "stream",
     "text": [
      " 99% (986 of 988) |##################### | Elapsed Time: 0:02:21 ETA:   0:00:00"
     ]
    },
    {
     "name": "stdout",
     "output_type": "stream",
     "text": [
      "Inferring file N1340_11_IV_HE - 2019-12-11 21.17.34.ndpi\n"
     ]
    },
    {
     "name": "stderr",
     "output_type": "stream",
     "text": [
      " 99% (304 of 306) |##################### | Elapsed Time: 0:00:40 ETA:   0:00:00"
     ]
    },
    {
     "name": "stdout",
     "output_type": "stream",
     "text": [
      "Inferring file N1241_10_2_HE - 2019-12-03 12.13.59.ndpi\n"
     ]
    },
    {
     "name": "stderr",
     "output_type": "stream",
     "text": [
      " 99% (646 of 648) |##################### | Elapsed Time: 0:01:34 ETA:   0:00:00"
     ]
    },
    {
     "name": "stdout",
     "output_type": "stream",
     "text": [
      "Inferring file N1241_10_1_HE - 2019-12-03 12.01.02.ndpi\n"
     ]
    },
    {
     "name": "stderr",
     "output_type": "stream",
     "text": [
      " 99% (741 of 743) |##################### | Elapsed Time: 0:01:48 ETA:   0:00:01"
     ]
    },
    {
     "name": "stdout",
     "output_type": "stream",
     "text": [
      "Inferring file N739_09_II1_HE - 2019-11-21 14.59.03.ndpi\n"
     ]
    },
    {
     "name": "stderr",
     "output_type": "stream",
     "text": [
      " 99% (799 of 801) |##################### | Elapsed Time: 0:01:53 ETA:   0:00:00"
     ]
    },
    {
     "name": "stdout",
     "output_type": "stream",
     "text": [
      "Inferring file N1111_11_II2_HE - 2019-12-11 09.05.22.ndpi\n"
     ]
    },
    {
     "name": "stderr",
     "output_type": "stream",
     "text": [
      " 99% (966 of 968) |##################### | Elapsed Time: 0:02:21 ETA:   0:00:00"
     ]
    },
    {
     "name": "stdout",
     "output_type": "stream",
     "text": [
      "Inferring file N97_11_3_HE - 2019-12-04 20.36.28.ndpi\n"
     ]
    },
    {
     "name": "stderr",
     "output_type": "stream",
     "text": [
      " 99% (1077 of 1078) |################### | Elapsed Time: 0:02:30 ETA:   0:00:00"
     ]
    },
    {
     "name": "stdout",
     "output_type": "stream",
     "text": [
      "Inferring file N488_11_I3_HE - 2019-12-09 10.17.58.ndpi\n"
     ]
    },
    {
     "name": "stderr",
     "output_type": "stream",
     "text": [
      " 99% (875 of 877) |##################### | Elapsed Time: 0:02:03 ETA:   0:00:00"
     ]
    },
    {
     "name": "stdout",
     "output_type": "stream",
     "text": [
      "Inferring file N1340_11_I1_HE - 2019-12-12 13.58.35.ndpi\n"
     ]
    },
    {
     "name": "stderr",
     "output_type": "stream",
     "text": [
      " 99% (765 of 766) |##################### | Elapsed Time: 0:01:48 ETA:   0:00:00"
     ]
    },
    {
     "name": "stdout",
     "output_type": "stream",
     "text": [
      "Inferring file N1194_09_1_HE - 2019-11-25 07.59.16.ndpi\n"
     ]
    },
    {
     "name": "stderr",
     "output_type": "stream",
     "text": [
      " 99% (1046 of 1047) |################### | Elapsed Time: 0:02:34 ETA:   0:00:00"
     ]
    },
    {
     "name": "stdout",
     "output_type": "stream",
     "text": [
      "Inferring file N1571_11_3_HE - 2019-12-12 21.40.35.ndpi\n"
     ]
    },
    {
     "name": "stderr",
     "output_type": "stream",
     "text": [
      " 99% (1355 of 1357) |################### | Elapsed Time: 0:03:13 ETA:   0:00:00"
     ]
    },
    {
     "name": "stdout",
     "output_type": "stream",
     "text": [
      "Inferring file N740_10_1_HE - 2019-11-29 12.22.56.ndpi\n"
     ]
    },
    {
     "name": "stderr",
     "output_type": "stream",
     "text": [
      " 99% (1029 of 1031) |################### | Elapsed Time: 0:02:21 ETA:   0:00:00"
     ]
    },
    {
     "name": "stdout",
     "output_type": "stream",
     "text": [
      "Inferring file N1437_10_III_HE - 2019-12-03 19.21.25.ndpi\n"
     ]
    },
    {
     "name": "stderr",
     "output_type": "stream",
     "text": [
      " 99% (487 of 489) |##################### | Elapsed Time: 0:01:08 ETA:   0:00:00"
     ]
    },
    {
     "name": "stdout",
     "output_type": "stream",
     "text": [
      "Inferring file N13_11_II3_HE - 2019-12-04 15.51.33.ndpi\n"
     ]
    },
    {
     "name": "stderr",
     "output_type": "stream",
     "text": [
      " 99% (827 of 828) |##################### | Elapsed Time: 0:01:53 ETA:   0:00:00"
     ]
    },
    {
     "name": "stdout",
     "output_type": "stream",
     "text": [
      "Inferring file N669_11_5_HE - 2019-12-09 18.40.41.ndpi\n"
     ]
    },
    {
     "name": "stderr",
     "output_type": "stream",
     "text": [
      " 99% (1670 of 1672) |################### | Elapsed Time: 0:03:50 ETA:   0:00:00"
     ]
    },
    {
     "name": "stdout",
     "output_type": "stream",
     "text": [
      "Inferring file N1476_11_II2_HE - 2019-12-12 16.43.50.ndpi\n"
     ]
    },
    {
     "name": "stderr",
     "output_type": "stream",
     "text": [
      " 99% (783 of 785) |##################### | Elapsed Time: 0:01:47 ETA:   0:00:00"
     ]
    },
    {
     "name": "stdout",
     "output_type": "stream",
     "text": [
      "Inferring file N873_10_2_HE - 2019-11-29 20.53.34.ndpi\n"
     ]
    },
    {
     "name": "stderr",
     "output_type": "stream",
     "text": [
      " 99% (1389 of 1390) |################### | Elapsed Time: 0:03:20 ETA:   0:00:00"
     ]
    },
    {
     "name": "stdout",
     "output_type": "stream",
     "text": [
      "Inferring file N170_10_HE - 2019-11-27 15.24.54.ndpi\n"
     ]
    },
    {
     "name": "stderr",
     "output_type": "stream",
     "text": [
      " 99% (387 of 389) |##################### | Elapsed Time: 0:00:52 ETA:   0:00:00"
     ]
    },
    {
     "name": "stdout",
     "output_type": "stream",
     "text": [
      "Inferring file N1347_09_2_HE - 2019-11-25 19.42.14.ndpi\n"
     ]
    },
    {
     "name": "stderr",
     "output_type": "stream",
     "text": [
      " 99% (553 of 554) |##################### | Elapsed Time: 0:01:20 ETA:   0:00:00"
     ]
    },
    {
     "name": "stdout",
     "output_type": "stream",
     "text": [
      "Inferring file N567_11_1_HE - 2019-12-09 15.19.44.ndpi\n"
     ]
    },
    {
     "name": "stderr",
     "output_type": "stream",
     "text": [
      " 99% (951 of 952) |##################### | Elapsed Time: 0:02:16 ETA:   0:00:00"
     ]
    },
    {
     "name": "stdout",
     "output_type": "stream",
     "text": [
      "Inferring file N1169_10_4_HE - 2019-12-02 20.09.34.ndpi\n"
     ]
    },
    {
     "name": "stderr",
     "output_type": "stream",
     "text": [
      " 99% (1086 of 1087) |################### | Elapsed Time: 0:02:35 ETA:   0:00:00"
     ]
    },
    {
     "name": "stdout",
     "output_type": "stream",
     "text": [
      "Inferring file N1542_10_1_HE - 2019-12-04 11.18.34.ndpi\n"
     ]
    },
    {
     "name": "stderr",
     "output_type": "stream",
     "text": [
      " 99% (704 of 705) |##################### | Elapsed Time: 0:01:44 ETA:   0:00:00"
     ]
    },
    {
     "name": "stdout",
     "output_type": "stream",
     "text": [
      "Inferring file N1607_09_II5_HE - 2019-11-26 00.33.33.ndpi\n"
     ]
    },
    {
     "name": "stderr",
     "output_type": "stream",
     "text": [
      " 99% (1318 of 1319) |################### | Elapsed Time: 0:03:03 ETA:   0:00:00"
     ]
    },
    {
     "name": "stdout",
     "output_type": "stream",
     "text": [
      "Inferring file N1349_09_HE - 2019-11-25 10.44.19.ndpi\n"
     ]
    },
    {
     "name": "stderr",
     "output_type": "stream",
     "text": [
      " 99% (467 of 469) |##################### | Elapsed Time: 0:01:07 ETA:   0:00:00"
     ]
    },
    {
     "name": "stdout",
     "output_type": "stream",
     "text": [
      "Inferring file N380_10_2_HE - 2019-11-28 08.57.33.ndpi\n"
     ]
    },
    {
     "name": "stderr",
     "output_type": "stream",
     "text": [
      " 99% (1047 of 1049) |################### | Elapsed Time: 0:02:25 ETA:   0:00:00"
     ]
    },
    {
     "name": "stdout",
     "output_type": "stream",
     "text": [
      "Inferring file N687_09_3_HE - 2019-11-22 09.28.59.ndpi\n"
     ]
    },
    {
     "name": "stderr",
     "output_type": "stream",
     "text": [
      " 99% (1234 of 1236) |################### | Elapsed Time: 0:02:43 ETA:   0:00:00"
     ]
    },
    {
     "name": "stdout",
     "output_type": "stream",
     "text": [
      "Inferring file N263_11_I1_HE - 2019-12-05 14.45.40.ndpi\n"
     ]
    },
    {
     "name": "stderr",
     "output_type": "stream",
     "text": [
      " 99% (1343 of 1344) |################### | Elapsed Time: 0:02:57 ETA:   0:00:00"
     ]
    },
    {
     "name": "stdout",
     "output_type": "stream",
     "text": [
      "Inferring file N1518_11_HE - 2019-12-12 18.13.43.ndpi\n"
     ]
    },
    {
     "name": "stderr",
     "output_type": "stream",
     "text": [
      " 99% (687 of 689) |##################### | Elapsed Time: 0:01:39 ETA:   0:00:00"
     ]
    },
    {
     "name": "stdout",
     "output_type": "stream",
     "text": [
      "Inferring file N488_11_II1_HE - 2019-12-09 10.00.12.ndpi\n"
     ]
    },
    {
     "name": "stderr",
     "output_type": "stream",
     "text": [
      " 99% (1108 of 1110) |################### | Elapsed Time: 0:02:26 ETA:   0:00:00"
     ]
    },
    {
     "name": "stdout",
     "output_type": "stream",
     "text": [
      "Inferring file N811_09_5_HE - 2019-11-21 19.09.28.ndpi\n"
     ]
    },
    {
     "name": "stderr",
     "output_type": "stream",
     "text": [
      " 99% (1180 of 1182) |################### | Elapsed Time: 0:02:45 ETA:   0:00:00"
     ]
    },
    {
     "name": "stdout",
     "output_type": "stream",
     "text": [
      "Inferring file N970_10_II_HE - 2019-12-02 13.08.48.ndpi\n"
     ]
    },
    {
     "name": "stderr",
     "output_type": "stream",
     "text": [
      " 98% (164 of 166) |##################### | Elapsed Time: 0:00:21 ETA:   0:00:00"
     ]
    },
    {
     "name": "stdout",
     "output_type": "stream",
     "text": [
      "Inferring file N1284_10_2_HE - 2019-12-03 15.25.07.ndpi\n"
     ]
    },
    {
     "name": "stderr",
     "output_type": "stream",
     "text": [
      " 99% (1314 of 1315) |################### | Elapsed Time: 0:02:50 ETA:   0:00:00"
     ]
    },
    {
     "name": "stdout",
     "output_type": "stream",
     "text": [
      "Inferring file N267_11_3_HE - 2019-12-05 16.14.41.ndpi\n"
     ]
    },
    {
     "name": "stderr",
     "output_type": "stream",
     "text": [
      " 99% (1019 of 1021) |################### | Elapsed Time: 0:02:22 ETA:   0:00:00"
     ]
    },
    {
     "name": "stdout",
     "output_type": "stream",
     "text": [
      "Inferring file N184_11_3_HE - 2019-12-04 22.53.47.ndpi\n"
     ]
    },
    {
     "name": "stderr",
     "output_type": "stream",
     "text": [
      " 99% (964 of 966) |##################### | Elapsed Time: 0:02:12 ETA:   0:00:00"
     ]
    },
    {
     "name": "stdout",
     "output_type": "stream",
     "text": [
      "Inferring file N476_10_III_HE - 2019-11-28 14.49.14.ndpi\n"
     ]
    },
    {
     "name": "stderr",
     "output_type": "stream",
     "text": [
      " 99% (1158 of 1159) |################### | Elapsed Time: 0:02:32 ETA:   0:00:00"
     ]
    },
    {
     "name": "stdout",
     "output_type": "stream",
     "text": [
      "Inferring file N1334_09_I2_HE - 2019-11-25 18.32.44.ndpi\n"
     ]
    },
    {
     "name": "stderr",
     "output_type": "stream",
     "text": [
      " 99% (809 of 811) |##################### | Elapsed Time: 0:01:54 ETA:   0:00:00"
     ]
    },
    {
     "name": "stdout",
     "output_type": "stream",
     "text": [
      "Inferring file N923_11_II2_HE - 2019-12-10 18.51.50.ndpi\n"
     ]
    },
    {
     "name": "stderr",
     "output_type": "stream",
     "text": [
      " 99% (1132 of 1134) |################### | Elapsed Time: 0:02:36 ETA:   0:00:00"
     ]
    },
    {
     "name": "stdout",
     "output_type": "stream",
     "text": [
      "Inferring file N816_10_1_HE - 2019-11-29 18.17.35.ndpi\n"
     ]
    },
    {
     "name": "stderr",
     "output_type": "stream",
     "text": [
      " 99% (1265 of 1267) |################### | Elapsed Time: 0:02:50 ETA:   0:00:00"
     ]
    },
    {
     "name": "stdout",
     "output_type": "stream",
     "text": [
      "Inferring file N488_11_I1_HE - 2019-12-09 09.44.29.ndpi\n"
     ]
    },
    {
     "name": "stderr",
     "output_type": "stream",
     "text": [
      " 99% (490 of 492) |##################### | Elapsed Time: 0:01:05 ETA:   0:00:00"
     ]
    },
    {
     "name": "stdout",
     "output_type": "stream",
     "text": [
      "Inferring file N1180_09_II_HE - 2019-11-22 19.25.47.ndpi\n"
     ]
    },
    {
     "name": "stderr",
     "output_type": "stream",
     "text": [
      " 99% (183 of 184) |##################### | Elapsed Time: 0:00:24 ETA:   0:00:00"
     ]
    },
    {
     "name": "stdout",
     "output_type": "stream",
     "text": [
      "Inferring file N1556_09_1_HE - 2019-11-25 20.41.12.ndpi\n"
     ]
    },
    {
     "name": "stderr",
     "output_type": "stream",
     "text": [
      " 99% (667 of 669) |##################### | Elapsed Time: 0:01:32 ETA:   0:00:00"
     ]
    },
    {
     "name": "stdout",
     "output_type": "stream",
     "text": [
      "Inferring file N1083_10_3_HE - 2019-12-02 16.12.35.ndpi\n"
     ]
    },
    {
     "name": "stderr",
     "output_type": "stream",
     "text": [
      " 99% (1525 of 1526) |################### | Elapsed Time: 0:03:24 ETA:   0:00:00"
     ]
    },
    {
     "name": "stdout",
     "output_type": "stream",
     "text": [
      "Inferring file N97_11_2_HE - 2019-12-04 20.23.06.ndpi\n"
     ]
    },
    {
     "name": "stderr",
     "output_type": "stream",
     "text": [
      " 99% (1096 of 1097) |################### | Elapsed Time: 0:02:25 ETA:   0:00:00"
     ]
    },
    {
     "name": "stdout",
     "output_type": "stream",
     "text": [
      "Inferring file N1571_11_2_HE - 2019-12-12 21.27.49.ndpi\n"
     ]
    },
    {
     "name": "stderr",
     "output_type": "stream",
     "text": [
      " 99% (1447 of 1449) |################### | Elapsed Time: 0:03:13 ETA:   0:00:00"
     ]
    },
    {
     "name": "stdout",
     "output_type": "stream",
     "text": [
      "Inferring file N1339_11_2_HE - 2019-12-11 20.27.59.ndpi\n"
     ]
    },
    {
     "name": "stderr",
     "output_type": "stream",
     "text": [
      " 99% (1511 of 1512) |################### | Elapsed Time: 0:03:21 ETA:   0:00:00"
     ]
    },
    {
     "name": "stdout",
     "output_type": "stream",
     "text": [
      "Inferring file N923_11_I1_HE - 2019-12-10 18.18.05.ndpi\n"
     ]
    },
    {
     "name": "stderr",
     "output_type": "stream",
     "text": [
      " 99% (736 of 737) |##################### | Elapsed Time: 0:01:45 ETA:   0:00:00"
     ]
    },
    {
     "name": "stdout",
     "output_type": "stream",
     "text": [
      "Inferring file N483_10_2_HE - 2019-11-28 15.18.33.ndpi\n"
     ]
    },
    {
     "name": "stderr",
     "output_type": "stream",
     "text": [
      " 99% (1459 of 1460) |################### | Elapsed Time: 0:03:21 ETA:   0:00:00"
     ]
    },
    {
     "name": "stdout",
     "output_type": "stream",
     "text": [
      "Inferring file N790_11_III4_HE - 2019-12-09 23.05.21.ndpi\n"
     ]
    },
    {
     "name": "stderr",
     "output_type": "stream",
     "text": [
      " 99% (1172 of 1174) |################### | Elapsed Time: 0:02:37 ETA:   0:00:00"
     ]
    },
    {
     "name": "stdout",
     "output_type": "stream",
     "text": [
      "Inferring file N294_10_2_HE - 2019-11-27 20.24.14.ndpi\n"
     ]
    },
    {
     "name": "stderr",
     "output_type": "stream",
     "text": [
      " 99% (844 of 846) |##################### | Elapsed Time: 0:01:55 ETA:   0:00:00"
     ]
    },
    {
     "name": "stdout",
     "output_type": "stream",
     "text": [
      "Inferring file N1556_09_3_HE - 2019-11-25 21.02.58.ndpi\n"
     ]
    },
    {
     "name": "stderr",
     "output_type": "stream",
     "text": [
      " 99% (869 of 870) |##################### | Elapsed Time: 0:01:58 ETA:   0:00:00"
     ]
    },
    {
     "name": "stdout",
     "output_type": "stream",
     "text": [
      "Inferring file N1583_09_2_HE - 2019-11-25 22.39.10.ndpi\n"
     ]
    },
    {
     "name": "stderr",
     "output_type": "stream",
     "text": [
      " 99% (1601 of 1602) |################### | Elapsed Time: 0:03:36 ETA:   0:00:00"
     ]
    },
    {
     "name": "stdout",
     "output_type": "stream",
     "text": [
      "Inferring file N59_09_HE - 2019-11-19 16.06.20.ndpi\n"
     ]
    },
    {
     "name": "stderr",
     "output_type": "stream",
     "text": [
      " 99% (623 of 625) |##################### | Elapsed Time: 0:01:33 ETA:   0:00:00"
     ]
    },
    {
     "name": "stdout",
     "output_type": "stream",
     "text": [
      "Inferring file N267_11_1_HE - 2019-12-05 15.54.59.ndpi\n"
     ]
    },
    {
     "name": "stderr",
     "output_type": "stream",
     "text": [
      " 99% (842 of 843) |##################### | Elapsed Time: 0:01:55 ETA:   0:00:00"
     ]
    },
    {
     "name": "stdout",
     "output_type": "stream",
     "text": [
      "Inferring file N1183_11_2_HE - 2019-12-11 18.24.25.ndpi\n"
     ]
    },
    {
     "name": "stderr",
     "output_type": "stream",
     "text": [
      " 99% (1005 of 1007) |################### | Elapsed Time: 0:02:27 ETA:   0:00:00"
     ]
    },
    {
     "name": "stdout",
     "output_type": "stream",
     "text": [
      "Inferring file N465_11_HE - 2019-12-06 10.57.13.ndpi\n"
     ]
    },
    {
     "name": "stderr",
     "output_type": "stream",
     "text": [
      " 98% (175 of 177) |##################### | Elapsed Time: 0:00:24 ETA:   0:00:00"
     ]
    },
    {
     "name": "stdout",
     "output_type": "stream",
     "text": [
      "Inferring file N1537_11_I5_HE - 2019-12-12 20.05.40.ndpi\n"
     ]
    },
    {
     "name": "stderr",
     "output_type": "stream",
     "text": [
      " 99% (951 of 952) |##################### | Elapsed Time: 0:02:14 ETA:   0:00:00"
     ]
    },
    {
     "name": "stdout",
     "output_type": "stream",
     "text": [
      "Inferring file N687_09_2_HE - 2019-11-21 13.07.19.ndpi\n"
     ]
    },
    {
     "name": "stderr",
     "output_type": "stream",
     "text": [
      " 99% (799 of 800) |##################### | Elapsed Time: 0:01:57 ETA:   0:00:00"
     ]
    },
    {
     "name": "stdout",
     "output_type": "stream",
     "text": [
      "Inferring file N393_11_I1_HE - 2019-12-05 22.08.58.ndpi\n"
     ]
    },
    {
     "name": "stderr",
     "output_type": "stream",
     "text": [
      " 99% (1650 of 1651) |################### | Elapsed Time: 0:03:59 ETA:   0:00:00"
     ]
    },
    {
     "name": "stdout",
     "output_type": "stream",
     "text": [
      "Inferring file N846_11_I_HE - 2019-12-10 14.22.40.ndpi\n"
     ]
    },
    {
     "name": "stderr",
     "output_type": "stream",
     "text": [
      " 99% (995 of 996) |##################### | Elapsed Time: 0:02:25 ETA:   0:00:00"
     ]
    },
    {
     "name": "stdout",
     "output_type": "stream",
     "text": [
      "Inferring file N891_11_I2_HE - 2019-12-10 16.39.23.ndpi\n"
     ]
    },
    {
     "name": "stderr",
     "output_type": "stream",
     "text": [
      " 99% (693 of 695) |##################### | Elapsed Time: 0:01:42 ETA:   0:00:00"
     ]
    },
    {
     "name": "stdout",
     "output_type": "stream",
     "text": [
      "Inferring file N366_11_HE - 2019-12-05 20.11.38.ndpi\n"
     ]
    },
    {
     "name": "stderr",
     "output_type": "stream",
     "text": [
      " 99% (1298 of 1300) |################### | Elapsed Time: 0:02:56 ETA:   0:00:00"
     ]
    },
    {
     "name": "stdout",
     "output_type": "stream",
     "text": [
      "Inferring file N1297_09_3_HE - 2019-11-23 01.45.15.ndpi\n"
     ]
    },
    {
     "name": "stderr",
     "output_type": "stream",
     "text": [
      " 99% (1022 of 1024) |################### | Elapsed Time: 0:02:30 ETA:   0:00:00"
     ]
    },
    {
     "name": "stdout",
     "output_type": "stream",
     "text": [
      "Inferring file N115_09_2_HE - 2019-11-19 18.12.56.ndpi\n"
     ]
    },
    {
     "name": "stderr",
     "output_type": "stream",
     "text": [
      " 99% (1480 of 1481) |################### | Elapsed Time: 0:03:21 ETA:   0:00:00"
     ]
    },
    {
     "name": "stdout",
     "output_type": "stream",
     "text": [
      "Inferring file N730_10_3_HE - 2019-11-29 11.13.37.ndpi\n"
     ]
    },
    {
     "name": "stderr",
     "output_type": "stream",
     "text": [
      " 99% (1264 of 1266) |################### | Elapsed Time: 0:03:04 ETA:   0:00:00"
     ]
    },
    {
     "name": "stdout",
     "output_type": "stream",
     "text": [
      "Inferring file N602_10_IV_HE - 2019-11-28 20.17.10.ndpi\n"
     ]
    },
    {
     "name": "stderr",
     "output_type": "stream",
     "text": [
      " 98% (53 of 54) |####################### | Elapsed Time: 0:00:07 ETA:   0:00:00"
     ]
    },
    {
     "name": "stdout",
     "output_type": "stream",
     "text": [
      "Inferring file N408_11_II_HE - 2019-12-06 09.55.05.ndpi\n"
     ]
    },
    {
     "name": "stderr",
     "output_type": "stream",
     "text": [
      " 99% (1111 of 1112) |################### | Elapsed Time: 0:02:37 ETA:   0:00:00"
     ]
    },
    {
     "name": "stdout",
     "output_type": "stream",
     "text": [
      "Inferring file N1045_11_3_HE - 2019-12-10 23.17.26.ndpi\n"
     ]
    },
    {
     "name": "stderr",
     "output_type": "stream",
     "text": [
      " 99% (1077 of 1079) |################### | Elapsed Time: 0:02:23 ETA:   0:00:00"
     ]
    },
    {
     "name": "stdout",
     "output_type": "stream",
     "text": [
      "Inferring file N62_11_1_HE - 2019-12-04 16.20.33.ndpi\n"
     ]
    },
    {
     "name": "stderr",
     "output_type": "stream",
     "text": [
      " 99% (2008 of 2010) |################### | Elapsed Time: 0:04:34 ETA:   0:00:00"
     ]
    },
    {
     "name": "stdout",
     "output_type": "stream",
     "text": [
      "Inferring file N1532_11_3_HE - 2019-12-12 19.08.42.ndpi\n"
     ]
    },
    {
     "name": "stderr",
     "output_type": "stream",
     "text": [
      " 99% (1233 of 1234) |################### | Elapsed Time: 0:02:52 ETA:   0:00:00"
     ]
    },
    {
     "name": "stdout",
     "output_type": "stream",
     "text": [
      "Inferring file N983_11_II_HE - 2019-12-10 22.19.20.ndpi\n"
     ]
    },
    {
     "name": "stderr",
     "output_type": "stream",
     "text": [
      " 99% (348 of 350) |##################### | Elapsed Time: 0:00:49 ETA:   0:00:00"
     ]
    },
    {
     "name": "stdout",
     "output_type": "stream",
     "text": [
      "Inferring file N921_09_II_HE - 2019-11-21 23.55.25.ndpi\n"
     ]
    },
    {
     "name": "stderr",
     "output_type": "stream",
     "text": [
      " 97% (47 of 48) |####################### | Elapsed Time: 0:00:08 ETA:   0:00:00"
     ]
    },
    {
     "name": "stdout",
     "output_type": "stream",
     "text": [
      "Inferring file N1583_09_3_HE - 2019-11-25 22.57.30.ndpi\n"
     ]
    },
    {
     "name": "stderr",
     "output_type": "stream",
     "text": [
      " 99% (1355 of 1357) |################### | Elapsed Time: 0:03:03 ETA:   0:00:00"
     ]
    },
    {
     "name": "stdout",
     "output_type": "stream",
     "text": [
      "Inferring file N847_10_E_HE - 2019-11-29 20.12.28.ndpi\n"
     ]
    },
    {
     "name": "stderr",
     "output_type": "stream",
     "text": [
      " 99% (763 of 765) |##################### | Elapsed Time: 0:01:46 ETA:   0:00:00"
     ]
    },
    {
     "name": "stdout",
     "output_type": "stream",
     "text": [
      "Inferring file N338_10_1_HE - 2019-11-27 21.06.24.ndpi\n"
     ]
    },
    {
     "name": "stderr",
     "output_type": "stream",
     "text": [
      " 99% (1681 of 1682) |################### | Elapsed Time: 0:03:47 ETA:   0:00:00"
     ]
    },
    {
     "name": "stdout",
     "output_type": "stream",
     "text": [
      "Inferring file N947_11_HE - 2019-12-10 19.36.24.ndpi\n"
     ]
    },
    {
     "name": "stderr",
     "output_type": "stream",
     "text": [
      " 98% (179 of 181) |##################### | Elapsed Time: 0:00:25 ETA:   0:00:00"
     ]
    },
    {
     "name": "stdout",
     "output_type": "stream",
     "text": [
      "Inferring file N1030_11_2_HE - 2019-12-10 22.33.23.ndpi\n"
     ]
    },
    {
     "name": "stderr",
     "output_type": "stream",
     "text": [
      " 99% (1172 of 1173) |################### | Elapsed Time: 0:02:52 ETA:   0:00:00"
     ]
    },
    {
     "name": "stdout",
     "output_type": "stream",
     "text": [
      "Inferring file N742_10_II3_HE - 2019-11-29 14.14.18.ndpi\n"
     ]
    },
    {
     "name": "stderr",
     "output_type": "stream",
     "text": [
      " 99% (830 of 832) |##################### | Elapsed Time: 0:01:52 ETA:   0:00:00"
     ]
    },
    {
     "name": "stdout",
     "output_type": "stream",
     "text": [
      "Inferring file N1195_09_4_HE - 2019-11-22 22.27.55.ndpi\n"
     ]
    },
    {
     "name": "stderr",
     "output_type": "stream",
     "text": [
      " 99% (693 of 694) |##################### | Elapsed Time: 0:01:43 ETA:   0:00:00"
     ]
    },
    {
     "name": "stdout",
     "output_type": "stream",
     "text": [
      "Inferring file N38_09_I_HE - 2019-11-19 14.26.58.ndpi\n"
     ]
    },
    {
     "name": "stderr",
     "output_type": "stream",
     "text": [
      " 99% (1667 of 1669) |################### | Elapsed Time: 0:03:49 ETA:   0:00:00"
     ]
    },
    {
     "name": "stdout",
     "output_type": "stream",
     "text": [
      "Inferring file N515_10_4_HE - 2019-11-28 16.28.38.ndpi\n"
     ]
    },
    {
     "name": "stderr",
     "output_type": "stream",
     "text": [
      " 99% (1517 of 1519) |################### | Elapsed Time: 0:03:28 ETA:   0:00:00"
     ]
    },
    {
     "name": "stdout",
     "output_type": "stream",
     "text": [
      "Inferring file N851_09_2_HE - 2019-11-21 21.29.45.ndpi\n"
     ]
    },
    {
     "name": "stderr",
     "output_type": "stream",
     "text": [
      " 99% (1543 of 1544) |################### | Elapsed Time: 0:03:29 ETA:   0:00:00"
     ]
    },
    {
     "name": "stdout",
     "output_type": "stream",
     "text": [
      "Inferring file N810_10_I2_HE - 2019-11-29 17.36.20.ndpi\n"
     ]
    },
    {
     "name": "stderr",
     "output_type": "stream",
     "text": [
      " 99% (1014 of 1015) |################### | Elapsed Time: 0:02:25 ETA:   0:00:00"
     ]
    },
    {
     "name": "stdout",
     "output_type": "stream",
     "text": [
      "Inferring file N1388_10_III_HE - 2019-12-03 18.25.46.ndpi\n"
     ]
    },
    {
     "name": "stderr",
     "output_type": "stream",
     "text": [
      " 98% (74 of 75) |####################### | Elapsed Time: 0:00:11 ETA:   0:00:00"
     ]
    },
    {
     "name": "stdout",
     "output_type": "stream",
     "text": [
      "Inferring file N42_10_1_HE - 2019-11-26 03.11.59.ndpi\n"
     ]
    },
    {
     "name": "stderr",
     "output_type": "stream",
     "text": [
      " 99% (929 of 930) |##################### | Elapsed Time: 0:02:15 ETA:   0:00:00"
     ]
    },
    {
     "name": "stdout",
     "output_type": "stream",
     "text": [
      "Inferring file N825_10_HE - 2019-11-29 18.08.23.ndpi\n"
     ]
    },
    {
     "name": "stderr",
     "output_type": "stream",
     "text": [
      " 99% (594 of 596) |##################### | Elapsed Time: 0:01:23 ETA:   0:00:00"
     ]
    },
    {
     "name": "stdout",
     "output_type": "stream",
     "text": [
      "Inferring file N977_10_3_HE - 2019-12-02 13.47.04.ndpi\n"
     ]
    },
    {
     "name": "stderr",
     "output_type": "stream",
     "text": [
      " 99% (1589 of 1591) |################### | Elapsed Time: 0:03:40 ETA:   0:00:00"
     ]
    },
    {
     "name": "stdout",
     "output_type": "stream",
     "text": [
      "Inferring file N332_09_II_HE - 2019-11-20 00.16.28.ndpi\n"
     ]
    },
    {
     "name": "stderr",
     "output_type": "stream",
     "text": [
      " 98% (79 of 80) |####################### | Elapsed Time: 0:00:10 ETA:   0:00:00"
     ]
    },
    {
     "name": "stdout",
     "output_type": "stream",
     "text": [
      "Inferring file N612_09_I_HE - 2019-11-21 11.21.57.ndpi\n"
     ]
    },
    {
     "name": "stderr",
     "output_type": "stream",
     "text": [
      " 97% (83 of 85) |####################### | Elapsed Time: 0:00:12 ETA:   0:00:00"
     ]
    },
    {
     "name": "stdout",
     "output_type": "stream",
     "text": [
      "Inferring file N63_10_II_HE - 2019-11-27 11.41.25.ndpi\n"
     ]
    },
    {
     "name": "stderr",
     "output_type": "stream",
     "text": [
      " 99% (191 of 192) |##################### | Elapsed Time: 0:00:27 ETA:   0:00:00"
     ]
    },
    {
     "name": "stdout",
     "output_type": "stream",
     "text": [
      "Inferring file N159_11_1_HE - 2019-12-04 21.38.53.ndpi\n"
     ]
    },
    {
     "name": "stderr",
     "output_type": "stream",
     "text": [
      " 99% (1138 of 1140) |################### | Elapsed Time: 0:02:49 ETA:   0:00:00"
     ]
    },
    {
     "name": "stdout",
     "output_type": "stream",
     "text": [
      "Inferring file N878_11_HE - 2019-12-10 16.00.31.ndpi\n"
     ]
    },
    {
     "name": "stderr",
     "output_type": "stream",
     "text": [
      " 99% (1232 of 1234) |################### | Elapsed Time: 0:02:54 ETA:   0:00:00"
     ]
    },
    {
     "name": "stdout",
     "output_type": "stream",
     "text": [
      "Inferring file N948_11_2_HE - 2019-12-10 19.49.34.ndpi\n"
     ]
    },
    {
     "name": "stderr",
     "output_type": "stream",
     "text": [
      " 99% (791 of 793) |##################### | Elapsed Time: 0:01:53 ETA:   0:00:00"
     ]
    },
    {
     "name": "stdout",
     "output_type": "stream",
     "text": [
      "Inferring file N115_09_4_HE - 2019-11-19 18.38.07.ndpi\n"
     ]
    },
    {
     "name": "stderr",
     "output_type": "stream",
     "text": [
      " 99% (1229 of 1230) |################### | Elapsed Time: 0:02:56 ETA:   0:00:00"
     ]
    },
    {
     "name": "stdout",
     "output_type": "stream",
     "text": [
      "Inferring file N1015_09_II_HE - 2019-11-22 10.10.50.ndpi\n"
     ]
    },
    {
     "name": "stderr",
     "output_type": "stream",
     "text": [
      " 97% (47 of 48) |####################### | Elapsed Time: 0:00:06 ETA:   0:00:00"
     ]
    },
    {
     "name": "stdout",
     "output_type": "stream",
     "text": [
      "Inferring file N1320_09_2_HE - 2019-11-25 09.32.48.ndpi\n"
     ]
    },
    {
     "name": "stderr",
     "output_type": "stream",
     "text": [
      " 99% (1053 of 1055) |################### | Elapsed Time: 0:02:28 ETA:   0:00:00"
     ]
    },
    {
     "name": "stdout",
     "output_type": "stream",
     "text": [
      "Inferring file N411_10_4_HE - 2019-11-28 11.06.52.ndpi\n"
     ]
    },
    {
     "name": "stderr",
     "output_type": "stream",
     "text": [
      " 99% (1570 of 1572) |################### | Elapsed Time: 0:03:39 ETA:   0:00:00"
     ]
    },
    {
     "name": "stdout",
     "output_type": "stream",
     "text": [
      "Inferring file N1228_10_II3_HE - 2019-12-03 11.27.07.ndpi\n"
     ]
    },
    {
     "name": "stderr",
     "output_type": "stream",
     "text": [
      " 99% (983 of 985) |##################### | Elapsed Time: 0:02:23 ETA:   0:00:00"
     ]
    },
    {
     "name": "stdout",
     "output_type": "stream",
     "text": [
      "Inferring file N537_11_4_HE - 2019-12-09 12.55.38.ndpi\n"
     ]
    },
    {
     "name": "stderr",
     "output_type": "stream",
     "text": [
      " 99% (1401 of 1402) |################### | Elapsed Time: 0:03:18 ETA:   0:00:00"
     ]
    },
    {
     "name": "stdout",
     "output_type": "stream",
     "text": [
      "Inferring file N923_11_II1_HE - 2019-12-10 18.44.49.ndpi\n"
     ]
    },
    {
     "name": "stderr",
     "output_type": "stream",
     "text": [
      " 99% (764 of 766) |##################### | Elapsed Time: 0:01:47 ETA:   0:00:00"
     ]
    },
    {
     "name": "stdout",
     "output_type": "stream",
     "text": [
      "Inferring file N1193_09_4_HE - 2019-11-22 21.23.52.ndpi\n"
     ]
    },
    {
     "name": "stderr",
     "output_type": "stream",
     "text": [
      " 99% (1405 of 1406) |################### | Elapsed Time: 0:03:12 ETA:   0:00:00"
     ]
    },
    {
     "name": "stdout",
     "output_type": "stream",
     "text": [
      "Inferring file N28_09_3_HE - 2019-11-19 12.31.31.ndpi\n"
     ]
    },
    {
     "name": "stderr",
     "output_type": "stream",
     "text": [
      " 99% (1395 of 1397) |################### | Elapsed Time: 0:03:22 ETA:   0:00:00"
     ]
    },
    {
     "name": "stdout",
     "output_type": "stream",
     "text": [
      "Inferring file N1146_11_2_HE - 2019-12-11 17.20.33.ndpi\n"
     ]
    },
    {
     "name": "stderr",
     "output_type": "stream",
     "text": [
      " 99% (785 of 787) |##################### | Elapsed Time: 0:01:49 ETA:   0:00:00"
     ]
    },
    {
     "name": "stdout",
     "output_type": "stream",
     "text": [
      "Inferring file N790_11_I2_HE - 2019-12-09 22.01.31.ndpi\n"
     ]
    },
    {
     "name": "stderr",
     "output_type": "stream",
     "text": [
      " 99% (801 of 803) |##################### | Elapsed Time: 0:01:49 ETA:   0:00:00"
     ]
    },
    {
     "name": "stdout",
     "output_type": "stream",
     "text": [
      "Inferring file N338_09_2_HE - 2019-11-20 00.28.11.ndpi\n"
     ]
    },
    {
     "name": "stderr",
     "output_type": "stream",
     "text": [
      " 99% (1132 of 1133) |################### | Elapsed Time: 0:02:41 ETA:   0:00:00"
     ]
    },
    {
     "name": "stdout",
     "output_type": "stream",
     "text": [
      "Inferring file N531_10_HE - 2019-11-28 17.11.45.ndpi\n"
     ]
    },
    {
     "name": "stderr",
     "output_type": "stream",
     "text": [
      " 99% (138 of 139) |##################### | Elapsed Time: 0:00:18 ETA:   0:00:00"
     ]
    },
    {
     "name": "stdout",
     "output_type": "stream",
     "text": [
      "Inferring file N1035_09_1_HE - 2019-11-22 10.19.08.ndpi\n"
     ]
    },
    {
     "name": "stderr",
     "output_type": "stream",
     "text": [
      " 99% (1235 of 1237) |################### | Elapsed Time: 0:02:49 ETA:   0:00:00"
     ]
    },
    {
     "name": "stdout",
     "output_type": "stream",
     "text": [
      "Inferring file N669_11_1_HE - 2019-12-09 17.54.23.ndpi\n"
     ]
    },
    {
     "name": "stderr",
     "output_type": "stream",
     "text": [
      " 99% (1130 of 1132) |################### | Elapsed Time: 0:02:46 ETA:   0:00:00"
     ]
    },
    {
     "name": "stdout",
     "output_type": "stream",
     "text": [
      "Inferring file N1429_09_2_HE - 2019-11-25 11.45.58.ndpi\n"
     ]
    },
    {
     "name": "stderr",
     "output_type": "stream",
     "text": [
      " 99% (825 of 827) |##################### | Elapsed Time: 0:01:56 ETA:   0:00:00"
     ]
    },
    {
     "name": "stdout",
     "output_type": "stream",
     "text": [
      "Inferring file N1182_09_3_HE - 2019-11-22 19.57.49.ndpi\n"
     ]
    },
    {
     "name": "stderr",
     "output_type": "stream",
     "text": [
      " 99% (843 of 845) |##################### | Elapsed Time: 0:01:59 ETA:   0:00:00"
     ]
    },
    {
     "name": "stdout",
     "output_type": "stream",
     "text": [
      "Inferring file N1135_10_1_HE - 2019-12-02 18.00.38.ndpi\n"
     ]
    },
    {
     "name": "stderr",
     "output_type": "stream",
     "text": [
      " 99% (1098 of 1100) |################### | Elapsed Time: 0:02:51 ETA:   0:00:00"
     ]
    },
    {
     "name": "stdout",
     "output_type": "stream",
     "text": [
      "Inferring file N292_11_I_HE - 2019-12-05 18.56.04.ndpi\n"
     ]
    },
    {
     "name": "stderr",
     "output_type": "stream",
     "text": [
      " 99% (253 of 254) |##################### | Elapsed Time: 0:00:37 ETA:   0:00:00"
     ]
    },
    {
     "name": "stdout",
     "output_type": "stream",
     "text": [
      "Inferring file N731_11_4_HE - 2019-12-09 21.25.14.ndpi\n"
     ]
    },
    {
     "name": "stderr",
     "output_type": "stream",
     "text": [
      " 99% (1579 of 1581) |################### | Elapsed Time: 0:03:44 ETA:   0:00:00"
     ]
    },
    {
     "name": "stdout",
     "output_type": "stream",
     "text": [
      "Inferring file N1067_11_II_HE - 2019-12-10 23.38.06.ndpi\n"
     ]
    },
    {
     "name": "stderr",
     "output_type": "stream",
     "text": [
      " 99% (1094 of 1096) |################### | Elapsed Time: 0:02:34 ETA:   0:00:00"
     ]
    },
    {
     "name": "stdout",
     "output_type": "stream",
     "text": [
      "Inferring file N274_11_I1_HE - 2019-12-05 16.56.54.ndpi\n"
     ]
    },
    {
     "name": "stderr",
     "output_type": "stream",
     "text": [
      " 99% (744 of 745) |##################### | Elapsed Time: 0:01:50 ETA:   0:00:00"
     ]
    },
    {
     "name": "stdout",
     "output_type": "stream",
     "text": [
      "Inferring file N1278_10_2_HE - 2019-12-03 14.51.08.ndpi\n"
     ]
    },
    {
     "name": "stderr",
     "output_type": "stream",
     "text": [
      " 99% (1339 of 1340) |################### | Elapsed Time: 0:03:08 ETA:   0:00:00"
     ]
    },
    {
     "name": "stdout",
     "output_type": "stream",
     "text": [
      "Inferring file N1259_10_1_HE - 2019-12-03 12.48.42.ndpi\n"
     ]
    },
    {
     "name": "stderr",
     "output_type": "stream",
     "text": [
      " 99% (1069 of 1071) |################### | Elapsed Time: 0:02:29 ETA:   0:00:00"
     ]
    },
    {
     "name": "stdout",
     "output_type": "stream",
     "text": [
      "Inferring file N880_10_I3_HE - 2019-11-29 22.05.38.ndpi\n"
     ]
    },
    {
     "name": "stderr",
     "output_type": "stream",
     "text": [
      " 99% (1485 of 1487) |################### | Elapsed Time: 0:03:28 ETA:   0:00:00"
     ]
    },
    {
     "name": "stdout",
     "output_type": "stream",
     "text": [
      "Inferring file N1085_09_3_HE - 2019-11-22 17.41.14.ndpi\n"
     ]
    },
    {
     "name": "stderr",
     "output_type": "stream",
     "text": [
      " 99% (1121 of 1123) |################### | Elapsed Time: 0:02:33 ETA:   0:00:00"
     ]
    },
    {
     "name": "stdout",
     "output_type": "stream",
     "text": [
      "Inferring file N1245_10_3_HE - 2019-12-03 12.40.37.ndpi\n"
     ]
    },
    {
     "name": "stderr",
     "output_type": "stream",
     "text": [
      " 99% (261 of 263) |##################### | Elapsed Time: 0:00:37 ETA:   0:00:00"
     ]
    },
    {
     "name": "stdout",
     "output_type": "stream",
     "text": [
      "Inferring file N165_10_3_HE - 2019-11-27 14.18.22.ndpi\n"
     ]
    },
    {
     "name": "stderr",
     "output_type": "stream",
     "text": [
      " 99% (1436 of 1437) |################### | Elapsed Time: 0:03:25 ETA:   0:00:00"
     ]
    },
    {
     "name": "stdout",
     "output_type": "stream",
     "text": [
      "Inferring file N790_11_II2_HE - 2019-12-09 22.32.55.ndpi\n"
     ]
    },
    {
     "name": "stderr",
     "output_type": "stream",
     "text": [
      " 99% (422 of 424) |##################### | Elapsed Time: 0:00:57 ETA:   0:00:00"
     ]
    },
    {
     "name": "stdout",
     "output_type": "stream",
     "text": [
      "Inferring file N1462_09_1_HE - 2019-11-25 12.26.11.ndpi\n"
     ]
    },
    {
     "name": "stderr",
     "output_type": "stream",
     "text": [
      " 99% (1005 of 1006) |################### | Elapsed Time: 0:02:24 ETA:   0:00:00"
     ]
    },
    {
     "name": "stdout",
     "output_type": "stream",
     "text": [
      "Inferring file N669_11_3_HE - 2019-12-09 18.17.06.ndpi\n"
     ]
    },
    {
     "name": "stderr",
     "output_type": "stream",
     "text": [
      " 99% (1095 of 1096) |################### | Elapsed Time: 0:02:45 ETA:   0:00:00"
     ]
    },
    {
     "name": "stdout",
     "output_type": "stream",
     "text": [
      "Inferring file N1101_10_2_HE - 2019-12-02 17.13.47.ndpi\n"
     ]
    },
    {
     "name": "stderr",
     "output_type": "stream",
     "text": [
      " 99% (1228 of 1229) |################### | Elapsed Time: 0:02:50 ETA:   0:00:00"
     ]
    },
    {
     "name": "stdout",
     "output_type": "stream",
     "text": [
      "Inferring file N1040_09_I1_HE - 2019-11-22 12.45.24.ndpi\n"
     ]
    },
    {
     "name": "stderr",
     "output_type": "stream",
     "text": [
      " 99% (1050 of 1052) |################### | Elapsed Time: 0:02:32 ETA:   0:00:00"
     ]
    },
    {
     "name": "stdout",
     "output_type": "stream",
     "text": [
      "Inferring file N670_11_2_HE - 2019-12-09 19.06.23.ndpi\n"
     ]
    },
    {
     "name": "stderr",
     "output_type": "stream",
     "text": [
      " 99% (1298 of 1300) |################### | Elapsed Time: 0:03:05 ETA:   0:00:00"
     ]
    },
    {
     "name": "stdout",
     "output_type": "stream",
     "text": [
      "Inferring file N845_09_HE - 2019-11-21 21.02.47.ndpi\n"
     ]
    },
    {
     "name": "stderr",
     "output_type": "stream",
     "text": [
      " 99% (265 of 266) |##################### | Elapsed Time: 0:00:36 ETA:   0:00:00"
     ]
    },
    {
     "name": "stdout",
     "output_type": "stream",
     "text": [
      "Inferring file N395_11_1_HE - 2019-12-05 23.32.16.ndpi\n"
     ]
    },
    {
     "name": "stderr",
     "output_type": "stream",
     "text": [
      " 99% (1720 of 1721) |################### | Elapsed Time: 0:03:53 ETA:   0:00:00"
     ]
    },
    {
     "name": "stdout",
     "output_type": "stream",
     "text": [
      "Inferring file N740_10_2_HE - 2019-11-29 12.36.06.ndpi\n"
     ]
    },
    {
     "name": "stderr",
     "output_type": "stream",
     "text": [
      " 99% (1570 of 1572) |################### | Elapsed Time: 0:03:33 ETA:   0:00:00"
     ]
    },
    {
     "name": "stdout",
     "output_type": "stream",
     "text": [
      "Inferring file N1149_11_HE - 2019-12-11 17.29.16.ndpi\n"
     ]
    },
    {
     "name": "stderr",
     "output_type": "stream",
     "text": [
      " 92% (24 of 26) |######################  | Elapsed Time: 0:00:04 ETA:   0:00:00"
     ]
    },
    {
     "name": "stdout",
     "output_type": "stream",
     "text": [
      "Inferring file N515_10_1_HE - 2019-11-28 15.51.53.ndpi\n"
     ]
    },
    {
     "name": "stderr",
     "output_type": "stream",
     "text": [
      " 99% (1384 of 1386) |################### | Elapsed Time: 0:03:13 ETA:   0:00:00"
     ]
    },
    {
     "name": "stdout",
     "output_type": "stream",
     "text": [
      "Inferring file N1101_10_1_HE - 2019-12-02 16.58.41.ndpi\n"
     ]
    },
    {
     "name": "stderr",
     "output_type": "stream",
     "text": [
      " 99% (1482 of 1483) |################### | Elapsed Time: 0:03:24 ETA:   0:00:00"
     ]
    },
    {
     "name": "stdout",
     "output_type": "stream",
     "text": [
      "Inferring file N556_10_2_HE - 2019-11-28 19.01.57.ndpi\n"
     ]
    },
    {
     "name": "stderr",
     "output_type": "stream",
     "text": [
      " 99% (1269 of 1271) |################### | Elapsed Time: 0:02:58 ETA:   0:00:00"
     ]
    },
    {
     "name": "stdout",
     "output_type": "stream",
     "text": [
      "Inferring file N386_11_3_HE - 2019-12-05 21.55.09.ndpi\n"
     ]
    },
    {
     "name": "stderr",
     "output_type": "stream",
     "text": [
      " 99% (1562 of 1564) |################### | Elapsed Time: 0:03:27 ETA:   0:00:00"
     ]
    },
    {
     "name": "stdout",
     "output_type": "stream",
     "text": [
      "Inferring file N983_11_I1_HE - 2019-12-10 21.20.38.ndpi\n"
     ]
    },
    {
     "name": "stderr",
     "output_type": "stream",
     "text": [
      " 99% (869 of 871) |##################### | Elapsed Time: 0:02:07 ETA:   0:00:00"
     ]
    },
    {
     "name": "stdout",
     "output_type": "stream",
     "text": [
      "Inferring file N1475_11_1_HE - 2019-12-12 15.54.17.ndpi\n"
     ]
    },
    {
     "name": "stderr",
     "output_type": "stream",
     "text": [
      " 99% (781 of 782) |##################### | Elapsed Time: 0:01:48 ETA:   0:00:00"
     ]
    },
    {
     "name": "stdout",
     "output_type": "stream",
     "text": [
      "Inferring file N1607_09_II1_HE - 2019-11-25 23.43.34.ndpi\n"
     ]
    },
    {
     "name": "stderr",
     "output_type": "stream",
     "text": [
      " 99% (974 of 975) |##################### | Elapsed Time: 0:02:29 ETA:   0:00:00"
     ]
    },
    {
     "name": "stdout",
     "output_type": "stream",
     "text": [
      "Inferring file N726_11_1_HE - 2019-12-09 20.24.23.ndpi\n"
     ]
    },
    {
     "name": "stderr",
     "output_type": "stream",
     "text": [
      " 99% (1234 of 1236) |################### | Elapsed Time: 0:02:53 ETA:   0:00:00"
     ]
    },
    {
     "name": "stdout",
     "output_type": "stream",
     "text": [
      "Inferring file N1629_09_3_HE - 2019-11-26 01.36.00.ndpi\n"
     ]
    },
    {
     "name": "stderr",
     "output_type": "stream",
     "text": [
      " 99% (875 of 876) |##################### | Elapsed Time: 0:02:02 ETA:   0:00:00"
     ]
    },
    {
     "name": "stdout",
     "output_type": "stream",
     "text": [
      "Inferring file N977_10_2_HE - 2019-12-02 13.30.12.ndpi\n"
     ]
    },
    {
     "name": "stderr",
     "output_type": "stream",
     "text": [
      " 99% (1427 of 1429) |################### | Elapsed Time: 0:03:14 ETA:   0:00:00"
     ]
    },
    {
     "name": "stdout",
     "output_type": "stream",
     "text": [
      "Inferring file N1451_10_I2_HE - 2019-12-04 11.48.27.ndpi\n"
     ]
    },
    {
     "name": "stderr",
     "output_type": "stream",
     "text": [
      " 99% (1104 of 1106) |################### | Elapsed Time: 0:02:31 ETA:   0:00:00"
     ]
    },
    {
     "name": "stdout",
     "output_type": "stream",
     "text": [
      "Inferring file N648_10_1_HE - 2019-11-28 20.19.28.ndpi\n"
     ]
    },
    {
     "name": "stderr",
     "output_type": "stream",
     "text": [
      " 99% (1422 of 1424) |################### | Elapsed Time: 0:03:03 ETA:   0:00:00"
     ]
    },
    {
     "name": "stdout",
     "output_type": "stream",
     "text": [
      "Inferring file N846_11_IV_HE - 2019-12-10 14.55.56.ndpi\n"
     ]
    },
    {
     "name": "stderr",
     "output_type": "stream",
     "text": [
      " 99% (994 of 995) |##################### | Elapsed Time: 0:02:28 ETA:   0:00:00"
     ]
    },
    {
     "name": "stdout",
     "output_type": "stream",
     "text": [
      "Inferring file N1300_10_1_HE - 2019-12-03 15.40.07.ndpi\n"
     ]
    },
    {
     "name": "stderr",
     "output_type": "stream",
     "text": [
      " 99% (915 of 916) |##################### | Elapsed Time: 0:02:04 ETA:   0:00:00"
     ]
    },
    {
     "name": "stdout",
     "output_type": "stream",
     "text": [
      "Inferring file N1388_10_II_HE - 2019-12-03 18.21.38.ndpi\n"
     ]
    },
    {
     "name": "stderr",
     "output_type": "stream",
     "text": [
      " 98% (57 of 58) |####################### | Elapsed Time: 0:00:10 ETA:   0:00:00"
     ]
    },
    {
     "name": "stdout",
     "output_type": "stream",
     "text": [
      "Inferring file N1016_10_HE - 2019-12-03 11.39.39.ndpi\n"
     ]
    },
    {
     "name": "stderr",
     "output_type": "stream",
     "text": [
      " 99% (1123 of 1125) |################### | Elapsed Time: 0:02:28 ETA:   0:00:00"
     ]
    },
    {
     "name": "stdout",
     "output_type": "stream",
     "text": [
      "Inferring file N1183_11_1_HE - 2019-12-11 18.13.37.ndpi\n"
     ]
    },
    {
     "name": "stderr",
     "output_type": "stream",
     "text": [
      " 99% (992 of 993) |##################### | Elapsed Time: 0:02:10 ETA:   0:00:00"
     ]
    },
    {
     "name": "stdout",
     "output_type": "stream",
     "text": [
      "Inferring file N1040_09_II_HE - 2019-11-22 13.14.49.ndpi\n"
     ]
    },
    {
     "name": "stderr",
     "output_type": "stream",
     "text": [
      " 99% (494 of 495) |##################### | Elapsed Time: 0:01:11 ETA:   0:00:00"
     ]
    },
    {
     "name": "stdout",
     "output_type": "stream",
     "text": [
      "Inferring file N476_10_I_HE - 2019-11-28 14.31.06.ndpi\n"
     ]
    },
    {
     "name": "stderr",
     "output_type": "stream",
     "text": [
      " 99% (509 of 511) |##################### | Elapsed Time: 0:01:12 ETA:   0:00:00"
     ]
    },
    {
     "name": "stdout",
     "output_type": "stream",
     "text": [
      "Inferring file N254_10_I3_HE - 2019-11-27 17.19.34.ndpi\n"
     ]
    },
    {
     "name": "stderr",
     "output_type": "stream",
     "text": [
      " 99% (1777 of 1778) |################### | Elapsed Time: 0:04:03 ETA:   0:00:00"
     ]
    },
    {
     "name": "stdout",
     "output_type": "stream",
     "text": [
      "Inferring file N1671_11_2_HE - 2019-12-12 23.11.08.ndpi\n"
     ]
    },
    {
     "name": "stderr",
     "output_type": "stream",
     "text": [
      " 99% (1383 of 1385) |################### | Elapsed Time: 0:03:17 ETA:   0:00:00"
     ]
    },
    {
     "name": "stdout",
     "output_type": "stream",
     "text": [
      "Inferring file N1236_11_HE - 2019-12-11 18.35.06.ndpi\n"
     ]
    },
    {
     "name": "stderr",
     "output_type": "stream",
     "text": [
      " 99% (1374 of 1376) |################### | Elapsed Time: 0:03:04 ETA:   0:00:00"
     ]
    },
    {
     "name": "stdout",
     "output_type": "stream",
     "text": [
      "Inferring file N274_11_II5_HE - 2019-12-05 18.18.37.ndpi\n"
     ]
    },
    {
     "name": "stderr",
     "output_type": "stream",
     "text": [
      " 99% (1029 of 1031) |################### | Elapsed Time: 0:02:30 ETA:   0:00:00"
     ]
    },
    {
     "name": "stdout",
     "output_type": "stream",
     "text": [
      "Inferring file N1046_09_3_HE - 2019-11-22 15.06.26.ndpi\n"
     ]
    },
    {
     "name": "stderr",
     "output_type": "stream",
     "text": [
      " 99% (897 of 898) |##################### | Elapsed Time: 0:02:07 ETA:   0:00:00"
     ]
    },
    {
     "name": "stdout",
     "output_type": "stream",
     "text": [
      "Inferring file N567_11_2_HE - 2019-12-09 15.29.04.ndpi\n"
     ]
    },
    {
     "name": "stderr",
     "output_type": "stream",
     "text": [
      " 99% (1061 of 1062) |################### | Elapsed Time: 0:02:32 ETA:   0:00:00"
     ]
    },
    {
     "name": "stdout",
     "output_type": "stream",
     "text": [
      "Inferring file N811_09_2_HE - 2019-11-21 18.15.30.ndpi\n"
     ]
    },
    {
     "name": "stderr",
     "output_type": "stream",
     "text": [
      " 99% (1715 of 1716) |################### | Elapsed Time: 0:03:53 ETA:   0:00:00"
     ]
    },
    {
     "name": "stdout",
     "output_type": "stream",
     "text": [
      "Inferring file N1339_11_1_HE - 2019-12-11 20.12.50.ndpi\n"
     ]
    },
    {
     "name": "stderr",
     "output_type": "stream",
     "text": [
      " 99% (1359 of 1361) |################### | Elapsed Time: 0:03:06 ETA:   0:00:00"
     ]
    },
    {
     "name": "stdout",
     "output_type": "stream",
     "text": [
      "Inferring file N442_10_1_HE - 2019-11-28 11.45.45.ndpi\n"
     ]
    },
    {
     "name": "stderr",
     "output_type": "stream",
     "text": [
      " 99% (1133 of 1135) |################### | Elapsed Time: 0:02:52 ETA:   0:00:00"
     ]
    },
    {
     "name": "stdout",
     "output_type": "stream",
     "text": [
      "Inferring file N280_11_HE - 2019-12-05 18.30.56.ndpi\n"
     ]
    },
    {
     "name": "stderr",
     "output_type": "stream",
     "text": [
      " 99% (718 of 719) |##################### | Elapsed Time: 0:01:45 ETA:   0:00:00"
     ]
    },
    {
     "name": "stdout",
     "output_type": "stream",
     "text": [
      "Inferring file N918_10_HE - 2019-12-02 11.07.52.ndpi\n"
     ]
    },
    {
     "name": "stderr",
     "output_type": "stream",
     "text": [
      " 99% (274 of 275) |##################### | Elapsed Time: 0:00:42 ETA:   0:00:00"
     ]
    },
    {
     "name": "stdout",
     "output_type": "stream",
     "text": [
      "Inferring file N968_09_5_HE - 2019-11-22 03.38.48.ndpi\n"
     ]
    },
    {
     "name": "stderr",
     "output_type": "stream",
     "text": [
      " 99% (1420 of 1422) |################### | Elapsed Time: 0:03:25 ETA:   0:00:00"
     ]
    },
    {
     "name": "stdout",
     "output_type": "stream",
     "text": [
      "Inferring file N39_09_4_HE - 2019-11-19 15.24.27.ndpi\n"
     ]
    },
    {
     "name": "stderr",
     "output_type": "stream",
     "text": [
      " 99% (1637 of 1639) |################### | Elapsed Time: 0:03:56 ETA:   0:00:00"
     ]
    },
    {
     "name": "stdout",
     "output_type": "stream",
     "text": [
      "Inferring file N810_10_II_HE - 2019-11-29 17.50.10.ndpi\n"
     ]
    },
    {
     "name": "stderr",
     "output_type": "stream",
     "text": [
      " 99% (1578 of 1580) |################### | Elapsed Time: 0:03:48 ETA:   0:00:00"
     ]
    },
    {
     "name": "stdout",
     "output_type": "stream",
     "text": [
      "Inferring file N1547_11_1_HE - 2019-12-12 20.25.44.ndpi\n"
     ]
    },
    {
     "name": "stderr",
     "output_type": "stream",
     "text": [
      " 99% (779 of 781) |##################### | Elapsed Time: 0:02:00 ETA:   0:00:00"
     ]
    },
    {
     "name": "stdout",
     "output_type": "stream",
     "text": [
      "Inferring file N1142_09_I_HE - 2019-11-22 18.17.38.ndpi\n"
     ]
    },
    {
     "name": "stderr",
     "output_type": "stream",
     "text": [
      " 99% (153 of 154) |##################### | Elapsed Time: 0:00:24 ETA:   0:00:00"
     ]
    },
    {
     "name": "stdout",
     "output_type": "stream",
     "text": [
      "Inferring file N1571_11_4_HE - 2019-12-12 21.52.21.ndpi\n"
     ]
    },
    {
     "name": "stderr",
     "output_type": "stream",
     "text": [
      " 99% (1110 of 1112) |################### | Elapsed Time: 0:02:48 ETA:   0:00:00"
     ]
    },
    {
     "name": "stdout",
     "output_type": "stream",
     "text": [
      "Inferring file N880_10_II2_HE - 2019-11-29 22.29.43.ndpi\n"
     ]
    },
    {
     "name": "stderr",
     "output_type": "stream",
     "text": [
      " 99% (680 of 682) |##################### | Elapsed Time: 0:01:43 ETA:   0:00:00"
     ]
    },
    {
     "name": "stdout",
     "output_type": "stream",
     "text": [
      "Inferring file N1531_11_1_HE - 2019-12-12 18.23.45.ndpi\n"
     ]
    },
    {
     "name": "stderr",
     "output_type": "stream",
     "text": [
      " 99% (709 of 711) |##################### | Elapsed Time: 0:01:52 ETA:   0:00:00"
     ]
    },
    {
     "name": "stdout",
     "output_type": "stream",
     "text": [
      "Inferring file N393_11_I5_HE - 2019-12-05 23.03.59.ndpi\n"
     ]
    },
    {
     "name": "stderr",
     "output_type": "stream",
     "text": [
      " 99% (1115 of 1117) |################### | Elapsed Time: 0:02:51 ETA:   0:00:00"
     ]
    },
    {
     "name": "stdout",
     "output_type": "stream",
     "text": [
      "Inferring file N730_10_1_HE - 2019-11-29 10.41.05.ndpi\n"
     ]
    },
    {
     "name": "stderr",
     "output_type": "stream",
     "text": [
      " 99% (1578 of 1580) |################### | Elapsed Time: 0:03:52 ETA:   0:00:00"
     ]
    },
    {
     "name": "stdout",
     "output_type": "stream",
     "text": [
      "Inferring file N687_09_1_HE - 2019-11-21 12.56.38.ndpi\n"
     ]
    },
    {
     "name": "stderr",
     "output_type": "stream",
     "text": [
      " 99% (693 of 695) |##################### | Elapsed Time: 0:01:41 ETA:   0:00:00"
     ]
    },
    {
     "name": "stdout",
     "output_type": "stream",
     "text": [
      "Inferring file N1030_11_3_HE - 2019-12-10 22.46.10.ndpi\n"
     ]
    },
    {
     "name": "stderr",
     "output_type": "stream",
     "text": [
      " 99% (1028 of 1030) |################### | Elapsed Time: 0:02:42 ETA:   0:00:00"
     ]
    },
    {
     "name": "stdout",
     "output_type": "stream",
     "text": [
      "Inferring file N726_11_2_HE - 2019-12-09 20.36.23.ndpi\n"
     ]
    },
    {
     "name": "stderr",
     "output_type": "stream",
     "text": [
      " 99% (973 of 975) |##################### | Elapsed Time: 0:02:30 ETA:   0:00:00"
     ]
    },
    {
     "name": "stdout",
     "output_type": "stream",
     "text": [
      "Inferring file N1127_11_II6_HE - 2019-12-11 17.03.19.ndpi\n"
     ]
    },
    {
     "name": "stderr",
     "output_type": "stream",
     "text": [
      " 99% (741 of 743) |##################### | Elapsed Time: 0:01:54 ETA:   0:00:00"
     ]
    },
    {
     "name": "stdout",
     "output_type": "stream",
     "text": [
      "Inferring file N1085_09_2_HE - 2019-11-22 17.24.10.ndpi\n"
     ]
    },
    {
     "name": "stderr",
     "output_type": "stream",
     "text": [
      " 99% (1203 of 1204) |################### | Elapsed Time: 0:03:05 ETA:   0:00:00"
     ]
    },
    {
     "name": "stdout",
     "output_type": "stream",
     "text": [
      "Inferring file N1075_09_3_HE - 2019-11-22 16.43.01.ndpi\n"
     ]
    },
    {
     "name": "stderr",
     "output_type": "stream",
     "text": [
      " 99% (944 of 946) |##################### | Elapsed Time: 0:02:19 ETA:   0:00:00"
     ]
    },
    {
     "name": "stdout",
     "output_type": "stream",
     "text": [
      "Inferring file N1258_11_HE - 2019-12-11 19.02.11.ndpi\n"
     ]
    },
    {
     "name": "stderr",
     "output_type": "stream",
     "text": [
      " 99% (769 of 770) |##################### | Elapsed Time: 0:01:49 ETA:   0:00:00"
     ]
    },
    {
     "name": "stdout",
     "output_type": "stream",
     "text": [
      "Inferring file N93_11_2_HE - 2019-12-04 20.10.56.ndpi\n"
     ]
    },
    {
     "name": "stderr",
     "output_type": "stream",
     "text": [
      " 99% (837 of 838) |##################### | Elapsed Time: 0:02:04 ETA:   0:00:00"
     ]
    },
    {
     "name": "stdout",
     "output_type": "stream",
     "text": [
      "Inferring file N928_09_II2_HE - 2019-11-22 00.28.36.ndpi\n"
     ]
    },
    {
     "name": "stderr",
     "output_type": "stream",
     "text": [
      " 99% (128 of 129) |##################### | Elapsed Time: 0:00:17 ETA:   0:00:00"
     ]
    },
    {
     "name": "stdout",
     "output_type": "stream",
     "text": [
      "Inferring file N1342_09_3_HE - 2019-11-25 19.08.22.ndpi\n"
     ]
    },
    {
     "name": "stderr",
     "output_type": "stream",
     "text": [
      " 99% (1427 of 1428) |################### | Elapsed Time: 0:03:18 ETA:   0:00:00"
     ]
    },
    {
     "name": "stdout",
     "output_type": "stream",
     "text": [
      "Inferring file N1481_09_HE - 2019-11-25 16.12.57.ndpi\n"
     ]
    },
    {
     "name": "stderr",
     "output_type": "stream",
     "text": [
      " 99% (919 of 921) |##################### | Elapsed Time: 0:02:05 ETA:   0:00:00"
     ]
    },
    {
     "name": "stdout",
     "output_type": "stream",
     "text": [
      "Inferring file N731_11_1_HE - 2019-12-09 20.46.37.ndpi\n"
     ]
    },
    {
     "name": "stderr",
     "output_type": "stream",
     "text": [
      " 99% (1343 of 1345) |################### | Elapsed Time: 0:03:07 ETA:   0:00:00"
     ]
    },
    {
     "name": "stdout",
     "output_type": "stream",
     "text": [
      "Inferring file N953_10_1_HE - 2019-12-02 11.51.25.ndpi\n"
     ]
    },
    {
     "name": "stderr",
     "output_type": "stream",
     "text": [
      " 99% (1552 of 1553) |################### | Elapsed Time: 0:03:37 ETA:   0:00:00"
     ]
    },
    {
     "name": "stdout",
     "output_type": "stream",
     "text": [
      "Inferring file N931_10_HE - 2019-12-02 11.14.22.ndpi\n"
     ]
    },
    {
     "name": "stderr",
     "output_type": "stream",
     "text": [
      " 99% (1079 of 1080) |################### | Elapsed Time: 0:02:34 ETA:   0:00:00"
     ]
    },
    {
     "name": "stdout",
     "output_type": "stream",
     "text": [
      "Inferring file N977_10_1_HE - 2019-12-02 13.14.02.ndpi\n"
     ]
    },
    {
     "name": "stderr",
     "output_type": "stream",
     "text": [
      " 99% (1453 of 1454) |################### | Elapsed Time: 0:03:34 ETA:   0:00:00"
     ]
    },
    {
     "name": "stdout",
     "output_type": "stream",
     "text": [
      "Inferring file N1071_09_III_HE - 2019-11-22 15.30.29.ndpi\n"
     ]
    },
    {
     "name": "stderr",
     "output_type": "stream",
     "text": [
      " 98% (53 of 54) |####################### | Elapsed Time: 0:00:07 ETA:   0:00:00"
     ]
    },
    {
     "name": "stdout",
     "output_type": "stream",
     "text": [
      "Inferring file N126_09_5_HE - 2019-11-19 20.08.48.ndpi\n"
     ]
    },
    {
     "name": "stderr",
     "output_type": "stream",
     "text": [
      " 99% (1608 of 1610) |################### | Elapsed Time: 0:03:40 ETA:   0:00:00"
     ]
    },
    {
     "name": "stdout",
     "output_type": "stream",
     "text": [
      "Inferring file N846_11_VI_HE - 2019-12-10 15.21.07.ndpi\n"
     ]
    },
    {
     "name": "stderr",
     "output_type": "stream",
     "text": [
      " 99% (610 of 611) |##################### | Elapsed Time: 0:01:30 ETA:   0:00:00"
     ]
    },
    {
     "name": "stdout",
     "output_type": "stream",
     "text": [
      "Inferring file N1537_11_I4_HE - 2019-12-12 19.53.54.ndpi\n"
     ]
    },
    {
     "name": "stderr",
     "output_type": "stream",
     "text": [
      " 99% (1149 of 1150) |################### | Elapsed Time: 0:02:47 ETA:   0:00:00"
     ]
    },
    {
     "name": "stdout",
     "output_type": "stream",
     "text": [
      "Inferring file N937_10_1_HE - 2019-12-02 11.29.12.ndpi\n"
     ]
    },
    {
     "name": "stderr",
     "output_type": "stream",
     "text": [
      " 99% (351 of 353) |##################### | Elapsed Time: 0:00:57 ETA:   0:00:00"
     ]
    },
    {
     "name": "stdout",
     "output_type": "stream",
     "text": [
      "Inferring file N274_11_II4_HE - 2019-12-05 18.08.18.ndpi\n"
     ]
    },
    {
     "name": "stderr",
     "output_type": "stream",
     "text": [
      " 99% (1044 of 1045) |################### | Elapsed Time: 0:02:33 ETA:   0:00:00"
     ]
    },
    {
     "name": "stdout",
     "output_type": "stream",
     "text": [
      "Inferring file N739_09_I2_HE - 2019-11-21 14.26.37.ndpi\n"
     ]
    },
    {
     "name": "stderr",
     "output_type": "stream",
     "text": [
      " 99% (1379 of 1380) |################### | Elapsed Time: 0:03:20 ETA:   0:00:00"
     ]
    },
    {
     "name": "stdout",
     "output_type": "stream",
     "text": [
      "Inferring file N811_09_3_HE - 2019-11-21 18.32.28.ndpi\n"
     ]
    },
    {
     "name": "stderr",
     "output_type": "stream",
     "text": [
      " 99% (1519 of 1521) |################### | Elapsed Time: 0:03:39 ETA:   0:00:00"
     ]
    },
    {
     "name": "stdout",
     "output_type": "stream",
     "text": [
      "Inferring file N1585_10_II_HE - 2019-12-04 13.32.45.ndpi\n"
     ]
    },
    {
     "name": "stderr",
     "output_type": "stream",
     "text": [
      " 99% (189 of 190) |##################### | Elapsed Time: 0:00:25 ETA:   0:00:00"
     ]
    },
    {
     "name": "stdout",
     "output_type": "stream",
     "text": [
      "Inferring file N968_09_2_HE - 2019-11-22 02.58.58.ndpi\n"
     ]
    },
    {
     "name": "stderr",
     "output_type": "stream",
     "text": [
      " 99% (1281 of 1282) |################### | Elapsed Time: 0:03:13 ETA:   0:00:00"
     ]
    },
    {
     "name": "stdout",
     "output_type": "stream",
     "text": [
      "Inferring file N977_10_5_HE - 2019-12-02 14.22.55.ndpi\n"
     ]
    },
    {
     "name": "stderr",
     "output_type": "stream",
     "text": [
      " 99% (1577 of 1578) |################### | Elapsed Time: 0:03:57 ETA:   0:00:00"
     ]
    },
    {
     "name": "stdout",
     "output_type": "stream",
     "text": [
      "Inferring file N977_10_4_HE - 2019-12-02 14.04.41.ndpi\n"
     ]
    },
    {
     "name": "stderr",
     "output_type": "stream",
     "text": [
      " 99% (1603 of 1605) |################### | Elapsed Time: 0:03:41 ETA:   0:00:00"
     ]
    },
    {
     "name": "stdout",
     "output_type": "stream",
     "text": [
      "Inferring file N1391_11_3_HE - 2019-12-11 22.54.45.ndpi\n"
     ]
    },
    {
     "name": "stderr",
     "output_type": "stream",
     "text": [
      " 99% (1037 of 1039) |################### | Elapsed Time: 0:02:27 ETA:   0:00:00"
     ]
    },
    {
     "name": "stdout",
     "output_type": "stream",
     "text": [
      "Inferring file N1391_11_2_HE - 2019-12-11 22.40.32.ndpi\n"
     ]
    },
    {
     "name": "stderr",
     "output_type": "stream",
     "text": [
      " 99% (1500 of 1502) |################### | Elapsed Time: 0:03:27 ETA:   0:00:00"
     ]
    },
    {
     "name": "stdout",
     "output_type": "stream",
     "text": [
      "Inferring file N1003_09_I2_HE - 2019-11-22 04.03.02.ndpi\n"
     ]
    },
    {
     "name": "stderr",
     "output_type": "stream",
     "text": [
      " 99% (171 of 172) |##################### | Elapsed Time: 0:00:22 ETA:   0:00:00"
     ]
    },
    {
     "name": "stdout",
     "output_type": "stream",
     "text": [
      "Inferring file N670_10_I1_HE - 2019-11-28 20.45.27.ndpi\n"
     ]
    },
    {
     "name": "stderr",
     "output_type": "stream",
     "text": [
      " 99% (810 of 812) |##################### | Elapsed Time: 0:01:54 ETA:   0:00:00"
     ]
    },
    {
     "name": "stdout",
     "output_type": "stream",
     "text": [
      "Inferring file N1067_11_I_HE - 2019-12-10 23.28.28.ndpi\n"
     ]
    },
    {
     "name": "stderr",
     "output_type": "stream",
     "text": [
      " 99% (425 of 427) |##################### | Elapsed Time: 0:01:05 ETA:   0:00:00"
     ]
    },
    {
     "name": "stdout",
     "output_type": "stream",
     "text": [
      "Inferring file N762_09_5_HE - 2019-11-22 02.48.43.ndpi\n"
     ]
    },
    {
     "name": "stderr",
     "output_type": "stream",
     "text": [
      " 99% (967 of 968) |##################### | Elapsed Time: 0:02:29 ETA:   0:00:00"
     ]
    },
    {
     "name": "stdout",
     "output_type": "stream",
     "text": [
      "Inferring file N740_10_3_HE - 2019-11-29 12.53.23.ndpi\n"
     ]
    },
    {
     "name": "stderr",
     "output_type": "stream",
     "text": [
      " 99% (1423 of 1425) |################### | Elapsed Time: 0:03:31 ETA:   0:00:00"
     ]
    },
    {
     "name": "stdout",
     "output_type": "stream",
     "text": [
      "Inferring file N954_10_II_HE - 2019-12-02 12.49.29.ndpi\n"
     ]
    },
    {
     "name": "stderr",
     "output_type": "stream",
     "text": [
      " 99% (297 of 299) |##################### | Elapsed Time: 0:00:52 ETA:   0:00:00"
     ]
    },
    {
     "name": "stdout",
     "output_type": "stream",
     "text": [
      "Inferring file N369_11_II_HE - 2019-12-05 20.52.18.ndpi\n"
     ]
    },
    {
     "name": "stderr",
     "output_type": "stream",
     "text": [
      " 99% (617 of 619) |##################### | Elapsed Time: 0:01:34 ETA:   0:00:00"
     ]
    },
    {
     "name": "stdout",
     "output_type": "stream",
     "text": [
      "Inferring file N158_10_2_HE - 2019-11-27 13.17.57.ndpi\n"
     ]
    },
    {
     "name": "stderr",
     "output_type": "stream",
     "text": [
      " 99% (1398 of 1400) |################### | Elapsed Time: 0:03:34 ETA:   0:00:00"
     ]
    },
    {
     "name": "stdout",
     "output_type": "stream",
     "text": [
      "Inferring file N1615_10_HE - 2019-12-04 13.35.56.ndpi\n"
     ]
    },
    {
     "name": "stderr",
     "output_type": "stream",
     "text": [
      " 99% (616 of 618) |##################### | Elapsed Time: 0:01:36 ETA:   0:00:00"
     ]
    },
    {
     "name": "stdout",
     "output_type": "stream",
     "text": [
      "Inferring file N1459_11_2_HE - 2019-12-12 15.32.50.ndpi\n"
     ]
    },
    {
     "name": "stderr",
     "output_type": "stream",
     "text": [
      " 99% (941 of 942) |##################### | Elapsed Time: 0:02:33 ETA:   0:00:00"
     ]
    },
    {
     "name": "stdout",
     "output_type": "stream",
     "text": [
      "Inferring file N556_10_3_HE - 2019-11-28 19.18.38.ndpi\n"
     ]
    },
    {
     "name": "stderr",
     "output_type": "stream",
     "text": [
      " 99% (1068 of 1069) |################### | Elapsed Time: 0:02:39 ETA:   0:00:00"
     ]
    },
    {
     "name": "stdout",
     "output_type": "stream",
     "text": [
      "Inferring file N1121_09_HE - 2019-11-22 17.56.00.ndpi\n"
     ]
    },
    {
     "name": "stderr",
     "output_type": "stream",
     "text": [
      " 99% (702 of 703) |##################### | Elapsed Time: 0:01:46 ETA:   0:00:00"
     ]
    },
    {
     "name": "stdout",
     "output_type": "stream",
     "text": [
      "Inferring file N140_10_1_HE - 2019-11-27 12.17.30.ndpi\n"
     ]
    },
    {
     "name": "stderr",
     "output_type": "stream",
     "text": [
      " 99% (1102 of 1104) |################### | Elapsed Time: 0:02:47 ETA:   0:00:00"
     ]
    },
    {
     "name": "stdout",
     "output_type": "stream",
     "text": [
      "Inferring file N1127_11_II1_HE - 2019-12-11 16.22.04.ndpi\n"
     ]
    },
    {
     "name": "stderr",
     "output_type": "stream",
     "text": [
      " 99% (843 of 844) |##################### | Elapsed Time: 0:02:07 ETA:   0:00:00"
     ]
    },
    {
     "name": "stdout",
     "output_type": "stream",
     "text": [
      "Inferring file N320_11_2_HE - 2019-12-05 19.43.07.ndpi\n"
     ]
    },
    {
     "name": "stderr",
     "output_type": "stream",
     "text": [
      " 99% (1279 of 1281) |################### | Elapsed Time: 0:03:12 ETA:   0:00:00"
     ]
    },
    {
     "name": "stdout",
     "output_type": "stream",
     "text": [
      "Inferring file N1303_10_HE - 2019-12-03 16.21.45.ndpi\n"
     ]
    },
    {
     "name": "stderr",
     "output_type": "stream",
     "text": [
      " 99% (920 of 921) |##################### | Elapsed Time: 0:02:28 ETA:   0:00:00"
     ]
    },
    {
     "name": "stdout",
     "output_type": "stream",
     "text": [
      "Inferring file N1499_11_1_HE - 2019-12-12 17.23.02.ndpi\n"
     ]
    },
    {
     "name": "stderr",
     "output_type": "stream",
     "text": [
      " 99% (1383 of 1385) |################### | Elapsed Time: 0:03:27 ETA:   0:00:00"
     ]
    },
    {
     "name": "stdout",
     "output_type": "stream",
     "text": [
      "Inferring file N731_11_3_HE - 2019-12-09 21.12.27.ndpi\n"
     ]
    },
    {
     "name": "stderr",
     "output_type": "stream",
     "text": [
      " 99% (1509 of 1511) |################### | Elapsed Time: 0:03:43 ETA:   0:00:00"
     ]
    },
    {
     "name": "stdout",
     "output_type": "stream",
     "text": [
      "Inferring file N1670_10_HE - 2019-12-04 14.03.14.ndpi\n"
     ]
    },
    {
     "name": "stderr",
     "output_type": "stream",
     "text": [
      " 96% (31 of 32) |####################### | Elapsed Time: 0:00:06 ETA:   0:00:00"
     ]
    },
    {
     "name": "stdout",
     "output_type": "stream",
     "text": [
      "Inferring file N1686_10_1_HE - 2019-12-04 14.20.00.ndpi\n"
     ]
    },
    {
     "name": "stderr",
     "output_type": "stream",
     "text": [
      " 99% (1434 of 1436) |################### | Elapsed Time: 0:03:30 ETA:   0:00:00"
     ]
    },
    {
     "name": "stdout",
     "output_type": "stream",
     "text": [
      "Inferring file N790_11_III2_HE - 2019-12-09 22.45.28.ndpi\n"
     ]
    },
    {
     "name": "stderr",
     "output_type": "stream",
     "text": [
      " 99% (848 of 850) |##################### | Elapsed Time: 0:02:08 ETA:   0:00:00"
     ]
    },
    {
     "name": "stdout",
     "output_type": "stream",
     "text": [
      "Inferring file N742_10_III2_HE - 2019-11-29 14.40.46.ndpi\n"
     ]
    },
    {
     "name": "stderr",
     "output_type": "stream",
     "text": [
      " 99% (1459 of 1461) |################### | Elapsed Time: 0:03:26 ETA:   0:00:00"
     ]
    },
    {
     "name": "stdout",
     "output_type": "stream",
     "text": [
      "Inferring file N696_10_1_HE - 2019-11-29 10.26.40.ndpi\n"
     ]
    },
    {
     "name": "stderr",
     "output_type": "stream",
     "text": [
      " 99% (971 of 972) |##################### | Elapsed Time: 0:02:35 ETA:   0:00:01"
     ]
    },
    {
     "name": "stdout",
     "output_type": "stream",
     "text": [
      "Inferring file N788_09_5_HE - 2019-11-21 17.32.35.ndpi\n"
     ]
    },
    {
     "name": "stderr",
     "output_type": "stream",
     "text": [
      " 99% (1066 of 1068) |################### | Elapsed Time: 0:02:35 ETA:   0:00:00"
     ]
    },
    {
     "name": "stdout",
     "output_type": "stream",
     "text": [
      "Inferring file N1445_10_HE - 2019-12-03 19.27.40.ndpi\n"
     ]
    },
    {
     "name": "stderr",
     "output_type": "stream",
     "text": [
      " 99% (575 of 576) |##################### | Elapsed Time: 0:01:26 ETA:   0:00:00"
     ]
    },
    {
     "name": "stdout",
     "output_type": "stream",
     "text": [
      "Inferring file N1079_09_HE - 2019-11-22 17.08.29.ndpi\n"
     ]
    },
    {
     "name": "stderr",
     "output_type": "stream",
     "text": [
      " 94% (33 of 35) |######################  | Elapsed Time: 0:00:04 ETA:   0:00:00"
     ]
    },
    {
     "name": "stdout",
     "output_type": "stream",
     "text": [
      "Inferring file N937_10_3_HE - 2019-12-02 11.38.11.ndpi\n"
     ]
    },
    {
     "name": "stderr",
     "output_type": "stream",
     "text": [
      " 99% (1190 of 1192) |################### | Elapsed Time: 0:02:47 ETA:   0:00:00"
     ]
    },
    {
     "name": "stdout",
     "output_type": "stream",
     "text": [
      "Inferring file N788_09_3_HE - 2019-11-21 17.07.01.ndpi\n"
     ]
    },
    {
     "name": "stderr",
     "output_type": "stream",
     "text": [
      " 99% (1049 of 1051) |################### | Elapsed Time: 0:02:28 ETA:   0:00:00"
     ]
    },
    {
     "name": "stdout",
     "output_type": "stream",
     "text": [
      "Inferring file N1523_09_1_HE - 2019-11-25 17.45.06.ndpi\n"
     ]
    },
    {
     "name": "stderr",
     "output_type": "stream",
     "text": [
      " 99% (972 of 973) |##################### | Elapsed Time: 0:02:16 ETA:   0:00:00"
     ]
    },
    {
     "name": "stdout",
     "output_type": "stream",
     "text": [
      "Inferring file N534_10_1_HE - 2019-11-28 17.19.29.ndpi\n"
     ]
    },
    {
     "name": "stderr",
     "output_type": "stream",
     "text": [
      " 99% (1215 of 1217) |################### | Elapsed Time: 0:03:01 ETA:   0:00:00"
     ]
    },
    {
     "name": "stdout",
     "output_type": "stream",
     "text": [
      "Inferring file N446_09_2_HE - 2019-11-20 01.00.54.ndpi\n"
     ]
    },
    {
     "name": "stderr",
     "output_type": "stream",
     "text": [
      " 99% (1473 of 1475) |################### | Elapsed Time: 0:03:36 ETA:   0:00:00"
     ]
    },
    {
     "name": "stdout",
     "output_type": "stream",
     "text": [
      "Inferring file N544_09_HE - 2019-11-21 11.10.50.ndpi\n"
     ]
    },
    {
     "name": "stderr",
     "output_type": "stream",
     "text": [
      " 99% (345 of 347) |##################### | Elapsed Time: 0:00:54 ETA:   0:00:00"
     ]
    },
    {
     "name": "stdout",
     "output_type": "stream",
     "text": [
      "Inferring file N39_09_1_HE - 2019-11-19 14.44.24.ndpi\n"
     ]
    },
    {
     "name": "stderr",
     "output_type": "stream",
     "text": [
      " 99% (1321 of 1323) |################### | Elapsed Time: 0:03:05 ETA:   0:00:00"
     ]
    },
    {
     "name": "stdout",
     "output_type": "stream",
     "text": [
      "Inferring file N166_10_1_HE - 2019-11-27 14.34.14.ndpi\n"
     ]
    },
    {
     "name": "stderr",
     "output_type": "stream",
     "text": [
      " 99% (1030 of 1031) |################### | Elapsed Time: 0:02:24 ETA:   0:00:00"
     ]
    },
    {
     "name": "stdout",
     "output_type": "stream",
     "text": [
      "Inferring file N1079_11_1_HE - 2019-12-10 23.48.55.ndpi\n"
     ]
    },
    {
     "name": "stderr",
     "output_type": "stream",
     "text": [
      " 99% (1057 of 1059) |################### | Elapsed Time: 0:02:38 ETA:   0:00:00"
     ]
    },
    {
     "name": "stdout",
     "output_type": "stream",
     "text": [
      "Inferring file N368_11_HE - 2019-12-05 20.22.34.ndpi\n"
     ]
    },
    {
     "name": "stderr",
     "output_type": "stream",
     "text": [
      " 99% (614 of 616) |##################### | Elapsed Time: 0:01:33 ETA:   0:00:00"
     ]
    },
    {
     "name": "stdout",
     "output_type": "stream",
     "text": [
      "Inferring file N1429_11_II_HE - 2019-12-12 00.45.22.ndpi\n"
     ]
    },
    {
     "name": "stderr",
     "output_type": "stream",
     "text": [
      " 99% (903 of 904) |##################### | Elapsed Time: 0:02:26 ETA:   0:00:00"
     ]
    },
    {
     "name": "stdout",
     "output_type": "stream",
     "text": [
      "Inferring file N534_10_5_HE - 2019-11-28 18.29.13.ndpi\n"
     ]
    },
    {
     "name": "stderr",
     "output_type": "stream",
     "text": [
      " 99% (1443 of 1445) |################### | Elapsed Time: 0:03:44 ETA:   0:00:00"
     ]
    },
    {
     "name": "stdout",
     "output_type": "stream",
     "text": [
      "Inferring file N1585_10_I2_HE - 2019-12-04 13.02.07.ndpi\n"
     ]
    },
    {
     "name": "stderr",
     "output_type": "stream",
     "text": [
      " 99% (1000 of 1001) |################### | Elapsed Time: 0:02:48 ETA:   0:00:00"
     ]
    },
    {
     "name": "stdout",
     "output_type": "stream",
     "text": [
      "Inferring file N1537_11_I3_HE - 2019-12-12 19.42.58.ndpi\n"
     ]
    },
    {
     "name": "stderr",
     "output_type": "stream",
     "text": [
      " 99% (1147 of 1148) |################### | Elapsed Time: 0:02:51 ETA:   0:00:00"
     ]
    },
    {
     "name": "stdout",
     "output_type": "stream",
     "text": [
      "Inferring file N1111_11_II1_HE - 2019-12-11 08.53.55.ndpi\n"
     ]
    },
    {
     "name": "stderr",
     "output_type": "stream",
     "text": [
      " 99% (1271 of 1272) |################### | Elapsed Time: 0:03:02 ETA:   0:00:00"
     ]
    },
    {
     "name": "stdout",
     "output_type": "stream",
     "text": [
      "Inferring file N1584_09_I_HE - 2019-11-25 23.14.11.ndpi\n"
     ]
    },
    {
     "name": "stderr",
     "output_type": "stream",
     "text": [
      " 99% (268 of 270) |##################### | Elapsed Time: 0:00:39 ETA:   0:00:00"
     ]
    },
    {
     "name": "stdout",
     "output_type": "stream",
     "text": [
      "Inferring file N846_11_III_HE - 2019-12-10 14.44.18.ndpi\n"
     ]
    },
    {
     "name": "stderr",
     "output_type": "stream",
     "text": [
      " 99% (1038 of 1040) |################### | Elapsed Time: 0:02:33 ETA:   0:00:00"
     ]
    },
    {
     "name": "stdout",
     "output_type": "stream",
     "text": [
      "Inferring file N287_11_1_HE - 2019-12-05 18.40.15.ndpi\n"
     ]
    },
    {
     "name": "stderr",
     "output_type": "stream",
     "text": [
      " 99% (313 of 314) |##################### | Elapsed Time: 0:00:47 ETA:   0:00:00"
     ]
    },
    {
     "name": "stdout",
     "output_type": "stream",
     "text": [
      "Inferring file N259_10_1_HE - 2019-11-27 18.25.19.ndpi\n"
     ]
    },
    {
     "name": "stderr",
     "output_type": "stream",
     "text": [
      " 99% (893 of 895) |##################### | Elapsed Time: 0:02:05 ETA:   0:00:00"
     ]
    },
    {
     "name": "stdout",
     "output_type": "stream",
     "text": [
      "Inferring file N922_09_I_HE - 2019-11-21 23.58.09.ndpi\n"
     ]
    },
    {
     "name": "stderr",
     "output_type": "stream",
     "text": [
      " 99% (342 of 344) |##################### | Elapsed Time: 0:00:46 ETA:   0:00:00"
     ]
    },
    {
     "name": "stdout",
     "output_type": "stream",
     "text": [
      "Inferring file N669_11_4_HE - 2019-12-09 18.28.43.ndpi\n"
     ]
    },
    {
     "name": "stderr",
     "output_type": "stream",
     "text": [
      " 99% (1268 of 1270) |################### | Elapsed Time: 0:03:04 ETA:   0:00:00"
     ]
    },
    {
     "name": "stdout",
     "output_type": "stream",
     "text": [
      "Inferring file N1382_10_2_HE - 2019-12-03 17.59.33.ndpi\n"
     ]
    },
    {
     "name": "stderr",
     "output_type": "stream",
     "text": [
      " 99% (759 of 761) |##################### | Elapsed Time: 0:01:53 ETA:   0:00:00"
     ]
    },
    {
     "name": "stdout",
     "output_type": "stream",
     "text": [
      "Inferring file N268_10_1_HE - 2019-11-27 19.01.16.ndpi\n"
     ]
    },
    {
     "name": "stderr",
     "output_type": "stream",
     "text": [
      " 99% (1188 of 1190) |################### | Elapsed Time: 0:02:49 ETA:   0:00:00"
     ]
    },
    {
     "name": "stdout",
     "output_type": "stream",
     "text": [
      "Inferring file N1376_10_HE - 2019-12-03 17.28.07.ndpi\n"
     ]
    },
    {
     "name": "stderr",
     "output_type": "stream",
     "text": [
      " 99% (777 of 779) |##################### | Elapsed Time: 0:01:50 ETA:   0:00:00"
     ]
    },
    {
     "name": "stdout",
     "output_type": "stream",
     "text": [
      "Inferring file N223_10_2_HE - 2019-11-27 16.10.55.ndpi\n"
     ]
    },
    {
     "name": "stderr",
     "output_type": "stream",
     "text": [
      " 99% (933 of 935) |##################### | Elapsed Time: 0:02:14 ETA:   0:00:00"
     ]
    },
    {
     "name": "stdout",
     "output_type": "stream",
     "text": [
      "Inferring file N407_11_II_HE - 2019-12-06 09.34.50.ndpi\n"
     ]
    },
    {
     "name": "stderr",
     "output_type": "stream",
     "text": [
      " 99% (609 of 611) |##################### | Elapsed Time: 0:01:26 ETA:   0:00:00"
     ]
    },
    {
     "name": "stdout",
     "output_type": "stream",
     "text": [
      "Inferring file N914_11_2_HE - 2019-12-10 17.40.08.ndpi\n"
     ]
    },
    {
     "name": "stderr",
     "output_type": "stream",
     "text": [
      " 99% (1287 of 1289) |################### | Elapsed Time: 0:03:00 ETA:   0:00:00"
     ]
    },
    {
     "name": "stdout",
     "output_type": "stream",
     "text": [
      "Inferring file N386_11_1_HE - 2019-12-05 21.27.51.ndpi\n"
     ]
    },
    {
     "name": "stderr",
     "output_type": "stream",
     "text": [
      " 99% (1352 of 1353) |################### | Elapsed Time: 0:03:18 ETA:   0:00:00"
     ]
    },
    {
     "name": "stdout",
     "output_type": "stream",
     "text": [
      "Inferring file N1240_11_HE - 2019-12-11 18.49.52.ndpi\n"
     ]
    },
    {
     "name": "stderr",
     "output_type": "stream",
     "text": [
      " 99% (1162 of 1164) |################### | Elapsed Time: 0:02:45 ETA:   0:00:00"
     ]
    },
    {
     "name": "stdout",
     "output_type": "stream",
     "text": [
      "Inferring file N1451_10_II_HE - 2019-12-03 20.03.03.ndpi\n"
     ]
    },
    {
     "name": "stderr",
     "output_type": "stream",
     "text": [
      " 99% (472 of 474) |##################### | Elapsed Time: 0:01:09 ETA:   0:00:00"
     ]
    },
    {
     "name": "stdout",
     "output_type": "stream",
     "text": [
      "Inferring file N292_11_II_HE - 2019-12-05 19.03.16.ndpi\n"
     ]
    },
    {
     "name": "stderr",
     "output_type": "stream",
     "text": [
      " 98% (102 of 104) |##################### | Elapsed Time: 0:00:14 ETA:   0:00:00"
     ]
    },
    {
     "name": "stdout",
     "output_type": "stream",
     "text": [
      "Inferring file N1151_11_4_HE - 2019-12-11 18.01.32.ndpi\n"
     ]
    },
    {
     "name": "stderr",
     "output_type": "stream",
     "text": [
      " 99% (1060 of 1062) |################### | Elapsed Time: 0:02:43 ETA:   0:00:00"
     ]
    },
    {
     "name": "stdout",
     "output_type": "stream",
     "text": [
      "Inferring file N369_11_I2_HE - 2019-12-05 20.41.54.ndpi\n"
     ]
    },
    {
     "name": "stderr",
     "output_type": "stream",
     "text": [
      " 99% (1147 of 1149) |################### | Elapsed Time: 0:03:02 ETA:   0:00:00"
     ]
    },
    {
     "name": "stdout",
     "output_type": "stream",
     "text": [
      "Inferring file N774_10_2_HE - 2019-11-29 15.59.23.ndpi\n"
     ]
    },
    {
     "name": "stderr",
     "output_type": "stream",
     "text": [
      " 99% (1588 of 1590) |################### | Elapsed Time: 0:03:56 ETA:   0:00:00"
     ]
    },
    {
     "name": "stdout",
     "output_type": "stream",
     "text": [
      "Inferring file N1329_09_HE - 2019-11-25 10.35.13.ndpi\n"
     ]
    },
    {
     "name": "stderr",
     "output_type": "stream",
     "text": [
      " 99% (484 of 485) |##################### | Elapsed Time: 0:01:14 ETA:   0:00:00"
     ]
    },
    {
     "name": "stdout",
     "output_type": "stream",
     "text": [
      "Inferring file N166_10_3_HE - 2019-11-27 15.07.48.ndpi\n"
     ]
    },
    {
     "name": "stderr",
     "output_type": "stream",
     "text": [
      " 99% (1041 of 1043) |################### | Elapsed Time: 0:02:42 ETA:   0:00:00"
     ]
    },
    {
     "name": "stdout",
     "output_type": "stream",
     "text": [
      "Inferring file N1045_11_2_HE - 2019-12-10 23.08.18.ndpi\n"
     ]
    },
    {
     "name": "stderr",
     "output_type": "stream",
     "text": [
      " 99% (1007 of 1008) |################### | Elapsed Time: 0:02:28 ETA:   0:00:00"
     ]
    },
    {
     "name": "stdout",
     "output_type": "stream",
     "text": [
      "Inferring file N126_09_3_HE - 2019-11-19 19.42.37.ndpi\n"
     ]
    },
    {
     "name": "stderr",
     "output_type": "stream",
     "text": [
      " 99% (1237 of 1239) |################### | Elapsed Time: 0:03:03 ETA:   0:00:00"
     ]
    },
    {
     "name": "stdout",
     "output_type": "stream",
     "text": [
      "Inferring file N165_10_1_HE - 2019-11-27 13.55.27.ndpi\n"
     ]
    },
    {
     "name": "stderr",
     "output_type": "stream",
     "text": [
      " 99% (802 of 803) |##################### | Elapsed Time: 0:02:05 ETA:   0:00:00"
     ]
    },
    {
     "name": "stdout",
     "output_type": "stream",
     "text": [
      "Inferring file N948_11_3_HE - 2019-12-10 19.57.46.ndpi\n"
     ]
    },
    {
     "name": "stderr",
     "output_type": "stream",
     "text": [
      " 99% (697 of 698) |##################### | Elapsed Time: 0:01:49 ETA:   0:00:00"
     ]
    },
    {
     "name": "stdout",
     "output_type": "stream",
     "text": [
      "Inferring file N1529_09_2_HE - 2019-11-25 20.16.30.ndpi\n"
     ]
    },
    {
     "name": "stderr",
     "output_type": "stream",
     "text": [
      " 99% (1303 of 1305) |################### | Elapsed Time: 0:03:01 ETA:   0:00:00"
     ]
    },
    {
     "name": "stdout",
     "output_type": "stream",
     "text": [
      "Inferring file N402_11_I3_HE - 2019-12-06 00.24.30.ndpi\n"
     ]
    },
    {
     "name": "stderr",
     "output_type": "stream",
     "text": [
      " 99% (1386 of 1388) |################### | Elapsed Time: 0:03:22 ETA:   0:00:00"
     ]
    },
    {
     "name": "stdout",
     "output_type": "stream",
     "text": [
      "Inferring file N515_10_3_HE - 2019-11-28 16.16.49.ndpi\n"
     ]
    },
    {
     "name": "stderr",
     "output_type": "stream",
     "text": [
      " 99% (955 of 957) |##################### | Elapsed Time: 0:02:20 ETA:   0:00:00"
     ]
    },
    {
     "name": "stdout",
     "output_type": "stream",
     "text": [
      "Inferring file N393_11_I4_HE - 2019-12-05 22.49.11.ndpi\n"
     ]
    },
    {
     "name": "stderr",
     "output_type": "stream",
     "text": [
      " 99% (1644 of 1645) |################### | Elapsed Time: 0:04:16 ETA:   0:00:00"
     ]
    },
    {
     "name": "stdout",
     "output_type": "stream",
     "text": [
      "Inferring file N50_10_I_HE - 2019-11-27 10.24.40.ndpi\n"
     ]
    },
    {
     "name": "stderr",
     "output_type": "stream",
     "text": [
      " 99% (558 of 559) |##################### | Elapsed Time: 0:01:24 ETA:   0:00:00"
     ]
    },
    {
     "name": "stdout",
     "output_type": "stream",
     "text": [
      "Inferring file N56_10_2_HE - 2019-11-27 11.21.18.ndpi\n"
     ]
    },
    {
     "name": "stderr",
     "output_type": "stream",
     "text": [
      " 99% (1208 of 1209) |################### | Elapsed Time: 0:03:03 ETA:   0:00:00"
     ]
    },
    {
     "name": "stdout",
     "output_type": "stream",
     "text": [
      "Inferring file N403_10_1_HE - 2019-11-28 09.25.19.ndpi\n"
     ]
    },
    {
     "name": "stderr",
     "output_type": "stream",
     "text": [
      " 99% (1620 of 1622) |################### | Elapsed Time: 0:04:03 ETA:   0:00:00"
     ]
    },
    {
     "name": "stdout",
     "output_type": "stream",
     "text": [
      "Inferring file N15_11_1_HE - 2019-12-04 16.05.34.ndpi\n"
     ]
    },
    {
     "name": "stderr",
     "output_type": "stream",
     "text": [
      " 99% (597 of 599) |##################### | Elapsed Time: 0:01:36 ETA:   0:00:00"
     ]
    },
    {
     "name": "stdout",
     "output_type": "stream",
     "text": [
      "Inferring file N1686_10_2_HE - 2019-12-04 14.33.49.ndpi\n"
     ]
    },
    {
     "name": "stderr",
     "output_type": "stream",
     "text": [
      " 99% (953 of 955) |##################### | Elapsed Time: 0:02:29 ETA:   0:00:00"
     ]
    },
    {
     "name": "stdout",
     "output_type": "stream",
     "text": [
      "Inferring file N1268_09_5_HE - 2019-11-22 23.50.17.ndpi\n"
     ]
    },
    {
     "name": "stderr",
     "output_type": "stream",
     "text": [
      " 99% (1186 of 1187) |################### | Elapsed Time: 0:02:49 ETA:   0:00:00"
     ]
    },
    {
     "name": "stdout",
     "output_type": "stream",
     "text": [
      "Inferring file N1228_10_I2_HE - 2019-12-03 09.59.16.ndpi\n"
     ]
    },
    {
     "name": "stderr",
     "output_type": "stream",
     "text": [
      " 99% (1335 of 1337) |################### | Elapsed Time: 0:03:05 ETA:   0:00:00"
     ]
    },
    {
     "name": "stdout",
     "output_type": "stream",
     "text": [
      "Inferring file N213_09_II_HE - 2019-11-19 23.30.52.ndpi\n"
     ]
    },
    {
     "name": "stderr",
     "output_type": "stream",
     "text": [
      " 99% (564 of 566) |##################### | Elapsed Time: 0:01:22 ETA:   0:00:00"
     ]
    },
    {
     "name": "stdout",
     "output_type": "stream",
     "text": [
      "Inferring file N873_10_3_HE - 2019-11-29 21.11.16.ndpi\n"
     ]
    },
    {
     "name": "stderr",
     "output_type": "stream",
     "text": [
      " 99% (1505 of 1507) |################### | Elapsed Time: 0:03:31 ETA:   0:00:00"
     ]
    },
    {
     "name": "stdout",
     "output_type": "stream",
     "text": [
      "Inferring file N28_09_1_HE - 2019-11-19 11.56.24.ndpi\n"
     ]
    },
    {
     "name": "stderr",
     "output_type": "stream",
     "text": [
      " 99% (1567 of 1569) |################### | Elapsed Time: 0:03:37 ETA:   0:00:00"
     ]
    },
    {
     "name": "stdout",
     "output_type": "stream",
     "text": [
      "Inferring file N747_09_1_HE - 2019-11-21 15.25.33.ndpi\n"
     ]
    },
    {
     "name": "stderr",
     "output_type": "stream",
     "text": [
      " 99% (1201 of 1202) |################### | Elapsed Time: 0:02:45 ETA:   0:00:00"
     ]
    },
    {
     "name": "stdout",
     "output_type": "stream",
     "text": [
      "Inferring file N790_11_II3_HE - 2019-12-09 22.37.53.ndpi\n"
     ]
    },
    {
     "name": "stderr",
     "output_type": "stream",
     "text": [
      " 99% (791 of 793) |##################### | Elapsed Time: 0:01:49 ETA:   0:00:00"
     ]
    },
    {
     "name": "stdout",
     "output_type": "stream",
     "text": [
      "Inferring file N567_11_4_HE - 2019-12-09 15.51.30.ndpi\n"
     ]
    },
    {
     "name": "stderr",
     "output_type": "stream",
     "text": [
      " 99% (390 of 392) |##################### | Elapsed Time: 0:00:56 ETA:   0:00:00"
     ]
    },
    {
     "name": "stdout",
     "output_type": "stream",
     "text": [
      "Inferring file N1429_11_I_HE - 2019-12-12 00.36.20.ndpi\n"
     ]
    },
    {
     "name": "stderr",
     "output_type": "stream",
     "text": [
      " 99% (152 of 153) |##################### | Elapsed Time: 0:00:22 ETA:   0:00:00"
     ]
    },
    {
     "name": "stdout",
     "output_type": "stream",
     "text": [
      "Inferring file N742_10_II2_HE - 2019-11-29 14.03.14.ndpi\n"
     ]
    },
    {
     "name": "stderr",
     "output_type": "stream",
     "text": [
      " 99% (710 of 711) |##################### | Elapsed Time: 0:01:42 ETA:   0:00:00"
     ]
    },
    {
     "name": "stdout",
     "output_type": "stream",
     "text": [
      "Inferring file N700_09_I_HE - 2019-11-21 13.55.32.ndpi\n"
     ]
    },
    {
     "name": "stderr",
     "output_type": "stream",
     "text": [
      " 98% (186 of 188) |##################### | Elapsed Time: 0:00:27 ETA:   0:00:00"
     ]
    },
    {
     "name": "stdout",
     "output_type": "stream",
     "text": [
      "Inferring file N1513_09_2_HE - 2019-11-25 16.48.59.ndpi\n"
     ]
    },
    {
     "name": "stderr",
     "output_type": "stream",
     "text": [
      " 99% (1243 of 1245) |################### | Elapsed Time: 0:02:58 ETA:   0:00:00"
     ]
    },
    {
     "name": "stdout",
     "output_type": "stream",
     "text": [
      "Inferring file N1266_10_II1_HE - 2019-12-03 13.58.39.ndpi\n"
     ]
    },
    {
     "name": "stderr",
     "output_type": "stream",
     "text": [
      " 99% (1121 of 1123) |################### | Elapsed Time: 0:02:32 ETA:   0:00:00"
     ]
    },
    {
     "name": "stdout",
     "output_type": "stream",
     "text": [
      "Inferring file N1071_09_II_HE - 2019-11-22 15.27.05.ndpi\n"
     ]
    },
    {
     "name": "stderr",
     "output_type": "stream",
     "text": [
      " 97% (81 of 83) |####################### | Elapsed Time: 0:00:10 ETA:   0:00:00"
     ]
    },
    {
     "name": "stdout",
     "output_type": "stream",
     "text": [
      "Inferring file N664_11_3_HE - 2019-12-09 16.50.42.ndpi\n"
     ]
    },
    {
     "name": "stderr",
     "output_type": "stream",
     "text": [
      " 99% (1230 of 1232) |################### | Elapsed Time: 0:02:58 ETA:   0:00:00"
     ]
    },
    {
     "name": "stdout",
     "output_type": "stream",
     "text": [
      "Inferring file N879_11_HE - 2019-12-10 16.13.58.ndpi\n"
     ]
    },
    {
     "name": "stderr",
     "output_type": "stream",
     "text": [
      " 99% (1492 of 1493) |################### | Elapsed Time: 0:03:28 ETA:   0:00:00"
     ]
    },
    {
     "name": "stdout",
     "output_type": "stream",
     "text": [
      "Inferring file N411_10_5_HE - 2019-11-28 11.25.52.ndpi\n"
     ]
    },
    {
     "name": "stderr",
     "output_type": "stream",
     "text": [
      " 99% (1717 of 1719) |################### | Elapsed Time: 0:03:52 ETA:   0:00:00"
     ]
    },
    {
     "name": "stdout",
     "output_type": "stream",
     "text": [
      "Inferring file N1188_09_1_HE - 2019-11-22 20.10.12.ndpi\n"
     ]
    },
    {
     "name": "stderr",
     "output_type": "stream",
     "text": [
      " 99% (1114 of 1115) |################### | Elapsed Time: 0:02:35 ETA:   0:00:00"
     ]
    },
    {
     "name": "stdout",
     "output_type": "stream",
     "text": [
      "Inferring file N1548_11_HE - 2019-12-12 21.03.37.ndpi\n"
     ]
    },
    {
     "name": "stderr",
     "output_type": "stream",
     "text": [
      " 99% (922 of 923) |##################### | Elapsed Time: 0:02:13 ETA:   0:00:00"
     ]
    },
    {
     "name": "stdout",
     "output_type": "stream",
     "text": [
      "Inferring file N236_11_2_HE - 2019-12-05 11.39.30.ndpi\n"
     ]
    },
    {
     "name": "stderr",
     "output_type": "stream",
     "text": [
      " 99% (1108 of 1109) |################### | Elapsed Time: 0:02:51 ETA:   0:00:00"
     ]
    },
    {
     "name": "stdout",
     "output_type": "stream",
     "text": [
      "Inferring file N1122_09_HE - 2019-11-22 18.07.33.ndpi\n"
     ]
    },
    {
     "name": "stderr",
     "output_type": "stream",
     "text": [
      " 99% (575 of 576) |##################### | Elapsed Time: 0:01:25 ETA:   0:00:00"
     ]
    },
    {
     "name": "stdout",
     "output_type": "stream",
     "text": [
      "Inferring file N55_10_1_HE - 2019-11-27 10.39.05.ndpi\n"
     ]
    },
    {
     "name": "stderr",
     "output_type": "stream",
     "text": [
      " 99% (1080 of 1081) |################### | Elapsed Time: 0:02:40 ETA:   0:00:00"
     ]
    },
    {
     "name": "stdout",
     "output_type": "stream",
     "text": [
      "Inferring file N695_10_2_HE - 2019-11-29 11.44.41.ndpi\n"
     ]
    },
    {
     "name": "stderr",
     "output_type": "stream",
     "text": [
      " 99% (825 of 826) |##################### | Elapsed Time: 0:01:57 ETA:   0:00:00"
     ]
    },
    {
     "name": "stdout",
     "output_type": "stream",
     "text": [
      "Inferring file N847_10_B_HE - 2019-11-29 19.32.21.ndpi\n"
     ]
    },
    {
     "name": "stderr",
     "output_type": "stream",
     "text": [
      " 99% (901 of 903) |##################### | Elapsed Time: 0:02:19 ETA:   0:00:00"
     ]
    },
    {
     "name": "stdout",
     "output_type": "stream",
     "text": [
      "Inferring file N1194_09_2_HE - 2019-11-22 21.41.39.ndpi\n"
     ]
    },
    {
     "name": "stderr",
     "output_type": "stream",
     "text": [
      " 99% (1100 of 1101) |################### | Elapsed Time: 0:02:40 ETA:   0:00:00"
     ]
    },
    {
     "name": "stdout",
     "output_type": "stream",
     "text": [
      "Inferring file N184_09_7_HE - 2019-11-19 22.48.48.ndpi\n"
     ]
    },
    {
     "name": "stderr",
     "output_type": "stream",
     "text": [
      " 99% (1430 of 1432) |################### | Elapsed Time: 0:03:29 ETA:   0:00:00"
     ]
    },
    {
     "name": "stdout",
     "output_type": "stream",
     "text": [
      "Inferring file N549_11_2_HE - 2019-12-09 13.56.43.ndpi\n"
     ]
    },
    {
     "name": "stderr",
     "output_type": "stream",
     "text": [
      " 99% (926 of 927) |##################### | Elapsed Time: 0:02:22 ETA:   0:00:00"
     ]
    },
    {
     "name": "stdout",
     "output_type": "stream",
     "text": [
      "Inferring file N833_09_4_HE - 2019-11-21 20.34.49.ndpi\n"
     ]
    },
    {
     "name": "stderr",
     "output_type": "stream",
     "text": [
      " 99% (1085 of 1086) |################### | Elapsed Time: 0:02:44 ETA:   0:00:00"
     ]
    },
    {
     "name": "stdout",
     "output_type": "stream",
     "text": [
      "Inferring file N376_11_1_HE - 2019-12-05 21.01.07.ndpi\n"
     ]
    },
    {
     "name": "stderr",
     "output_type": "stream",
     "text": [
      " 99% (1241 of 1243) |################### | Elapsed Time: 0:03:18 ETA:   0:00:00"
     ]
    },
    {
     "name": "stdout",
     "output_type": "stream",
     "text": [
      "Inferring file N846_11_II_HE - 2019-12-10 14.33.41.ndpi\n"
     ]
    },
    {
     "name": "stderr",
     "output_type": "stream",
     "text": [
      " 99% (1141 of 1143) |################### | Elapsed Time: 0:02:51 ETA:   0:00:00"
     ]
    },
    {
     "name": "stdout",
     "output_type": "stream",
     "text": [
      "Inferring file N1071_09_I_HE - 2019-11-22 15.18.15.ndpi\n"
     ]
    },
    {
     "name": "stderr",
     "output_type": "stream",
     "text": [
      " 99% (309 of 310) |##################### | Elapsed Time: 0:00:46 ETA:   0:00:00"
     ]
    },
    {
     "name": "stdout",
     "output_type": "stream",
     "text": [
      "Inferring file N1228_10_II2_HE - 2019-12-03 11.14.49.ndpi\n"
     ]
    },
    {
     "name": "stderr",
     "output_type": "stream",
     "text": [
      " 99% (1069 of 1071) |################### | Elapsed Time: 0:02:37 ETA:   0:00:00"
     ]
    },
    {
     "name": "stdout",
     "output_type": "stream",
     "text": [
      "Inferring file N89_09_II3_HE - 2019-11-19 17.32.46.ndpi\n"
     ]
    },
    {
     "name": "stderr",
     "output_type": "stream",
     "text": [
      " 99% (1726 of 1728) |################### | Elapsed Time: 0:06:09 ETA:   0:00:00"
     ]
    },
    {
     "name": "stdout",
     "output_type": "stream",
     "text": [
      "Inferring file N957_11_3_HE - 2019-12-10 21.15.45.ndpi\n"
     ]
    },
    {
     "name": "stderr",
     "output_type": "stream",
     "text": [
      " 99% (442 of 444) |##################### | Elapsed Time: 0:01:12 ETA:   0:00:00"
     ]
    },
    {
     "name": "stdout",
     "output_type": "stream",
     "text": [
      "Inferring file N1458_11_II_HE - 2019-12-12 15.13.24.ndpi\n"
     ]
    },
    {
     "name": "stderr",
     "output_type": "stream",
     "text": [
      " 99% (854 of 856) |##################### | Elapsed Time: 0:02:04 ETA:   0:00:00"
     ]
    },
    {
     "name": "stdout",
     "output_type": "stream",
     "text": [
      "Inferring file N1180_10_II1_HE - 2019-12-02 21.52.22.ndpi\n"
     ]
    },
    {
     "name": "stderr",
     "output_type": "stream",
     "text": [
      " 99% (685 of 687) |##################### | Elapsed Time: 0:01:40 ETA:   0:00:00"
     ]
    },
    {
     "name": "stdout",
     "output_type": "stream",
     "text": [
      "Inferring file N968_09_3_HE - 2019-11-22 03.13.01.ndpi\n"
     ]
    },
    {
     "name": "stderr",
     "output_type": "stream",
     "text": [
      " 99% (1229 of 1231) |################### | Elapsed Time: 0:03:10 ETA:   0:00:00"
     ]
    },
    {
     "name": "stdout",
     "output_type": "stream",
     "text": [
      "Inferring file N846_11_V_HE - 2019-12-10 15.07.36.ndpi\n"
     ]
    },
    {
     "name": "stderr",
     "output_type": "stream",
     "text": [
      " 99% (1036 of 1038) |################### | Elapsed Time: 0:02:53 ETA:   0:00:00"
     ]
    },
    {
     "name": "stdout",
     "output_type": "stream",
     "text": [
      "Inferring file N1121_11_I4_HE - 2019-12-11 15.41.24.ndpi\n"
     ]
    },
    {
     "name": "stderr",
     "output_type": "stream",
     "text": [
      " 99% (1479 of 1481) |################### | Elapsed Time: 0:04:17 ETA:   0:00:00"
     ]
    },
    {
     "name": "stdout",
     "output_type": "stream",
     "text": [
      "Inferring file N1268_09_1_HE - 2019-11-22 22.55.39.ndpi\n"
     ]
    },
    {
     "name": "stderr",
     "output_type": "stream",
     "text": [
      " 99% (971 of 973) |##################### | Elapsed Time: 0:02:44 ETA:   0:00:00"
     ]
    },
    {
     "name": "stdout",
     "output_type": "stream",
     "text": [
      "Inferring file N63_10_I_HE - 2019-11-27 11.37.01.ndpi\n"
     ]
    },
    {
     "name": "stderr",
     "output_type": "stream",
     "text": [
      " 98% (72 of 73) |####################### | Elapsed Time: 0:00:10 ETA:   0:00:00"
     ]
    },
    {
     "name": "stdout",
     "output_type": "stream",
     "text": [
      "Inferring file N923_11_I2_HE - 2019-12-10 18.27.47.ndpi\n"
     ]
    },
    {
     "name": "stderr",
     "output_type": "stream",
     "text": [
      " 99% (712 of 714) |##################### | Elapsed Time: 0:01:52 ETA:   0:00:00"
     ]
    },
    {
     "name": "stdout",
     "output_type": "stream",
     "text": [
      "Inferring file N313_11_I_HE - 2019-12-05 19.11.35.ndpi\n"
     ]
    },
    {
     "name": "stderr",
     "output_type": "stream",
     "text": [
      " 99% (435 of 437) |##################### | Elapsed Time: 0:01:03 ETA:   0:00:00"
     ]
    },
    {
     "name": "stdout",
     "output_type": "stream",
     "text": [
      "Inferring file N1560_09_3_HE - 2019-11-25 21.39.17.ndpi\n"
     ]
    },
    {
     "name": "stderr",
     "output_type": "stream",
     "text": [
      " 99% (1108 of 1110) |################### | Elapsed Time: 0:02:41 ETA:   0:00:00"
     ]
    },
    {
     "name": "stdout",
     "output_type": "stream",
     "text": [
      "Inferring file N24_09_1_HE - 2019-11-19 10.59.31.ndpi\n"
     ]
    },
    {
     "name": "stderr",
     "output_type": "stream",
     "text": [
      " 99% (1468 of 1470) |################### | Elapsed Time: 0:03:20 ETA:   0:00:00"
     ]
    },
    {
     "name": "stdout",
     "output_type": "stream",
     "text": [
      "Inferring file N1607_09_II2_HE - 2019-11-25 23.55.42.ndpi\n"
     ]
    },
    {
     "name": "stderr",
     "output_type": "stream",
     "text": [
      " 99% (911 of 913) |##################### | Elapsed Time: 0:02:11 ETA:   0:00:00"
     ]
    },
    {
     "name": "stdout",
     "output_type": "stream",
     "text": [
      "Inferring file N126_09_4_HE - 2019-11-19 19.53.23.ndpi\n"
     ]
    },
    {
     "name": "stderr",
     "output_type": "stream",
     "text": [
      " 99% (1506 of 1508) |################### | Elapsed Time: 0:03:45 ETA:   0:00:00"
     ]
    },
    {
     "name": "stdout",
     "output_type": "stream",
     "text": [
      "Inferring file N968_09_1_HE - 2019-11-22 01.07.31.ndpi\n"
     ]
    },
    {
     "name": "stderr",
     "output_type": "stream",
     "text": [
      " 99% (1282 of 1284) |################### | Elapsed Time: 0:03:14 ETA:   0:00:00"
     ]
    },
    {
     "name": "stdout",
     "output_type": "stream",
     "text": [
      "Inferring file N921_09_I1_HE - 2019-11-21 22.57.43.ndpi\n"
     ]
    },
    {
     "name": "stderr",
     "output_type": "stream",
     "text": [
      " 99% (1289 of 1291) |################### | Elapsed Time: 0:03:21 ETA:   0:00:00"
     ]
    },
    {
     "name": "stdout",
     "output_type": "stream",
     "text": [
      "Inferring file N1095_11_2_HE - 2019-12-11 00.18.44.ndpi\n"
     ]
    },
    {
     "name": "stderr",
     "output_type": "stream",
     "text": [
      " 99% (1141 of 1143) |################### | Elapsed Time: 0:02:53 ETA:   0:00:00"
     ]
    },
    {
     "name": "stdout",
     "output_type": "stream",
     "text": [
      "Inferring file N18_09_HE - 2019-11-19 10.52.06.ndpi\n"
     ]
    },
    {
     "name": "stderr",
     "output_type": "stream",
     "text": [
      " 99% (220 of 222) |##################### | Elapsed Time: 0:00:33 ETA:   0:00:00"
     ]
    },
    {
     "name": "stdout",
     "output_type": "stream",
     "text": [
      "Inferring file N1342_09_4_HE - 2019-11-25 19.23.37.ndpi\n"
     ]
    },
    {
     "name": "stderr",
     "output_type": "stream",
     "text": [
      " 99% (386 of 387) |##################### | Elapsed Time: 0:01:03 ETA:   0:00:00"
     ]
    },
    {
     "name": "stdout",
     "output_type": "stream",
     "text": [
      "Inferring file N1297_09_1_HE - 2019-11-23 01.15.28.ndpi\n"
     ]
    },
    {
     "name": "stderr",
     "output_type": "stream",
     "text": [
      " 99% (1289 of 1290) |################### | Elapsed Time: 0:03:08 ETA:   0:00:00"
     ]
    },
    {
     "name": "stdout",
     "output_type": "stream",
     "text": [
      "Inferring file N1537_11_I1_HE - 2019-12-12 19.21.09.ndpi\n"
     ]
    },
    {
     "name": "stderr",
     "output_type": "stream",
     "text": [
      " 99% (1290 of 1292) |################### | Elapsed Time: 0:02:50 ETA:   0:00:00"
     ]
    },
    {
     "name": "stdout",
     "output_type": "stream",
     "text": [
      "Inferring file N1152_09_HE - 2019-11-22 18.25.21.ndpi\n"
     ]
    },
    {
     "name": "stderr",
     "output_type": "stream",
     "text": [
      " 99% (1558 of 1560) |################### | Elapsed Time: 0:03:35 ETA:   0:00:00"
     ]
    },
    {
     "name": "stdout",
     "output_type": "stream",
     "text": [
      "Inferring file N667_11_HE - 2019-12-09 17.42.39.ndpi\n"
     ]
    },
    {
     "name": "stderr",
     "output_type": "stream",
     "text": [
      " 99% (930 of 932) |##################### | Elapsed Time: 0:02:14 ETA:   0:00:00"
     ]
    },
    {
     "name": "stdout",
     "output_type": "stream",
     "text": [
      "Inferring file N537_11_2_HE - 2019-12-09 12.29.24.ndpi\n"
     ]
    },
    {
     "name": "stderr",
     "output_type": "stream",
     "text": [
      " 99% (1606 of 1608) |################### | Elapsed Time: 0:03:51 ETA:   0:00:00"
     ]
    },
    {
     "name": "stdout",
     "output_type": "stream",
     "text": [
      "Inferring file N115_09_5_HE - 2019-11-19 18.50.40.ndpi\n"
     ]
    },
    {
     "name": "stderr",
     "output_type": "stream",
     "text": [
      " 99% (1647 of 1648) |################### | Elapsed Time: 0:04:18 ETA:   0:00:00"
     ]
    },
    {
     "name": "stdout",
     "output_type": "stream",
     "text": [
      "Inferring file N1575_10_HE - 2019-12-04 12.31.53.ndpi\n"
     ]
    },
    {
     "name": "stderr",
     "output_type": "stream",
     "text": [
      " 99% (980 of 981) |##################### | Elapsed Time: 0:02:26 ETA:   0:00:00"
     ]
    },
    {
     "name": "stdout",
     "output_type": "stream",
     "text": [
      "Inferring file N407_11_I_HE - 2019-12-06 00.41.20.ndpi\n"
     ]
    },
    {
     "name": "stderr",
     "output_type": "stream",
     "text": [
      " 99% (644 of 645) |##################### | Elapsed Time: 0:01:40 ETA:   0:00:00"
     ]
    },
    {
     "name": "stdout",
     "output_type": "stream",
     "text": [
      "Inferring file N1638_09_HE - 2019-11-26 02.06.31.ndpi\n"
     ]
    },
    {
     "name": "stderr",
     "output_type": "stream",
     "text": [
      " 98% (84 of 85) |####################### | Elapsed Time: 0:00:12 ETA:   0:00:00"
     ]
    },
    {
     "name": "stdout",
     "output_type": "stream",
     "text": [
      "Inferring file N93_11_1_HE - 2019-12-04 19.55.36.ndpi\n"
     ]
    },
    {
     "name": "stderr",
     "output_type": "stream",
     "text": [
      " 99% (1156 of 1157) |################### | Elapsed Time: 0:03:02 ETA:   0:00:00"
     ]
    },
    {
     "name": "stdout",
     "output_type": "stream",
     "text": [
      "Inferring file N928_09_II1_HE - 2019-11-22 00.22.49.ndpi\n"
     ]
    },
    {
     "name": "stderr",
     "output_type": "stream",
     "text": [
      " 99% (212 of 214) |##################### | Elapsed Time: 0:00:32 ETA:   0:00:00"
     ]
    },
    {
     "name": "stdout",
     "output_type": "stream",
     "text": [
      "Inferring file N270_11_1_HE - 2019-12-05 16.26.20.ndpi\n"
     ]
    },
    {
     "name": "stderr",
     "output_type": "stream",
     "text": [
      " 99% (636 of 637) |##################### | Elapsed Time: 0:01:32 ETA:   0:00:00"
     ]
    },
    {
     "name": "stdout",
     "output_type": "stream",
     "text": [
      "Inferring file N774_10_1_HE - 2019-11-29 15.42.57.ndpi\n"
     ]
    },
    {
     "name": "stderr",
     "output_type": "stream",
     "text": [
      " 99% (1443 of 1444) |################### | Elapsed Time: 0:03:34 ETA:   0:00:00"
     ]
    },
    {
     "name": "stdout",
     "output_type": "stream",
     "text": [
      "Inferring file N921_09_I3_HE - 2019-11-21 23.30.36.ndpi\n"
     ]
    },
    {
     "name": "stderr",
     "output_type": "stream",
     "text": [
      " 99% (1216 of 1218) |################### | Elapsed Time: 0:03:08 ETA:   0:00:00"
     ]
    },
    {
     "name": "stdout",
     "output_type": "stream",
     "text": [
      "Inferring file N1180_09_Ib_HE - 2019-11-22 19.17.05.ndpi\n"
     ]
    },
    {
     "name": "stderr",
     "output_type": "stream",
     "text": [
      " 99% (159 of 160) |##################### | Elapsed Time: 0:00:28 ETA:   0:00:00"
     ]
    },
    {
     "name": "stdout",
     "output_type": "stream",
     "text": [
      "Inferring file N184_09_5_HE - 2019-11-19 22.21.32.ndpi\n"
     ]
    },
    {
     "name": "stderr",
     "output_type": "stream",
     "text": [
      " 99% (1475 of 1477) |################### | Elapsed Time: 0:03:48 ETA:   0:00:00"
     ]
    },
    {
     "name": "stdout",
     "output_type": "stream",
     "text": [
      "Inferring file N555_11_II2_HE - 2019-12-09 14.35.00.ndpi\n"
     ]
    },
    {
     "name": "stderr",
     "output_type": "stream",
     "text": [
      " 99% (1177 of 1179) |################### | Elapsed Time: 0:03:06 ETA:   0:00:00"
     ]
    },
    {
     "name": "stdout",
     "output_type": "stream",
     "text": [
      "Inferring file N1259_11_I_HE - 2019-12-11 19.12.41.ndpi\n"
     ]
    },
    {
     "name": "stderr",
     "output_type": "stream",
     "text": [
      " 98% (111 of 113) |##################### | Elapsed Time: 0:00:18 ETA:   0:00:00"
     ]
    },
    {
     "name": "stdout",
     "output_type": "stream",
     "text": [
      "Inferring file N1266_10_I2_HE - 2019-12-03 13.35.27.ndpi\n"
     ]
    },
    {
     "name": "stderr",
     "output_type": "stream",
     "text": [
      " 99% (926 of 928) |##################### | Elapsed Time: 0:02:20 ETA:   0:00:00"
     ]
    },
    {
     "name": "stdout",
     "output_type": "stream",
     "text": [
      "Inferring file N1382_10_1_HE - 2019-12-03 17.41.34.ndpi\n"
     ]
    },
    {
     "name": "stderr",
     "output_type": "stream",
     "text": [
      " 46% (687 of 1482) |#########            | Elapsed Time: 0:01:52 ETA:   0:02:01"
     ]
    },
    {
     "ename": "KeyboardInterrupt",
     "evalue": "",
     "output_type": "error",
     "traceback": [
      "\u001b[0;31m---------------------------------------------------------------------------\u001b[0m",
      "\u001b[0;31mKeyboardInterrupt\u001b[0m                         Traceback (most recent call last)",
      "\u001b[0;32m<ipython-input-9-4192d87a5caf>\u001b[0m in \u001b[0;36m<module>\u001b[0;34m\u001b[0m\n\u001b[1;32m     44\u001b[0m             \u001b[0;31m# infere on wsi\u001b[0m\u001b[0;34m\u001b[0m\u001b[0;34m\u001b[0m\u001b[0;34m\u001b[0m\u001b[0m\n\u001b[1;32m     45\u001b[0m             \u001b[0mprint\u001b[0m\u001b[0;34m(\u001b[0m\u001b[0;34mf\"Inferring file {file}\"\u001b[0m\u001b[0;34m)\u001b[0m\u001b[0;34m\u001b[0m\u001b[0;34m\u001b[0m\u001b[0m\n\u001b[0;32m---> 46\u001b[0;31m             \u001b[0mpred_boxes\u001b[0m\u001b[0;34m,\u001b[0m\u001b[0mpred_scores\u001b[0m \u001b[0;34m=\u001b[0m \u001b[0mpredict_on_wsi\u001b[0m\u001b[0;34m(\u001b[0m\u001b[0mtest_loader\u001b[0m\u001b[0;34m,\u001b[0m\u001b[0mmodel\u001b[0m\u001b[0;34m)\u001b[0m\u001b[0;34m\u001b[0m\u001b[0;34m\u001b[0m\u001b[0m\n\u001b[0m\u001b[1;32m     47\u001b[0m \u001b[0;34m\u001b[0m\u001b[0m\n\u001b[1;32m     48\u001b[0m             \u001b[0;31m# Safe Result\u001b[0m\u001b[0;34m\u001b[0m\u001b[0;34m\u001b[0m\u001b[0;34m\u001b[0m\u001b[0m\n",
      "\u001b[0;32m<ipython-input-6-43d9f63e00cc>\u001b[0m in \u001b[0;36mpredict_on_wsi\u001b[0;34m(test_loader, model)\u001b[0m\n\u001b[1;32m     15\u001b[0m         \u001b[0;32mfor\u001b[0m \u001b[0midx\u001b[0m\u001b[0;34m,\u001b[0m \u001b[0;34m(\u001b[0m\u001b[0mimages\u001b[0m\u001b[0;34m,\u001b[0m\u001b[0mtargets\u001b[0m\u001b[0;34m)\u001b[0m \u001b[0;32min\u001b[0m \u001b[0menumerate\u001b[0m\u001b[0;34m(\u001b[0m\u001b[0mtest_loader\u001b[0m\u001b[0;34m)\u001b[0m\u001b[0;34m:\u001b[0m\u001b[0;34m\u001b[0m\u001b[0;34m\u001b[0m\u001b[0m\n\u001b[1;32m     16\u001b[0m             \u001b[0mimages\u001b[0m \u001b[0;34m=\u001b[0m \u001b[0;34m[\u001b[0m\u001b[0mimage\u001b[0m\u001b[0;34m.\u001b[0m\u001b[0mto\u001b[0m\u001b[0;34m(\u001b[0m\u001b[0mdevice\u001b[0m\u001b[0;34m)\u001b[0m \u001b[0;32mfor\u001b[0m \u001b[0mimage\u001b[0m \u001b[0;32min\u001b[0m \u001b[0mimages\u001b[0m\u001b[0;34m]\u001b[0m\u001b[0;34m\u001b[0m\u001b[0;34m\u001b[0m\u001b[0m\n\u001b[0;32m---> 17\u001b[0;31m             \u001b[0mpredictions\u001b[0m \u001b[0;34m=\u001b[0m \u001b[0mmodel\u001b[0m\u001b[0;34m(\u001b[0m\u001b[0mimages\u001b[0m\u001b[0;34m)\u001b[0m\u001b[0;34m\u001b[0m\u001b[0;34m\u001b[0m\u001b[0m\n\u001b[0m\u001b[1;32m     18\u001b[0m \u001b[0;34m\u001b[0m\u001b[0m\n\u001b[1;32m     19\u001b[0m             \u001b[0;32mfor\u001b[0m \u001b[0mpred\u001b[0m\u001b[0;34m,\u001b[0m\u001b[0mtarget\u001b[0m \u001b[0;32min\u001b[0m \u001b[0mzip\u001b[0m\u001b[0;34m(\u001b[0m\u001b[0mpredictions\u001b[0m\u001b[0;34m,\u001b[0m\u001b[0mtargets\u001b[0m\u001b[0;34m)\u001b[0m\u001b[0;34m:\u001b[0m\u001b[0;34m\u001b[0m\u001b[0;34m\u001b[0m\u001b[0m\n",
      "\u001b[0;32m/usr/local/lib/python3.8/dist-packages/torch/nn/modules/module.py\u001b[0m in \u001b[0;36m_call_impl\u001b[0;34m(self, *input, **kwargs)\u001b[0m\n\u001b[1;32m    725\u001b[0m             \u001b[0mresult\u001b[0m \u001b[0;34m=\u001b[0m \u001b[0mself\u001b[0m\u001b[0;34m.\u001b[0m\u001b[0m_slow_forward\u001b[0m\u001b[0;34m(\u001b[0m\u001b[0;34m*\u001b[0m\u001b[0minput\u001b[0m\u001b[0;34m,\u001b[0m \u001b[0;34m**\u001b[0m\u001b[0mkwargs\u001b[0m\u001b[0;34m)\u001b[0m\u001b[0;34m\u001b[0m\u001b[0;34m\u001b[0m\u001b[0m\n\u001b[1;32m    726\u001b[0m         \u001b[0;32melse\u001b[0m\u001b[0;34m:\u001b[0m\u001b[0;34m\u001b[0m\u001b[0;34m\u001b[0m\u001b[0m\n\u001b[0;32m--> 727\u001b[0;31m             \u001b[0mresult\u001b[0m \u001b[0;34m=\u001b[0m \u001b[0mself\u001b[0m\u001b[0;34m.\u001b[0m\u001b[0mforward\u001b[0m\u001b[0;34m(\u001b[0m\u001b[0;34m*\u001b[0m\u001b[0minput\u001b[0m\u001b[0;34m,\u001b[0m \u001b[0;34m**\u001b[0m\u001b[0mkwargs\u001b[0m\u001b[0;34m)\u001b[0m\u001b[0;34m\u001b[0m\u001b[0;34m\u001b[0m\u001b[0m\n\u001b[0m\u001b[1;32m    728\u001b[0m         for hook in itertools.chain(\n\u001b[1;32m    729\u001b[0m                 \u001b[0m_global_forward_hooks\u001b[0m\u001b[0;34m.\u001b[0m\u001b[0mvalues\u001b[0m\u001b[0;34m(\u001b[0m\u001b[0;34m)\u001b[0m\u001b[0;34m,\u001b[0m\u001b[0;34m\u001b[0m\u001b[0;34m\u001b[0m\u001b[0m\n",
      "\u001b[0;32m/usr/local/lib/python3.8/dist-packages/torchvision/models/detection/generalized_rcnn.py\u001b[0m in \u001b[0;36mforward\u001b[0;34m(self, images, targets)\u001b[0m\n\u001b[1;32m     98\u001b[0m             \u001b[0mfeatures\u001b[0m \u001b[0;34m=\u001b[0m \u001b[0mOrderedDict\u001b[0m\u001b[0;34m(\u001b[0m\u001b[0;34m[\u001b[0m\u001b[0;34m(\u001b[0m\u001b[0;34m'0'\u001b[0m\u001b[0;34m,\u001b[0m \u001b[0mfeatures\u001b[0m\u001b[0;34m)\u001b[0m\u001b[0;34m]\u001b[0m\u001b[0;34m)\u001b[0m\u001b[0;34m\u001b[0m\u001b[0;34m\u001b[0m\u001b[0m\n\u001b[1;32m     99\u001b[0m         \u001b[0mproposals\u001b[0m\u001b[0;34m,\u001b[0m \u001b[0mproposal_losses\u001b[0m \u001b[0;34m=\u001b[0m \u001b[0mself\u001b[0m\u001b[0;34m.\u001b[0m\u001b[0mrpn\u001b[0m\u001b[0;34m(\u001b[0m\u001b[0mimages\u001b[0m\u001b[0;34m,\u001b[0m \u001b[0mfeatures\u001b[0m\u001b[0;34m,\u001b[0m \u001b[0mtargets\u001b[0m\u001b[0;34m)\u001b[0m\u001b[0;34m\u001b[0m\u001b[0;34m\u001b[0m\u001b[0m\n\u001b[0;32m--> 100\u001b[0;31m         \u001b[0mdetections\u001b[0m\u001b[0;34m,\u001b[0m \u001b[0mdetector_losses\u001b[0m \u001b[0;34m=\u001b[0m \u001b[0mself\u001b[0m\u001b[0;34m.\u001b[0m\u001b[0mroi_heads\u001b[0m\u001b[0;34m(\u001b[0m\u001b[0mfeatures\u001b[0m\u001b[0;34m,\u001b[0m \u001b[0mproposals\u001b[0m\u001b[0;34m,\u001b[0m \u001b[0mimages\u001b[0m\u001b[0;34m.\u001b[0m\u001b[0mimage_sizes\u001b[0m\u001b[0;34m,\u001b[0m \u001b[0mtargets\u001b[0m\u001b[0;34m)\u001b[0m\u001b[0;34m\u001b[0m\u001b[0;34m\u001b[0m\u001b[0m\n\u001b[0m\u001b[1;32m    101\u001b[0m         \u001b[0mdetections\u001b[0m \u001b[0;34m=\u001b[0m \u001b[0mself\u001b[0m\u001b[0;34m.\u001b[0m\u001b[0mtransform\u001b[0m\u001b[0;34m.\u001b[0m\u001b[0mpostprocess\u001b[0m\u001b[0;34m(\u001b[0m\u001b[0mdetections\u001b[0m\u001b[0;34m,\u001b[0m \u001b[0mimages\u001b[0m\u001b[0;34m.\u001b[0m\u001b[0mimage_sizes\u001b[0m\u001b[0;34m,\u001b[0m \u001b[0moriginal_image_sizes\u001b[0m\u001b[0;34m)\u001b[0m\u001b[0;34m\u001b[0m\u001b[0;34m\u001b[0m\u001b[0m\n\u001b[1;32m    102\u001b[0m \u001b[0;34m\u001b[0m\u001b[0m\n",
      "\u001b[0;32m/usr/local/lib/python3.8/dist-packages/torch/nn/modules/module.py\u001b[0m in \u001b[0;36m_call_impl\u001b[0;34m(self, *input, **kwargs)\u001b[0m\n\u001b[1;32m    725\u001b[0m             \u001b[0mresult\u001b[0m \u001b[0;34m=\u001b[0m \u001b[0mself\u001b[0m\u001b[0;34m.\u001b[0m\u001b[0m_slow_forward\u001b[0m\u001b[0;34m(\u001b[0m\u001b[0;34m*\u001b[0m\u001b[0minput\u001b[0m\u001b[0;34m,\u001b[0m \u001b[0;34m**\u001b[0m\u001b[0mkwargs\u001b[0m\u001b[0;34m)\u001b[0m\u001b[0;34m\u001b[0m\u001b[0;34m\u001b[0m\u001b[0m\n\u001b[1;32m    726\u001b[0m         \u001b[0;32melse\u001b[0m\u001b[0;34m:\u001b[0m\u001b[0;34m\u001b[0m\u001b[0;34m\u001b[0m\u001b[0m\n\u001b[0;32m--> 727\u001b[0;31m             \u001b[0mresult\u001b[0m \u001b[0;34m=\u001b[0m \u001b[0mself\u001b[0m\u001b[0;34m.\u001b[0m\u001b[0mforward\u001b[0m\u001b[0;34m(\u001b[0m\u001b[0;34m*\u001b[0m\u001b[0minput\u001b[0m\u001b[0;34m,\u001b[0m \u001b[0;34m**\u001b[0m\u001b[0mkwargs\u001b[0m\u001b[0;34m)\u001b[0m\u001b[0;34m\u001b[0m\u001b[0;34m\u001b[0m\u001b[0m\n\u001b[0m\u001b[1;32m    728\u001b[0m         for hook in itertools.chain(\n\u001b[1;32m    729\u001b[0m                 \u001b[0m_global_forward_hooks\u001b[0m\u001b[0;34m.\u001b[0m\u001b[0mvalues\u001b[0m\u001b[0;34m(\u001b[0m\u001b[0;34m)\u001b[0m\u001b[0;34m,\u001b[0m\u001b[0;34m\u001b[0m\u001b[0;34m\u001b[0m\u001b[0m\n",
      "\u001b[0;32m/usr/local/lib/python3.8/dist-packages/torchvision/models/detection/roi_heads.py\u001b[0m in \u001b[0;36mforward\u001b[0;34m(self, features, proposals, image_shapes, targets)\u001b[0m\n\u001b[1;32m    765\u001b[0m             }\n\u001b[1;32m    766\u001b[0m         \u001b[0;32melse\u001b[0m\u001b[0;34m:\u001b[0m\u001b[0;34m\u001b[0m\u001b[0;34m\u001b[0m\u001b[0m\n\u001b[0;32m--> 767\u001b[0;31m             \u001b[0mboxes\u001b[0m\u001b[0;34m,\u001b[0m \u001b[0mscores\u001b[0m\u001b[0;34m,\u001b[0m \u001b[0mlabels\u001b[0m \u001b[0;34m=\u001b[0m \u001b[0mself\u001b[0m\u001b[0;34m.\u001b[0m\u001b[0mpostprocess_detections\u001b[0m\u001b[0;34m(\u001b[0m\u001b[0mclass_logits\u001b[0m\u001b[0;34m,\u001b[0m \u001b[0mbox_regression\u001b[0m\u001b[0;34m,\u001b[0m \u001b[0mproposals\u001b[0m\u001b[0;34m,\u001b[0m \u001b[0mimage_shapes\u001b[0m\u001b[0;34m)\u001b[0m\u001b[0;34m\u001b[0m\u001b[0;34m\u001b[0m\u001b[0m\n\u001b[0m\u001b[1;32m    768\u001b[0m             \u001b[0mnum_images\u001b[0m \u001b[0;34m=\u001b[0m \u001b[0mlen\u001b[0m\u001b[0;34m(\u001b[0m\u001b[0mboxes\u001b[0m\u001b[0;34m)\u001b[0m\u001b[0;34m\u001b[0m\u001b[0;34m\u001b[0m\u001b[0m\n\u001b[1;32m    769\u001b[0m             \u001b[0;32mfor\u001b[0m \u001b[0mi\u001b[0m \u001b[0;32min\u001b[0m \u001b[0mrange\u001b[0m\u001b[0;34m(\u001b[0m\u001b[0mnum_images\u001b[0m\u001b[0;34m)\u001b[0m\u001b[0;34m:\u001b[0m\u001b[0;34m\u001b[0m\u001b[0;34m\u001b[0m\u001b[0m\n",
      "\u001b[0;32m/usr/local/lib/python3.8/dist-packages/torchvision/models/detection/roi_heads.py\u001b[0m in \u001b[0;36mpostprocess_detections\u001b[0;34m(self, class_logits, box_regression, proposals, image_shapes)\u001b[0m\n\u001b[1;32m    701\u001b[0m \u001b[0;34m\u001b[0m\u001b[0m\n\u001b[1;32m    702\u001b[0m             \u001b[0;31m# remove low scoring boxes\u001b[0m\u001b[0;34m\u001b[0m\u001b[0;34m\u001b[0m\u001b[0;34m\u001b[0m\u001b[0m\n\u001b[0;32m--> 703\u001b[0;31m             \u001b[0minds\u001b[0m \u001b[0;34m=\u001b[0m \u001b[0mtorch\u001b[0m\u001b[0;34m.\u001b[0m\u001b[0mwhere\u001b[0m\u001b[0;34m(\u001b[0m\u001b[0mscores\u001b[0m \u001b[0;34m>\u001b[0m \u001b[0mself\u001b[0m\u001b[0;34m.\u001b[0m\u001b[0mscore_thresh\u001b[0m\u001b[0;34m)\u001b[0m\u001b[0;34m[\u001b[0m\u001b[0;36m0\u001b[0m\u001b[0;34m]\u001b[0m\u001b[0;34m\u001b[0m\u001b[0;34m\u001b[0m\u001b[0m\n\u001b[0m\u001b[1;32m    704\u001b[0m             \u001b[0mboxes\u001b[0m\u001b[0;34m,\u001b[0m \u001b[0mscores\u001b[0m\u001b[0;34m,\u001b[0m \u001b[0mlabels\u001b[0m \u001b[0;34m=\u001b[0m \u001b[0mboxes\u001b[0m\u001b[0;34m[\u001b[0m\u001b[0minds\u001b[0m\u001b[0;34m]\u001b[0m\u001b[0;34m,\u001b[0m \u001b[0mscores\u001b[0m\u001b[0;34m[\u001b[0m\u001b[0minds\u001b[0m\u001b[0;34m]\u001b[0m\u001b[0;34m,\u001b[0m \u001b[0mlabels\u001b[0m\u001b[0;34m[\u001b[0m\u001b[0minds\u001b[0m\u001b[0;34m]\u001b[0m\u001b[0;34m\u001b[0m\u001b[0;34m\u001b[0m\u001b[0m\n\u001b[1;32m    705\u001b[0m \u001b[0;34m\u001b[0m\u001b[0m\n",
      "\u001b[0;31mKeyboardInterrupt\u001b[0m: "
     ]
    }
   ],
   "source": [
    "import os\n",
    "import shutil\n",
    "from torchvision import transforms\n",
    "from torch.utils.data import DataLoader\n",
    "import pickle\n",
    "from pathlib import Path\n",
    "from openslide import OpenSlideError\n",
    "from PIL.Image import UnidentifiedImageError\n",
    "\n",
    "transform = transforms.Compose(\n",
    "    [transforms.ToTensor()])\n",
    "\n",
    "batch_size = 8\n",
    "# Dir where to save inferrence results\n",
    "save_path = \"Inferences/\"\n",
    "# File name for inferrence results\n",
    "file_name = \"detection_results_\"\n",
    "\n",
    "\n",
    "case_list = ['Meningeome_1000']\n",
    "\n",
    "# Dir where WSIs are stored\n",
    "source_dir = \"wsis/meningioma_grading_training_dataset\"\n",
    "\n",
    "for case  in case_list:\n",
    "    \n",
    "    for file in files_for_inference[case]:\n",
    "        if os.path.exists(save_path + file.split(' ')[0] + \".p\"):\n",
    "            print(f\"File {file} already inferred. Going on with next file.\")\n",
    "            continue\n",
    "            \n",
    "        slide_file = source_dir + '/' + case + '/' + file\n",
    "        # do inferrecne\n",
    "        \n",
    "        try:\n",
    "\n",
    "            slide = openslide.open_slide(slide_file)\n",
    "            # Initialise lodaer for inference\n",
    "            test_data = MaPSlideDetectionInferenzLoader2.MyMapSlideDetectionDataset(slide, transforms = transform, width= 1024, height= 1024)\n",
    "            test_loader = DataLoader(test_data, batch_size = batch_size, collate_fn=test_data.collate_fn, num_workers=8)\n",
    "            # Infere on WSI\n",
    "            print(f\"Inferring file {file}\")\n",
    "            pred_boxes,pred_scores = predict_on_wsi(test_loader,model)\n",
    "            \n",
    "            # Safe result\n",
    "            detection_results = {\n",
    "            'boxes':pred_boxes,\n",
    "            'scores':pred_scores,\n",
    "            'file':file\n",
    "\n",
    "            }\n",
    "            pickle.dump(detection_results, open(save_path + file.split(' ')[0] + \".p\",\"wb\"))\n",
    "        except FileNotFoundError:\n",
    "            print(f\"File {file} not found, trying next one.\")\n",
    "        except OpenSlideError:\n",
    "            print(f\"File {file} corrupted. Can't validate JPEG for directory 0: Expected marker at 4294972160, found none\")\n",
    "        except UnidentifiedImageError:\n",
    "            print(f\"Unidentified Image Error in Image {file}, going on with next file\")\n",
    "            \n",
    "print(f\"done\")"
   ]
  }
 ],
 "metadata": {
  "kernelspec": {
   "display_name": "Python 3",
   "language": "python",
   "name": "python3"
  },
  "language_info": {
   "codemirror_mode": {
    "name": "ipython",
    "version": 3
   },
   "file_extension": ".py",
   "mimetype": "text/x-python",
   "name": "python",
   "nbconvert_exporter": "python",
   "pygments_lexer": "ipython3",
   "version": "3.8.8"
  }
 },
 "nbformat": 4,
 "nbformat_minor": 5
}
