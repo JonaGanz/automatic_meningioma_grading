{
 "cells": [
  {
   "cell_type": "markdown",
   "metadata": {},
   "source": [
    "# Analysation of all results\n",
    "\n",
    "results file [[mc+im reg, labels],[im reg, labels],[simple reg, labels]]"
   ]
  },
  {
   "cell_type": "code",
   "execution_count": 1,
   "metadata": {},
   "outputs": [],
   "source": [
    "import pickle\n",
    "import numpy as np\n",
    "import matplotlib.pyplot as plt\n",
    "from scipy.stats import pearsonr, spearmanr\n",
    "import torch\n",
    "from sklearn.metrics import mean_squared_error as mse\n",
    "\n",
    "result_files = [\"results/results_2.p\",\"results/results_3.p\",\"results/results_4.p\",\"results/results_5.p\",\n",
    "          \"results/results_6.p\"]"
   ]
  },
  {
   "cell_type": "code",
   "execution_count": 2,
   "metadata": {},
   "outputs": [],
   "source": [
    "results = list()\n",
    "for file in result_files:\n",
    "    results.append(pickle.load(open(file,'rb')))"
   ]
  },
  {
   "cell_type": "code",
   "execution_count": 3,
   "metadata": {},
   "outputs": [],
   "source": [
    "def calc_acc(results,labels):\n",
    "    results = [ 3 if i > 3 else int(i.round()) for i in results]\n",
    "    tp = [1 for x,y in zip(labels,results) if x == y]\n",
    "    return(len(tp)/len(labels))"
   ]
  },
  {
   "cell_type": "code",
   "execution_count": 4,
   "metadata": {},
   "outputs": [],
   "source": [
    "def calc_tp(results,labels):\n",
    "    results = [ 3 if i > 3 else int(i.round()) for i in results]\n",
    "    tp = [1 for x,y in zip(labels,results) if x == y]\n",
    "    return(len(tp))"
   ]
  },
  {
   "cell_type": "code",
   "execution_count": 5,
   "metadata": {},
   "outputs": [],
   "source": [
    "mc_reg_corr_mse = list()\n",
    "im_reg_corr_mse = list()\n",
    "simple_reg_corr_mse = list()\n",
    "\n",
    "\n",
    "for seed_results in results:\n",
    "    # Ergebnisse mc + bild\n",
    "    mc_reg_results_labels = seed_results[0]\n",
    "    corr, _ = spearmanr(mc_reg_results_labels[0],mc_reg_results_labels[1])\n",
    "    corr_p, _ = pearsonr(mc_reg_results_labels[0],mc_reg_results_labels[1])\n",
    "    mean_sqare_error = mse(mc_reg_results_labels[0],mc_reg_results_labels[1])\n",
    "    acc = calc_acc(mc_reg_results_labels[0],mc_reg_results_labels[1])\n",
    "    tp = calc_tp(mc_reg_results_labels[0],mc_reg_results_labels[1])\n",
    "    mc_reg_corr_mse.append([corr,mean_sqare_error,acc,corr_p,tp])\n",
    "    \n",
    "    \n",
    "    \n",
    "    # Ergebnisse nur bild\n",
    "    im_reg_results_labels = seed_results[1]\n",
    "    corr_p, _ = pearsonr(im_reg_results_labels[0],im_reg_results_labels[1])\n",
    "    corr, _ = spearmanr(im_reg_results_labels[0],im_reg_results_labels[1])\n",
    "    mean_sqare_error = mse(im_reg_results_labels[0],im_reg_results_labels[1])\n",
    "    acc = calc_acc(im_reg_results_labels[0],im_reg_results_labels[1])\n",
    "    tp = calc_tp(im_reg_results_labels[0],im_reg_results_labels[1])\n",
    "    im_reg_corr_mse.append([corr,mean_sqare_error,acc,corr_p,tp])\n",
    "    \n",
    "    # Ergebnisse simple\n",
    "    simple_reg_results_labels = seed_results[2]\n",
    "    corr_p, _ = pearsonr(np.array(simple_reg_results_labels[0]).flatten(),np.array(simple_reg_results_labels[1]).flatten())\n",
    "    corr, _ = spearmanr(simple_reg_results_labels[0],simple_reg_results_labels[1])\n",
    "    mean_sqare_error = mse(simple_reg_results_labels[0],simple_reg_results_labels[1])\n",
    "    acc = calc_acc(simple_reg_results_labels[0],simple_reg_results_labels[1])\n",
    "    tp = calc_tp(simple_reg_results_labels[0],simple_reg_results_labels[1])\n",
    "    simple_reg_corr_mse.append([corr,mean_sqare_error,acc,corr_p,tp])"
   ]
  },
  {
   "cell_type": "code",
   "execution_count": 6,
   "metadata": {},
   "outputs": [
    {
     "data": {
      "text/plain": [
       "43"
      ]
     },
     "execution_count": 6,
     "metadata": {},
     "output_type": "execute_result"
    }
   ],
   "source": [
    "len(np.array(simple_reg_results_labels[1]).flatten())"
   ]
  },
  {
   "cell_type": "code",
   "execution_count": 7,
   "metadata": {},
   "outputs": [
    {
     "name": "stdout",
     "output_type": "stream",
     "text": [
      "Mean Spearman Correlation image + mc: 0.79008, Std Correlation: 0.00349\n",
      "Mean Spearman Correlation only image: 0.71632, Std Correlation: 0.01777\n",
      "Mean Spearman Correlatio only Mc: 0.79262, Std Correlation: 0.00042\n"
     ]
    }
   ],
   "source": [
    "print(f\"Mean Spearman Correlation image + mc: {np.mean([i[0] for i in mc_reg_corr_mse]):.5f}, Std Correlation: {np.std([i[0] for i in mc_reg_corr_mse]):.5f}\")\n",
    "print(f\"Mean Spearman Correlation only image: {np.mean([i[0] for i in im_reg_corr_mse]):.5f}, Std Correlation: {np.std([i[0] for i in im_reg_corr_mse]):.5f}\")\n",
    "print(f\"Mean Spearman Correlatio only Mc: {np.mean([i[0] for i in simple_reg_corr_mse]):.5f}, Std Correlation: {np.std([i[0] for i in simple_reg_corr_mse]):.5f}\")"
   ]
  },
  {
   "cell_type": "code",
   "execution_count": 8,
   "metadata": {},
   "outputs": [
    {
     "name": "stdout",
     "output_type": "stream",
     "text": [
      "Mean Pearson Correlation image + mc: 0.76397, Std Correlation: 0.00252\n",
      "Mean Pearson Correlation only image: 0.71203, Std Correlation: 0.01097\n",
      "Mean Pearson Correlatio only Mc: 0.76110, Std Correlation: 0.00121\n"
     ]
    }
   ],
   "source": [
    "print(f\"Mean Pearson Correlation image + mc: {np.mean([i[3] for i in mc_reg_corr_mse]):.5f}, Std Correlation: {np.std([i[3] for i in mc_reg_corr_mse]):.5f}\")\n",
    "print(f\"Mean Pearson Correlation only image: {np.mean([i[3] for i in im_reg_corr_mse]):.5f}, Std Correlation: {np.std([i[3] for i in im_reg_corr_mse]):.5f}\")\n",
    "print(f\"Mean Pearson Correlatio only Mc: {np.mean([i[3] for i in simple_reg_corr_mse]):.5f}, Std Correlation: {np.std([i[3] for i in simple_reg_corr_mse]):.5f}\")"
   ]
  },
  {
   "cell_type": "code",
   "execution_count": 9,
   "metadata": {},
   "outputs": [
    {
     "name": "stdout",
     "output_type": "stream",
     "text": [
      "Mean MSE image + mc: 0.24162, Std MSE: 0.00259\n",
      "Mean MSE only image: 0.41608, Std MSE: 0.10183\n",
      "Mean MSE only Mc: 0.24157, Std MSE: 0.00069\n"
     ]
    }
   ],
   "source": [
    "print(f\"Mean MSE image + mc: {np.mean([i[1] for i in mc_reg_corr_mse]):.5f}, Std MSE: {np.std([i[1] for i in mc_reg_corr_mse]):.5f}\")\n",
    "print(f\"Mean MSE only image: {np.mean([i[1] for i in im_reg_corr_mse]):.5f}, Std MSE: {np.std([i[1] for i in im_reg_corr_mse]):.5f}\")\n",
    "print(f\"Mean MSE only Mc: {np.mean([i[1] for i in simple_reg_corr_mse]):.5f}, Std MSE: {np.std([i[1] for i in simple_reg_corr_mse]):.5f}\")"
   ]
  },
  {
   "cell_type": "code",
   "execution_count": 10,
   "metadata": {},
   "outputs": [
    {
     "name": "stdout",
     "output_type": "stream",
     "text": [
      "Mean acc Bild + mc: 0.75349, Std acc: 0.01860\n",
      "Mean acc only Bild: 0.57674, Std acc: 0.05956\n",
      "Mean acc only Mc: 0.72558, Std acc: 0.04263\n"
     ]
    }
   ],
   "source": [
    "print(f\"Mean acc Bild + mc: {np.mean([i[2] for i in mc_reg_corr_mse]):.5f}, Std acc: {np.std([i[2] for i in mc_reg_corr_mse]):.5f}\")\n",
    "print(f\"Mean acc only Bild: {np.mean([i[2] for i in im_reg_corr_mse]):.5f}, Std acc: {np.std([i[2] for i in im_reg_corr_mse]):.5f}\")\n",
    "print(f\"Mean acc only Mc: {np.mean([i[2] for i in simple_reg_corr_mse]):.5f}, Std acc: {np.std([i[2] for i in simple_reg_corr_mse]):.5f}\")"
   ]
  },
  {
   "cell_type": "code",
   "execution_count": 11,
   "metadata": {},
   "outputs": [
    {
     "name": "stdout",
     "output_type": "stream",
     "text": [
      "TPs Bild + mc: 33.00000, Std acc: 0.80000\n",
      "TPs acc only Bild: 25.00000, Std acc: 2.56125\n",
      "TPs acc only Mc: 32.00000, Std acc: 1.83303\n"
     ]
    }
   ],
   "source": [
    "print(f\"TPs Bild + mc: {np.median([i[4] for i in mc_reg_corr_mse]):.5f}, Std acc: {np.std([i[4] for i in mc_reg_corr_mse]):.5f}\")\n",
    "print(f\"TPs acc only Bild: {np.median([i[4] for i in im_reg_corr_mse]):.5f}, Std acc: {np.std([i[4] for i in im_reg_corr_mse]):.5f}\")\n",
    "print(f\"TPs acc only Mc: {np.median([i[4] for i in simple_reg_corr_mse]):.5f}, Std acc: {np.std([i[4] for i in simple_reg_corr_mse]):.5f}\")"
   ]
  }
 ],
 "metadata": {
  "kernelspec": {
   "display_name": "Python 3",
   "language": "python",
   "name": "python3"
  },
  "language_info": {
   "codemirror_mode": {
    "name": "ipython",
    "version": 3
   },
   "file_extension": ".py",
   "mimetype": "text/x-python",
   "name": "python",
   "nbconvert_exporter": "python",
   "pygments_lexer": "ipython3",
   "version": "3.8.8"
  }
 },
 "nbformat": 4,
 "nbformat_minor": 4
}
