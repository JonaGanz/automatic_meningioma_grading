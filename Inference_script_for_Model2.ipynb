{
 "cells": [
  {
   "cell_type": "markdown",
   "metadata": {},
   "source": [
    "# Inference script for Model 2\n",
    "    1. Loading necessary data\n",
    "    2. Initializing model\n",
    "    3. Calculate continuous malignancy score based on mitotic count"
   ]
  },
  {
   "cell_type": "markdown",
   "metadata": {},
   "source": [
    "## 1. Loading necessary data"
   ]
  },
  {
   "cell_type": "code",
   "execution_count": null,
   "metadata": {},
   "outputs": [],
   "source": [
    "%load_ext autoreload\n",
    "%autoreload 2\n",
    "\n",
    "import pickle\n",
    "import numpy as np\n",
    "import WHO_REG_nn\n",
    "\n",
    "model_file = \"models/Model2_seed2.pth\"\n",
    "annotation_dict = pickle.load(open(\"wsis/test_set/MC_and_ROI_90.p\",\"rb\"))"
   ]
  },
  {
   "cell_type": "code",
   "execution_count": 2,
   "metadata": {},
   "outputs": [],
   "source": [
    "import csv\n",
    "# Annotation file with who grades\n",
    "csv_file = \"\"\n",
    "who_grades = dict()\n",
    "with open(csv_file, newline = '')as file:\n",
    "    reader = csv.reader(file, delimiter = ',')\n",
    "    for idx,line in enumerate(reader):\n",
    "        if idx == 0:\n",
    "            continue\n",
    "        who_grades[line[0]] = list()\n",
    "        who_grades[line[0]].extend([int(line[1]),int(line[2])])"
   ]
  },
  {
   "cell_type": "code",
   "execution_count": 3,
   "metadata": {},
   "outputs": [],
   "source": [
    "new_annotation = dict()\n",
    "\n",
    "for key in annotation_dict:\n",
    "    for sub_key in annotation_dict[key]:\n",
    "        new_annotation[sub_key]=dict()\n",
    "        new_annotation[sub_key]['roi'] = annotation_dict[key][sub_key][1]\n",
    "        new_annotation[sub_key]['mitotic_count'] = annotation_dict[key][sub_key][0]\n",
    "        new_annotation[sub_key]['who_grade'] = who_grades['_'.join(sub_key.split(' ')[0].split('_')[0:2])][0]\n",
    "annotation_dict = new_annotation"
   ]
  },
  {
   "cell_type": "code",
   "execution_count": 4,
   "metadata": {},
   "outputs": [],
   "source": [
    "# Standardize mitosis count\n",
    "mcs = [annotation_dict[key]['mitotic_count'] for key in annotation_dict]\n",
    "grades = [annotation_dict[key]['who_grade'] for key in annotation_dict]\n",
    "\n",
    "mean_mcs = 4.222873900293255\n",
    "std_mcs = 6.724372788197874\n",
    "max_mcs = 11.417737909245652\n",
    "\n",
    "mcs = [(m-mean_mcs)/std_mcs for m in mcs]\n",
    "\n",
    "mcs = [m/max_mcs for m in mcs]\n",
    "for key,m in zip (annotation_dict, mcs):\n",
    "    annotation_dict[key]['mitotic_count'] = m"
   ]
  },
  {
   "cell_type": "markdown",
   "metadata": {},
   "source": [
    "## 2. Initializing model"
   ]
  },
  {
   "cell_type": "code",
   "execution_count": 5,
   "metadata": {},
   "outputs": [
    {
     "data": {
      "text/plain": [
       "<All keys matched successfully>"
      ]
     },
     "execution_count": 5,
     "metadata": {},
     "output_type": "execute_result"
    }
   ],
   "source": [
    "import torch \n",
    "model = WHO_REG_nn.SimpleRegressionModel()\n",
    "model.load_state_dict(torch.load(model_file))"
   ]
  },
  {
   "cell_type": "markdown",
   "metadata": {},
   "source": [
    "## 3. Calculate continuous malignancy score based on mitotic count"
   ]
  },
  {
   "cell_type": "code",
   "execution_count": 6,
   "metadata": {},
   "outputs": [
    {
     "name": "stderr",
     "output_type": "stream",
     "text": [
      "/usr/local/lib/python3.8/dist-packages/torch/nn/functional.py:1639: UserWarning: nn.functional.sigmoid is deprecated. Use torch.sigmoid instead.\n",
      "  warnings.warn(\"nn.functional.sigmoid is deprecated. Use torch.sigmoid instead.\")\n"
     ]
    }
   ],
   "source": [
    "mcs = torch.tensor(mcs, dtype = torch.float32).reshape(-1,1)\n",
    "\n",
    "with torch.no_grad():\n",
    "    out1 = model(mcs)"
   ]
  },
  {
   "cell_type": "code",
   "execution_count": null,
   "metadata": {},
   "outputs": [],
   "source": [
    "file = \"\"\n",
    "\n",
    "pickle.dump(out1,open(file,\"wb\"))"
   ]
  }
 ],
 "metadata": {
  "kernelspec": {
   "display_name": "Python 3",
   "language": "python",
   "name": "python3"
  },
  "language_info": {
   "codemirror_mode": {
    "name": "ipython",
    "version": 3
   },
   "file_extension": ".py",
   "mimetype": "text/x-python",
   "name": "python",
   "nbconvert_exporter": "python",
   "pygments_lexer": "ipython3",
   "version": "3.8.8"
  }
 },
 "nbformat": 4,
 "nbformat_minor": 4
}
