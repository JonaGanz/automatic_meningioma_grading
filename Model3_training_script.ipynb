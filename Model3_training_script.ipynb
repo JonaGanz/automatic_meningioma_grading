{
 "cells": [
  {
   "cell_type": "markdown",
   "id": "e9c7df34",
   "metadata": {},
   "source": [
    "# Training script for combined regression approach\n",
    "\n",
    "    1. Loading necessary data\n",
    "    2. Initializing model\n",
    "    3. Training loop"
   ]
  },
  {
   "cell_type": "markdown",
   "id": "dc1235a2",
   "metadata": {},
   "source": [
    "## 1. Loading necessary data"
   ]
  },
  {
   "cell_type": "code",
   "execution_count": 1,
   "id": "c4c6c8fe",
   "metadata": {},
   "outputs": [],
   "source": [
    "%load_ext autoreload\n",
    "%autoreload 2\n",
    "\n",
    "import pickle\n",
    "import RegressionDataSet4\n",
    "import torch\n",
    "import numpy as np\n",
    "\n",
    "torch.cuda.empty_cache()\n",
    "\n",
    "annotation_dict = pickle.load(open(\"wsis/meningioma_grading_training_dataset/annotation_dict2.p\",\"rb\"))"
   ]
  },
  {
   "cell_type": "code",
   "execution_count": 2,
   "id": "8b2c0ca6",
   "metadata": {},
   "outputs": [],
   "source": [
    "keys_to_discard = list()\n",
    "keys_for_training = list()\n",
    "keys_excluded_testset=0\n",
    "ldfnummer_exclude = []\n",
    "testset_exclude = pickle.load(open('Testset_List.p','rb'))\n",
    "for key in annotation_dict:\n",
    "    if key in testset_exclude:\n",
    "        ldfnummer_exclude += [annotation_dict[key]['lfd_number']]\n",
    "\n",
    "for key in annotation_dict:\n",
    "    try:\n",
    "        if (annotation_dict[key]['mitotic_count'] >= 0) and (annotation_dict[key]['lfd_number'] not in ldfnummer_exclude):\n",
    "            keys_for_training.append(key)\n",
    "        else:\n",
    "            keys_to_discard.append(key)\n",
    "    except KeyError:\n",
    "        keys_to_discard.append(key)\n",
    "        \n",
    "keys_excluded_testset,\n",
    "ldfnummer_exclude = np.unique(ldfnummer_exclude)\n",
    "ldfnummer_exclude\n",
    "len(ldfnummer_exclude)"
   ]
  },
  {
   "cell_type": "code",
   "execution_count": 4,
   "id": "7626e2c0",
   "metadata": {},
   "outputs": [],
   "source": [
    "# Only the highest mitotic count of a patient is used in training\n",
    "tmp = dict()\n",
    "for key in annotation_dict:\n",
    "    lfd_number = annotation_dict[key]['lfd_number']\n",
    "    if (lfd_number in ldfnummer_exclude):\n",
    "        continue\n",
    "    if lfd_number not in tmp:\n",
    "        tmp[lfd_number] = dict()\n",
    "        tmp[lfd_number]['file'] = key\n",
    "        tmp[lfd_number]['who_grade'] = annotation_dict[key]['who_grade']\n",
    "        try:\n",
    "            tmp[lfd_number]['mitotic_count'] = annotation_dict[key]['mitotic_count']\n",
    "        except KeyError:\n",
    "            tmp[lfd_number]['mitotic_count'] = 0\n",
    "    try:\n",
    "        if tmp[lfd_number]['mitotic_count'] < annotation_dict[key]['mitotic_count']:\n",
    "            tmp[lfd_number]['file'] = key\n",
    "            tmp[lfd_number]['who_grade'] = annotation_dict[key]['who_grade']\n",
    "            tmp[lfd_number]['mitotic_count'] = annotation_dict[key]['mitotic_count']\n",
    "    except KeyError:\n",
    "        continue\n",
    "\n",
    "patients = tmp"
   ]
  },
  {
   "cell_type": "code",
   "execution_count": 5,
   "id": "fb49788e",
   "metadata": {},
   "outputs": [],
   "source": [
    "# Standardize the mitotic count\n",
    "mcs = [patients[key]['mitotic_count'] for key in patients]\n",
    "mean_mcs = np.mean(mcs)\n",
    "std_mcs = np.std(mcs)\n",
    "mcs = [(m-mean_mcs)/std_mcs for m in mcs]\n",
    "# Normalize\n",
    "max_mcs = max(mcs)\n",
    "mcs = [m/max_mcs for m in mcs]\n",
    "for key,m in zip (patients, mcs):\n",
    "    patients[key]['mitotic_count'] = m\n",
    "\n",
    "for lfd_number in patients:\n",
    "    annotation_dict[patients[lfd_number]['file']]['mitotic_count'] = patients[lfd_number]['mitotic_count']"
   ]
  },
  {
   "cell_type": "code",
   "execution_count": 7,
   "id": "98dc37fb",
   "metadata": {},
   "outputs": [],
   "source": [
    "import random\n",
    "\n",
    "random.seed(2)\n",
    "# 15 % validation data\n",
    "val_numbers = [lfd_number for lfd_number in random.sample(patients.keys(),54)]\n",
    "val_keys = [patients[lfd_number]['file'] for lfd_number in val_numbers]\n",
    "\n",
    "train_numbers = [lfd_number for lfd_number in patients if lfd_number not in val_numbers]\n",
    "train_keys = [patients[lfd_number]['file'] for lfd_number in train_numbers]"
   ]
  },
  {
   "cell_type": "code",
   "execution_count": 8,
   "id": "843d2620",
   "metadata": {},
   "outputs": [
    {
     "data": {
      "text/plain": [
       "(array([260.,  17.,   6.,   1.,   0.,   2.,   0.,   0.,   0.,   1.]),\n",
       " array([-0.05500172,  0.05049845,  0.15599862,  0.2614988 ,  0.36699897,\n",
       "         0.47249914,  0.57799931,  0.68349948,  0.78899966,  0.89449983,\n",
       "         1.        ]),\n",
       " <BarContainer object of 10 artists>)"
      ]
     },
     "execution_count": 8,
     "metadata": {},
     "output_type": "execute_result"
    },
    {
     "data": {
      "image/png": "[encoded data removed]",
      "text/plain": [
       "<Figure size 432x288 with 1 Axes>"
      ]
     },
     "metadata": {
      "needs_background": "light"
     },
     "output_type": "display_data"
    }
   ],
   "source": [
    "import matplotlib.pyplot as plt\n",
    "\n",
    "plt.hist([annotation_dict[key]['mitotic_count'] for key in train_keys])"
   ]
  },
  {
   "cell_type": "code",
   "execution_count": 9,
   "id": "415d3b15",
   "metadata": {},
   "outputs": [
    {
     "name": "stderr",
     "output_type": "stream",
     "text": [
      "100% (287 of 287) |######################| Elapsed Time: 0:00:17 Time:  0:00:17\n",
      "100% (54 of 54) |########################| Elapsed Time: 0:00:01 Time:  0:00:01\n"
     ]
    }
   ],
   "source": [
    "from torchvision import transforms\n",
    "from torch.utils.data import DataLoader\n",
    "import random\n",
    "\n",
    "path_to_wsis = \"\"\n",
    "\n",
    "transform = transforms.Compose(\n",
    "    [transforms.ToTensor(),\n",
    "    transforms.Normalize([0.8249, 0.5482, 0.7211], [0.0573, 0.0988, 0.0595])])\n",
    "\n",
    "\n",
    "batch_size = 8\n",
    "\n",
    "train_data = RegressionDataSet4.WhoRegressionDataSet(path_to_wsis,train_keys,annotation_dict,1000,transform,MitoticCount = True, level = 0)\n",
    "train_loader = DataLoader(train_data, batch_size = batch_size, collate_fn=train_data.collate_fn)\n",
    "\n",
    "val_data = RegressionDataSet4.WhoRegressionDataSet(path_to_wsis,val_keys,annotation_dict,100,transform,MitoticCount = True, level = 0)\n",
    "val_loader = DataLoader(val_data, batch_size = batch_size, collate_fn=val_data.collate_fn)\n",
    "\n",
    "data_loaders = {\n",
    "    'train' : train_loader,\n",
    "    'val' : val_loader,\n",
    "}"
   ]
  },
  {
   "cell_type": "markdown",
   "id": "f0bc99e6",
   "metadata": {},
   "source": [
    "## 2. Initialize model"
   ]
  },
  {
   "cell_type": "code",
   "execution_count": 11,
   "id": "84738ce8",
   "metadata": {},
   "outputs": [],
   "source": [
    "import torch\n",
    "from torch import optim\n",
    "import Model3\n",
    "device = torch.device(\"cuda:0\" if torch.cuda.is_available() else \"cpu\")\n",
    "\n",
    "model = Model3.RegressionModel()\n",
    "model = model.to(device)\n",
    "\n",
    "# Load pretrained model3\n",
    "model.fc1.load_state_dict(torch.load('models/fc1_2.pth'))\n",
    "model.fc2.load_state_dict(torch.load('models/fc2_2.pth'))\n",
    "\n",
    "# Freeze MC path\n",
    "model.fc1.requires_grad = False\n",
    "model.fc2.requires_grad = False"
   ]
  },
  {
   "cell_type": "markdown",
   "id": "13c76c2c",
   "metadata": {},
   "source": [
    "## 3. Training loop"
   ]
  },
  {
   "cell_type": "code",
   "execution_count": 10,
   "id": "7b0f4e07",
   "metadata": {},
   "outputs": [],
   "source": [
    "from tqdm import tqdm\n",
    "\n",
    "def train_loop(train_loader, model, loss_fn, optimizer):\n",
    "    running_loss = 0\n",
    "    size = train_loader.dataset.pseudo_epoch_length\n",
    "    for  batch, (X,X2,y) in enumerate(train_loader):\n",
    "        # Image\n",
    "        X = X.to(device)\n",
    "        # Mitotic Count\n",
    "        X2 = X2.to(device)\n",
    "        # WHO grade\n",
    "        y = y.to(device)\n",
    "        pred = model(X,X2)\n",
    "        loss = loss_fn(pred, y)\n",
    "\n",
    "        optimizer.zero_grad()\n",
    "        loss.backward()\n",
    "        optimizer.step()\n",
    "        running_loss += loss.item()\n",
    "        \n",
    "        if batch % 10 == 0:\n",
    "            loss, current = loss.item(), batch * len(X)\n",
    "            print(f\"Current batch loss: {loss:>7f}  [{current:>5d}/{size:>5d}]\")\n",
    "\n",
    "    running_loss /= len(train_loader)\n",
    "    print(f\"Mean training loss: {running_loss:.5f}\")\n",
    "    return running_loss \n",
    "  \n",
    "            \n",
    "def test_loop(test_loader, model, loss_fn):\n",
    "    size = len(test_loader)\n",
    "    test_loss = 0\n",
    "\n",
    "    with torch.no_grad():\n",
    "        for X,X2,y in tqdm(test_loader):\n",
    "            X = X.to(device)\n",
    "            X2 = X2.to(device)\n",
    "            y = y.to(device)\n",
    "            pred = model(X,X2)\n",
    "            test_loss += loss_fn(pred, y).item()\n",
    "    test_loss /= size\n",
    "    print(f\"Avg loss: {test_loss:>8f} \\n\")\n",
    "    return test_loss"
   ]
  },
  {
   "cell_type": "code",
   "execution_count": 12,
   "id": "1ea4fbe5",
   "metadata": {},
   "outputs": [],
   "source": [
    "loss_fn = torch.nn.MSELoss(reduction = 'mean')\n",
    "optimizer = torch.optim.SGD(filter(lambda p: p.requires_grad, model.parameters()), lr=1e-4, momentum=0.9)\n",
    "scheduler = torch.optim.lr_scheduler.ReduceLROnPlateau(optimizer,mode = 'min', factor = 0.1, patience = 3, verbose=True)"
   ]
  },
  {
   "cell_type": "code",
   "execution_count": 13,
   "id": "31b89cba",
   "metadata": {
    "scrolled": true
   },
   "outputs": [
    {
     "name": "stdout",
     "output_type": "stream",
     "text": [
      "Epoch 1\n",
      "-------------------------------\n",
      "Gewichtung des Resnetpfades: -0.10524, Gewichtung des MC-Pfades: 0.21723\n"
     ]
    },
    {
     "name": "stderr",
     "output_type": "stream",
     "text": [
      "/usr/local/lib/python3.8/dist-packages/torch/nn/functional.py:1639: UserWarning: nn.functional.sigmoid is deprecated. Use torch.sigmoid instead.\n",
      "  warnings.warn(\"nn.functional.sigmoid is deprecated. Use torch.sigmoid instead.\")\n"
     ]
    },
    {
     "name": "stdout",
     "output_type": "stream",
     "text": [
      "Current batch loss: 3.490701  [    0/ 1000]\n",
      "Current batch loss: 2.221701  [   80/ 1000]\n",
      "Current batch loss: 2.571667  [  160/ 1000]\n",
      "Current batch loss: 1.786386  [  240/ 1000]\n",
      "Current batch loss: 1.463284  [  320/ 1000]\n",
      "Current batch loss: 0.830593  [  400/ 1000]\n",
      "Current batch loss: 1.271371  [  480/ 1000]\n",
      "Current batch loss: 0.282615  [  560/ 1000]\n",
      "Current batch loss: 0.658396  [  640/ 1000]\n",
      "Current batch loss: 0.547545  [  720/ 1000]\n",
      "Current batch loss: 0.459657  [  800/ 1000]\n",
      "Current batch loss: 0.195345  [  880/ 1000]\n",
      "Current batch loss: 0.380192  [  960/ 1000]\n"
     ]
    },
    {
     "name": "stderr",
     "output_type": "stream",
     "text": [
      "\r",
      "  0%|          | 0/13 [00:00<?, ?it/s]"
     ]
    },
    {
     "name": "stdout",
     "output_type": "stream",
     "text": [
      "Mean training loss: 1.03642\n"
     ]
    },
    {
     "name": "stderr",
     "output_type": "stream",
     "text": [
      "100%|██████████| 13/13 [00:09<00:00,  1.42it/s]\n"
     ]
    },
    {
     "name": "stdout",
     "output_type": "stream",
     "text": [
      "Avg loss: 0.331826 \n",
      "\n",
      "Epoch 2\n",
      "-------------------------------\n",
      "Gewichtung des Resnetpfades: -0.03784, Gewichtung des MC-Pfades: 0.64644\n",
      "Current batch loss: 0.245641  [    0/ 1000]\n",
      "Current batch loss: 0.396846  [   80/ 1000]\n",
      "Current batch loss: 0.396319  [  160/ 1000]\n",
      "Current batch loss: 0.177981  [  240/ 1000]\n",
      "Current batch loss: 0.379847  [  320/ 1000]\n",
      "Current batch loss: 0.251548  [  400/ 1000]\n",
      "Current batch loss: 0.152396  [  480/ 1000]\n",
      "Current batch loss: 0.262855  [  560/ 1000]\n",
      "Current batch loss: 0.224920  [  640/ 1000]\n",
      "Current batch loss: 0.293478  [  720/ 1000]\n",
      "Current batch loss: 0.370276  [  800/ 1000]\n",
      "Current batch loss: 0.396946  [  880/ 1000]\n",
      "Current batch loss: 0.246910  [  960/ 1000]\n"
     ]
    },
    {
     "name": "stderr",
     "output_type": "stream",
     "text": [
      "\r",
      "  0%|          | 0/13 [00:00<?, ?it/s]"
     ]
    },
    {
     "name": "stdout",
     "output_type": "stream",
     "text": [
      "Mean training loss: 0.24619\n"
     ]
    },
    {
     "name": "stderr",
     "output_type": "stream",
     "text": [
      "100%|██████████| 13/13 [00:09<00:00,  1.40it/s]\n"
     ]
    },
    {
     "name": "stdout",
     "output_type": "stream",
     "text": [
      "Avg loss: 0.219901 \n",
      "\n",
      "Epoch 3\n",
      "-------------------------------\n",
      "Gewichtung des Resnetpfades: -0.03218, Gewichtung des MC-Pfades: 0.73963\n",
      "Current batch loss: 0.251590  [    0/ 1000]\n",
      "Current batch loss: 0.241620  [   80/ 1000]\n",
      "Current batch loss: 0.121296  [  160/ 1000]\n",
      "Current batch loss: 0.127570  [  240/ 1000]\n",
      "Current batch loss: 0.209241  [  320/ 1000]\n",
      "Current batch loss: 0.331182  [  400/ 1000]\n",
      "Current batch loss: 0.178172  [  480/ 1000]\n",
      "Current batch loss: 0.280662  [  560/ 1000]\n",
      "Current batch loss: 0.316522  [  640/ 1000]\n",
      "Current batch loss: 0.312240  [  720/ 1000]\n",
      "Current batch loss: 0.279223  [  800/ 1000]\n",
      "Current batch loss: 0.363445  [  880/ 1000]\n",
      "Current batch loss: 0.161479  [  960/ 1000]\n"
     ]
    },
    {
     "name": "stderr",
     "output_type": "stream",
     "text": [
      "\r",
      "  0%|          | 0/13 [00:00<?, ?it/s]"
     ]
    },
    {
     "name": "stdout",
     "output_type": "stream",
     "text": [
      "Mean training loss: 0.22781\n"
     ]
    },
    {
     "name": "stderr",
     "output_type": "stream",
     "text": [
      "100%|██████████| 13/13 [00:08<00:00,  1.45it/s]\n"
     ]
    },
    {
     "name": "stdout",
     "output_type": "stream",
     "text": [
      "Avg loss: 0.228309 \n",
      "\n",
      "Epoch 4\n",
      "-------------------------------\n",
      "Gewichtung des Resnetpfades: -0.03356, Gewichtung des MC-Pfades: 0.76385\n",
      "Current batch loss: 0.236063  [    0/ 1000]\n",
      "Current batch loss: 0.205151  [   80/ 1000]\n",
      "Current batch loss: 0.290995  [  160/ 1000]\n",
      "Current batch loss: 0.117847  [  240/ 1000]\n",
      "Current batch loss: 0.155481  [  320/ 1000]\n",
      "Current batch loss: 0.163349  [  400/ 1000]\n",
      "Current batch loss: 0.128742  [  480/ 1000]\n",
      "Current batch loss: 0.403453  [  560/ 1000]\n",
      "Current batch loss: 0.489162  [  640/ 1000]\n",
      "Current batch loss: 0.161190  [  720/ 1000]\n",
      "Current batch loss: 0.087608  [  800/ 1000]\n",
      "Current batch loss: 0.238169  [  880/ 1000]\n",
      "Current batch loss: 0.169679  [  960/ 1000]\n"
     ]
    },
    {
     "name": "stderr",
     "output_type": "stream",
     "text": [
      "\r",
      "  0%|          | 0/13 [00:00<?, ?it/s]"
     ]
    },
    {
     "name": "stdout",
     "output_type": "stream",
     "text": [
      "Mean training loss: 0.21653\n"
     ]
    },
    {
     "name": "stderr",
     "output_type": "stream",
     "text": [
      "100%|██████████| 13/13 [00:09<00:00,  1.37it/s]\n"
     ]
    },
    {
     "name": "stdout",
     "output_type": "stream",
     "text": [
      "Avg loss: 0.222559 \n",
      "\n",
      "Epoch 5\n",
      "-------------------------------\n",
      "Gewichtung des Resnetpfades: -0.03629, Gewichtung des MC-Pfades: 0.77210\n",
      "Current batch loss: 0.256204  [    0/ 1000]\n",
      "Current batch loss: 0.077615  [   80/ 1000]\n",
      "Current batch loss: 0.179860  [  160/ 1000]\n",
      "Current batch loss: 0.194275  [  240/ 1000]\n",
      "Current batch loss: 0.165782  [  320/ 1000]\n",
      "Current batch loss: 0.201072  [  400/ 1000]\n",
      "Current batch loss: 0.102714  [  480/ 1000]\n",
      "Current batch loss: 0.344255  [  560/ 1000]\n",
      "Current batch loss: 0.162395  [  640/ 1000]\n",
      "Current batch loss: 0.184784  [  720/ 1000]\n",
      "Current batch loss: 0.348908  [  800/ 1000]\n",
      "Current batch loss: 0.141698  [  880/ 1000]\n",
      "Current batch loss: 0.364858  [  960/ 1000]\n"
     ]
    },
    {
     "name": "stderr",
     "output_type": "stream",
     "text": [
      "\r",
      "  0%|          | 0/13 [00:00<?, ?it/s]"
     ]
    },
    {
     "name": "stdout",
     "output_type": "stream",
     "text": [
      "Mean training loss: 0.21955\n"
     ]
    },
    {
     "name": "stderr",
     "output_type": "stream",
     "text": [
      "100%|██████████| 13/13 [00:08<00:00,  1.47it/s]\n"
     ]
    },
    {
     "name": "stdout",
     "output_type": "stream",
     "text": [
      "Avg loss: 0.212116 \n",
      "\n",
      "Epoch 6\n",
      "-------------------------------\n",
      "Gewichtung des Resnetpfades: -0.03899, Gewichtung des MC-Pfades: 0.77888\n",
      "Current batch loss: 0.169602  [    0/ 1000]\n",
      "Current batch loss: 0.377374  [   80/ 1000]\n",
      "Current batch loss: 0.149808  [  160/ 1000]\n",
      "Current batch loss: 0.338984  [  240/ 1000]\n",
      "Current batch loss: 0.166233  [  320/ 1000]\n",
      "Current batch loss: 0.278007  [  400/ 1000]\n",
      "Current batch loss: 0.251506  [  480/ 1000]\n",
      "Current batch loss: 0.218879  [  560/ 1000]\n",
      "Current batch loss: 0.198637  [  640/ 1000]\n",
      "Current batch loss: 0.525938  [  720/ 1000]\n",
      "Current batch loss: 0.126394  [  800/ 1000]\n",
      "Current batch loss: 0.236060  [  880/ 1000]\n",
      "Current batch loss: 0.162433  [  960/ 1000]\n"
     ]
    },
    {
     "name": "stderr",
     "output_type": "stream",
     "text": [
      "\r",
      "  0%|          | 0/13 [00:00<?, ?it/s]"
     ]
    },
    {
     "name": "stdout",
     "output_type": "stream",
     "text": [
      "Mean training loss: 0.21570\n"
     ]
    },
    {
     "name": "stderr",
     "output_type": "stream",
     "text": [
      "100%|██████████| 13/13 [00:08<00:00,  1.45it/s]\n"
     ]
    },
    {
     "name": "stdout",
     "output_type": "stream",
     "text": [
      "Avg loss: 0.231318 \n",
      "\n",
      "Epoch 7\n",
      "-------------------------------\n",
      "Gewichtung des Resnetpfades: -0.04115, Gewichtung des MC-Pfades: 0.79030\n",
      "Current batch loss: 0.230825  [    0/ 1000]\n",
      "Current batch loss: 0.280759  [   80/ 1000]\n",
      "Current batch loss: 0.370665  [  160/ 1000]\n",
      "Current batch loss: 0.118433  [  240/ 1000]\n",
      "Current batch loss: 0.332342  [  320/ 1000]\n",
      "Current batch loss: 0.274237  [  400/ 1000]\n",
      "Current batch loss: 0.167459  [  480/ 1000]\n",
      "Current batch loss: 0.198998  [  560/ 1000]\n",
      "Current batch loss: 0.284881  [  640/ 1000]\n",
      "Current batch loss: 0.223552  [  720/ 1000]\n",
      "Current batch loss: 0.372792  [  800/ 1000]\n",
      "Current batch loss: 0.319982  [  880/ 1000]\n",
      "Current batch loss: 0.169758  [  960/ 1000]\n"
     ]
    },
    {
     "name": "stderr",
     "output_type": "stream",
     "text": [
      "\r",
      "  0%|          | 0/13 [00:00<?, ?it/s]"
     ]
    },
    {
     "name": "stdout",
     "output_type": "stream",
     "text": [
      "Mean training loss: 0.20294\n"
     ]
    },
    {
     "name": "stderr",
     "output_type": "stream",
     "text": [
      "100%|██████████| 13/13 [00:08<00:00,  1.50it/s]\n"
     ]
    },
    {
     "name": "stdout",
     "output_type": "stream",
     "text": [
      "Avg loss: 0.221248 \n",
      "\n",
      "Epoch 8\n",
      "-------------------------------\n",
      "Gewichtung des Resnetpfades: -0.04448, Gewichtung des MC-Pfades: 0.79467\n",
      "Current batch loss: 0.229341  [    0/ 1000]\n",
      "Current batch loss: 0.327725  [   80/ 1000]\n",
      "Current batch loss: 0.132273  [  160/ 1000]\n",
      "Current batch loss: 0.211783  [  240/ 1000]\n",
      "Current batch loss: 0.238070  [  320/ 1000]\n",
      "Current batch loss: 0.121551  [  400/ 1000]\n",
      "Current batch loss: 0.141025  [  480/ 1000]\n",
      "Current batch loss: 0.396717  [  560/ 1000]\n",
      "Current batch loss: 0.060646  [  640/ 1000]\n",
      "Current batch loss: 0.373005  [  720/ 1000]\n",
      "Current batch loss: 0.173380  [  800/ 1000]\n",
      "Current batch loss: 0.224817  [  880/ 1000]\n",
      "Current batch loss: 0.122240  [  960/ 1000]\n"
     ]
    },
    {
     "name": "stderr",
     "output_type": "stream",
     "text": [
      "\r",
      "  0%|          | 0/13 [00:00<?, ?it/s]"
     ]
    },
    {
     "name": "stdout",
     "output_type": "stream",
     "text": [
      "Mean training loss: 0.20943\n"
     ]
    },
    {
     "name": "stderr",
     "output_type": "stream",
     "text": [
      "100%|██████████| 13/13 [00:08<00:00,  1.59it/s]\n"
     ]
    },
    {
     "name": "stdout",
     "output_type": "stream",
     "text": [
      "Avg loss: 0.190284 \n",
      "\n",
      "Epoch 9\n",
      "-------------------------------\n",
      "Gewichtung des Resnetpfades: -0.04719, Gewichtung des MC-Pfades: 0.80442\n",
      "Current batch loss: 0.117515  [    0/ 1000]\n",
      "Current batch loss: 0.190041  [   80/ 1000]\n",
      "Current batch loss: 0.250255  [  160/ 1000]\n",
      "Current batch loss: 0.136753  [  240/ 1000]\n",
      "Current batch loss: 0.219042  [  320/ 1000]\n",
      "Current batch loss: 0.233704  [  400/ 1000]\n",
      "Current batch loss: 0.183193  [  480/ 1000]\n",
      "Current batch loss: 0.171613  [  560/ 1000]\n",
      "Current batch loss: 0.181343  [  640/ 1000]\n",
      "Current batch loss: 0.095879  [  720/ 1000]\n",
      "Current batch loss: 0.105114  [  800/ 1000]\n",
      "Current batch loss: 0.118691  [  880/ 1000]\n",
      "Current batch loss: 0.207773  [  960/ 1000]\n"
     ]
    },
    {
     "name": "stderr",
     "output_type": "stream",
     "text": [
      "\r",
      "  0%|          | 0/13 [00:00<?, ?it/s]"
     ]
    },
    {
     "name": "stdout",
     "output_type": "stream",
     "text": [
      "Mean training loss: 0.20212\n"
     ]
    },
    {
     "name": "stderr",
     "output_type": "stream",
     "text": [
      "100%|██████████| 13/13 [00:08<00:00,  1.58it/s]\n"
     ]
    },
    {
     "name": "stdout",
     "output_type": "stream",
     "text": [
      "Avg loss: 0.224562 \n",
      "\n",
      "Epoch 10\n",
      "-------------------------------\n",
      "Gewichtung des Resnetpfades: -0.05051, Gewichtung des MC-Pfades: 0.80755\n",
      "Current batch loss: 0.271908  [    0/ 1000]\n",
      "Current batch loss: 0.313380  [   80/ 1000]\n",
      "Current batch loss: 0.349669  [  160/ 1000]\n",
      "Current batch loss: 0.111146  [  240/ 1000]\n",
      "Current batch loss: 0.235332  [  320/ 1000]\n",
      "Current batch loss: 0.314029  [  400/ 1000]\n",
      "Current batch loss: 0.329146  [  480/ 1000]\n",
      "Current batch loss: 0.372563  [  560/ 1000]\n",
      "Current batch loss: 0.198206  [  640/ 1000]\n",
      "Current batch loss: 0.313301  [  720/ 1000]\n",
      "Current batch loss: 0.232358  [  800/ 1000]\n",
      "Current batch loss: 0.149649  [  880/ 1000]\n",
      "Current batch loss: 0.474488  [  960/ 1000]\n"
     ]
    },
    {
     "name": "stderr",
     "output_type": "stream",
     "text": [
      "\r",
      "  0%|          | 0/13 [00:00<?, ?it/s]"
     ]
    },
    {
     "name": "stdout",
     "output_type": "stream",
     "text": [
      "Mean training loss: 0.19726\n"
     ]
    },
    {
     "name": "stderr",
     "output_type": "stream",
     "text": [
      "100%|██████████| 13/13 [00:08<00:00,  1.55it/s]\n"
     ]
    },
    {
     "name": "stdout",
     "output_type": "stream",
     "text": [
      "Avg loss: 0.198329 \n",
      "\n",
      "Epoch 11\n",
      "-------------------------------\n",
      "Gewichtung des Resnetpfades: -0.05192, Gewichtung des MC-Pfades: 0.82504\n",
      "Current batch loss: 0.208854  [    0/ 1000]\n",
      "Current batch loss: 0.170403  [   80/ 1000]\n",
      "Current batch loss: 0.349540  [  160/ 1000]\n",
      "Current batch loss: 0.109235  [  240/ 1000]\n",
      "Current batch loss: 0.307483  [  320/ 1000]\n",
      "Current batch loss: 0.252591  [  400/ 1000]\n",
      "Current batch loss: 0.252807  [  480/ 1000]\n",
      "Current batch loss: 0.134960  [  560/ 1000]\n",
      "Current batch loss: 0.155285  [  640/ 1000]\n",
      "Current batch loss: 0.225860  [  720/ 1000]\n",
      "Current batch loss: 0.137193  [  800/ 1000]\n",
      "Current batch loss: 0.209282  [  880/ 1000]\n",
      "Current batch loss: 0.168026  [  960/ 1000]\n"
     ]
    },
    {
     "name": "stderr",
     "output_type": "stream",
     "text": [
      "\r",
      "  0%|          | 0/13 [00:00<?, ?it/s]"
     ]
    },
    {
     "name": "stdout",
     "output_type": "stream",
     "text": [
      "Mean training loss: 0.20514\n"
     ]
    },
    {
     "name": "stderr",
     "output_type": "stream",
     "text": [
      "100%|██████████| 13/13 [00:07<00:00,  1.63it/s]\n"
     ]
    },
    {
     "name": "stdout",
     "output_type": "stream",
     "text": [
      "Avg loss: 0.216035 \n",
      "\n",
      "Epoch 12\n",
      "-------------------------------\n",
      "Gewichtung des Resnetpfades: -0.05479, Gewichtung des MC-Pfades: 0.82960\n",
      "Current batch loss: 0.280088  [    0/ 1000]\n",
      "Current batch loss: 0.282502  [   80/ 1000]\n",
      "Current batch loss: 0.225612  [  160/ 1000]\n",
      "Current batch loss: 0.207548  [  240/ 1000]\n",
      "Current batch loss: 0.196286  [  320/ 1000]\n",
      "Current batch loss: 0.111499  [  400/ 1000]\n",
      "Current batch loss: 0.105281  [  480/ 1000]\n",
      "Current batch loss: 0.305944  [  560/ 1000]\n",
      "Current batch loss: 0.084063  [  640/ 1000]\n",
      "Current batch loss: 0.129729  [  720/ 1000]\n",
      "Current batch loss: 0.341511  [  800/ 1000]\n",
      "Current batch loss: 0.347674  [  880/ 1000]\n",
      "Current batch loss: 0.263611  [  960/ 1000]\n"
     ]
    },
    {
     "name": "stderr",
     "output_type": "stream",
     "text": [
      "\r",
      "  0%|          | 0/13 [00:00<?, ?it/s]"
     ]
    },
    {
     "name": "stdout",
     "output_type": "stream",
     "text": [
      "Mean training loss: 0.21104\n"
     ]
    },
    {
     "name": "stderr",
     "output_type": "stream",
     "text": [
      "100%|██████████| 13/13 [00:08<00:00,  1.58it/s]\n"
     ]
    },
    {
     "name": "stdout",
     "output_type": "stream",
     "text": [
      "Avg loss: 0.189198 \n",
      "\n",
      "Epoch 13\n",
      "-------------------------------\n",
      "Gewichtung des Resnetpfades: -0.05724, Gewichtung des MC-Pfades: 0.83933\n",
      "Current batch loss: 0.065704  [    0/ 1000]\n",
      "Current batch loss: 0.211831  [   80/ 1000]\n",
      "Current batch loss: 0.443598  [  160/ 1000]\n",
      "Current batch loss: 0.138567  [  240/ 1000]\n",
      "Current batch loss: 0.152812  [  320/ 1000]\n",
      "Current batch loss: 0.196017  [  400/ 1000]\n",
      "Current batch loss: 0.078374  [  480/ 1000]\n",
      "Current batch loss: 0.269869  [  560/ 1000]\n",
      "Current batch loss: 0.238589  [  640/ 1000]\n",
      "Current batch loss: 0.115304  [  720/ 1000]\n",
      "Current batch loss: 0.098760  [  800/ 1000]\n",
      "Current batch loss: 0.361032  [  880/ 1000]\n",
      "Current batch loss: 0.291986  [  960/ 1000]\n"
     ]
    },
    {
     "name": "stderr",
     "output_type": "stream",
     "text": [
      "\r",
      "  0%|          | 0/13 [00:00<?, ?it/s]"
     ]
    },
    {
     "name": "stdout",
     "output_type": "stream",
     "text": [
      "Mean training loss: 0.18489\n"
     ]
    },
    {
     "name": "stderr",
     "output_type": "stream",
     "text": [
      "100%|██████████| 13/13 [00:08<00:00,  1.55it/s]\n"
     ]
    },
    {
     "name": "stdout",
     "output_type": "stream",
     "text": [
      "Avg loss: 0.204253 \n",
      "\n",
      "Epoch 14\n",
      "-------------------------------\n",
      "Gewichtung des Resnetpfades: -0.06095, Gewichtung des MC-Pfades: 0.83806\n",
      "Current batch loss: 0.082278  [    0/ 1000]\n",
      "Current batch loss: 0.079286  [   80/ 1000]\n",
      "Current batch loss: 0.350799  [  160/ 1000]\n",
      "Current batch loss: 0.296022  [  240/ 1000]\n",
      "Current batch loss: 0.122072  [  320/ 1000]\n",
      "Current batch loss: 0.271542  [  400/ 1000]\n",
      "Current batch loss: 0.102678  [  480/ 1000]\n",
      "Current batch loss: 0.107913  [  560/ 1000]\n",
      "Current batch loss: 0.120918  [  640/ 1000]\n",
      "Current batch loss: 0.205826  [  720/ 1000]\n",
      "Current batch loss: 0.271422  [  800/ 1000]\n",
      "Current batch loss: 0.174757  [  880/ 1000]\n",
      "Current batch loss: 0.148068  [  960/ 1000]\n"
     ]
    },
    {
     "name": "stderr",
     "output_type": "stream",
     "text": [
      "\r",
      "  0%|          | 0/13 [00:00<?, ?it/s]"
     ]
    },
    {
     "name": "stdout",
     "output_type": "stream",
     "text": [
      "Mean training loss: 0.20180\n"
     ]
    },
    {
     "name": "stderr",
     "output_type": "stream",
     "text": [
      "100%|██████████| 13/13 [00:08<00:00,  1.62it/s]\n"
     ]
    },
    {
     "name": "stdout",
     "output_type": "stream",
     "text": [
      "Avg loss: 0.198607 \n",
      "\n",
      "Epoch 15\n",
      "-------------------------------\n",
      "Gewichtung des Resnetpfades: -0.06373, Gewichtung des MC-Pfades: 0.84439\n",
      "Current batch loss: 0.115819  [    0/ 1000]\n",
      "Current batch loss: 0.250549  [   80/ 1000]\n",
      "Current batch loss: 0.086285  [  160/ 1000]\n",
      "Current batch loss: 0.140207  [  240/ 1000]\n",
      "Current batch loss: 0.265819  [  320/ 1000]\n",
      "Current batch loss: 0.067643  [  400/ 1000]\n",
      "Current batch loss: 0.188168  [  480/ 1000]\n",
      "Current batch loss: 0.261055  [  560/ 1000]\n",
      "Current batch loss: 0.106381  [  640/ 1000]\n",
      "Current batch loss: 0.280654  [  720/ 1000]\n",
      "Current batch loss: 0.309630  [  800/ 1000]\n",
      "Current batch loss: 0.170589  [  880/ 1000]\n",
      "Current batch loss: 0.085530  [  960/ 1000]\n"
     ]
    },
    {
     "name": "stderr",
     "output_type": "stream",
     "text": [
      "\r",
      "  0%|          | 0/13 [00:00<?, ?it/s]"
     ]
    },
    {
     "name": "stdout",
     "output_type": "stream",
     "text": [
      "Mean training loss: 0.19817\n"
     ]
    },
    {
     "name": "stderr",
     "output_type": "stream",
     "text": [
      "100%|██████████| 13/13 [00:08<00:00,  1.59it/s]\n"
     ]
    },
    {
     "name": "stdout",
     "output_type": "stream",
     "text": [
      "Avg loss: 0.216334 \n",
      "\n",
      "Epoch 16\n",
      "-------------------------------\n",
      "Gewichtung des Resnetpfades: -0.06722, Gewichtung des MC-Pfades: 0.84943\n",
      "Current batch loss: 0.153938  [    0/ 1000]\n",
      "Current batch loss: 0.209819  [   80/ 1000]\n",
      "Current batch loss: 0.229648  [  160/ 1000]\n",
      "Current batch loss: 0.125503  [  240/ 1000]\n",
      "Current batch loss: 0.337598  [  320/ 1000]\n",
      "Current batch loss: 0.090570  [  400/ 1000]\n",
      "Current batch loss: 0.066668  [  480/ 1000]\n",
      "Current batch loss: 0.161609  [  560/ 1000]\n",
      "Current batch loss: 0.206268  [  640/ 1000]\n",
      "Current batch loss: 0.254192  [  720/ 1000]\n",
      "Current batch loss: 0.205778  [  800/ 1000]\n",
      "Current batch loss: 0.153578  [  880/ 1000]\n",
      "Current batch loss: 0.053540  [  960/ 1000]\n"
     ]
    },
    {
     "name": "stderr",
     "output_type": "stream",
     "text": [
      "\r",
      "  0%|          | 0/13 [00:00<?, ?it/s]"
     ]
    },
    {
     "name": "stdout",
     "output_type": "stream",
     "text": [
      "Mean training loss: 0.19258\n"
     ]
    },
    {
     "name": "stderr",
     "output_type": "stream",
     "text": [
      "100%|██████████| 13/13 [00:08<00:00,  1.54it/s]\n"
     ]
    },
    {
     "name": "stdout",
     "output_type": "stream",
     "text": [
      "Avg loss: 0.201562 \n",
      "\n",
      "Epoch    16: reducing learning rate of group 0 to 1.0000e-05.\n",
      "Epoch 17\n",
      "-------------------------------\n",
      "Gewichtung des Resnetpfades: -0.07060, Gewichtung des MC-Pfades: 0.85343\n",
      "Current batch loss: 0.289947  [    0/ 1000]\n",
      "Current batch loss: 0.270980  [   80/ 1000]\n",
      "Current batch loss: 0.445925  [  160/ 1000]\n",
      "Current batch loss: 0.083940  [  240/ 1000]\n",
      "Current batch loss: 0.184789  [  320/ 1000]\n",
      "Current batch loss: 0.114446  [  400/ 1000]\n",
      "Current batch loss: 0.350286  [  480/ 1000]\n",
      "Current batch loss: 0.146174  [  560/ 1000]\n",
      "Current batch loss: 0.310189  [  640/ 1000]\n",
      "Current batch loss: 0.185921  [  720/ 1000]\n",
      "Current batch loss: 0.118666  [  800/ 1000]\n",
      "Current batch loss: 0.089831  [  880/ 1000]\n",
      "Current batch loss: 0.112518  [  960/ 1000]\n"
     ]
    },
    {
     "name": "stderr",
     "output_type": "stream",
     "text": [
      "\r",
      "  0%|          | 0/13 [00:00<?, ?it/s]"
     ]
    },
    {
     "name": "stdout",
     "output_type": "stream",
     "text": [
      "Mean training loss: 0.20393\n"
     ]
    },
    {
     "name": "stderr",
     "output_type": "stream",
     "text": [
      "100%|██████████| 13/13 [00:08<00:00,  1.58it/s]\n"
     ]
    },
    {
     "name": "stdout",
     "output_type": "stream",
     "text": [
      "Avg loss: 0.217083 \n",
      "\n",
      "Epoch 18\n",
      "-------------------------------\n",
      "Gewichtung des Resnetpfades: -0.07082, Gewichtung des MC-Pfades: 0.85493\n",
      "Current batch loss: 0.074330  [    0/ 1000]\n",
      "Current batch loss: 0.038546  [   80/ 1000]\n",
      "Current batch loss: 0.289653  [  160/ 1000]\n",
      "Current batch loss: 0.166722  [  240/ 1000]\n",
      "Current batch loss: 0.257980  [  320/ 1000]\n",
      "Current batch loss: 0.285316  [  400/ 1000]\n",
      "Current batch loss: 0.057545  [  480/ 1000]\n",
      "Current batch loss: 0.165515  [  560/ 1000]\n",
      "Current batch loss: 0.122050  [  640/ 1000]\n",
      "Current batch loss: 0.081630  [  720/ 1000]\n",
      "Current batch loss: 0.397703  [  800/ 1000]\n",
      "Current batch loss: 0.231282  [  880/ 1000]\n",
      "Current batch loss: 0.366520  [  960/ 1000]\n"
     ]
    },
    {
     "name": "stderr",
     "output_type": "stream",
     "text": [
      "\r",
      "  0%|          | 0/13 [00:00<?, ?it/s]"
     ]
    },
    {
     "name": "stdout",
     "output_type": "stream",
     "text": [
      "Mean training loss: 0.20705\n"
     ]
    },
    {
     "name": "stderr",
     "output_type": "stream",
     "text": [
      "100%|██████████| 13/13 [00:07<00:00,  1.65it/s]\n"
     ]
    },
    {
     "name": "stdout",
     "output_type": "stream",
     "text": [
      "Avg loss: 0.222734 \n",
      "\n",
      "Epoch 19\n",
      "-------------------------------\n",
      "Gewichtung des Resnetpfades: -0.07106, Gewichtung des MC-Pfades: 0.85590\n",
      "Current batch loss: 0.102834  [    0/ 1000]\n",
      "Current batch loss: 0.086347  [   80/ 1000]\n",
      "Current batch loss: 0.298142  [  160/ 1000]\n",
      "Current batch loss: 0.171489  [  240/ 1000]\n",
      "Current batch loss: 0.251567  [  320/ 1000]\n",
      "Current batch loss: 0.024771  [  400/ 1000]\n",
      "Current batch loss: 0.228409  [  480/ 1000]\n",
      "Current batch loss: 0.456501  [  560/ 1000]\n",
      "Current batch loss: 0.053901  [  640/ 1000]\n",
      "Current batch loss: 0.135050  [  720/ 1000]\n",
      "Current batch loss: 0.454364  [  800/ 1000]\n",
      "Current batch loss: 0.121495  [  880/ 1000]\n",
      "Current batch loss: 0.221323  [  960/ 1000]\n"
     ]
    },
    {
     "name": "stderr",
     "output_type": "stream",
     "text": [
      "\r",
      "  0%|          | 0/13 [00:00<?, ?it/s]"
     ]
    },
    {
     "name": "stdout",
     "output_type": "stream",
     "text": [
      "Mean training loss: 0.20689\n"
     ]
    },
    {
     "name": "stderr",
     "output_type": "stream",
     "text": [
      "100%|██████████| 13/13 [00:08<00:00,  1.60it/s]\n"
     ]
    },
    {
     "name": "stdout",
     "output_type": "stream",
     "text": [
      "Avg loss: 0.203687 \n",
      "\n",
      "Epoch 20\n",
      "-------------------------------\n",
      "Gewichtung des Resnetpfades: -0.07135, Gewichtung des MC-Pfades: 0.85655\n",
      "Current batch loss: 0.454141  [    0/ 1000]\n",
      "Current batch loss: 0.347752  [   80/ 1000]\n",
      "Current batch loss: 0.275836  [  160/ 1000]\n",
      "Current batch loss: 0.207626  [  240/ 1000]\n",
      "Current batch loss: 0.115313  [  320/ 1000]\n",
      "Current batch loss: 0.195220  [  400/ 1000]\n",
      "Current batch loss: 0.077383  [  480/ 1000]\n",
      "Current batch loss: 0.255449  [  560/ 1000]\n",
      "Current batch loss: 0.295721  [  640/ 1000]\n",
      "Current batch loss: 0.092535  [  720/ 1000]\n",
      "Current batch loss: 0.136225  [  800/ 1000]\n",
      "Current batch loss: 0.374704  [  880/ 1000]\n",
      "Current batch loss: 0.158677  [  960/ 1000]\n"
     ]
    },
    {
     "name": "stderr",
     "output_type": "stream",
     "text": [
      "\r",
      "  0%|          | 0/13 [00:00<?, ?it/s]"
     ]
    },
    {
     "name": "stdout",
     "output_type": "stream",
     "text": [
      "Mean training loss: 0.19939\n"
     ]
    },
    {
     "name": "stderr",
     "output_type": "stream",
     "text": [
      "100%|██████████| 13/13 [00:08<00:00,  1.52it/s]\n"
     ]
    },
    {
     "name": "stdout",
     "output_type": "stream",
     "text": [
      "Avg loss: 0.203257 \n",
      "\n",
      "Epoch    20: reducing learning rate of group 0 to 1.0000e-06.\n",
      "Epoch 21\n",
      "-------------------------------\n",
      "Gewichtung des Resnetpfades: -0.07155, Gewichtung des MC-Pfades: 0.85745\n",
      "Current batch loss: 0.207684  [    0/ 1000]\n",
      "Current batch loss: 0.266949  [   80/ 1000]\n",
      "Current batch loss: 0.151383  [  160/ 1000]\n",
      "Current batch loss: 0.076959  [  240/ 1000]\n",
      "Current batch loss: 0.244602  [  320/ 1000]\n",
      "Current batch loss: 0.252735  [  400/ 1000]\n",
      "Current batch loss: 0.063339  [  480/ 1000]\n",
      "Current batch loss: 0.116394  [  560/ 1000]\n",
      "Current batch loss: 0.083281  [  640/ 1000]\n",
      "Current batch loss: 0.400725  [  720/ 1000]\n",
      "Current batch loss: 0.115075  [  800/ 1000]\n",
      "Current batch loss: 0.320354  [  880/ 1000]\n",
      "Current batch loss: 0.463817  [  960/ 1000]\n"
     ]
    },
    {
     "name": "stderr",
     "output_type": "stream",
     "text": [
      "\r",
      "  0%|          | 0/13 [00:00<?, ?it/s]"
     ]
    },
    {
     "name": "stdout",
     "output_type": "stream",
     "text": [
      "Mean training loss: 0.21853\n"
     ]
    },
    {
     "name": "stderr",
     "output_type": "stream",
     "text": [
      "100%|██████████| 13/13 [00:07<00:00,  1.63it/s]\n"
     ]
    },
    {
     "name": "stdout",
     "output_type": "stream",
     "text": [
      "Avg loss: 0.230003 \n",
      "\n",
      "Epoch 22\n",
      "-------------------------------\n",
      "Gewichtung des Resnetpfades: -0.07159, Gewichtung des MC-Pfades: 0.85745\n",
      "Current batch loss: 0.438390  [    0/ 1000]\n",
      "Current batch loss: 0.212874  [   80/ 1000]\n",
      "Current batch loss: 0.362020  [  160/ 1000]\n",
      "Current batch loss: 0.107972  [  240/ 1000]\n",
      "Current batch loss: 0.170108  [  320/ 1000]\n",
      "Current batch loss: 0.127345  [  400/ 1000]\n",
      "Current batch loss: 0.396487  [  480/ 1000]\n",
      "Current batch loss: 0.188916  [  560/ 1000]\n",
      "Current batch loss: 0.052057  [  640/ 1000]\n",
      "Current batch loss: 0.238146  [  720/ 1000]\n",
      "Current batch loss: 0.383253  [  800/ 1000]\n",
      "Current batch loss: 0.194536  [  880/ 1000]\n",
      "Current batch loss: 0.089326  [  960/ 1000]\n"
     ]
    },
    {
     "name": "stderr",
     "output_type": "stream",
     "text": [
      "\r",
      "  0%|          | 0/13 [00:00<?, ?it/s]"
     ]
    },
    {
     "name": "stdout",
     "output_type": "stream",
     "text": [
      "Mean training loss: 0.19120\n"
     ]
    },
    {
     "name": "stderr",
     "output_type": "stream",
     "text": [
      "100%|██████████| 13/13 [00:08<00:00,  1.62it/s]\n"
     ]
    },
    {
     "name": "stdout",
     "output_type": "stream",
     "text": [
      "Avg loss: 0.218705 \n",
      "\n",
      "Epoch 23\n",
      "-------------------------------\n",
      "Gewichtung des Resnetpfades: -0.07162, Gewichtung des MC-Pfades: 0.85751\n",
      "Current batch loss: 0.149590  [    0/ 1000]\n",
      "Current batch loss: 0.184753  [   80/ 1000]\n",
      "Current batch loss: 0.064851  [  160/ 1000]\n",
      "Current batch loss: 0.027392  [  240/ 1000]\n",
      "Current batch loss: 0.109365  [  320/ 1000]\n",
      "Current batch loss: 0.234541  [  400/ 1000]\n",
      "Current batch loss: 0.089155  [  480/ 1000]\n",
      "Current batch loss: 0.084745  [  560/ 1000]\n",
      "Current batch loss: 0.089985  [  640/ 1000]\n",
      "Current batch loss: 0.060379  [  720/ 1000]\n",
      "Current batch loss: 0.314935  [  800/ 1000]\n",
      "Current batch loss: 0.346469  [  880/ 1000]\n",
      "Current batch loss: 0.194038  [  960/ 1000]\n"
     ]
    },
    {
     "name": "stderr",
     "output_type": "stream",
     "text": [
      "\r",
      "  0%|          | 0/13 [00:00<?, ?it/s]"
     ]
    },
    {
     "name": "stdout",
     "output_type": "stream",
     "text": [
      "Mean training loss: 0.18603\n"
     ]
    },
    {
     "name": "stderr",
     "output_type": "stream",
     "text": [
      "100%|██████████| 13/13 [00:08<00:00,  1.45it/s]\n"
     ]
    },
    {
     "name": "stdout",
     "output_type": "stream",
     "text": [
      "Avg loss: 0.218407 \n",
      "\n",
      "Epoch 24\n",
      "-------------------------------\n",
      "Gewichtung des Resnetpfades: -0.07164, Gewichtung des MC-Pfades: 0.85762\n",
      "Current batch loss: 0.351533  [    0/ 1000]\n",
      "Current batch loss: 0.093696  [   80/ 1000]\n",
      "Current batch loss: 0.297761  [  160/ 1000]\n",
      "Current batch loss: 0.144133  [  240/ 1000]\n",
      "Current batch loss: 0.315478  [  320/ 1000]\n",
      "Current batch loss: 0.038016  [  400/ 1000]\n",
      "Current batch loss: 0.301211  [  480/ 1000]\n",
      "Current batch loss: 0.451711  [  560/ 1000]\n",
      "Current batch loss: 0.268969  [  640/ 1000]\n",
      "Current batch loss: 0.281637  [  720/ 1000]\n",
      "Current batch loss: 0.300357  [  800/ 1000]\n",
      "Current batch loss: 0.276383  [  880/ 1000]\n",
      "Current batch loss: 0.219067  [  960/ 1000]\n"
     ]
    },
    {
     "name": "stderr",
     "output_type": "stream",
     "text": [
      "\r",
      "  0%|          | 0/13 [00:00<?, ?it/s]"
     ]
    },
    {
     "name": "stdout",
     "output_type": "stream",
     "text": [
      "Mean training loss: 0.21317\n"
     ]
    },
    {
     "name": "stderr",
     "output_type": "stream",
     "text": [
      "100%|██████████| 13/13 [00:08<00:00,  1.54it/s]\n"
     ]
    },
    {
     "name": "stdout",
     "output_type": "stream",
     "text": [
      "Avg loss: 0.178287 \n",
      "\n",
      "Epoch 25\n",
      "-------------------------------\n",
      "Gewichtung des Resnetpfades: -0.07166, Gewichtung des MC-Pfades: 0.85773\n",
      "Current batch loss: 0.240234  [    0/ 1000]\n",
      "Current batch loss: 0.269969  [   80/ 1000]\n",
      "Current batch loss: 0.240551  [  160/ 1000]\n",
      "Current batch loss: 0.167108  [  240/ 1000]\n",
      "Current batch loss: 0.401302  [  320/ 1000]\n",
      "Current batch loss: 0.036261  [  400/ 1000]\n",
      "Current batch loss: 0.131135  [  480/ 1000]\n",
      "Current batch loss: 0.129406  [  560/ 1000]\n",
      "Current batch loss: 0.165773  [  640/ 1000]\n",
      "Current batch loss: 0.234271  [  720/ 1000]\n",
      "Current batch loss: 0.293857  [  800/ 1000]\n",
      "Current batch loss: 0.099837  [  880/ 1000]\n",
      "Current batch loss: 0.200041  [  960/ 1000]\n"
     ]
    },
    {
     "name": "stderr",
     "output_type": "stream",
     "text": [
      "\r",
      "  0%|          | 0/13 [00:00<?, ?it/s]"
     ]
    },
    {
     "name": "stdout",
     "output_type": "stream",
     "text": [
      "Mean training loss: 0.18999\n"
     ]
    },
    {
     "name": "stderr",
     "output_type": "stream",
     "text": [
      "100%|██████████| 13/13 [00:08<00:00,  1.62it/s]\n"
     ]
    },
    {
     "name": "stdout",
     "output_type": "stream",
     "text": [
      "Avg loss: 0.201757 \n",
      "\n",
      "Epoch 26\n",
      "-------------------------------\n",
      "Gewichtung des Resnetpfades: -0.07170, Gewichtung des MC-Pfades: 0.85775\n",
      "Current batch loss: 0.128880  [    0/ 1000]\n",
      "Current batch loss: 0.153422  [   80/ 1000]\n",
      "Current batch loss: 0.095073  [  160/ 1000]\n",
      "Current batch loss: 0.308376  [  240/ 1000]\n",
      "Current batch loss: 0.206601  [  320/ 1000]\n",
      "Current batch loss: 0.429080  [  400/ 1000]\n",
      "Current batch loss: 0.155367  [  480/ 1000]\n",
      "Current batch loss: 0.197878  [  560/ 1000]\n",
      "Current batch loss: 0.156806  [  640/ 1000]\n",
      "Current batch loss: 0.506968  [  720/ 1000]\n",
      "Current batch loss: 0.216393  [  800/ 1000]\n",
      "Current batch loss: 0.119239  [  880/ 1000]\n",
      "Current batch loss: 0.097034  [  960/ 1000]\n"
     ]
    },
    {
     "name": "stderr",
     "output_type": "stream",
     "text": [
      "\r",
      "  0%|          | 0/13 [00:00<?, ?it/s]"
     ]
    },
    {
     "name": "stdout",
     "output_type": "stream",
     "text": [
      "Mean training loss: 0.18541\n"
     ]
    },
    {
     "name": "stderr",
     "output_type": "stream",
     "text": [
      "100%|██████████| 13/13 [00:08<00:00,  1.52it/s]\n"
     ]
    },
    {
     "name": "stdout",
     "output_type": "stream",
     "text": [
      "Avg loss: 0.223950 \n",
      "\n",
      "Epoch 27\n",
      "-------------------------------\n",
      "Gewichtung des Resnetpfades: -0.07173, Gewichtung des MC-Pfades: 0.85778\n",
      "Current batch loss: 0.134586  [    0/ 1000]\n",
      "Current batch loss: 0.190122  [   80/ 1000]\n",
      "Current batch loss: 0.202601  [  160/ 1000]\n",
      "Current batch loss: 0.244101  [  240/ 1000]\n",
      "Current batch loss: 0.421059  [  320/ 1000]\n",
      "Current batch loss: 0.283315  [  400/ 1000]\n",
      "Current batch loss: 0.158378  [  480/ 1000]\n",
      "Current batch loss: 0.067971  [  560/ 1000]\n",
      "Current batch loss: 0.190382  [  640/ 1000]\n",
      "Current batch loss: 0.299875  [  720/ 1000]\n",
      "Current batch loss: 0.067825  [  800/ 1000]\n",
      "Current batch loss: 0.075990  [  880/ 1000]\n",
      "Current batch loss: 0.215733  [  960/ 1000]\n"
     ]
    },
    {
     "name": "stderr",
     "output_type": "stream",
     "text": [
      "\r",
      "  0%|          | 0/13 [00:00<?, ?it/s]"
     ]
    },
    {
     "name": "stdout",
     "output_type": "stream",
     "text": [
      "Mean training loss: 0.20667\n"
     ]
    },
    {
     "name": "stderr",
     "output_type": "stream",
     "text": [
      "100%|██████████| 13/13 [00:08<00:00,  1.58it/s]\n"
     ]
    },
    {
     "name": "stdout",
     "output_type": "stream",
     "text": [
      "Avg loss: 0.228603 \n",
      "\n",
      "Epoch 28\n",
      "-------------------------------\n",
      "Gewichtung des Resnetpfades: -0.07174, Gewichtung des MC-Pfades: 0.85792\n",
      "Current batch loss: 0.313414  [    0/ 1000]\n",
      "Current batch loss: 0.455062  [   80/ 1000]\n",
      "Current batch loss: 0.242647  [  160/ 1000]\n",
      "Current batch loss: 0.050956  [  240/ 1000]\n",
      "Current batch loss: 0.146942  [  320/ 1000]\n",
      "Current batch loss: 0.566267  [  400/ 1000]\n",
      "Current batch loss: 0.084395  [  480/ 1000]\n",
      "Current batch loss: 0.114154  [  560/ 1000]\n",
      "Current batch loss: 0.282702  [  640/ 1000]\n",
      "Current batch loss: 0.112392  [  720/ 1000]\n",
      "Current batch loss: 0.201514  [  800/ 1000]\n",
      "Current batch loss: 0.297072  [  880/ 1000]\n",
      "Current batch loss: 0.331891  [  960/ 1000]\n"
     ]
    },
    {
     "name": "stderr",
     "output_type": "stream",
     "text": [
      "\r",
      "  0%|          | 0/13 [00:00<?, ?it/s]"
     ]
    },
    {
     "name": "stdout",
     "output_type": "stream",
     "text": [
      "Mean training loss: 0.21917\n"
     ]
    },
    {
     "name": "stderr",
     "output_type": "stream",
     "text": [
      "100%|██████████| 13/13 [00:08<00:00,  1.54it/s]\n"
     ]
    },
    {
     "name": "stdout",
     "output_type": "stream",
     "text": [
      "Avg loss: 0.227340 \n",
      "\n",
      "Epoch    28: reducing learning rate of group 0 to 1.0000e-07.\n",
      "Epoch 29\n",
      "-------------------------------\n",
      "Gewichtung des Resnetpfades: -0.07176, Gewichtung des MC-Pfades: 0.85803\n",
      "Current batch loss: 0.191573  [    0/ 1000]\n",
      "Current batch loss: 0.292484  [   80/ 1000]\n",
      "Current batch loss: 0.256458  [  160/ 1000]\n",
      "Current batch loss: 0.296365  [  240/ 1000]\n",
      "Current batch loss: 0.057288  [  320/ 1000]\n",
      "Current batch loss: 0.341376  [  400/ 1000]\n",
      "Current batch loss: 0.112066  [  480/ 1000]\n",
      "Current batch loss: 0.259548  [  560/ 1000]\n",
      "Current batch loss: 0.250749  [  640/ 1000]\n",
      "Current batch loss: 0.114378  [  720/ 1000]\n",
      "Current batch loss: 0.093890  [  800/ 1000]\n",
      "Current batch loss: 0.133113  [  880/ 1000]\n",
      "Current batch loss: 0.111228  [  960/ 1000]\n"
     ]
    },
    {
     "name": "stderr",
     "output_type": "stream",
     "text": [
      "\r",
      "  0%|          | 0/13 [00:00<?, ?it/s]"
     ]
    },
    {
     "name": "stdout",
     "output_type": "stream",
     "text": [
      "Mean training loss: 0.21436\n"
     ]
    },
    {
     "name": "stderr",
     "output_type": "stream",
     "text": [
      "100%|██████████| 13/13 [00:08<00:00,  1.47it/s]\n"
     ]
    },
    {
     "name": "stdout",
     "output_type": "stream",
     "text": [
      "Avg loss: 0.210125 \n",
      "\n",
      "Epoch 30\n",
      "-------------------------------\n",
      "Gewichtung des Resnetpfades: -0.07177, Gewichtung des MC-Pfades: 0.85804\n",
      "Current batch loss: 0.084901  [    0/ 1000]\n",
      "Current batch loss: 0.117852  [   80/ 1000]\n",
      "Current batch loss: 0.077084  [  160/ 1000]\n",
      "Current batch loss: 0.146573  [  240/ 1000]\n",
      "Current batch loss: 0.154157  [  320/ 1000]\n",
      "Current batch loss: 0.204182  [  400/ 1000]\n",
      "Current batch loss: 0.277898  [  480/ 1000]\n",
      "Current batch loss: 0.080968  [  560/ 1000]\n",
      "Current batch loss: 0.021065  [  640/ 1000]\n",
      "Current batch loss: 0.259269  [  720/ 1000]\n",
      "Current batch loss: 0.256247  [  800/ 1000]\n",
      "Current batch loss: 0.231962  [  880/ 1000]\n",
      "Current batch loss: 0.074800  [  960/ 1000]\n"
     ]
    },
    {
     "name": "stderr",
     "output_type": "stream",
     "text": [
      "\r",
      "  0%|          | 0/13 [00:00<?, ?it/s]"
     ]
    },
    {
     "name": "stdout",
     "output_type": "stream",
     "text": [
      "Mean training loss: 0.19847\n"
     ]
    },
    {
     "name": "stderr",
     "output_type": "stream",
     "text": [
      "100%|██████████| 13/13 [00:08<00:00,  1.45it/s]"
     ]
    },
    {
     "name": "stdout",
     "output_type": "stream",
     "text": [
      "Avg loss: 0.194904 \n",
      "\n",
      "Done!\n"
     ]
    },
    {
     "name": "stderr",
     "output_type": "stream",
     "text": [
      "\n"
     ]
    }
   ],
   "source": [
    "epochs = 30\n",
    "val_losses = list()\n",
    "train_losses = list()\n",
    "weight_fc4 = list()\n",
    "bias_fc4 = list()\n",
    "\n",
    "for t in range(epochs):\n",
    "    print(f\"Epoch {t+1}\\n-------------------------------\")\n",
    "\n",
    "    print(f\"Gewichtung des Resnetpfades: {model.fc4.weight[0][0]:.5f}, Gewichtung des MC-Pfades: {model.fc4.weight[0][1]:.5f}\" )\n",
    "    weight_fc4.append(model.fc4.weight.clone().detach().cpu())\n",
    "    bias_fc4.append(model.fc4.bias.clone().detach().cpu())\n",
    "       \n",
    "    train_loss= train_loop(train_loader, model, loss_fn, optimizer)\n",
    "    val_loss = test_loop(val_loader, model, loss_fn)\n",
    "    \n",
    "    # model selection\n",
    "    if t == 0:\n",
    "        best_loss = val_loss\n",
    "    else:\n",
    "        if val_loss < best_loss:\n",
    "            best_model = model.state_dict()\n",
    "            best_loss = val_loss\n",
    "            \n",
    "    scheduler.step(val_loss)\n",
    "    val_losses.append(val_loss)\n",
    "    train_losses.append(train_loss)\n",
    "print(\"Done!\")"
   ]
  },
  {
   "cell_type": "code",
   "execution_count": 14,
   "id": "48045cb4",
   "metadata": {
    "scrolled": true
   },
   "outputs": [
    {
     "data": {
      "text/plain": [
       "[<matplotlib.lines.Line2D at 0x7feb840e45e0>]"
      ]
     },
     "execution_count": 14,
     "metadata": {},
     "output_type": "execute_result"
    },
    {
     "data": {
      "image/png": "[encoded data removed]",
      "text/plain": [
       "<Figure size 432x288 with 1 Axes>"
      ]
     },
     "metadata": {
      "needs_background": "light"
     },
     "output_type": "display_data"
    }
   ],
   "source": [
    "plt.plot(train_losses)\n",
    "plt.plot(val_losses)"
   ]
  },
  {
   "cell_type": "code",
   "execution_count": 15,
   "id": "e782fb34",
   "metadata": {
    "scrolled": true
   },
   "outputs": [
    {
     "data": {
      "text/plain": [
       "<matplotlib.legend.Legend at 0x7feb800f9a30>"
      ]
     },
     "execution_count": 15,
     "metadata": {},
     "output_type": "execute_result"
    },
    {
     "data": {
      "image/png": "[encoded data removed]",
      "text/plain": [
       "<Figure size 432x288 with 1 Axes>"
      ]
     },
     "metadata": {
      "needs_background": "light"
     },
     "output_type": "display_data"
    }
   ],
   "source": [
    "weightfc4 = [i.squeeze(0) for i in weight_fc4]\n",
    "biasfc4 = torch.cat(bias_fc4).numpy()\n",
    "plt.plot([i[0] for i in weightfc4], label = \"Weighting of the resnet path\")\n",
    "plt.plot([i[1] for i in weightfc4], label = \"Weighting of the MC path\")\n",
    "plt.plot(biasfc4, label = \"Bias\")\n",
    "plt.legend()"
   ]
  }
 ],
 "metadata": {
  "kernelspec": {
   "display_name": "Python 3",
   "language": "python",
   "name": "python3"
  },
  "language_info": {
   "codemirror_mode": {
    "name": "ipython",
    "version": 3
   },
   "file_extension": ".py",
   "mimetype": "text/x-python",
   "name": "python",
   "nbconvert_exporter": "python",
   "pygments_lexer": "ipython3",
   "version": "3.8.8"
  }
 },
 "nbformat": 4,
 "nbformat_minor": 5
}
