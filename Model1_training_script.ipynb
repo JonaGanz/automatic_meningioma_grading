{
 "cells": [
  {
   "cell_type": "markdown",
   "id": "4010d9ff",
   "metadata": {},
   "source": [
    "# Training Skript for Image based WHO grade regression network\n",
    "\n",
    "    1. Load necessary data\n",
    "    2. Initialize model\n",
    "    3. Training loop"
   ]
  },
  {
   "cell_type": "markdown",
   "id": "ceb56056",
   "metadata": {},
   "source": [
    "## 1. Load necessary data"
   ]
  },
  {
   "cell_type": "code",
   "execution_count": null,
   "id": "70de0770",
   "metadata": {},
   "outputs": [],
   "source": [
    "%load_ext autoreload\n",
    "%autoreload 2\n",
    "\n",
    "import pickle\n",
    "import RegressionDataSet4\n",
    "import torch \n",
    "\n",
    "torch.cuda.empty_cache()\n",
    "\n",
    "annotation_dict = pickle.load(open(\"annotation_dict2.p\",\"rb\"))"
   ]
  },
  {
   "cell_type": "code",
   "execution_count": 2,
   "id": "dbe07c91",
   "metadata": {},
   "outputs": [],
   "source": [
    "keys_to_discard = list()\n",
    "keys_for_training = list()\n",
    "keys_excluded_testset=0\n",
    "ldfnummer_exclude = []\n",
    "testset_exclude = pickle.load(open('Testset_List.p','rb'))\n",
    "for key in annotation_dict:\n",
    "    if key in testset_exclude:\n",
    "        ldfnummer_exclude += [annotation_dict[key]['lfd_number']]\n",
    "\n",
    "for key in annotation_dict:\n",
    "    try:\n",
    "        if (annotation_dict[key]['mitotic_count'] >= 0) and (annotation_dict[key]['lfd_number'] not in ldfnummer_exclude):\n",
    "            keys_for_training.append(key)\n",
    "        else:\n",
    "            keys_to_discard.append(key)\n",
    "    except KeyError:\n",
    "        keys_to_discard.append(key)\n",
    "\n",
    "import numpy as np\n",
    "keys_excluded_testset,\n",
    "ldfnummer_exclude = np.unique(ldfnummer_exclude)\n",
    "ldfnummer_exclude\n",
    "len(ldfnummer_exclude)"
   ]
  },
  {
   "cell_type": "code",
   "execution_count": 6,
   "id": "eab94f16",
   "metadata": {},
   "outputs": [],
   "source": [
    "tmp = dict()\n",
    "for key in annotation_dict:\n",
    "    lfd_number = annotation_dict[key]['lfd_number']\n",
    "    if (lfd_number in ldfnummer_exclude):\n",
    "        continue\n",
    "    if lfd_number not in tmp:\n",
    "        tmp[lfd_number] = dict()\n",
    "        tmp[lfd_number]['file'] = key\n",
    "        tmp[lfd_number]['who_grade'] = annotation_dict[key]['who_grade']\n",
    "        # bei Fällen, bei denen der MC = 0 ist existiert kein Eintrag für 'mitotic_count'\n",
    "        try:\n",
    "            tmp[lfd_number]['mitotic_count'] = annotation_dict[key]['mitotic_count']\n",
    "        except KeyError:\n",
    "            tmp[lfd_number]['mitotic_count'] = 0\n",
    "    try:\n",
    "        if tmp[lfd_number]['mitotic_count'] < annotation_dict[key]['mitotic_count']:\n",
    "            tmp[lfd_number]['file'] = key\n",
    "            tmp[lfd_number]['who_grade'] = annotation_dict[key]['who_grade']\n",
    "            tmp[lfd_number]['mitotic_count'] = annotation_dict[key]['mitotic_count']\n",
    "    except KeyError:\n",
    "        continue\n",
    "\n",
    "patients = tmp\n",
    "import random\n",
    "\n",
    "random.seed(2)\n",
    "# 15 % validation data\n",
    "val_numbers = [lfd_number for lfd_number in random.sample(patients.keys(),54)]\n",
    "val_keys = [patients[lfd_number]['file'] for lfd_number in val_numbers]\n",
    "\n",
    "train_numbers = [lfd_number for lfd_number in patients if lfd_number not in val_numbers]\n",
    "train_keys = [patients[lfd_number]['file'] for lfd_number in train_numbers]\n",
    "\n",
    "\n"
   ]
  },
  {
   "cell_type": "code",
   "execution_count": 8,
   "id": "1e6fc893",
   "metadata": {},
   "outputs": [
    {
     "name": "stderr",
     "output_type": "stream",
     "text": [
      "100% (287 of 287) |######################| Elapsed Time: 0:00:19 Time:  0:00:19\n",
      "100% (54 of 54) |########################| Elapsed Time: 0:00:01 Time:  0:00:01\n"
     ]
    }
   ],
   "source": [
    "from torchvision import transforms\n",
    "from torch.utils.data import DataLoader\n",
    "import random\n",
    "\n",
    "\n",
    "path_to_wsis = \"\"\n",
    "\n",
    "transform = transforms.Compose([transforms.ToTensor(),transforms.Normalize((0.8249, 0.5482, 0.7211),(0.0573, 0.0988, 0.0595))])\n",
    "\n",
    "batch_size = 8\n",
    "\n",
    "train_data = RegressionDataSet4.WhoRegressionDataSet(path_to_wsis,train_keys,annotation_dict,1000,transform,level = 0)\n",
    "train_loader = DataLoader(train_data, batch_size = batch_size, collate_fn=train_data.collate_fn)\n",
    "\n",
    "val_data = RegressionDataSet4.WhoRegressionDataSet(path_to_wsis,val_keys,annotation_dict,100,transform,level = 0)\n",
    "val_loader = DataLoader(val_data, batch_size = batch_size, collate_fn=val_data.collate_fn)\n",
    "\n",
    "data_loaders = {\n",
    "    'train' : train_loader,\n",
    "    'val' : val_loader,\n",
    "}"
   ]
  },
  {
   "cell_type": "markdown",
   "id": "6340a8ae",
   "metadata": {},
   "source": [
    "## 2. Initialize model"
   ]
  },
  {
   "cell_type": "code",
   "execution_count": 9,
   "id": "0f555862",
   "metadata": {},
   "outputs": [
    {
     "data": {
      "text/plain": [
       "RegressionModel(\n",
       "  (model): Sequential(\n",
       "    (0): Conv2d(3, 64, kernel_size=(7, 7), stride=(2, 2), padding=(3, 3), bias=False)\n",
       "    (1): BatchNorm2d(64, eps=1e-05, momentum=0.1, affine=True, track_running_stats=True)\n",
       "    (2): ReLU(inplace=True)\n",
       "    (3): MaxPool2d(kernel_size=3, stride=2, padding=1, dilation=1, ceil_mode=False)\n",
       "    (4): Sequential(\n",
       "      (0): BasicBlock(\n",
       "        (conv1): Conv2d(64, 64, kernel_size=(3, 3), stride=(1, 1), padding=(1, 1), bias=False)\n",
       "        (bn1): BatchNorm2d(64, eps=1e-05, momentum=0.1, affine=True, track_running_stats=True)\n",
       "        (relu): ReLU(inplace=True)\n",
       "        (conv2): Conv2d(64, 64, kernel_size=(3, 3), stride=(1, 1), padding=(1, 1), bias=False)\n",
       "        (bn2): BatchNorm2d(64, eps=1e-05, momentum=0.1, affine=True, track_running_stats=True)\n",
       "      )\n",
       "      (1): BasicBlock(\n",
       "        (conv1): Conv2d(64, 64, kernel_size=(3, 3), stride=(1, 1), padding=(1, 1), bias=False)\n",
       "        (bn1): BatchNorm2d(64, eps=1e-05, momentum=0.1, affine=True, track_running_stats=True)\n",
       "        (relu): ReLU(inplace=True)\n",
       "        (conv2): Conv2d(64, 64, kernel_size=(3, 3), stride=(1, 1), padding=(1, 1), bias=False)\n",
       "        (bn2): BatchNorm2d(64, eps=1e-05, momentum=0.1, affine=True, track_running_stats=True)\n",
       "      )\n",
       "    )\n",
       "    (5): Sequential(\n",
       "      (0): BasicBlock(\n",
       "        (conv1): Conv2d(64, 128, kernel_size=(3, 3), stride=(2, 2), padding=(1, 1), bias=False)\n",
       "        (bn1): BatchNorm2d(128, eps=1e-05, momentum=0.1, affine=True, track_running_stats=True)\n",
       "        (relu): ReLU(inplace=True)\n",
       "        (conv2): Conv2d(128, 128, kernel_size=(3, 3), stride=(1, 1), padding=(1, 1), bias=False)\n",
       "        (bn2): BatchNorm2d(128, eps=1e-05, momentum=0.1, affine=True, track_running_stats=True)\n",
       "        (downsample): Sequential(\n",
       "          (0): Conv2d(64, 128, kernel_size=(1, 1), stride=(2, 2), bias=False)\n",
       "          (1): BatchNorm2d(128, eps=1e-05, momentum=0.1, affine=True, track_running_stats=True)\n",
       "        )\n",
       "      )\n",
       "      (1): BasicBlock(\n",
       "        (conv1): Conv2d(128, 128, kernel_size=(3, 3), stride=(1, 1), padding=(1, 1), bias=False)\n",
       "        (bn1): BatchNorm2d(128, eps=1e-05, momentum=0.1, affine=True, track_running_stats=True)\n",
       "        (relu): ReLU(inplace=True)\n",
       "        (conv2): Conv2d(128, 128, kernel_size=(3, 3), stride=(1, 1), padding=(1, 1), bias=False)\n",
       "        (bn2): BatchNorm2d(128, eps=1e-05, momentum=0.1, affine=True, track_running_stats=True)\n",
       "      )\n",
       "    )\n",
       "    (6): Sequential(\n",
       "      (0): BasicBlock(\n",
       "        (conv1): Conv2d(128, 256, kernel_size=(3, 3), stride=(2, 2), padding=(1, 1), bias=False)\n",
       "        (bn1): BatchNorm2d(256, eps=1e-05, momentum=0.1, affine=True, track_running_stats=True)\n",
       "        (relu): ReLU(inplace=True)\n",
       "        (conv2): Conv2d(256, 256, kernel_size=(3, 3), stride=(1, 1), padding=(1, 1), bias=False)\n",
       "        (bn2): BatchNorm2d(256, eps=1e-05, momentum=0.1, affine=True, track_running_stats=True)\n",
       "        (downsample): Sequential(\n",
       "          (0): Conv2d(128, 256, kernel_size=(1, 1), stride=(2, 2), bias=False)\n",
       "          (1): BatchNorm2d(256, eps=1e-05, momentum=0.1, affine=True, track_running_stats=True)\n",
       "        )\n",
       "      )\n",
       "      (1): BasicBlock(\n",
       "        (conv1): Conv2d(256, 256, kernel_size=(3, 3), stride=(1, 1), padding=(1, 1), bias=False)\n",
       "        (bn1): BatchNorm2d(256, eps=1e-05, momentum=0.1, affine=True, track_running_stats=True)\n",
       "        (relu): ReLU(inplace=True)\n",
       "        (conv2): Conv2d(256, 256, kernel_size=(3, 3), stride=(1, 1), padding=(1, 1), bias=False)\n",
       "        (bn2): BatchNorm2d(256, eps=1e-05, momentum=0.1, affine=True, track_running_stats=True)\n",
       "      )\n",
       "    )\n",
       "    (7): Sequential(\n",
       "      (0): BasicBlock(\n",
       "        (conv1): Conv2d(256, 512, kernel_size=(3, 3), stride=(2, 2), padding=(1, 1), bias=False)\n",
       "        (bn1): BatchNorm2d(512, eps=1e-05, momentum=0.1, affine=True, track_running_stats=True)\n",
       "        (relu): ReLU(inplace=True)\n",
       "        (conv2): Conv2d(512, 512, kernel_size=(3, 3), stride=(1, 1), padding=(1, 1), bias=False)\n",
       "        (bn2): BatchNorm2d(512, eps=1e-05, momentum=0.1, affine=True, track_running_stats=True)\n",
       "        (downsample): Sequential(\n",
       "          (0): Conv2d(256, 512, kernel_size=(1, 1), stride=(2, 2), bias=False)\n",
       "          (1): BatchNorm2d(512, eps=1e-05, momentum=0.1, affine=True, track_running_stats=True)\n",
       "        )\n",
       "      )\n",
       "      (1): BasicBlock(\n",
       "        (conv1): Conv2d(512, 512, kernel_size=(3, 3), stride=(1, 1), padding=(1, 1), bias=False)\n",
       "        (bn1): BatchNorm2d(512, eps=1e-05, momentum=0.1, affine=True, track_running_stats=True)\n",
       "        (relu): ReLU(inplace=True)\n",
       "        (conv2): Conv2d(512, 512, kernel_size=(3, 3), stride=(1, 1), padding=(1, 1), bias=False)\n",
       "        (bn2): BatchNorm2d(512, eps=1e-05, momentum=0.1, affine=True, track_running_stats=True)\n",
       "      )\n",
       "    )\n",
       "    (8): AdaptiveAvgPool2d(output_size=(1, 1))\n",
       "    (9): Flatten(start_dim=1, end_dim=-1)\n",
       "  )\n",
       "  (fc1): Linear(in_features=512, out_features=1, bias=True)\n",
       "  (fc2): Linear(in_features=1, out_features=1, bias=True)\n",
       ")"
      ]
     },
     "execution_count": 9,
     "metadata": {},
     "output_type": "execute_result"
    }
   ],
   "source": [
    "import torchvision\n",
    "import torch\n",
    "import Model1\n",
    "from torch import nn, optim\n",
    "\n",
    "device = torch.device(\"cuda:0\" if torch.cuda.is_available() else \"cpu\")\n",
    "\n",
    "model = Model1.RegressionModel()\n",
    "model.to(device)"
   ]
  },
  {
   "cell_type": "markdown",
   "id": "36a63de8",
   "metadata": {},
   "source": [
    "## 3. Training loop"
   ]
  },
  {
   "cell_type": "code",
   "execution_count": 10,
   "id": "870fa1bd",
   "metadata": {},
   "outputs": [],
   "source": [
    "from tqdm import tqdm\n",
    "\n",
    "def train_loop(train_loader, model, loss_fn, optimizer):\n",
    "    running_loss = 0\n",
    "    size = train_loader.dataset.pseudo_epoch_length\n",
    "    for  batch, (X,y) in enumerate(train_loader):\n",
    "        # Image\n",
    "        X = X.to(device)\n",
    "        # who grade\n",
    "        y = y.to(device)\n",
    "        pred = model(X)\n",
    "        loss = loss_fn(pred, y)\n",
    "\n",
    "        optimizer.zero_grad()\n",
    "        loss.backward()\n",
    "        optimizer.step()\n",
    "        running_loss += loss.item()\n",
    "        \n",
    "        if batch % 10 == 0:\n",
    "            loss, current = loss.item(), batch * len(X)\n",
    "            print(f\"Current batch loss: {loss:>7f}  [{current:>5d}/{size:>5d}]\")\n",
    "\n",
    "    running_loss /= len(train_loader)\n",
    "    print(f\"Mean Train Loss: {running_loss:.5f}\")\n",
    "    return running_loss \n",
    "  \n",
    "            \n",
    "def test_loop(test_loader, model, loss_fn):\n",
    "    print(\"Validation\")\n",
    "    size = len(test_loader)\n",
    "    test_loss = 0\n",
    "\n",
    "    with torch.no_grad():\n",
    "        for X,y in tqdm(test_loader):\n",
    "            X = X.to(device)\n",
    "            y = y.to(device)\n",
    "            pred = model(X)\n",
    "            test_loss += loss_fn(pred, y).item()\n",
    "    test_loss /= size\n",
    "    print(f\"Avg loss: {test_loss:>8f} \\n\")\n",
    "    return test_loss"
   ]
  },
  {
   "cell_type": "code",
   "execution_count": 11,
   "id": "36379ba3",
   "metadata": {},
   "outputs": [],
   "source": [
    "loss_fn = torch.nn.MSELoss(reduction = 'mean')\n",
    "optimizer = torch.optim.SGD(model.parameters(), lr=1e-4, momentum=0.9)\n",
    "scheduler = torch.optim.lr_scheduler.ReduceLROnPlateau(optimizer,mode = 'min', factor = 0.1, patience = 5, verbose=True)"
   ]
  },
  {
   "cell_type": "code",
   "execution_count": 13,
   "id": "fe136cd9",
   "metadata": {},
   "outputs": [
    {
     "name": "stdout",
     "output_type": "stream",
     "text": [
      "Epoch 1\n",
      "-------------------------------\n",
      "Current batch loss: 6.472780  [    0/ 1000]\n",
      "Current batch loss: 1.475167  [   80/ 1000]\n",
      "Current batch loss: 1.186334  [  160/ 1000]\n",
      "Current batch loss: 0.643188  [  240/ 1000]\n",
      "Current batch loss: 0.423618  [  320/ 1000]\n",
      "Current batch loss: 0.192283  [  400/ 1000]\n",
      "Current batch loss: 0.362189  [  480/ 1000]\n",
      "Current batch loss: 0.276175  [  560/ 1000]\n",
      "Current batch loss: 0.496211  [  640/ 1000]\n",
      "Current batch loss: 0.374200  [  720/ 1000]\n",
      "Current batch loss: 0.125635  [  800/ 1000]\n",
      "Current batch loss: 0.343314  [  880/ 1000]\n",
      "Current batch loss: 0.229178  [  960/ 1000]\n"
     ]
    },
    {
     "name": "stderr",
     "output_type": "stream",
     "text": [
      "\r",
      "  0%|          | 0/13 [00:00<?, ?it/s]"
     ]
    },
    {
     "name": "stdout",
     "output_type": "stream",
     "text": [
      "Mean Train Loss: 0.65452\n",
      "Validation\n"
     ]
    },
    {
     "name": "stderr",
     "output_type": "stream",
     "text": [
      "100%|██████████| 13/13 [00:13<00:00,  1.07s/it]\n"
     ]
    },
    {
     "name": "stdout",
     "output_type": "stream",
     "text": [
      "Avg loss: 0.605490 \n",
      "\n",
      "Epoch 2\n",
      "-------------------------------\n",
      "Current batch loss: 0.605480  [    0/ 1000]\n",
      "Current batch loss: 1.213721  [   80/ 1000]\n",
      "Current batch loss: 0.188971  [  160/ 1000]\n",
      "Current batch loss: 0.687769  [  240/ 1000]\n",
      "Current batch loss: 0.305595  [  320/ 1000]\n",
      "Current batch loss: 0.386079  [  400/ 1000]\n",
      "Current batch loss: 0.044732  [  480/ 1000]\n",
      "Current batch loss: 0.587330  [  560/ 1000]\n",
      "Current batch loss: 0.142462  [  640/ 1000]\n",
      "Current batch loss: 0.444643  [  720/ 1000]\n",
      "Current batch loss: 0.268837  [  800/ 1000]\n",
      "Current batch loss: 0.400498  [  880/ 1000]\n",
      "Current batch loss: 0.352809  [  960/ 1000]\n"
     ]
    },
    {
     "name": "stderr",
     "output_type": "stream",
     "text": [
      "\r",
      "  0%|          | 0/13 [00:00<?, ?it/s]"
     ]
    },
    {
     "name": "stdout",
     "output_type": "stream",
     "text": [
      "Mean Train Loss: 0.33802\n",
      "Validation\n"
     ]
    },
    {
     "name": "stderr",
     "output_type": "stream",
     "text": [
      "100%|██████████| 13/13 [00:13<00:00,  1.00s/it]\n"
     ]
    },
    {
     "name": "stdout",
     "output_type": "stream",
     "text": [
      "Avg loss: 0.600341 \n",
      "\n",
      "Epoch 3\n",
      "-------------------------------\n",
      "Current batch loss: 0.211684  [    0/ 1000]\n",
      "Current batch loss: 0.263310  [   80/ 1000]\n",
      "Current batch loss: 0.250999  [  160/ 1000]\n",
      "Current batch loss: 0.406072  [  240/ 1000]\n",
      "Current batch loss: 0.241749  [  320/ 1000]\n",
      "Current batch loss: 0.329474  [  400/ 1000]\n",
      "Current batch loss: 0.122497  [  480/ 1000]\n",
      "Current batch loss: 0.306828  [  560/ 1000]\n",
      "Current batch loss: 0.242437  [  640/ 1000]\n",
      "Current batch loss: 0.101161  [  720/ 1000]\n",
      "Current batch loss: 0.379384  [  800/ 1000]\n",
      "Current batch loss: 0.181775  [  880/ 1000]\n",
      "Current batch loss: 0.312521  [  960/ 1000]\n"
     ]
    },
    {
     "name": "stderr",
     "output_type": "stream",
     "text": [
      "\r",
      "  0%|          | 0/13 [00:00<?, ?it/s]"
     ]
    },
    {
     "name": "stdout",
     "output_type": "stream",
     "text": [
      "Mean Train Loss: 0.29180\n",
      "Validation\n"
     ]
    },
    {
     "name": "stderr",
     "output_type": "stream",
     "text": [
      "100%|██████████| 13/13 [00:13<00:00,  1.04s/it]\n"
     ]
    },
    {
     "name": "stdout",
     "output_type": "stream",
     "text": [
      "Avg loss: 0.544478 \n",
      "\n",
      "Epoch 4\n",
      "-------------------------------\n",
      "Current batch loss: 0.161392  [    0/ 1000]\n",
      "Current batch loss: 0.148482  [   80/ 1000]\n",
      "Current batch loss: 0.428092  [  160/ 1000]\n",
      "Current batch loss: 0.082883  [  240/ 1000]\n",
      "Current batch loss: 0.412731  [  320/ 1000]\n",
      "Current batch loss: 0.203050  [  400/ 1000]\n",
      "Current batch loss: 0.166464  [  480/ 1000]\n",
      "Current batch loss: 0.499765  [  560/ 1000]\n",
      "Current batch loss: 0.139609  [  640/ 1000]\n",
      "Current batch loss: 0.148998  [  720/ 1000]\n",
      "Current batch loss: 0.281727  [  800/ 1000]\n",
      "Current batch loss: 0.136762  [  880/ 1000]\n",
      "Current batch loss: 0.233076  [  960/ 1000]\n"
     ]
    },
    {
     "name": "stderr",
     "output_type": "stream",
     "text": [
      "\r",
      "  0%|          | 0/13 [00:00<?, ?it/s]"
     ]
    },
    {
     "name": "stdout",
     "output_type": "stream",
     "text": [
      "Mean Train Loss: 0.27342\n",
      "Validation\n"
     ]
    },
    {
     "name": "stderr",
     "output_type": "stream",
     "text": [
      "100%|██████████| 13/13 [00:12<00:00,  1.05it/s]\n"
     ]
    },
    {
     "name": "stdout",
     "output_type": "stream",
     "text": [
      "Avg loss: 0.481349 \n",
      "\n",
      "Epoch 5\n",
      "-------------------------------\n",
      "Current batch loss: 0.248616  [    0/ 1000]\n",
      "Current batch loss: 0.374771  [   80/ 1000]\n",
      "Current batch loss: 0.176602  [  160/ 1000]\n",
      "Current batch loss: 0.308610  [  240/ 1000]\n",
      "Current batch loss: 0.337643  [  320/ 1000]\n",
      "Current batch loss: 0.190720  [  400/ 1000]\n",
      "Current batch loss: 0.089589  [  480/ 1000]\n",
      "Current batch loss: 0.228322  [  560/ 1000]\n",
      "Current batch loss: 0.304207  [  640/ 1000]\n",
      "Current batch loss: 0.115131  [  720/ 1000]\n",
      "Current batch loss: 0.076848  [  800/ 1000]\n",
      "Current batch loss: 0.506837  [  880/ 1000]\n",
      "Current batch loss: 0.194924  [  960/ 1000]\n"
     ]
    },
    {
     "name": "stderr",
     "output_type": "stream",
     "text": [
      "\r",
      "  0%|          | 0/13 [00:00<?, ?it/s]"
     ]
    },
    {
     "name": "stdout",
     "output_type": "stream",
     "text": [
      "Mean Train Loss: 0.25549\n",
      "Validation\n"
     ]
    },
    {
     "name": "stderr",
     "output_type": "stream",
     "text": [
      "100%|██████████| 13/13 [00:13<00:00,  1.00s/it]"
     ]
    },
    {
     "name": "stdout",
     "output_type": "stream",
     "text": [
      "Avg loss: 0.642378 \n",
      "\n",
      "Done!\n"
     ]
    },
    {
     "name": "stderr",
     "output_type": "stream",
     "text": [
      "\n"
     ]
    }
   ],
   "source": [
    "#optimizer.param_groups[0]['lr'] = 0.01\n",
    "epochs = 5\n",
    "val_losses = list()\n",
    "train_losses = list()\n",
    "weights = []\n",
    "biases = []\n",
    "\n",
    "for t in range(epochs):\n",
    "    print(f\"Epoch {t+1}\\n-------------------------------\")\n",
    "    train_loss= train_loop(train_loader, model, loss_fn, optimizer)\n",
    "    val_loss = test_loop(val_loader, model, loss_fn)\n",
    "    \n",
    "    # model selection\n",
    "    if t == 0:\n",
    "        best_loss = val_loss\n",
    "    else:\n",
    "        if val_loss < best_loss:\n",
    "            best_model = model.state_dict()\n",
    "            best_loss = val_loss\n",
    "            \n",
    "    weights.append(model.fc2.weight.data.cpu().numpy()[0][0])\n",
    "    biases.append(model.fc2.bias.data.cpu().numpy())\n",
    "    scheduler.step(val_loss)\n",
    "    val_losses.append(val_loss)\n",
    "    train_losses.append(train_loss)\n",
    "print(\"Done!\")"
   ]
  },
  {
   "cell_type": "code",
   "execution_count": 14,
   "id": "f4654fd6",
   "metadata": {},
   "outputs": [
    {
     "data": {
      "text/plain": [
       "<matplotlib.legend.Legend at 0x7fe6cc1cd9d0>"
      ]
     },
     "execution_count": 14,
     "metadata": {},
     "output_type": "execute_result"
    },
    {
     "data": {
      "image/png": "[encoded data removed]",
      "text/plain": [
       "<Figure size 432x288 with 1 Axes>"
      ]
     },
     "metadata": {
      "needs_background": "light"
     },
     "output_type": "display_data"
    }
   ],
   "source": [
    "import matplotlib.pyplot as plt\n",
    "plt.plot(train_losses,label='train')\n",
    "plt.plot(val_losses,label='val')\n",
    "plt.legend()"
   ]
  },
  {
   "cell_type": "code",
   "execution_count": 15,
   "id": "d25bc9ac",
   "metadata": {},
   "outputs": [
    {
     "name": "stdout",
     "output_type": "stream",
     "text": [
      "Epoch 1\n",
      "-------------------------------\n",
      "Current batch loss: 0.331874  [    0/ 1000]\n",
      "Current batch loss: 0.214239  [   80/ 1000]\n",
      "Current batch loss: 0.057308  [  160/ 1000]\n",
      "Current batch loss: 0.107044  [  240/ 1000]\n",
      "Current batch loss: 0.145065  [  320/ 1000]\n",
      "Current batch loss: 0.082815  [  400/ 1000]\n",
      "Current batch loss: 0.188539  [  480/ 1000]\n",
      "Current batch loss: 0.244258  [  560/ 1000]\n",
      "Current batch loss: 0.363318  [  640/ 1000]\n",
      "Current batch loss: 0.121214  [  720/ 1000]\n",
      "Current batch loss: 0.243545  [  800/ 1000]\n",
      "Current batch loss: 0.239109  [  880/ 1000]\n",
      "Current batch loss: 0.175951  [  960/ 1000]\n"
     ]
    },
    {
     "name": "stderr",
     "output_type": "stream",
     "text": [
      "\r",
      "  0%|          | 0/13 [00:00<?, ?it/s]"
     ]
    },
    {
     "name": "stdout",
     "output_type": "stream",
     "text": [
      "Mean Train Loss: 0.25875\n",
      "Validation\n"
     ]
    },
    {
     "name": "stderr",
     "output_type": "stream",
     "text": [
      "100%|██████████| 13/13 [00:12<00:00,  1.04it/s]\n"
     ]
    },
    {
     "name": "stdout",
     "output_type": "stream",
     "text": [
      "Avg loss: 0.624542 \n",
      "\n",
      "Epoch 2\n",
      "-------------------------------\n",
      "Current batch loss: 0.171885  [    0/ 1000]\n",
      "Current batch loss: 0.353742  [   80/ 1000]\n",
      "Current batch loss: 0.151591  [  160/ 1000]\n",
      "Current batch loss: 0.146471  [  240/ 1000]\n",
      "Current batch loss: 0.568895  [  320/ 1000]\n",
      "Current batch loss: 0.241644  [  400/ 1000]\n",
      "Current batch loss: 0.371757  [  480/ 1000]\n",
      "Current batch loss: 0.194937  [  560/ 1000]\n",
      "Current batch loss: 0.368332  [  640/ 1000]\n",
      "Current batch loss: 0.063845  [  720/ 1000]\n",
      "Current batch loss: 0.028442  [  800/ 1000]\n",
      "Current batch loss: 0.219542  [  880/ 1000]\n",
      "Current batch loss: 0.058845  [  960/ 1000]\n"
     ]
    },
    {
     "name": "stderr",
     "output_type": "stream",
     "text": [
      "\r",
      "  0%|          | 0/13 [00:00<?, ?it/s]"
     ]
    },
    {
     "name": "stdout",
     "output_type": "stream",
     "text": [
      "Mean Train Loss: 0.27427\n",
      "Validation\n"
     ]
    },
    {
     "name": "stderr",
     "output_type": "stream",
     "text": [
      "100%|██████████| 13/13 [00:12<00:00,  1.01it/s]\n"
     ]
    },
    {
     "name": "stdout",
     "output_type": "stream",
     "text": [
      "Avg loss: 0.787537 \n",
      "\n",
      "Epoch 3\n",
      "-------------------------------\n",
      "Current batch loss: 0.597098  [    0/ 1000]\n",
      "Current batch loss: 0.227816  [   80/ 1000]\n",
      "Current batch loss: 0.360147  [  160/ 1000]\n",
      "Current batch loss: 0.286803  [  240/ 1000]\n",
      "Current batch loss: 0.322165  [  320/ 1000]\n",
      "Current batch loss: 0.168725  [  400/ 1000]\n",
      "Current batch loss: 0.188190  [  480/ 1000]\n",
      "Current batch loss: 0.145475  [  560/ 1000]\n",
      "Current batch loss: 0.371719  [  640/ 1000]\n",
      "Current batch loss: 0.215395  [  720/ 1000]\n",
      "Current batch loss: 0.273489  [  800/ 1000]\n",
      "Current batch loss: 0.754472  [  880/ 1000]\n",
      "Current batch loss: 0.132528  [  960/ 1000]\n"
     ]
    },
    {
     "name": "stderr",
     "output_type": "stream",
     "text": [
      "\r",
      "  0%|          | 0/13 [00:00<?, ?it/s]"
     ]
    },
    {
     "name": "stdout",
     "output_type": "stream",
     "text": [
      "Mean Train Loss: 0.26746\n",
      "Validation\n"
     ]
    },
    {
     "name": "stderr",
     "output_type": "stream",
     "text": [
      "100%|██████████| 13/13 [00:12<00:00,  1.06it/s]\n"
     ]
    },
    {
     "name": "stdout",
     "output_type": "stream",
     "text": [
      "Avg loss: 0.615786 \n",
      "\n",
      "Epoch 4\n",
      "-------------------------------\n",
      "Current batch loss: 0.104346  [    0/ 1000]\n",
      "Current batch loss: 0.283244  [   80/ 1000]\n",
      "Current batch loss: 0.168727  [  160/ 1000]\n",
      "Current batch loss: 0.236454  [  240/ 1000]\n",
      "Current batch loss: 0.056651  [  320/ 1000]\n",
      "Current batch loss: 0.358896  [  400/ 1000]\n",
      "Current batch loss: 0.154727  [  480/ 1000]\n",
      "Current batch loss: 0.187639  [  560/ 1000]\n",
      "Current batch loss: 0.100710  [  640/ 1000]\n",
      "Current batch loss: 0.266782  [  720/ 1000]\n",
      "Current batch loss: 0.205245  [  800/ 1000]\n",
      "Current batch loss: 0.158860  [  880/ 1000]\n",
      "Current batch loss: 0.124350  [  960/ 1000]\n"
     ]
    },
    {
     "name": "stderr",
     "output_type": "stream",
     "text": [
      "\r",
      "  0%|          | 0/13 [00:00<?, ?it/s]"
     ]
    },
    {
     "name": "stdout",
     "output_type": "stream",
     "text": [
      "Mean Train Loss: 0.26539\n",
      "Validation\n"
     ]
    },
    {
     "name": "stderr",
     "output_type": "stream",
     "text": [
      "100%|██████████| 13/13 [00:12<00:00,  1.05it/s]\n"
     ]
    },
    {
     "name": "stdout",
     "output_type": "stream",
     "text": [
      "Avg loss: 0.664568 \n",
      "\n",
      "Epoch 5\n",
      "-------------------------------\n",
      "Current batch loss: 0.387041  [    0/ 1000]\n",
      "Current batch loss: 0.483453  [   80/ 1000]\n",
      "Current batch loss: 0.860127  [  160/ 1000]\n",
      "Current batch loss: 0.082173  [  240/ 1000]\n",
      "Current batch loss: 0.154857  [  320/ 1000]\n",
      "Current batch loss: 0.168963  [  400/ 1000]\n",
      "Current batch loss: 0.093562  [  480/ 1000]\n",
      "Current batch loss: 0.224732  [  560/ 1000]\n",
      "Current batch loss: 0.259751  [  640/ 1000]\n",
      "Current batch loss: 0.281336  [  720/ 1000]\n",
      "Current batch loss: 0.177082  [  800/ 1000]\n",
      "Current batch loss: 0.182865  [  880/ 1000]\n",
      "Current batch loss: 0.249461  [  960/ 1000]\n"
     ]
    },
    {
     "name": "stderr",
     "output_type": "stream",
     "text": [
      "\r",
      "  0%|          | 0/13 [00:00<?, ?it/s]"
     ]
    },
    {
     "name": "stdout",
     "output_type": "stream",
     "text": [
      "Mean Train Loss: 0.28163\n",
      "Validation\n"
     ]
    },
    {
     "name": "stderr",
     "output_type": "stream",
     "text": [
      "100%|██████████| 13/13 [00:12<00:00,  1.01it/s]\n"
     ]
    },
    {
     "name": "stdout",
     "output_type": "stream",
     "text": [
      "Avg loss: 0.514718 \n",
      "\n",
      "Epoch    10: reducing learning rate of group 0 to 1.0000e-05.\n",
      "Epoch 6\n",
      "-------------------------------\n",
      "Current batch loss: 0.038906  [    0/ 1000]\n",
      "Current batch loss: 0.211997  [   80/ 1000]\n",
      "Current batch loss: 0.047653  [  160/ 1000]\n",
      "Current batch loss: 0.324134  [  240/ 1000]\n",
      "Current batch loss: 0.171356  [  320/ 1000]\n",
      "Current batch loss: 0.183281  [  400/ 1000]\n",
      "Current batch loss: 0.219954  [  480/ 1000]\n",
      "Current batch loss: 0.208365  [  560/ 1000]\n",
      "Current batch loss: 0.246887  [  640/ 1000]\n",
      "Current batch loss: 0.385627  [  720/ 1000]\n",
      "Current batch loss: 0.187998  [  800/ 1000]\n",
      "Current batch loss: 0.185034  [  880/ 1000]\n",
      "Current batch loss: 0.056505  [  960/ 1000]\n"
     ]
    },
    {
     "name": "stderr",
     "output_type": "stream",
     "text": [
      "\r",
      "  0%|          | 0/13 [00:00<?, ?it/s]"
     ]
    },
    {
     "name": "stdout",
     "output_type": "stream",
     "text": [
      "Mean Train Loss: 0.22418\n",
      "Validation\n"
     ]
    },
    {
     "name": "stderr",
     "output_type": "stream",
     "text": [
      "100%|██████████| 13/13 [00:13<00:00,  1.03s/it]\n"
     ]
    },
    {
     "name": "stdout",
     "output_type": "stream",
     "text": [
      "Avg loss: 0.415296 \n",
      "\n",
      "Epoch 7\n",
      "-------------------------------\n",
      "Current batch loss: 0.148605  [    0/ 1000]\n",
      "Current batch loss: 0.408609  [   80/ 1000]\n",
      "Current batch loss: 0.299070  [  160/ 1000]\n",
      "Current batch loss: 0.093075  [  240/ 1000]\n",
      "Current batch loss: 0.212871  [  320/ 1000]\n",
      "Current batch loss: 0.214657  [  400/ 1000]\n",
      "Current batch loss: 0.182752  [  480/ 1000]\n",
      "Current batch loss: 0.104221  [  560/ 1000]\n",
      "Current batch loss: 0.168150  [  640/ 1000]\n",
      "Current batch loss: 0.144568  [  720/ 1000]\n",
      "Current batch loss: 0.247473  [  800/ 1000]\n",
      "Current batch loss: 0.136735  [  880/ 1000]\n",
      "Current batch loss: 0.055806  [  960/ 1000]\n"
     ]
    },
    {
     "name": "stderr",
     "output_type": "stream",
     "text": [
      "\r",
      "  0%|          | 0/13 [00:00<?, ?it/s]"
     ]
    },
    {
     "name": "stdout",
     "output_type": "stream",
     "text": [
      "Mean Train Loss: 0.21728\n",
      "Validation\n"
     ]
    },
    {
     "name": "stderr",
     "output_type": "stream",
     "text": [
      "100%|██████████| 13/13 [00:12<00:00,  1.00it/s]\n"
     ]
    },
    {
     "name": "stdout",
     "output_type": "stream",
     "text": [
      "Avg loss: 0.551573 \n",
      "\n",
      "Epoch 8\n",
      "-------------------------------\n",
      "Current batch loss: 0.256186  [    0/ 1000]\n",
      "Current batch loss: 0.107450  [   80/ 1000]\n",
      "Current batch loss: 0.074915  [  160/ 1000]\n",
      "Current batch loss: 0.158818  [  240/ 1000]\n",
      "Current batch loss: 0.268889  [  320/ 1000]\n",
      "Current batch loss: 0.229481  [    0/ 1000]\n",
      "Current batch loss: 0.184725  [   80/ 1000]\n",
      "Current batch loss: 0.154326  [  160/ 1000]\n",
      "Current batch loss: 0.185839  [  240/ 1000]\n",
      "Current batch loss: 0.196068  [  320/ 1000]\n",
      "Current batch loss: 0.294914  [  400/ 1000]\n",
      "Current batch loss: 0.661087  [  480/ 1000]\n",
      "Current batch loss: 0.078514  [  560/ 1000]\n",
      "Current batch loss: 0.093972  [  640/ 1000]\n",
      "Current batch loss: 0.218662  [  720/ 1000]\n",
      "Current batch loss: 0.082720  [  800/ 1000]\n",
      "Current batch loss: 0.169186  [  880/ 1000]\n",
      "Current batch loss: 0.189753  [  960/ 1000]\n"
     ]
    },
    {
     "name": "stderr",
     "output_type": "stream",
     "text": [
      "\r",
      "  0%|          | 0/13 [00:00<?, ?it/s]"
     ]
    },
    {
     "name": "stdout",
     "output_type": "stream",
     "text": [
      "Mean Train Loss: 0.21110\n",
      "Validation\n"
     ]
    },
    {
     "name": "stderr",
     "output_type": "stream",
     "text": [
      "100%|██████████| 13/13 [00:13<00:00,  1.01s/it]\n"
     ]
    },
    {
     "name": "stdout",
     "output_type": "stream",
     "text": [
      "Avg loss: 0.437122 \n",
      "\n",
      "Epoch 10\n",
      "-------------------------------\n",
      "Current batch loss: 0.263721  [    0/ 1000]\n",
      "Current batch loss: 0.330033  [   80/ 1000]\n",
      "Current batch loss: 0.169786  [  160/ 1000]\n",
      "Current batch loss: 0.168898  [  240/ 1000]\n",
      "Current batch loss: 0.427763  [  320/ 1000]\n",
      "Current batch loss: 0.258093  [  400/ 1000]\n",
      "Current batch loss: 0.272748  [  480/ 1000]\n",
      "Current batch loss: 0.340231  [  560/ 1000]\n",
      "Current batch loss: 0.299740  [  640/ 1000]\n",
      "Current batch loss: 0.204984  [  720/ 1000]\n",
      "Current batch loss: 0.118027  [  800/ 1000]\n",
      "Current batch loss: 0.610205  [  880/ 1000]\n",
      "Current batch loss: 0.090547  [  960/ 1000]\n"
     ]
    },
    {
     "name": "stderr",
     "output_type": "stream",
     "text": [
      "\r",
      "  0%|          | 0/13 [00:00<?, ?it/s]"
     ]
    },
    {
     "name": "stdout",
     "output_type": "stream",
     "text": [
      "Mean Train Loss: 0.20686\n",
      "Validation\n"
     ]
    },
    {
     "name": "stderr",
     "output_type": "stream",
     "text": [
      "100%|██████████| 13/13 [00:14<00:00,  1.09s/it]"
     ]
    },
    {
     "name": "stdout",
     "output_type": "stream",
     "text": [
      "Avg loss: 0.503687 \n",
      "\n",
      "Done!\n"
     ]
    },
    {
     "name": "stderr",
     "output_type": "stream",
     "text": [
      "\n"
     ]
    }
   ],
   "source": [
    "epochs = 10\n",
    "\n",
    "for t in range(epochs):\n",
    "    print(f\"Epoch {t+1}\\n-------------------------------\")\n",
    "    train_loss= train_loop(train_loader, model, loss_fn, optimizer)\n",
    "    val_loss = test_loop(val_loader, model, loss_fn)\n",
    "    \n",
    "    # model selection\n",
    "    if val_loss < best_loss:\n",
    "        best_model = model.state_dict()\n",
    "        best_loss = val_loss\n",
    "            \n",
    "    weights.append(model.fc2.weight.data.cpu().numpy()[0][0])\n",
    "    biases.append(model.fc2.bias.data.cpu().numpy())\n",
    "    scheduler.step(val_loss)\n",
    "    val_losses.append(val_loss)\n",
    "    train_losses.append(train_loss)\n",
    "print(\"Done!\")"
   ]
  },
  {
   "cell_type": "code",
   "execution_count": 16,
   "id": "a917883e",
   "metadata": {},
   "outputs": [
    {
     "data": {
      "text/plain": [
       "<matplotlib.legend.Legend at 0x7fe6cc0e2490>"
      ]
     },
     "execution_count": 16,
     "metadata": {},
     "output_type": "execute_result"
    },
    {
     "data": {
      "image/png": "[encoded data removed]",
      "text/plain": [
       "<Figure size 432x288 with 1 Axes>"
      ]
     },
     "metadata": {
      "needs_background": "light"
     },
     "output_type": "display_data"
    }
   ],
   "source": [
    "import matplotlib.pyplot as plt\n",
    "plt.plot(train_losses,label='train')\n",
    "plt.plot(val_losses,label='val')\n",
    "plt.legend()"
   ]
  },
  {
   "cell_type": "code",
   "execution_count": 17,
   "id": "218a851d",
   "metadata": {},
   "outputs": [
    {
     "name": "stdout",
     "output_type": "stream",
     "text": [
      "Epoch 1\n",
      "-------------------------------\n",
      "Current batch loss: 0.346740  [    0/ 1000]\n",
      "Current batch loss: 0.177267  [   80/ 1000]\n",
      "Current batch loss: 0.319606  [  160/ 1000]\n",
      "Current batch loss: 0.143646  [  240/ 1000]\n",
      "Current batch loss: 0.199264  [  320/ 1000]\n",
      "Current batch loss: 0.071349  [  400/ 1000]\n",
      "Current batch loss: 0.191098  [  480/ 1000]\n",
      "Current batch loss: 0.402980  [  560/ 1000]\n",
      "Current batch loss: 0.257464  [  640/ 1000]\n",
      "Current batch loss: 0.550210  [  720/ 1000]\n",
      "Current batch loss: 0.275786  [  800/ 1000]\n",
      "Current batch loss: 0.116548  [  880/ 1000]\n",
      "Current batch loss: 0.093293  [  960/ 1000]\n"
     ]
    },
    {
     "name": "stderr",
     "output_type": "stream",
     "text": [
      "\r",
      "  0%|          | 0/13 [00:00<?, ?it/s]"
     ]
    },
    {
     "name": "stdout",
     "output_type": "stream",
     "text": [
      "Mean Train Loss: 0.21488\n",
      "Validation\n"
     ]
    },
    {
     "name": "stderr",
     "output_type": "stream",
     "text": [
      "100%|██████████| 13/13 [00:13<00:00,  1.00s/it]\n"
     ]
    },
    {
     "name": "stdout",
     "output_type": "stream",
     "text": [
      "Avg loss: 0.583516 \n",
      "\n",
      "Epoch 2\n",
      "-------------------------------\n",
      "Current batch loss: 0.059788  [    0/ 1000]\n",
      "Current batch loss: 0.101904  [   80/ 1000]\n",
      "Current batch loss: 0.124750  [  160/ 1000]\n",
      "Current batch loss: 0.028722  [  240/ 1000]\n",
      "Current batch loss: 0.328227  [  320/ 1000]\n",
      "Current batch loss: 0.142246  [  400/ 1000]\n",
      "Current batch loss: 0.113529  [  480/ 1000]\n",
      "Current batch loss: 0.253307  [  560/ 1000]\n",
      "Current batch loss: 0.148124  [  640/ 1000]\n",
      "Current batch loss: 0.078226  [  720/ 1000]\n",
      "Current batch loss: 0.271736  [  800/ 1000]\n",
      "Current batch loss: 0.329333  [  880/ 1000]\n",
      "Current batch loss: 0.447754  [  960/ 1000]\n"
     ]
    },
    {
     "name": "stderr",
     "output_type": "stream",
     "text": [
      "\r",
      "  0%|          | 0/13 [00:00<?, ?it/s]"
     ]
    },
    {
     "name": "stdout",
     "output_type": "stream",
     "text": [
      "Mean Train Loss: 0.21394\n",
      "Validation\n"
     ]
    },
    {
     "name": "stderr",
     "output_type": "stream",
     "text": [
      "100%|██████████| 13/13 [00:13<00:00,  1.01s/it]\n"
     ]
    },
    {
     "name": "stdout",
     "output_type": "stream",
     "text": [
      "Avg loss: 0.501232 \n",
      "\n",
      "Epoch    17: reducing learning rate of group 0 to 1.0000e-06.\n",
      "Epoch 3\n",
      "-------------------------------\n",
      "Current batch loss: 0.325653  [    0/ 1000]\n",
      "Current batch loss: 0.152541  [   80/ 1000]\n",
      "Current batch loss: 0.139700  [  160/ 1000]\n",
      "Current batch loss: 0.477150  [  240/ 1000]\n",
      "Current batch loss: 0.266829  [  320/ 1000]\n",
      "Current batch loss: 0.120775  [  400/ 1000]\n",
      "Current batch loss: 0.136282  [  480/ 1000]\n",
      "Current batch loss: 0.164206  [  560/ 1000]\n",
      "Current batch loss: 0.220858  [  640/ 1000]\n",
      "Current batch loss: 0.234860  [  720/ 1000]\n",
      "Current batch loss: 0.104862  [  800/ 1000]\n",
      "Current batch loss: 0.118290  [  880/ 1000]\n",
      "Current batch loss: 0.084036  [  960/ 1000]\n"
     ]
    },
    {
     "name": "stderr",
     "output_type": "stream",
     "text": [
      "\r",
      "  0%|          | 0/13 [00:00<?, ?it/s]"
     ]
    },
    {
     "name": "stdout",
     "output_type": "stream",
     "text": [
      "Mean Train Loss: 0.22590\n",
      "Validation\n"
     ]
    },
    {
     "name": "stderr",
     "output_type": "stream",
     "text": [
      "100%|██████████| 13/13 [00:11<00:00,  1.09it/s]\n"
     ]
    },
    {
     "name": "stdout",
     "output_type": "stream",
     "text": [
      "Avg loss: 0.464767 \n",
      "\n",
      "Epoch 4\n",
      "-------------------------------\n",
      "Current batch loss: 0.090510  [    0/ 1000]\n",
      "Current batch loss: 0.108082  [   80/ 1000]\n",
      "Current batch loss: 0.246568  [  160/ 1000]\n",
      "Current batch loss: 0.401080  [  240/ 1000]\n",
      "Current batch loss: 0.385448  [  320/ 1000]\n",
      "Current batch loss: 0.214041  [  400/ 1000]\n",
      "Current batch loss: 0.310069  [  480/ 1000]\n",
      "Current batch loss: 0.313124  [  560/ 1000]\n",
      "Current batch loss: 0.022800  [  640/ 1000]\n",
      "Current batch loss: 0.141588  [  720/ 1000]\n",
      "Current batch loss: 0.206646  [  800/ 1000]\n",
      "Current batch loss: 0.393137  [  880/ 1000]\n",
      "Current batch loss: 0.344884  [  960/ 1000]\n"
     ]
    },
    {
     "name": "stderr",
     "output_type": "stream",
     "text": [
      "\r",
      "  0%|          | 0/13 [00:00<?, ?it/s]"
     ]
    },
    {
     "name": "stdout",
     "output_type": "stream",
     "text": [
      "Mean Train Loss: 0.22002\n",
      "Validation\n"
     ]
    },
    {
     "name": "stderr",
     "output_type": "stream",
     "text": [
      "100%|██████████| 13/13 [00:13<00:00,  1.02s/it]\n"
     ]
    },
    {
     "name": "stdout",
     "output_type": "stream",
     "text": [
      "Avg loss: 0.507349 \n",
      "\n",
      "Epoch 5\n",
      "-------------------------------\n",
      "Current batch loss: 0.131924  [    0/ 1000]\n",
      "Current batch loss: 0.193462  [   80/ 1000]\n",
      "Current batch loss: 0.062798  [  160/ 1000]\n",
      "Current batch loss: 0.339756  [  240/ 1000]\n",
      "Current batch loss: 0.327427  [  320/ 1000]\n",
      "Current batch loss: 0.304956  [  400/ 1000]\n",
      "Current batch loss: 0.135213  [  480/ 1000]\n",
      "Current batch loss: 0.111336  [  560/ 1000]\n",
      "Current batch loss: 0.377430  [  640/ 1000]\n",
      "Current batch loss: 0.200320  [  720/ 1000]\n",
      "Current batch loss: 0.049743  [  800/ 1000]\n",
      "Current batch loss: 0.101816  [  880/ 1000]\n",
      "Current batch loss: 0.216726  [  960/ 1000]\n"
     ]
    },
    {
     "name": "stderr",
     "output_type": "stream",
     "text": [
      "\r",
      "  0%|          | 0/13 [00:00<?, ?it/s]"
     ]
    },
    {
     "name": "stdout",
     "output_type": "stream",
     "text": [
      "Mean Train Loss: 0.21448\n",
      "Validation\n"
     ]
    },
    {
     "name": "stderr",
     "output_type": "stream",
     "text": [
      "100%|██████████| 13/13 [00:13<00:00,  1.03s/it]\n"
     ]
    },
    {
     "name": "stdout",
     "output_type": "stream",
     "text": [
      "Avg loss: 0.566577 \n",
      "\n",
      "Epoch 6\n",
      "-------------------------------\n",
      "Current batch loss: 0.139595  [    0/ 1000]\n",
      "Current batch loss: 0.053543  [   80/ 1000]\n",
      "Current batch loss: 0.095891  [  160/ 1000]\n",
      "Current batch loss: 0.353868  [  240/ 1000]\n",
      "Current batch loss: 0.261270  [  320/ 1000]\n",
      "Current batch loss: 0.236735  [  400/ 1000]\n",
      "Current batch loss: 0.072008  [  480/ 1000]\n",
      "Current batch loss: 0.238295  [  560/ 1000]\n",
      "Current batch loss: 0.587173  [  640/ 1000]\n",
      "Current batch loss: 0.254147  [  720/ 1000]\n",
      "Current batch loss: 0.121629  [  800/ 1000]\n",
      "Current batch loss: 0.375392  [  880/ 1000]\n",
      "Current batch loss: 0.117773  [  960/ 1000]\n"
     ]
    },
    {
     "name": "stderr",
     "output_type": "stream",
     "text": [
      "\r",
      "  0%|          | 0/13 [00:00<?, ?it/s]"
     ]
    },
    {
     "name": "stdout",
     "output_type": "stream",
     "text": [
      "Mean Train Loss: 0.22282\n",
      "Validation\n"
     ]
    },
    {
     "name": "stderr",
     "output_type": "stream",
     "text": [
      "100%|██████████| 13/13 [00:09<00:00,  1.44it/s]\n"
     ]
    },
    {
     "name": "stdout",
     "output_type": "stream",
     "text": [
      "Avg loss: 0.497866 \n",
      "\n",
      "Epoch 7\n",
      "-------------------------------\n",
      "Current batch loss: 0.197858  [    0/ 1000]\n",
      "Current batch loss: 0.062346  [   80/ 1000]\n",
      "Current batch loss: 0.158804  [  160/ 1000]\n",
      "Current batch loss: 0.530160  [  240/ 1000]\n",
      "Current batch loss: 0.257846  [  320/ 1000]\n",
      "Current batch loss: 0.037238  [  400/ 1000]\n",
      "Current batch loss: 0.296542  [  480/ 1000]\n",
      "Current batch loss: 0.102970  [  560/ 1000]\n",
      "Current batch loss: 0.193812  [  640/ 1000]\n",
      "Current batch loss: 0.215404  [  720/ 1000]\n",
      "Current batch loss: 0.084812  [  800/ 1000]\n",
      "Current batch loss: 0.516324  [  880/ 1000]\n",
      "Current batch loss: 0.138002  [  960/ 1000]\n"
     ]
    },
    {
     "name": "stderr",
     "output_type": "stream",
     "text": [
      "\r",
      "  0%|          | 0/13 [00:00<?, ?it/s]"
     ]
    },
    {
     "name": "stdout",
     "output_type": "stream",
     "text": [
      "Mean Train Loss: 0.22480\n",
      "Validation\n"
     ]
    },
    {
     "name": "stderr",
     "output_type": "stream",
     "text": [
      "100%|██████████| 13/13 [00:09<00:00,  1.37it/s]\n"
     ]
    },
    {
     "name": "stdout",
     "output_type": "stream",
     "text": [
      "Avg loss: 0.559511 \n",
      "\n",
      "Epoch 8\n",
      "-------------------------------\n",
      "Current batch loss: 0.057525  [    0/ 1000]\n",
      "Current batch loss: 0.226017  [   80/ 1000]\n",
      "Current batch loss: 0.193537  [  160/ 1000]\n",
      "Current batch loss: 0.192605  [  240/ 1000]\n",
      "Current batch loss: 0.914087  [  320/ 1000]\n",
      "Current batch loss: 0.345675  [  400/ 1000]\n",
      "Current batch loss: 0.246480  [  480/ 1000]\n",
      "Current batch loss: 0.067217  [  560/ 1000]\n",
      "Current batch loss: 0.126222  [  640/ 1000]\n",
      "Current batch loss: 0.240933  [  720/ 1000]\n",
      "Current batch loss: 0.485690  [  800/ 1000]\n",
      "Current batch loss: 0.069978  [  880/ 1000]\n",
      "Current batch loss: 0.131554  [  960/ 1000]\n"
     ]
    },
    {
     "name": "stderr",
     "output_type": "stream",
     "text": [
      "\r",
      "  0%|          | 0/13 [00:00<?, ?it/s]"
     ]
    },
    {
     "name": "stdout",
     "output_type": "stream",
     "text": [
      "Mean Train Loss: 0.22802\n",
      "Validation\n"
     ]
    },
    {
     "name": "stderr",
     "output_type": "stream",
     "text": [
      "100%|██████████| 13/13 [00:09<00:00,  1.43it/s]\n"
     ]
    },
    {
     "name": "stdout",
     "output_type": "stream",
     "text": [
      "Avg loss: 0.557913 \n",
      "\n",
      "Epoch    23: reducing learning rate of group 0 to 1.0000e-07.\n",
      "Epoch 9\n",
      "-------------------------------\n",
      "Current batch loss: 0.199892  [    0/ 1000]\n",
      "Current batch loss: 0.081403  [   80/ 1000]\n",
      "Current batch loss: 0.198748  [  160/ 1000]\n",
      "Current batch loss: 0.775297  [  240/ 1000]\n",
      "Current batch loss: 0.201238  [  320/ 1000]\n",
      "Current batch loss: 0.087779  [  400/ 1000]\n",
      "Current batch loss: 0.056784  [  480/ 1000]\n",
      "Current batch loss: 0.327971  [  560/ 1000]\n",
      "Current batch loss: 0.288547  [  640/ 1000]\n",
      "Current batch loss: 0.268695  [  720/ 1000]\n",
      "Current batch loss: 0.245281  [  800/ 1000]\n",
      "Current batch loss: 0.356510  [  880/ 1000]\n",
      "Current batch loss: 0.114501  [  960/ 1000]\n"
     ]
    },
    {
     "name": "stderr",
     "output_type": "stream",
     "text": [
      "\r",
      "  0%|          | 0/13 [00:00<?, ?it/s]"
     ]
    },
    {
     "name": "stdout",
     "output_type": "stream",
     "text": [
      "Mean Train Loss: 0.22182\n",
      "Validation\n"
     ]
    },
    {
     "name": "stderr",
     "output_type": "stream",
     "text": [
      "100%|██████████| 13/13 [00:09<00:00,  1.36it/s]\n"
     ]
    },
    {
     "name": "stdout",
     "output_type": "stream",
     "text": [
      "Avg loss: 0.558106 \n",
      "\n",
      "Epoch 10\n",
      "-------------------------------\n",
      "Current batch loss: 0.192417  [    0/ 1000]\n",
      "Current batch loss: 0.187658  [   80/ 1000]\n",
      "Current batch loss: 0.175010  [  160/ 1000]\n",
      "Current batch loss: 0.404162  [  240/ 1000]\n",
      "Current batch loss: 0.139640  [  320/ 1000]\n",
      "Current batch loss: 0.265420  [  400/ 1000]\n",
      "Current batch loss: 0.223840  [  480/ 1000]\n",
      "Current batch loss: 0.193526  [  560/ 1000]\n",
      "Current batch loss: 0.143630  [  640/ 1000]\n",
      "Current batch loss: 0.283343  [  720/ 1000]\n",
      "Current batch loss: 0.389888  [  800/ 1000]\n",
      "Current batch loss: 0.162542  [  880/ 1000]\n",
      "Current batch loss: 0.115363  [  960/ 1000]\n"
     ]
    },
    {
     "name": "stderr",
     "output_type": "stream",
     "text": [
      "\r",
      "  0%|          | 0/13 [00:00<?, ?it/s]"
     ]
    },
    {
     "name": "stdout",
     "output_type": "stream",
     "text": [
      "Mean Train Loss: 0.22339\n",
      "Validation\n"
     ]
    },
    {
     "name": "stderr",
     "output_type": "stream",
     "text": [
      "100%|██████████| 13/13 [00:09<00:00,  1.40it/s]\n"
     ]
    },
    {
     "name": "stdout",
     "output_type": "stream",
     "text": [
      "Avg loss: 0.460668 \n",
      "\n",
      "Epoch 11\n",
      "-------------------------------\n",
      "Current batch loss: 0.231625  [    0/ 1000]\n",
      "Current batch loss: 0.213367  [   80/ 1000]\n",
      "Current batch loss: 0.153876  [  160/ 1000]\n",
      "Current batch loss: 0.067900  [  240/ 1000]\n",
      "Current batch loss: 0.436399  [  320/ 1000]\n",
      "Current batch loss: 0.298352  [  400/ 1000]\n",
      "Current batch loss: 0.134561  [  480/ 1000]\n",
      "Current batch loss: 0.309293  [  560/ 1000]\n",
      "Current batch loss: 0.212457  [  640/ 1000]\n",
      "Current batch loss: 0.180101  [  720/ 1000]\n",
      "Current batch loss: 0.050694  [  800/ 1000]\n",
      "Current batch loss: 0.170492  [  880/ 1000]\n",
      "Current batch loss: 0.154940  [  960/ 1000]\n"
     ]
    },
    {
     "name": "stderr",
     "output_type": "stream",
     "text": [
      "\r",
      "  0%|          | 0/13 [00:00<?, ?it/s]"
     ]
    },
    {
     "name": "stdout",
     "output_type": "stream",
     "text": [
      "Mean Train Loss: 0.19930\n",
      "Validation\n"
     ]
    },
    {
     "name": "stderr",
     "output_type": "stream",
     "text": [
      "100%|██████████| 13/13 [00:08<00:00,  1.45it/s]\n"
     ]
    },
    {
     "name": "stdout",
     "output_type": "stream",
     "text": [
      "Avg loss: 0.639658 \n",
      "\n",
      "Epoch 12\n",
      "-------------------------------\n",
      "Current batch loss: 0.130010  [    0/ 1000]\n",
      "Current batch loss: 0.178845  [   80/ 1000]\n",
      "Current batch loss: 0.046869  [  160/ 1000]\n",
      "Current batch loss: 0.428842  [  240/ 1000]\n",
      "Current batch loss: 0.084191  [  320/ 1000]\n",
      "Current batch loss: 0.239277  [  400/ 1000]\n",
      "Current batch loss: 0.283049  [  480/ 1000]\n",
      "Current batch loss: 0.192538  [  560/ 1000]\n",
      "Current batch loss: 0.446898  [  640/ 1000]\n",
      "Current batch loss: 0.280700  [  720/ 1000]\n",
      "Current batch loss: 0.152931  [  800/ 1000]\n",
      "Current batch loss: 0.156438  [  880/ 1000]\n",
      "Current batch loss: 0.060343  [  960/ 1000]\n"
     ]
    },
    {
     "name": "stderr",
     "output_type": "stream",
     "text": [
      "\r",
      "  0%|          | 0/13 [00:00<?, ?it/s]"
     ]
    },
    {
     "name": "stdout",
     "output_type": "stream",
     "text": [
      "Mean Train Loss: 0.24937\n",
      "Validation\n"
     ]
    },
    {
     "name": "stderr",
     "output_type": "stream",
     "text": [
      "100%|██████████| 13/13 [00:09<00:00,  1.42it/s]\n"
     ]
    },
    {
     "name": "stdout",
     "output_type": "stream",
     "text": [
      "Avg loss: 0.629039 \n",
      "\n",
      "Epoch 13\n",
      "-------------------------------\n",
      "Current batch loss: 0.194067  [    0/ 1000]\n",
      "Current batch loss: 0.151069  [   80/ 1000]\n",
      "Current batch loss: 0.335672  [  160/ 1000]\n",
      "Current batch loss: 0.227649  [  240/ 1000]\n",
      "Current batch loss: 0.073730  [  320/ 1000]\n",
      "Current batch loss: 0.476954  [  400/ 1000]\n",
      "Current batch loss: 0.271142  [  480/ 1000]\n",
      "Current batch loss: 0.108584  [  560/ 1000]\n",
      "Current batch loss: 0.401011  [  640/ 1000]\n",
      "Current batch loss: 0.137771  [  720/ 1000]\n",
      "Current batch loss: 0.343395  [  800/ 1000]\n",
      "Current batch loss: 0.220747  [  880/ 1000]\n",
      "Current batch loss: 0.083886  [  960/ 1000]\n"
     ]
    },
    {
     "name": "stderr",
     "output_type": "stream",
     "text": [
      "\r",
      "  0%|          | 0/13 [00:00<?, ?it/s]"
     ]
    },
    {
     "name": "stdout",
     "output_type": "stream",
     "text": [
      "Mean Train Loss: 0.20014\n",
      "Validation\n"
     ]
    },
    {
     "name": "stderr",
     "output_type": "stream",
     "text": [
      "100%|██████████| 13/13 [00:08<00:00,  1.45it/s]\n"
     ]
    },
    {
     "name": "stdout",
     "output_type": "stream",
     "text": [
      "Avg loss: 0.566344 \n",
      "\n",
      "Epoch 14\n",
      "-------------------------------\n",
      "Current batch loss: 0.131650  [    0/ 1000]\n",
      "Current batch loss: 0.177703  [   80/ 1000]\n",
      "Current batch loss: 0.216358  [  160/ 1000]\n",
      "Current batch loss: 0.086375  [  240/ 1000]\n",
      "Current batch loss: 0.197310  [  320/ 1000]\n",
      "Current batch loss: 0.376826  [  400/ 1000]\n",
      "Current batch loss: 0.213475  [  480/ 1000]\n",
      "Current batch loss: 0.125840  [  560/ 1000]\n",
      "Current batch loss: 0.114446  [  640/ 1000]\n",
      "Current batch loss: 0.239693  [  720/ 1000]\n",
      "Current batch loss: 0.194173  [  800/ 1000]\n",
      "Current batch loss: 0.149080  [  880/ 1000]\n",
      "Current batch loss: 0.142392  [  960/ 1000]\n"
     ]
    },
    {
     "name": "stderr",
     "output_type": "stream",
     "text": [
      "\r",
      "  0%|          | 0/13 [00:00<?, ?it/s]"
     ]
    },
    {
     "name": "stdout",
     "output_type": "stream",
     "text": [
      "Mean Train Loss: 0.22305\n",
      "Validation\n"
     ]
    },
    {
     "name": "stderr",
     "output_type": "stream",
     "text": [
      "100%|██████████| 13/13 [00:08<00:00,  1.45it/s]\n"
     ]
    },
    {
     "name": "stdout",
     "output_type": "stream",
     "text": [
      "Avg loss: 0.484538 \n",
      "\n",
      "Epoch    29: reducing learning rate of group 0 to 1.0000e-08.\n",
      "Epoch 15\n",
      "-------------------------------\n",
      "Current batch loss: 0.151172  [    0/ 1000]\n",
      "Current batch loss: 0.233426  [   80/ 1000]\n",
      "Current batch loss: 0.050134  [  160/ 1000]\n",
      "Current batch loss: 0.445596  [  240/ 1000]\n",
      "Current batch loss: 0.145395  [  320/ 1000]\n",
      "Current batch loss: 0.058186  [  400/ 1000]\n",
      "Current batch loss: 0.305641  [  480/ 1000]\n",
      "Current batch loss: 0.189911  [  560/ 1000]\n",
      "Current batch loss: 0.359537  [  640/ 1000]\n",
      "Current batch loss: 0.421095  [  720/ 1000]\n",
      "Current batch loss: 0.181094  [  800/ 1000]\n",
      "Current batch loss: 0.289566  [  880/ 1000]\n",
      "Current batch loss: 0.345475  [  960/ 1000]\n"
     ]
    },
    {
     "name": "stderr",
     "output_type": "stream",
     "text": [
      "\r",
      "  0%|          | 0/13 [00:00<?, ?it/s]"
     ]
    },
    {
     "name": "stdout",
     "output_type": "stream",
     "text": [
      "Mean Train Loss: 0.21300\n",
      "Validation\n"
     ]
    },
    {
     "name": "stderr",
     "output_type": "stream",
     "text": [
      "100%|██████████| 13/13 [00:09<00:00,  1.42it/s]\n"
     ]
    },
    {
     "name": "stdout",
     "output_type": "stream",
     "text": [
      "Avg loss: 0.508768 \n",
      "\n",
      "Epoch 16\n",
      "-------------------------------\n",
      "Current batch loss: 0.187828  [    0/ 1000]\n",
      "Current batch loss: 0.360083  [   80/ 1000]\n",
      "Current batch loss: 0.293953  [  160/ 1000]\n",
      "Current batch loss: 0.296297  [  240/ 1000]\n",
      "Current batch loss: 0.087994  [  320/ 1000]\n",
      "Current batch loss: 0.138942  [  400/ 1000]\n",
      "Current batch loss: 0.261890  [  480/ 1000]\n",
      "Current batch loss: 0.441057  [  560/ 1000]\n",
      "Current batch loss: 0.129704  [  640/ 1000]\n",
      "Current batch loss: 0.048325  [  720/ 1000]\n",
      "Current batch loss: 0.252389  [  800/ 1000]\n",
      "Current batch loss: 0.186783  [  880/ 1000]\n",
      "Current batch loss: 0.122755  [  960/ 1000]\n"
     ]
    },
    {
     "name": "stderr",
     "output_type": "stream",
     "text": [
      "\r",
      "  0%|          | 0/13 [00:00<?, ?it/s]"
     ]
    },
    {
     "name": "stdout",
     "output_type": "stream",
     "text": [
      "Mean Train Loss: 0.21771\n",
      "Validation\n"
     ]
    },
    {
     "name": "stderr",
     "output_type": "stream",
     "text": [
      "100%|██████████| 13/13 [00:08<00:00,  1.50it/s]\n"
     ]
    },
    {
     "name": "stdout",
     "output_type": "stream",
     "text": [
      "Avg loss: 0.481788 \n",
      "\n",
      "Epoch 17\n",
      "-------------------------------\n",
      "Current batch loss: 0.145011  [    0/ 1000]\n",
      "Current batch loss: 0.118734  [   80/ 1000]\n",
      "Current batch loss: 0.101083  [  160/ 1000]\n",
      "Current batch loss: 0.185113  [  240/ 1000]\n",
      "Current batch loss: 0.094475  [  320/ 1000]\n",
      "Current batch loss: 0.201544  [  400/ 1000]\n",
      "Current batch loss: 0.156142  [  480/ 1000]\n",
      "Current batch loss: 0.276787  [  560/ 1000]\n",
      "Current batch loss: 0.250698  [  640/ 1000]\n",
      "Current batch loss: 0.424825  [  720/ 1000]\n",
      "Current batch loss: 0.150716  [  800/ 1000]\n",
      "Current batch loss: 0.572625  [  880/ 1000]\n",
      "Current batch loss: 0.120353  [  960/ 1000]\n"
     ]
    },
    {
     "name": "stderr",
     "output_type": "stream",
     "text": [
      "\r",
      "  0%|          | 0/13 [00:00<?, ?it/s]"
     ]
    },
    {
     "name": "stdout",
     "output_type": "stream",
     "text": [
      "Mean Train Loss: 0.22751\n",
      "Validation\n"
     ]
    },
    {
     "name": "stderr",
     "output_type": "stream",
     "text": [
      "100%|██████████| 13/13 [00:09<00:00,  1.39it/s]\n"
     ]
    },
    {
     "name": "stdout",
     "output_type": "stream",
     "text": [
      "Avg loss: 0.512301 \n",
      "\n",
      "Epoch 18\n",
      "-------------------------------\n",
      "Current batch loss: 0.060377  [    0/ 1000]\n",
      "Current batch loss: 0.240244  [   80/ 1000]\n",
      "Current batch loss: 0.223322  [  160/ 1000]\n",
      "Current batch loss: 0.181789  [  240/ 1000]\n",
      "Current batch loss: 0.159079  [  320/ 1000]\n",
      "Current batch loss: 0.127971  [  400/ 1000]\n",
      "Current batch loss: 0.094362  [  480/ 1000]\n",
      "Current batch loss: 0.108727  [  560/ 1000]\n",
      "Current batch loss: 0.109246  [  640/ 1000]\n",
      "Current batch loss: 0.145679  [  720/ 1000]\n",
      "Current batch loss: 0.098950  [  800/ 1000]\n",
      "Current batch loss: 0.491942  [  880/ 1000]\n",
      "Current batch loss: 0.322356  [  960/ 1000]\n"
     ]
    },
    {
     "name": "stderr",
     "output_type": "stream",
     "text": [
      "\r",
      "  0%|          | 0/13 [00:00<?, ?it/s]"
     ]
    },
    {
     "name": "stdout",
     "output_type": "stream",
     "text": [
      "Mean Train Loss: 0.22903\n",
      "Validation\n"
     ]
    },
    {
     "name": "stderr",
     "output_type": "stream",
     "text": [
      "100%|██████████| 13/13 [00:08<00:00,  1.51it/s]\n"
     ]
    },
    {
     "name": "stdout",
     "output_type": "stream",
     "text": [
      "Avg loss: 0.540540 \n",
      "\n",
      "Epoch 19\n",
      "-------------------------------\n",
      "Current batch loss: 0.116001  [    0/ 1000]\n",
      "Current batch loss: 0.281532  [   80/ 1000]\n",
      "Current batch loss: 0.065458  [  160/ 1000]\n",
      "Current batch loss: 0.176426  [  240/ 1000]\n",
      "Current batch loss: 0.272694  [  320/ 1000]\n",
      "Current batch loss: 0.690445  [  400/ 1000]\n",
      "Current batch loss: 0.115374  [  480/ 1000]\n",
      "Current batch loss: 0.196676  [  560/ 1000]\n",
      "Current batch loss: 0.056597  [  640/ 1000]\n",
      "Current batch loss: 0.318705  [  720/ 1000]\n",
      "Current batch loss: 0.178191  [  800/ 1000]\n",
      "Current batch loss: 0.406052  [  880/ 1000]\n",
      "Current batch loss: 0.117449  [  960/ 1000]\n"
     ]
    },
    {
     "name": "stderr",
     "output_type": "stream",
     "text": [
      "\r",
      "  0%|          | 0/13 [00:00<?, ?it/s]"
     ]
    },
    {
     "name": "stdout",
     "output_type": "stream",
     "text": [
      "Mean Train Loss: 0.20992\n",
      "Validation\n"
     ]
    },
    {
     "name": "stderr",
     "output_type": "stream",
     "text": [
      "100%|██████████| 13/13 [00:09<00:00,  1.31it/s]\n"
     ]
    },
    {
     "name": "stdout",
     "output_type": "stream",
     "text": [
      "Avg loss: 0.603153 \n",
      "\n",
      "Epoch 20\n",
      "-------------------------------\n",
      "Current batch loss: 0.187946  [    0/ 1000]\n",
      "Current batch loss: 0.305046  [   80/ 1000]\n",
      "Current batch loss: 0.141709  [  160/ 1000]\n",
      "Current batch loss: 0.243976  [  240/ 1000]\n",
      "Current batch loss: 0.168785  [  320/ 1000]\n",
      "Current batch loss: 0.166110  [  400/ 1000]\n",
      "Current batch loss: 0.084029  [  480/ 1000]\n",
      "Current batch loss: 0.531209  [  560/ 1000]\n",
      "Current batch loss: 0.302275  [  640/ 1000]\n",
      "Current batch loss: 0.400333  [  720/ 1000]\n",
      "Current batch loss: 0.113449  [  800/ 1000]\n",
      "Current batch loss: 0.352103  [  880/ 1000]\n",
      "Current batch loss: 0.115483  [  960/ 1000]\n"
     ]
    },
    {
     "name": "stderr",
     "output_type": "stream",
     "text": [
      "\r",
      "  0%|          | 0/13 [00:00<?, ?it/s]"
     ]
    },
    {
     "name": "stdout",
     "output_type": "stream",
     "text": [
      "Mean Train Loss: 0.20016\n",
      "Validation\n"
     ]
    },
    {
     "name": "stderr",
     "output_type": "stream",
     "text": [
      "100%|██████████| 13/13 [00:09<00:00,  1.30it/s]"
     ]
    },
    {
     "name": "stdout",
     "output_type": "stream",
     "text": [
      "Avg loss: 0.546320 \n",
      "\n",
      "Done!\n"
     ]
    },
    {
     "name": "stderr",
     "output_type": "stream",
     "text": [
      "\n"
     ]
    }
   ],
   "source": [
    "epochs = 20\n",
    "\n",
    "for t in range(epochs):\n",
    "    print(f\"Epoch {t+1}\\n-------------------------------\")\n",
    "    train_loss= train_loop(train_loader, model, loss_fn, optimizer)\n",
    "    val_loss = test_loop(val_loader, model, loss_fn)\n",
    "    \n",
    "    # model selection\n",
    "    if val_loss < best_loss:\n",
    "        best_model = model.state_dict()\n",
    "        best_loss = val_loss\n",
    "            \n",
    "    weights.append(model.fc2.weight.data.cpu().numpy()[0][0])\n",
    "    biases.append(model.fc2.bias.data.cpu().numpy())\n",
    "    scheduler.step(val_loss)\n",
    "    val_losses.append(val_loss)\n",
    "    train_losses.append(train_loss)\n",
    "print(\"Done!\")"
   ]
  },
  {
   "cell_type": "code",
   "execution_count": 20,
   "id": "b7abc5c3",
   "metadata": {},
   "outputs": [
    {
     "data": {
      "text/plain": [
       "[<matplotlib.lines.Line2D at 0x7fe6c475e5b0>]"
      ]
     },
     "execution_count": 20,
     "metadata": {},
     "output_type": "execute_result"
    },
    {
     "data": {
      "image/png": "[encoded data removed]",
      "text/plain": [
       "<Figure size 432x288 with 1 Axes>"
      ]
     },
     "metadata": {
      "needs_background": "light"
     },
     "output_type": "display_data"
    }
   ],
   "source": [
    "import matplotlib.pyplot as plt\n",
    "plt.plot(train_losses)\n",
    "plt.plot(val_losses)"
   ]
  }
 ],
 "metadata": {
  "kernelspec": {
   "display_name": "Python 3",
   "language": "python",
   "name": "python3"
  },
  "language_info": {
   "codemirror_mode": {
    "name": "ipython",
    "version": 3
   },
   "file_extension": ".py",
   "mimetype": "text/x-python",
   "name": "python",
   "nbconvert_exporter": "python",
   "pygments_lexer": "ipython3",
   "version": "3.8.8"
  }
 },
 "nbformat": 4,
 "nbformat_minor": 5
}
