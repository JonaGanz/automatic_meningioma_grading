{
 "cells": [
  {
   "cell_type": "markdown",
   "metadata": {},
   "source": [
    "# Skript for training the MC based regression network\n",
    "\n",
    "    1. Loading necessary data\n",
    "    2. Initialize model\n",
    "    3. Training loop"
   ]
  },
  {
   "cell_type": "markdown",
   "metadata": {},
   "source": [
    "## 1. Loading necessary data"
   ]
  },
  {
   "cell_type": "code",
   "execution_count": 20,
   "metadata": {},
   "outputs": [],
   "source": [
    "import pickle\n",
    "import numpy as np\n",
    "\n",
    "annotation_dict = pickle.load(open(\"wsis/meningioma_grading_training_dataset/annotation_dict2.p\",\"rb\"))"
   ]
  },
  {
   "cell_type": "code",
   "execution_count": 21,
   "metadata": {},
   "outputs": [
    {
     "data": {
      "text/plain": [
       "19"
      ]
     },
     "execution_count": 21,
     "metadata": {},
     "output_type": "execute_result"
    }
   ],
   "source": [
    "keys_to_discard = list()\n",
    "keys_for_training = list()\n",
    "keys_excluded_testset=0\n",
    "ldfnummer_exclude = []\n",
    "testset_exclude = pickle.load(open('Testset_List.p','rb'))\n",
    "for key in annotation_dict:\n",
    "    if key in testset_exclude:\n",
    "        ldfnummer_exclude += [annotation_dict[key]['lfd_number']]\n",
    "\n",
    "for key in annotation_dict:\n",
    "    try:\n",
    "        if (annotation_dict[key]['mitotic_count'] >= 0) and (annotation_dict[key]['lfd_number'] not in ldfnummer_exclude):\n",
    "            keys_for_training.append(key)\n",
    "        else:\n",
    "            keys_to_discard.append(key)\n",
    "    except KeyError:\n",
    "        keys_to_discard.append(key)\n",
    "\n",
    "keys_excluded_testset,\n",
    "ldfnummer_exclude = np.unique(ldfnummer_exclude)\n",
    "ldfnummer_exclude\n",
    "len(ldfnummer_exclude)"
   ]
  },
  {
   "cell_type": "code",
   "execution_count": 23,
   "metadata": {},
   "outputs": [],
   "source": [
    "# Only the highest mitotic count of a patient is used in training\n",
    "tmp = dict()\n",
    "for key in annotation_dict:\n",
    "    lfd_number = annotation_dict[key]['lfd_number']\n",
    "    if (lfd_number in ldfnummer_exclude):\n",
    "        continue\n",
    "    if lfd_number not in tmp:\n",
    "        tmp[lfd_number] = dict()\n",
    "        tmp[lfd_number]['file'] = key\n",
    "        tmp[lfd_number]['who_grade'] = annotation_dict[key]['who_grade']\n",
    "        try:\n",
    "            tmp[lfd_number]['mitotic_count'] = annotation_dict[key]['mitotic_count']\n",
    "        except KeyError:\n",
    "            tmp[lfd_number]['mitotic_count'] = 0\n",
    "    try:\n",
    "        if tmp[lfd_number]['mitotic_count'] < annotation_dict[key]['mitotic_count']:\n",
    "            tmp[lfd_number]['file'] = key\n",
    "            tmp[lfd_number]['who_grade'] = annotation_dict[key]['who_grade']\n",
    "            tmp[lfd_number]['mitotic_count'] = annotation_dict[key]['mitotic_count']\n",
    "    except KeyError:\n",
    "        continue\n",
    "\n",
    "patients = tmp"
   ]
  },
  {
   "cell_type": "code",
   "execution_count": 24,
   "metadata": {},
   "outputs": [],
   "source": [
    "# Standardize the mitotic count\n",
    "mcs = [patients[key]['mitotic_count'] for key in patients]\n",
    "mean_mcs = np.mean(mcs)\n",
    "std_mcs = np.std(mcs)\n",
    "mcs = [(m-mean_mcs)/std_mcs for m in mcs]\n",
    "# Normalize\n",
    "max_mcs = max(mcs)\n",
    "mcs = [m/max_mcs for m in mcs]\n",
    "for key,m in zip (patients, mcs):\n",
    "    patients[key]['mitotic_count'] = m"
   ]
  },
  {
   "cell_type": "code",
   "execution_count": 25,
   "metadata": {},
   "outputs": [
    {
     "data": {
      "text/plain": [
       "(array([309.,  18.,   8.,   2.,   1.,   2.,   0.,   0.,   0.,   1.]),\n",
       " array([-0.05500172,  0.05049845,  0.15599862,  0.2614988 ,  0.36699897,\n",
       "         0.47249914,  0.57799931,  0.68349948,  0.78899966,  0.89449983,\n",
       "         1.        ]),\n",
       " <BarContainer object of 10 artists>)"
      ]
     },
     "execution_count": 25,
     "metadata": {},
     "output_type": "execute_result"
    },
    {
     "data": {
      "image/png": "[encoded data removed]",
      "text/plain": [
       "<Figure size 432x288 with 1 Axes>"
      ]
     },
     "metadata": {
      "needs_background": "light"
     },
     "output_type": "display_data"
    }
   ],
   "source": [
    "import matplotlib.pyplot as plt\n",
    "\n",
    "plt.hist(mcs)"
   ]
  },
  {
   "cell_type": "code",
   "execution_count": 26,
   "metadata": {},
   "outputs": [],
   "source": [
    "import random\n",
    "\n",
    "random.seed(6)\n",
    "# 15 % validation data\n",
    "val_numbers = [lfd_number for lfd_number in random.sample(patients.keys(),54)]\n",
    "train_numbers = [lfd_number for lfd_number in patients if lfd_number not in val_numbers]\n",
    "mcs_train = [patients[lfd_number]['mitotic_count'] for lfd_number in train_numbers]\n",
    "grades_train = [patients[lfd_number]['who_grade'] for lfd_number in train_numbers]\n",
    "\n",
    "mcs_val = [patients[lfd_number]['mitotic_count'] for lfd_number in val_numbers]\n",
    "grades_val = [patients[lfd_number]['who_grade'] for lfd_number in val_numbers]"
   ]
  },
  {
   "cell_type": "code",
   "execution_count": 27,
   "metadata": {},
   "outputs": [],
   "source": [
    "import torch\n",
    "\n",
    "mcs_train = torch.tensor(mcs_train, dtype = torch.float32).reshape(-1,1)\n",
    "grades_train = torch.tensor(grades_train, dtype = torch.float32).reshape(-1,1)\n",
    "\n",
    "mcs_val = torch.tensor(mcs_val, dtype = torch.float32).reshape(-1,1)\n",
    "grades_val = torch.tensor(grades_val, dtype = torch.float32).reshape(-1,1)\n"
   ]
  },
  {
   "cell_type": "markdown",
   "metadata": {},
   "source": [
    "## 2. Initialize model"
   ]
  },
  {
   "cell_type": "code",
   "execution_count": 28,
   "metadata": {},
   "outputs": [],
   "source": [
    "import Model2\n",
    "\n",
    "model = Model2.SimpleRegressionModel()"
   ]
  },
  {
   "cell_type": "markdown",
   "metadata": {},
   "source": [
    "## 3. Training loop"
   ]
  },
  {
   "cell_type": "code",
   "execution_count": 29,
   "metadata": {},
   "outputs": [],
   "source": [
    "def train_loop(train_data,train_labels, model, loss_fn, optimizer, batch_size = 1):\n",
    "    size = len(train_data)\n",
    "    running = list()\n",
    "    for  batch, (X, y) in enumerate(zip(train_data,train_labels)):\n",
    "        # Compute prediction and loss\n",
    "        pred = model(X)\n",
    "        # loss pro item\n",
    "        loss = loss_fn(pred, y)\n",
    "\n",
    "        # Backpropagation\n",
    "        optimizer.zero_grad()\n",
    "        loss.backward()\n",
    "        optimizer.step()\n",
    "        running.append(loss.item())\n",
    "        if batch % 100 == 0:\n",
    "            loss, current = loss.item(), batch * len(X)\n",
    "            # current loss\n",
    "            print(f\"loss: {loss:>7f}  [{current:>5d}/{size:>5d}]\")\n",
    "    print(f\"Mean Training Loss: {sum(running)/len(running)}\")\n",
    "    return sum(running)/len(running)\n",
    "  \n",
    "            \n",
    "def test_loop(test_data,test_labels, model, loss_fn):\n",
    "    size = len(test_data)\n",
    "    test_loss = 0\n",
    "\n",
    "    with torch.no_grad():\n",
    "        for X, y in zip(test_data,test_labels):\n",
    "            pred = model(X)\n",
    "            test_loss += loss_fn(pred, y).item()\n",
    "            \n",
    "    test_loss /= size\n",
    "    print(f\"Avg loss: {test_loss:>8f} \\n\")\n",
    "    return test_loss\n"
   ]
  },
  {
   "cell_type": "code",
   "execution_count": 30,
   "metadata": {},
   "outputs": [],
   "source": [
    "model = SimpleRegressionModel()\n",
    "\n",
    "loss_fn = torch.nn.MSELoss(reduction = 'mean')\n",
    "optimizer = torch.optim.SGD(model.parameters(), lr=1e-2, momentum=0.9)\n",
    "scheduler = torch.optim.lr_scheduler.ReduceLROnPlateau(optimizer,mode='min',factor=0.1,patience=5,verbose=True)"
   ]
  },
  {
   "cell_type": "code",
   "execution_count": 31,
   "metadata": {},
   "outputs": [],
   "source": [
    "from numpy import random\n",
    "# function for sampling the data like for the other regression models\n",
    "def sample_train_data(mcs_train,grades_train,train_data_length):\n",
    "    train_vektor = list()\n",
    "    train_labels = list()\n",
    "    for i in range(train_data_length):\n",
    "        grade = random.randint(1,4,1)\n",
    "        train_vektor.append(mcs_train[np.random.choice(np.where(grades_train == float(grade))[0],1)])\n",
    "        train_labels.append(grades_train[np.random.choice(np.where(grades_train == float(grade))[0],1)])\n",
    "    return train_vektor,train_labels"
   ]
  },
  {
   "cell_type": "code",
   "execution_count": null,
   "metadata": {
    "scrolled": true
   },
   "outputs": [
    {
     "name": "stdout",
     "output_type": "stream",
     "text": [
      "Epoch 1\n",
      "-------------------------------\n",
      "loss: 2.528661  [    0/  300]\n",
      "loss: 1.851999  [  100/  300]\n",
      "loss: 1.193662  [  200/  300]\n",
      "Mean Training Loss: 0.7679080195900921\n",
      "Avg loss: 0.474115 \n",
      "\n",
      "Epoch 2\n",
      "-------------------------------\n",
      "loss: 0.032006  [    0/  300]\n",
      "loss: 0.505287  [  100/  300]\n",
      "loss: 0.504113  [  200/  300]\n",
      "Mean Training Loss: 0.36574619974814293\n",
      "Avg loss: 0.271852 \n",
      "\n",
      "Best model saved in Epoch 2\n",
      "Epoch 3\n",
      "-------------------------------\n",
      "loss: 0.195310  [    0/  300]\n",
      "loss: 0.339838  [  100/  300]\n",
      "loss: 0.488459  [  200/  300]\n",
      "Mean Training Loss: 0.278512299869714\n",
      "Avg loss: 0.280430 \n",
      "\n",
      "Epoch 4\n",
      "-------------------------------\n",
      "loss: 0.109515  [    0/  300]\n",
      "loss: 0.159989  [  100/  300]\n",
      "loss: 0.026877  [  200/  300]\n",
      "Mean Training Loss: 0.25181460207715645\n",
      "Avg loss: 0.200913 \n",
      "\n",
      "Best model saved in Epoch 4\n",
      "Epoch 5\n",
      "-------------------------------\n",
      "loss: 0.390163  [    0/  300]\n",
      "loss: 0.072854  [  100/  300]\n",
      "loss: 0.418624  [  200/  300]\n",
      "Mean Training Loss: 0.25838843808926565\n",
      "Avg loss: 0.192665 \n",
      "\n",
      "Best model saved in Epoch 5\n",
      "Epoch 6\n",
      "-------------------------------\n",
      "loss: 0.013124  [    0/  300]\n",
      "loss: 0.245518  [  100/  300]\n",
      "loss: 0.217899  [  200/  300]\n",
      "Mean Training Loss: 0.2399757089319443\n",
      "Avg loss: 0.552483 \n",
      "\n",
      "Epoch 7\n",
      "-------------------------------\n",
      "loss: 0.171012  [    0/  300]\n",
      "loss: 0.382547  [  100/  300]\n",
      "loss: 0.004295  [  200/  300]\n",
      "Mean Training Loss: 0.26836781468811144\n",
      "Avg loss: 0.295763 \n",
      "\n",
      "Epoch 8\n",
      "-------------------------------\n",
      "loss: 0.001247  [    0/  300]\n",
      "loss: 0.465430  [  100/  300]\n",
      "loss: 0.343186  [  200/  300]\n",
      "Mean Training Loss: 0.26282911189148916\n",
      "Avg loss: 0.144709 \n",
      "\n",
      "Best model saved in Epoch 8\n",
      "Epoch 9\n",
      "-------------------------------\n",
      "loss: 0.063433  [    0/  300]\n",
      "loss: 0.330622  [  100/  300]\n",
      "loss: 0.026673  [  200/  300]\n",
      "Mean Training Loss: 0.24298900054731803\n",
      "Avg loss: 0.124856 \n",
      "\n",
      "Best model saved in Epoch 9\n",
      "Epoch 10\n",
      "-------------------------------\n",
      "loss: 0.000203  [    0/  300]\n",
      "loss: 0.208689  [  100/  300]\n",
      "loss: 1.692060  [  200/  300]\n",
      "Mean Training Loss: 0.2845147617694788\n",
      "Avg loss: 0.192996 \n",
      "\n",
      "Epoch 11\n",
      "-------------------------------\n",
      "loss: 0.142733  [    0/  300]\n",
      "loss: 0.089228  [  100/  300]\n",
      "loss: 0.303744  [  200/  300]\n",
      "Mean Training Loss: 0.23025961628336516\n",
      "Avg loss: 0.182572 \n",
      "\n",
      "Epoch 12\n",
      "-------------------------------\n",
      "loss: 0.870007  [    0/  300]\n",
      "loss: 0.128662  [  100/  300]\n",
      "loss: 0.732390  [  200/  300]\n",
      "Mean Training Loss: 0.23075462023661203\n",
      "Avg loss: 0.248219 \n",
      "\n",
      "Epoch 13\n",
      "-------------------------------\n",
      "loss: 0.267323  [    0/  300]\n",
      "loss: 0.022725  [  100/  300]\n",
      "loss: 0.028932  [  200/  300]\n",
      "Mean Training Loss: 0.21059442763875494\n",
      "Avg loss: 0.195380 \n",
      "\n",
      "Epoch 14\n",
      "-------------------------------\n",
      "loss: 0.003346  [    0/  300]\n",
      "loss: 0.013986  [  100/  300]\n",
      "loss: 0.003672  [  200/  300]\n",
      "Mean Training Loss: 0.21700109522540345\n",
      "Avg loss: 0.174908 \n",
      "\n",
      "Epoch 15\n",
      "-------------------------------\n",
      "loss: 0.005234  [    0/  300]\n",
      "loss: 0.031669  [  100/  300]\n",
      "loss: 0.487695  [  200/  300]\n",
      "Mean Training Loss: 0.23967477309127883\n",
      "Avg loss: 0.227482 \n",
      "\n",
      "Epoch    15: reducing learning rate of group 0 to 1.0000e-03.\n",
      "Epoch 16\n",
      "-------------------------------\n",
      "loss: 0.267017  [    0/  300]\n",
      "loss: 0.017520  [  100/  300]\n",
      "loss: 0.178117  [  200/  300]\n",
      "Mean Training Loss: 0.1997650424642264\n",
      "Avg loss: 0.174142 \n",
      "\n",
      "Epoch 17\n",
      "-------------------------------\n",
      "loss: 0.005286  [    0/  300]\n",
      "loss: 0.001111  [  100/  300]\n",
      "loss: 1.271423  [  200/  300]\n"
     ]
    }
   ],
   "source": [
    "# model training\n",
    "epochs = 50\n",
    "losses = list()\n",
    "train_loss = list()\n",
    "for t in range(epochs):\n",
    "    print(f\"Epoch {t+1}\\n-------------------------------\")\n",
    "    sampled_mcs,sampled_labels = sample_train_data(mcs_train,grades_train,300)\n",
    "    train_loss.append(train_loop(sampled_mcs,sampled_labels, model, loss_fn, optimizer))\n",
    "    sampled_mcs,sampled_labels = sample_train_data(mcs_val,grades_val,100)\n",
    "    val_loss = test_loop(sampled_mcs,sampled_labels, model, loss_fn)\n",
    "    scheduler.step(val_loss)\n",
    "    losses.append(val_loss)\n",
    "    \n",
    "    # model selection\n",
    "    if t == 0:\n",
    "        best_loss = val_loss\n",
    "    elif best_loss > val_loss:\n",
    "        print(f\"Best model saved in Epoch {t+1}\")\n",
    "        best_loss = val_loss\n",
    "        best_model = model.state_dict()\n",
    "        \n",
    "print(\"Done!\")"
   ]
  },
  {
   "cell_type": "code",
   "execution_count": null,
   "metadata": {},
   "outputs": [],
   "source": [
    "test_data = torch.tensor(np.arange(min(mcs_train),max(mcs_train),0.01),dtype = torch.float32).reshape(-1,1)\n",
    "with torch.no_grad():\n",
    "    out = model(test_data)"
   ]
  },
  {
   "cell_type": "code",
   "execution_count": null,
   "metadata": {},
   "outputs": [],
   "source": [
    "import matplotlib.pyplot as plt\n",
    "\n",
    "plt.plot(test_data,out.numpy())\n",
    "plt.xlabel('Mitotic Count')\n",
    "plt.ylabel('Kontinuierlicher WHO-Grad')\n",
    "plt.title('Function learnd by Regression Network')\n",
    "plt.scatter(sampled_mcs,sampled_labels)"
   ]
  },
  {
   "cell_type": "code",
   "execution_count": null,
   "metadata": {},
   "outputs": [],
   "source": [
    "plt.plot(losses,label = 'val loss')\n",
    "plt.plot(train_loss, label = 'train loss')\n",
    "plt.legend()\n"
   ]
  }
 ],
 "metadata": {
  "kernelspec": {
   "display_name": "Python 3",
   "language": "python",
   "name": "python3"
  },
  "language_info": {
   "codemirror_mode": {
    "name": "ipython",
    "version": 3
   },
   "file_extension": ".py",
   "mimetype": "text/x-python",
   "name": "python",
   "nbconvert_exporter": "python",
   "pygments_lexer": "ipython3",
   "version": "3.8.8"
  }
 },
 "nbformat": 4,
 "nbformat_minor": 4
}
